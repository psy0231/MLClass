{
  "cells": [
    {
      "cell_type": "code",
      "execution_count": 12,
      "metadata": {
        "id": "2YJYN4fOH-y0"
      },
      "outputs": [],
      "source": [
        "# import common\n",
        "# Standard library imports\n",
        "import os\n",
        "import platform\n",
        "import random\n",
        "import time\n",
        "import warnings\n",
        "warnings.filterwarnings(action='ignore')\n",
        "\n",
        "# Third party imports\n",
        "import cv2\n",
        "import numpy as np\n",
        "import pandas as pd\n",
        "import seaborn as sb\n",
        "from PIL import Image\n",
        "\n",
        "from matplotlib import rc\n",
        "from matplotlib import font_manager\n",
        "import matplotlib.pyplot as plt\n",
        "\n",
        "from sklearn.model_selection import StratifiedKFold\n",
        "from sklearn.model_selection import train_test_split\n",
        "from sklearn.preprocessing import LabelEncoder\n",
        "\n",
        "import tensorflow as tf\n",
        "from tensorflow.keras import regularizers\n",
        "from tensorflow.keras.callbacks import EarlyStopping\n",
        "from tensorflow.keras.callbacks import ModelCheckpoint\n",
        "from tensorflow.keras.datasets import mnist\n",
        "from tensorflow.keras.layers import Conv2D\n",
        "from tensorflow.keras.layers import Dense\n",
        "from tensorflow.keras.layers import Dropout\n",
        "from tensorflow.keras.layers import Flatten\n",
        "from tensorflow.keras.layers import MaxPooling2D\n",
        "from tensorflow.keras.models import Sequential\n",
        "from tensorflow.keras.models import load_model\n",
        "from tensorflow.keras.optimizers import Adam\n",
        "from tensorflow.keras.utils import to_categorical"
      ]
    },
    {
      "cell_type": "code",
      "source": [
        "# add codde\n",
        "!git clone https://github.com/psy0231/MLClass.git"
      ],
      "metadata": {
        "id": "3IyNQZH7IUeY",
        "outputId": "c675a724-6ce1-4171-a809-2e4dd17cc1a5",
        "colab": {
          "base_uri": "https://localhost:8080/"
        }
      },
      "execution_count": 13,
      "outputs": [
        {
          "output_type": "stream",
          "name": "stdout",
          "text": [
            "fatal: destination path 'MLClass' already exists and is not an empty directory.\n"
          ]
        }
      ]
    },
    {
      "cell_type": "code",
      "execution_count": 14,
      "metadata": {
        "id": "QQXjyoaOH-y4",
        "outputId": "981cb29e-52ac-430a-c00c-1efd6200b4a0",
        "colab": {
          "base_uri": "https://localhost:8080/"
        }
      },
      "outputs": [
        {
          "output_type": "stream",
          "name": "stdout",
          "text": [
            "/content/MLClass\n"
          ]
        }
      ],
      "source": [
        "# setting basic configuration\n",
        "# Windows, Linux, Darwin\n",
        "if (platform.system() == 'Windows'):\n",
        "    # rc('font', family=font_manager.FontProperties(fname=\"C:/Windows/Fonts/malgun.ttf\").get_name())\n",
        "    path = '.' # Local\n",
        "else:\n",
        "    # rc('font', family='NanumBarunGothic')  # Ubuntu 18.04 기준 한글 처리\n",
        "    path = '/content/drive/My Drive/kd_ml/dnn/click' # Colab\n",
        "\n",
        "base_path = f\"{os.getcwd()}/MLClass\"\n",
        "print(base_path)"
      ]
    },
    {
      "cell_type": "code",
      "source": [
        "# matplotlib setting\n",
        "plt.rcParams['font.family'] = 'sans-serif'  # 이거 쓰고 한글 안쓰면 편-안\n",
        "plt.rcParams[\"font.size\"] = 10          # 글자 크기\n",
        "plt.rcParams[\"figure.figsize\"] = (6, 3) # 인치 단위 크기, width, height\n",
        "plt.rcParams['axes.unicode_minus'] = False  # minus 부호는 unicode 적용시 한글이 깨짐으로 설정\n",
        "\n",
        "%matplotlib inline\n"
      ],
      "metadata": {
        "id": "mDMDzIRWKkJU"
      },
      "execution_count": 15,
      "outputs": []
    },
    {
      "cell_type": "code",
      "source": [
        "# ---------------------------------------------------------------------\n",
        "# gpu 사용시 런타임에서 필요한 양만큼의 GPU 메모리를 할당후 자동 증가 처리\n",
        "# OS 메모리도 초기화됨.\n",
        "# ---------------------------------------------------------------------\n",
        "\n",
        "gpus = tf.config.experimental.list_physical_devices('GPU')\n",
        "if gpus:\n",
        "    try:\n",
        "        tf.config.experimental.set_memory_growth(gpus[0], True)\n",
        "    except RuntimeError as e:\n",
        "        # 프로그램 시작시에 메모리 증가가 설정되어야만 합니다\n",
        "        print(e)\n",
        "\n",
        "# ---------------------------------------------------------------------"
      ],
      "metadata": {
        "id": "y0b-xbK5K7qY"
      },
      "execution_count": 16,
      "outputs": []
    }
  ],
  "metadata": {
    "kernelspec": {
      "display_name": "base",
      "language": "python",
      "name": "python3"
    },
    "language_info": {
      "name": "python",
      "version": "3.9.12"
    },
    "colab": {
      "provenance": []
    }
  },
  "nbformat": 4,
  "nbformat_minor": 0
}