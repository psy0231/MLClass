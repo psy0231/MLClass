{
 "cells": [
  {
   "cell_type": "code",
   "execution_count": 1,
   "metadata": {},
   "outputs": [
    {
     "data": {
      "application/javascript": "IPython.notebook.set_autosave_interval(0)"
     },
     "metadata": {},
     "output_type": "display_data"
    },
    {
     "name": "stdout",
     "output_type": "stream",
     "text": [
      "Autosave disabled\n"
     ]
    }
   ],
   "source": [
    "%autosave 0\n",
    "import warnings\n",
    "warnings.filterwarnings(action='ignore')\n",
    "\n",
    "import numpy as np\n",
    "import pandas as pd\n",
    "\n",
    "from tensorflow.keras.utils import to_categorical  # one-hot 엔코딩\n",
    "from sklearn.preprocessing import LabelEncoder     # 명목형 척도 정수화 \n",
    "from tensorflow.keras.models import load_model     # model 사용"
   ]
  },
  {
   "cell_type": "code",
   "execution_count": 2,
   "metadata": {},
   "outputs": [
    {
     "ename": "OSError",
     "evalue": "No file or directory found at ./Iris.h5",
     "output_type": "error",
     "traceback": [
      "\u001b[1;31m---------------------------------------------------------------------------\u001b[0m",
      "\u001b[1;31mOSError\u001b[0m                                   Traceback (most recent call last)",
      "Cell \u001b[1;32mIn[2], line 1\u001b[0m\n\u001b[1;32m----> 1\u001b[0m model \u001b[39m=\u001b[39m load_model(\u001b[39m'\u001b[39;49m\u001b[39m./Iris.h5\u001b[39;49m\u001b[39m'\u001b[39;49m)\n",
      "File \u001b[1;32mc:\\Users\\psy02\\anaconda3\\envs\\ai\\lib\\site-packages\\keras\\utils\\traceback_utils.py:67\u001b[0m, in \u001b[0;36mfilter_traceback.<locals>.error_handler\u001b[1;34m(*args, **kwargs)\u001b[0m\n\u001b[0;32m     65\u001b[0m \u001b[39mexcept\u001b[39;00m \u001b[39mException\u001b[39;00m \u001b[39mas\u001b[39;00m e:  \u001b[39m# pylint: disable=broad-except\u001b[39;00m\n\u001b[0;32m     66\u001b[0m   filtered_tb \u001b[39m=\u001b[39m _process_traceback_frames(e\u001b[39m.\u001b[39m__traceback__)\n\u001b[1;32m---> 67\u001b[0m   \u001b[39mraise\u001b[39;00m e\u001b[39m.\u001b[39mwith_traceback(filtered_tb) \u001b[39mfrom\u001b[39;00m \u001b[39mNone\u001b[39;00m\n\u001b[0;32m     68\u001b[0m \u001b[39mfinally\u001b[39;00m:\n\u001b[0;32m     69\u001b[0m   \u001b[39mdel\u001b[39;00m filtered_tb\n",
      "File \u001b[1;32mc:\\Users\\psy02\\anaconda3\\envs\\ai\\lib\\site-packages\\keras\\saving\\save.py:204\u001b[0m, in \u001b[0;36mload_model\u001b[1;34m(filepath, custom_objects, compile, options)\u001b[0m\n\u001b[0;32m    202\u001b[0m \u001b[39mif\u001b[39;00m \u001b[39misinstance\u001b[39m(filepath_str, \u001b[39mstr\u001b[39m):\n\u001b[0;32m    203\u001b[0m   \u001b[39mif\u001b[39;00m \u001b[39mnot\u001b[39;00m tf\u001b[39m.\u001b[39mio\u001b[39m.\u001b[39mgfile\u001b[39m.\u001b[39mexists(filepath_str):\n\u001b[1;32m--> 204\u001b[0m     \u001b[39mraise\u001b[39;00m \u001b[39mIOError\u001b[39;00m(\u001b[39mf\u001b[39m\u001b[39m'\u001b[39m\u001b[39mNo file or directory found at \u001b[39m\u001b[39m{\u001b[39;00mfilepath_str\u001b[39m}\u001b[39;00m\u001b[39m'\u001b[39m)\n\u001b[0;32m    206\u001b[0m   \u001b[39mif\u001b[39;00m tf\u001b[39m.\u001b[39mio\u001b[39m.\u001b[39mgfile\u001b[39m.\u001b[39misdir(filepath_str):\n\u001b[0;32m    207\u001b[0m     \u001b[39mreturn\u001b[39;00m saved_model_load\u001b[39m.\u001b[39mload(filepath_str, \u001b[39mcompile\u001b[39m, options)\n",
      "\u001b[1;31mOSError\u001b[0m: No file or directory found at ./Iris.h5"
     ]
    }
   ],
   "source": [
    "model = load_model('./Iris.h5')"
   ]
  },
  {
   "cell_type": "code",
   "execution_count": null,
   "metadata": {},
   "outputs": [
    {
     "name": "stdout",
     "output_type": "stream",
     "text": [
      "   sepal_length  sepal_width  petal_length  petal_width      species\n",
      "0           5.0          3.5           1.3          0.3  Iris-setosa\n",
      "1           4.5          2.3           1.3          0.3  Iris-setosa\n",
      "2           4.4          3.2           1.3          0.2  Iris-setosa\n",
      "3           5.0          3.5           1.6          0.6  Iris-setosa\n",
      "4           5.1          3.8           1.9          0.4  Iris-setosa\n"
     ]
    }
   ],
   "source": [
    "df = pd.read_csv('./iris_use.csv', names = [\"sepal_length\", \"sepal_width\", \"petal_length\", \"petal_width\", \"species\"])\n",
    "print(df.head())"
   ]
  },
  {
   "cell_type": "code",
   "execution_count": null,
   "metadata": {},
   "outputs": [
    {
     "name": "stdout",
     "output_type": "stream",
     "text": [
      "<class 'numpy.ndarray'>\n",
      "30\n",
      "['Iris-setosa' 'Iris-setosa' 'Iris-setosa' 'Iris-setosa' 'Iris-setosa'\n",
      " 'Iris-setosa' 'Iris-setosa' 'Iris-setosa' 'Iris-setosa' 'Iris-setosa'\n",
      " 'Iris-versicolor' 'Iris-versicolor' 'Iris-versicolor' 'Iris-versicolor'\n",
      " 'Iris-versicolor' 'Iris-versicolor' 'Iris-versicolor' 'Iris-versicolor'\n",
      " 'Iris-versicolor' 'Iris-versicolor' 'Iris-virginica' 'Iris-virginica'\n",
      " 'Iris-virginica' 'Iris-virginica' 'Iris-virginica' 'Iris-virginica'\n",
      " 'Iris-virginica' 'Iris-virginica' 'Iris-virginica' 'Iris-virginica']\n"
     ]
    }
   ],
   "source": [
    "data = df.values\n",
    "print(type(data))\n",
    "print(len(data))\n",
    "X = data[:, 0:4].astype(float)  # 독립 변수, 정의역\n",
    "Y_str = data[:, 4]              # 종속 변수, 치역 \n",
    "print(Y_str)"
   ]
  },
  {
   "cell_type": "code",
   "execution_count": null,
   "metadata": {},
   "outputs": [
    {
     "name": "stdout",
     "output_type": "stream",
     "text": [
      "[0 0 0 0 0 0 0 0 0 0 1 1 1 1 1 1 1 1 1 1 2 2 2 2 2 2 2 2 2 2]\n",
      "[1. 0. 0.]\n",
      "[0. 1. 0.]\n",
      "[0. 0. 1.]\n"
     ]
    }
   ],
   "source": [
    "# 문자 레이블을 숫자화, 문자열을 알파벳순으로 그룹화한후 0부터 숫자로 변환\n",
    "encoder = LabelEncoder()\n",
    "encoder.fit(Y_str)\n",
    "Y = encoder.transform(Y_str)\n",
    "print(Y)\n",
    "\n",
    "Y_encoded = to_categorical(Y) # one-hot-encoding, 해당 index만 1로 변경\n",
    "print(Y_encoded[0])\n",
    "print(Y_encoded[10])\n",
    "print(Y_encoded[20])\n",
    "\n",
    "# LabelEncoder() 엔코더 사용시 모든 그룹의 데이터를 통합하여 진행 권장\n",
    "# CSV 훈련: A, B, C  CSV 테스트: A, B, D\n",
    "#           0  1  2              0  1  ?  \n",
    "# CSV A, B, C, D 모두 통합후 -> 엔코더 적용 -> 데이터 훈련, 테스트로 분할\n",
    "#     1  2  3  4"
   ]
  },
  {
   "cell_type": "code",
   "execution_count": null,
   "metadata": {},
   "outputs": [
    {
     "name": "stdout",
     "output_type": "stream",
     "text": [
      "['Iris-setosa' 'Iris-versicolor' 'Iris-virginica']\n"
     ]
    }
   ],
   "source": [
    "print(encoder.inverse_transform([0, 1, 2])) # Label 확인"
   ]
  },
  {
   "cell_type": "code",
   "execution_count": null,
   "metadata": {},
   "outputs": [
    {
     "name": "stdout",
     "output_type": "stream",
     "text": [
      "p.shape: (30, 3)\n",
      "데이터: [5.  3.5 1.3 0.3]\n"
     ]
    }
   ],
   "source": [
    "# Iris-setosa: 0, Iris-versicolor: 1, Iris-virginica: 2\n",
    "p = model.predict(X)  # 테스트 데이터 30건\n",
    "print('p.shape:', p.shape)\n",
    "print('데이터:', X[0]) # 첫번째 데이터행"
   ]
  },
  {
   "cell_type": "code",
   "execution_count": null,
   "metadata": {},
   "outputs": [
    {
     "name": "stdout",
     "output_type": "stream",
     "text": [
      "예측값: [0.6113242  0.24229555 0.14638034]\n",
      "예측값: 61.13% 24.23% 14.64%\n",
      "LabelEncoder:  0\n",
      "One-hot-encoding:  [1. 0. 0.]\n",
      "0\n",
      "Iris-setosa\n"
     ]
    }
   ],
   "source": [
    "# 확률 0 ~ 1사이의 실수값\n",
    "print('예측값:', p[0]) \n",
    "print('예측값: {0:.2f}% {1:.2f}% {2:.2f}%'.format((p[0][0]*100), (p[0][1]*100), (p[0][2]*100))) \n",
    "print('LabelEncoder: ', Y[0])\n",
    "print('One-hot-encoding: ', Y_encoded[0])\n",
    "print(np.argmax(p[0]))  # 가장 큰값의 index\n",
    "print(Y_str[0])         # 첫번째 품종"
   ]
  },
  {
   "cell_type": "code",
   "execution_count": null,
   "metadata": {},
   "outputs": [
    {
     "name": "stdout",
     "output_type": "stream",
     "text": [
      "[0.6113242  0.24229555 0.14638034]\n",
      "최대값: 0.6113242 -> index: 0\n",
      "[0.5305855  0.29289058 0.17652388]\n",
      "최대값: 0.5305855 -> index: 0\n",
      "[0.5908211  0.25454333 0.1546356 ]\n",
      "최대값: 0.5908211 -> index: 0\n",
      "[0.5607307  0.2717654  0.16750388]\n",
      "최대값: 0.5607307 -> index: 0\n",
      "[0.58674216 0.26676098 0.14649686]\n",
      "최대값: 0.58674216 -> index: 0\n",
      "[0.5772849  0.26355332 0.1591618 ]\n",
      "최대값: 0.5772849 -> index: 0\n",
      "[0.6297056  0.23761977 0.13267463]\n",
      "최대값: 0.6297056 -> index: 0\n",
      "[0.5948655  0.25369203 0.15144245]\n",
      "최대값: 0.5948655 -> index: 0\n",
      "[0.63484526 0.23341715 0.13173757]\n",
      "최대값: 0.63484526 -> index: 0\n",
      "[0.61214846 0.24476643 0.14308506]\n",
      "최대값: 0.61214846 -> index: 0\n",
      "[0.22142005 0.4649825  0.31359738]\n",
      "최대값: 0.4649825 -> index: 1\n",
      "[0.21214859 0.4512949  0.33655655]\n",
      "최대값: 0.4512949 -> index: 1\n",
      "[0.18839592 0.46158183 0.35002223]\n",
      "최대값: 0.46158183 -> index: 1\n",
      "[0.19086203 0.42990804 0.3792299 ]\n",
      "최대값: 0.42990804 -> index: 1\n",
      "[0.18264084 0.44901818 0.36834097]\n",
      "최대값: 0.44901818 -> index: 1\n",
      "[0.19346781 0.43273553 0.3737966 ]\n",
      "최대값: 0.43273553 -> index: 1\n",
      "[0.19446208 0.4389139  0.366624  ]\n",
      "최대값: 0.4389139 -> index: 1\n",
      "[0.26893497 0.42812946 0.30293557]\n",
      "최대값: 0.42812946 -> index: 1\n",
      "[0.21007757 0.46154273 0.32837978]\n",
      "최대값: 0.46154273 -> index: 1\n",
      "[0.20772669 0.41872448 0.37354884]\n",
      "최대값: 0.41872448 -> index: 1\n",
      "[0.07539626 0.29575977 0.62884396]\n",
      "최대값: 0.62884396 -> index: 2\n",
      "[0.11242716 0.35726422 0.5303086 ]\n",
      "최대값: 0.5303086 -> index: 2\n",
      "[0.0940121  0.37457755 0.53141034]\n",
      "최대값: 0.53141034 -> index: 2\n",
      "[0.11294315 0.37683332 0.5102235 ]\n",
      "최대값: 0.5102235 -> index: 2\n",
      "[0.08833595 0.33648172 0.57518226]\n",
      "최대값: 0.57518226 -> index: 2\n",
      "[0.07908689 0.36143744 0.55947566]\n",
      "최대값: 0.55947566 -> index: 2\n",
      "[0.13342555 0.3537131  0.5128614 ]\n",
      "최대값: 0.5128614 -> index: 2\n",
      "[0.09768441 0.3896854  0.5126302 ]\n",
      "최대값: 0.5126302 -> index: 2\n",
      "[0.09709255 0.36979905 0.53310835]\n",
      "최대값: 0.53310835 -> index: 2\n",
      "[0.08607274 0.34902048 0.5649068 ]\n",
      "최대값: 0.5649068 -> index: 2\n"
     ]
    }
   ],
   "source": [
    "for item in p: # 2차원 배열에서 1행씩 산출\n",
    "    print(item)\n",
    "    print('최대값:', np.max(item), '-> index:', np.argmax(item))\n",
    "    # 최대값 -> 최대값이 있는 index"
   ]
  },
  {
   "cell_type": "code",
   "execution_count": null,
   "metadata": {},
   "outputs": [
    {
     "name": "stdout",
     "output_type": "stream",
     "text": [
      "[0.6113242  0.24229555 0.14638034]  합계: 1\n",
      "[0.5305855  0.29289058 0.17652388]  합계: 1\n",
      "[0.5908211  0.25454333 0.1546356 ]  합계: 1\n",
      "[0.5607307  0.2717654  0.16750388]  합계: 1\n",
      "[0.58674216 0.26676098 0.14649686]  합계: 1\n",
      "[0.5772849  0.26355332 0.1591618 ]  합계: 1\n",
      "[0.6297056  0.23761977 0.13267463]  합계: 1\n",
      "[0.5948655  0.25369203 0.15144245]  합계: 1\n",
      "[0.63484526 0.23341715 0.13173757]  합계: 1\n",
      "[0.61214846 0.24476643 0.14308506]  합계: 1\n",
      "[0.22142005 0.4649825  0.31359738]  합계: 1\n",
      "[0.21214859 0.4512949  0.33655655]  합계: 1\n",
      "[0.18839592 0.46158183 0.35002223]  합계: 1\n",
      "[0.19086203 0.42990804 0.3792299 ]  합계: 1\n",
      "[0.18264084 0.44901818 0.36834097]  합계: 1\n",
      "[0.19346781 0.43273553 0.3737966 ]  합계: 1\n",
      "[0.19446208 0.4389139  0.366624  ]  합계: 1\n",
      "[0.26893497 0.42812946 0.30293557]  합계: 1\n",
      "[0.21007757 0.46154273 0.32837978]  합계: 1\n",
      "[0.20772669 0.41872448 0.37354884]  합계: 1\n",
      "[0.07539626 0.29575977 0.62884396]  합계: 1\n",
      "[0.11242716 0.35726422 0.5303086 ]  합계: 1\n",
      "[0.0940121  0.37457755 0.53141034]  합계: 1\n",
      "[0.11294315 0.37683332 0.5102235 ]  합계: 1\n",
      "[0.08833595 0.33648172 0.57518226]  합계: 1\n",
      "[0.07908689 0.36143744 0.55947566]  합계: 1\n",
      "[0.13342555 0.3537131  0.5128614 ]  합계: 1\n",
      "[0.09768441 0.3896854  0.5126302 ]  합계: 1\n",
      "[0.09709255 0.36979905 0.53310835]  합계: 1\n",
      "[0.08607274 0.34902048 0.5649068 ]  합계: 1\n"
     ]
    }
   ],
   "source": [
    "# softmax 함수의 값이 1이되는지 확인\n",
    "# 컴퓨터는 내부적으로 정수 연산이라 미세한 오차 발생\n",
    "for item in p:\n",
    "    print(item, ' 합계: {0:0.0f}'.format(np.sum(item)))"
   ]
  },
  {
   "cell_type": "code",
   "execution_count": null,
   "metadata": {},
   "outputs": [],
   "source": [
    "# Iris-setosa: 0, Iris-versicolor: 1, Iris-virginica: 2\n",
    "def decode(data):  # data: 1차원 배열, predict는 2차원 배열을 리턴함\n",
    "    index = np.argmax(data) # 최대값의 index를 찾아줌\n",
    "    if index == 0:\n",
    "        label = 'Iris-setosa'\n",
    "    elif index == 1:\n",
    "        label = 'Iris-versicolor'\n",
    "    elif index == 2:\n",
    "        label = 'Iris-virginica'\n",
    "        \n",
    "    return label"
   ]
  },
  {
   "cell_type": "code",
   "execution_count": null,
   "metadata": {},
   "outputs": [
    {
     "name": "stdout",
     "output_type": "stream",
     "text": [
      "30\n",
      "Target(실제값): Iris-setosa  Y hat(예측값): Iris-setosa\n",
      "Target(실제값): Iris-setosa  Y hat(예측값): Iris-setosa\n",
      "Target(실제값): Iris-setosa  Y hat(예측값): Iris-setosa\n",
      "Target(실제값): Iris-setosa  Y hat(예측값): Iris-setosa\n",
      "Target(실제값): Iris-setosa  Y hat(예측값): Iris-setosa\n",
      "Target(실제값): Iris-setosa  Y hat(예측값): Iris-setosa\n",
      "Target(실제값): Iris-setosa  Y hat(예측값): Iris-setosa\n",
      "Target(실제값): Iris-setosa  Y hat(예측값): Iris-setosa\n",
      "Target(실제값): Iris-setosa  Y hat(예측값): Iris-setosa\n",
      "Target(실제값): Iris-setosa  Y hat(예측값): Iris-setosa\n",
      "Target(실제값): Iris-versicolor  Y hat(예측값): Iris-versicolor\n",
      "Target(실제값): Iris-versicolor  Y hat(예측값): Iris-versicolor\n",
      "Target(실제값): Iris-versicolor  Y hat(예측값): Iris-versicolor\n",
      "Target(실제값): Iris-versicolor  Y hat(예측값): Iris-versicolor\n",
      "Target(실제값): Iris-versicolor  Y hat(예측값): Iris-versicolor\n",
      "Target(실제값): Iris-versicolor  Y hat(예측값): Iris-versicolor\n",
      "Target(실제값): Iris-versicolor  Y hat(예측값): Iris-versicolor\n",
      "Target(실제값): Iris-versicolor  Y hat(예측값): Iris-versicolor\n",
      "Target(실제값): Iris-versicolor  Y hat(예측값): Iris-versicolor\n",
      "Target(실제값): Iris-versicolor  Y hat(예측값): Iris-versicolor\n",
      "Target(실제값): Iris-virginica  Y hat(예측값): Iris-virginica\n",
      "Target(실제값): Iris-virginica  Y hat(예측값): Iris-virginica\n",
      "Target(실제값): Iris-virginica  Y hat(예측값): Iris-virginica\n",
      "Target(실제값): Iris-virginica  Y hat(예측값): Iris-virginica\n",
      "Target(실제값): Iris-virginica  Y hat(예측값): Iris-virginica\n",
      "Target(실제값): Iris-virginica  Y hat(예측값): Iris-virginica\n",
      "Target(실제값): Iris-virginica  Y hat(예측값): Iris-virginica\n",
      "Target(실제값): Iris-virginica  Y hat(예측값): Iris-virginica\n",
      "Target(실제값): Iris-virginica  Y hat(예측값): Iris-virginica\n",
      "Target(실제값): Iris-virginica  Y hat(예측값): Iris-virginica\n"
     ]
    }
   ],
   "source": [
    "print(len(p))\n",
    "for i in range(len(p)):\n",
    "    print('Target(실제값):', Y_str[i], ' Y hat(예측값):', decode(p[i]))"
   ]
  },
  {
   "cell_type": "code",
   "execution_count": null,
   "metadata": {},
   "outputs": [
    {
     "name": "stdout",
     "output_type": "stream",
     "text": [
      "꽃받침 길이, 꽃받침 넓이, 꽃잎 길이, 꽃잎 넓이를 입력하세요.5.1,3.5,1.4,0.2\n",
      "<class 'str'>\n",
      "5.1,3.5,1.4,0.2\n"
     ]
    }
   ],
   "source": [
    "# input 함수의 사용\n",
    "# 5.1,3.5,1.4,0.2\n",
    "src = input('꽃받침 길이, 꽃받침 넓이, 꽃잎 길이, 꽃잎 넓이를 입력하세요.')\n",
    "print(type(src))\n",
    "print(src)"
   ]
  },
  {
   "cell_type": "code",
   "execution_count": null,
   "metadata": {},
   "outputs": [
    {
     "name": "stdout",
     "output_type": "stream",
     "text": [
      "(4,)\n",
      "[5.1 3.5 1.4 0.2]\n"
     ]
    }
   ],
   "source": [
    "data = np.array(src.split(','), dtype=float) # 1차원 텐서\n",
    "print(data.shape)\n",
    "print(data)"
   ]
  },
  {
   "cell_type": "code",
   "execution_count": null,
   "metadata": {},
   "outputs": [
    {
     "name": "stdout",
     "output_type": "stream",
     "text": [
      "(1, 4)\n",
      "[[5.1 3.5 1.4 0.2]]\n",
      "p: [[0.6227252  0.23900516 0.13826966]]\n",
      "예측값: Iris-setosa\n"
     ]
    }
   ],
   "source": [
    "X = np.array([data])  # 2차원 텐서(배열)로 변환\n",
    "print(X.shape)\n",
    "print(X)\n",
    "p = model.predict(X)  # 2차원 배열 대입\n",
    "print('p:', p)\n",
    "\n",
    "for i in range(len(p)):\n",
    "    print('예측값:', decode(p[i])) # [[0.6227252  0.23900516 0.13826966]]"
   ]
  },
  {
   "cell_type": "code",
   "execution_count": null,
   "metadata": {},
   "outputs": [],
   "source": []
  },
  {
   "cell_type": "code",
   "execution_count": null,
   "metadata": {},
   "outputs": [],
   "source": []
  }
 ],
 "metadata": {
  "kernelspec": {
   "display_name": "ai",
   "language": "python",
   "name": "ai"
  },
  "language_info": {
   "codemirror_mode": {
    "name": "ipython",
    "version": 3
   },
   "file_extension": ".py",
   "mimetype": "text/x-python",
   "name": "python",
   "nbconvert_exporter": "python",
   "pygments_lexer": "ipython3",
   "version": "3.9.16"
  }
 },
 "nbformat": 4,
 "nbformat_minor": 2
}
