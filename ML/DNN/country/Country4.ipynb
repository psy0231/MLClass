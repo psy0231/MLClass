{
 "cells": [
  {
   "attachments": {},
   "cell_type": "markdown",
   "metadata": {
    "id": "Bj4nkZ_xt0EJ"
   },
   "source": [
    "### 이항 분류, CPU\n",
    "#### 표준화를 사용: country1.csv\n",
    "- 평균 -> 편차 -> 편차의 제곱의 평균(분산) -> 표준 편차 -> 표준화(z) -> 표준정규분포"
   ]
  },
  {
   "cell_type": "code",
   "execution_count": 1,
   "metadata": {
    "executionInfo": {
     "elapsed": 270,
     "status": "ok",
     "timestamp": 1659769749021,
     "user": {
      "displayName": "강사엄기흥",
      "userId": "12410353940363031053"
     },
     "user_tz": -540
    },
    "id": "igcNLT6MtsXw"
   },
   "outputs": [],
   "source": [
    "import warnings\n",
    "warnings.filterwarnings(action='ignore')\n",
    "\n",
    "import os\n",
    "import time\n",
    "# import cv2\n",
    "import random\n",
    "\n",
    "import numpy as np\n",
    "import pandas as pd\n",
    "import seaborn as sb\n",
    "import tensorflow as tf\n",
    "\n",
    "from tensorflow.keras.models import Sequential  # class\n",
    "from tensorflow.keras.models import load_model  # model 사용\n",
    "from tensorflow.keras.layers import Dense       # 전결합\n",
    "from tensorflow.keras.layers import Dropout     # 특정 node를 사용안함.\n",
    "from tensorflow.keras.layers import Conv2D\n",
    "from tensorflow.keras.layers import MaxPooling2D\n",
    "from tensorflow.keras.layers import Flatten\n",
    "\n",
    "from tensorflow.keras.callbacks import EarlyStopping   # 학습 자동 중지\n",
    "from tensorflow.keras.callbacks import ModelCheckpoint # 우수한 학습 모델 파일 저장\n",
    "from tensorflow.keras import regularizers \n",
    "from tensorflow.keras.utils import to_categorical   # one-hot 엔코딩\n",
    "from tensorflow.keras.optimizers import Adam\n",
    "\n",
    "from tensorflow.keras.datasets import mnist\n",
    "\n",
    "from sklearn.preprocessing import LabelEncoder\n",
    "from sklearn.model_selection import train_test_split # 학습셋과 테스트셋의 분리 지원\n",
    "from sklearn.model_selection import StratifiedKFold  # K겹 교차 검증\n",
    "\n",
    "from PIL import Image\n",
    "\n",
    "import matplotlib.pyplot as plt\n",
    "import seaborn as sb\n",
    "from matplotlib import font_manager, rc\n",
    "\n",
    "import platform \n",
    "# Windows, Linux, Darwin\n",
    "if (platform.system() == 'Windows'):  \n",
    "    rc('font', family=font_manager.FontProperties(fname=\"C:/Windows/Fonts/malgun.ttf\").get_name())\n",
    "    path = '.' # Local\n",
    "else:    \n",
    "    rc('font', family='NanumBarunGothic')  # Ubuntu 18.04 기준 한글 처리\n",
    "    path = '/content/drive/My Drive/kd_ml/dnn/country' # Colab\n",
    "\n",
    "os.chdir(path) # 기본 경로 설정\n",
    "\n",
    "plt.rcParams[\"font.size\"] = 12         # 글자 크기\n",
    "plt.rcParams[\"figure.figsize\"] = (6, 3) # 10:4의 그래프 비율\n",
    "plt.rcParams['axes.unicode_minus'] = False  # minus 부호는 unicode 적용시 한글이 깨짐으로 설정\n",
    "\n",
    "%matplotlib inline\n",
    "\n",
    "# ---------------------------------------------------------------------\n",
    "# gpu 사용시 런타임에서 필요한 양만큼의 GPU 메모리를 할당후 자동 증가 처리\n",
    "# OS 메모리도 초기화됨.\n",
    "# ---------------------------------------------------------------------\n",
    "import tensorflow as tf\n",
    "\n",
    "gpus = tf.config.experimental.list_physical_devices('GPU')\n",
    "if gpus:\n",
    "    try:\n",
    "        tf.config.experimental.set_memory_growth(gpus[0], True)\n",
    "    except RuntimeError as e:\n",
    "        # 프로그램 시작시에 메모리 증가가 설정되어야만 합니다\n",
    "        print(e)\n",
    "    \n",
    "# ---------------------------------------------------------------------"
   ]
  },
  {
   "cell_type": "code",
   "execution_count": 2,
   "metadata": {
    "colab": {
     "base_uri": "https://localhost:8080/"
    },
    "executionInfo": {
     "elapsed": 23,
     "status": "ok",
     "timestamp": 1659769749352,
     "user": {
      "displayName": "강사엄기흥",
      "userId": "12410353940363031053"
     },
     "user_tz": -540
    },
    "id": "lm--BrExuA0f",
    "outputId": "8a715865-97c5-4c3c-977a-97858bae7f17"
   },
   "outputs": [
    {
     "name": "stdout",
     "output_type": "stream",
     "text": [
      "<class 'numpy.ndarray'>\n",
      "(100, 7)\n",
      "[[ 0.  0.  0.  5.  1.  0.  0.]\n",
      " [ 1.  0.  1.  6.  1.  0.  1.]\n",
      " [ 1.  1.  1. 10.  1.  0.  1.]\n",
      " [ 0.  0.  0. 10.  1.  0.  0.]\n",
      " [ 1.  0.  1. 10.  1.  2.  1.]\n",
      " [ 1.  0.  0.  0.  0.  1.  0.]\n",
      " [ 0.  0.  0.  5.  1.  0.  0.]\n",
      " [ 1.  0.  1.  6.  1.  0.  1.]\n",
      " [ 1.  1.  1. 10.  1.  3.  1.]\n",
      " [ 1.  0.  1.  2.  1.  1.  0.]\n",
      " [ 0.  1.  1. 10.  1.  3.  1.]\n",
      " [ 1.  0.  1. 10.  1.  3.  1.]\n",
      " [ 0.  0.  0.  5.  1.  0.  0.]\n",
      " [ 1.  0.  1.  6.  1.  0.  1.]\n",
      " [ 1.  1.  1. 10.  1.  1.  1.]\n",
      " [ 0.  0.  0. 10.  1.  1.  0.]\n",
      " [ 1.  0.  1. 10.  1.  3.  1.]\n",
      " [ 1.  1.  0. 10.  1.  3.  1.]\n",
      " [ 0.  0.  0.  5.  1.  0.  0.]\n",
      " [ 1.  0.  1.  6.  1.  0.  1.]\n",
      " [ 1.  1.  1. 10.  1.  1.  1.]\n",
      " [ 1.  0.  0.  3.  0.  1.  0.]\n",
      " [ 1.  1.  0. 10.  1.  3.  1.]\n",
      " [ 1.  1.  1. 10.  1.  2.  1.]\n",
      " [ 0.  0.  0.  5.  1.  0.  0.]\n",
      " [ 1.  0.  1.  6.  1.  0.  1.]\n",
      " [ 1.  0.  1. 10.  1.  3.  1.]\n",
      " [ 1.  1.  0.  7.  1.  0.  0.]\n",
      " [ 0.  0.  1. 10.  1.  1.  0.]\n",
      " [ 1.  1.  1. 10.  1.  3.  1.]\n",
      " [ 0.  0.  0.  5.  1.  0.  0.]\n",
      " [ 1.  0.  1.  6.  1.  0.  1.]\n",
      " [ 1.  1.  1. 10.  1.  0.  0.]\n",
      " [ 1.  1.  1. 10.  1.  0.  1.]\n",
      " [ 1.  0.  1. 10.  1.  3.  1.]\n",
      " [ 1.  0.  0.  0.  0.  1.  0.]\n",
      " [ 0.  0.  0.  5.  1.  0.  0.]\n",
      " [ 1.  0.  1.  6.  1.  0.  1.]\n",
      " [ 1.  1.  1. 10.  1.  3.  1.]\n",
      " [ 1.  0.  1.  2.  1.  3.  0.]\n",
      " [ 0.  1.  1. 10.  1.  2.  1.]\n",
      " [ 1.  0.  1.  8.  1.  1.  1.]\n",
      " [ 0.  0.  0.  5.  1.  0.  0.]\n",
      " [ 1.  0.  1.  6.  1.  0.  1.]\n",
      " [ 1.  1.  1. 10.  1.  1.  1.]\n",
      " [ 0.  0.  0. 10.  1.  1.  0.]\n",
      " [ 0.  0.  1.  5.  1.  3.  0.]\n",
      " [ 1.  1.  0. 10.  1.  3.  1.]\n",
      " [ 0.  0.  0.  5.  1.  0.  0.]\n",
      " [ 1.  0.  1.  6.  1.  0.  1.]\n",
      " [ 1.  1.  1. 10.  1.  1.  1.]\n",
      " [ 0.  1.  1.  3.  0.  1.  0.]\n",
      " [ 1.  1.  0.  7.  1.  3.  1.]\n",
      " [ 1.  1.  1.  7.  1.  2.  1.]\n",
      " [ 0.  0.  0.  5.  1.  0.  0.]\n",
      " [ 1.  0.  1.  6.  1.  0.  1.]\n",
      " [ 1.  0.  1. 10.  1.  2.  1.]\n",
      " [ 1.  1.  0.  7.  1.  0.  0.]\n",
      " [ 0.  0.  1. 10.  1.  1.  0.]\n",
      " [ 1.  1.  1. 10.  1.  3.  1.]\n",
      " [10.  0.  0.  5.  1.  0.  0.]\n",
      " [ 1.  0.  1.  6.  1.  0.  1.]\n",
      " [ 1.  1.  1. 10.  1.  0.  1.]\n",
      " [ 1.  1.  1. 10.  1.  0.  1.]\n",
      " [ 1.  0.  1. 10.  1.  3.  1.]\n",
      " [ 1.  0.  0.  0.  0.  3.  0.]\n",
      " [ 0.  0.  0.  5.  1.  0.  0.]\n",
      " [ 1.  0.  1.  6.  1.  0.  1.]\n",
      " [ 1.  1.  1. 10.  1.  3.  1.]\n",
      " [ 1.  0.  1.  2.  1.  1.  0.]\n",
      " [ 0.  1.  1. 10.  1.  3.  1.]\n",
      " [ 1.  0.  1. 10.  1.  3.  1.]\n",
      " [ 0.  0.  0.  5.  1.  0.  0.]\n",
      " [ 1.  0.  1.  6.  1.  0.  1.]\n",
      " [ 1.  1.  1. 10.  1.  1.  1.]\n",
      " [ 0.  0.  0.  5.  1.  1.  0.]\n",
      " [ 1.  0.  1. 10.  1.  3.  1.]\n",
      " [ 1.  1.  0. 10.  1.  3.  1.]\n",
      " [ 0.  0.  0.  5.  1.  0.  0.]\n",
      " [ 1.  0.  1.  6.  1.  0.  1.]\n",
      " [ 1.  1.  1. 10.  1.  1.  1.]\n",
      " [ 1.  1.  1. 10.  0.  1.  1.]\n",
      " [ 1.  0.  0.  1.  0.  1.  0.]\n",
      " [ 1.  1.  1. 10.  1.  2.  1.]\n",
      " [ 0.  0.  0.  5.  1.  0.  0.]\n",
      " [ 1.  0.  1.  6.  1.  0.  1.]\n",
      " [ 1.  0.  1. 10.  1.  3.  1.]\n",
      " [ 1.  1.  0.  5.  1.  0.  0.]\n",
      " [ 0.  0.  1.  5.  1.  1.  0.]\n",
      " [ 1.  1.  1. 10.  1.  3.  1.]\n",
      " [ 1.  1.  1. 10.  1.  1.  1.]\n",
      " [ 0.  0.  1.  5.  0.  1.  0.]\n",
      " [ 1.  1.  1. 10.  1.  3.  1.]\n",
      " [ 1.  1.  1. 10.  1.  2.  1.]\n",
      " [ 0.  0.  0.  5.  1.  0.  0.]\n",
      " [ 1.  0.  1.  6.  1.  0.  1.]\n",
      " [ 1.  1.  1. 10.  1.  3.  1.]\n",
      " [ 1.  1.  0.  7.  1.  0.  0.]\n",
      " [ 0.  0.  1.  5.  1.  1.  0.]\n",
      " [ 1.  1.  1. 10.  1.  3.  1.]]\n"
     ]
    }
   ],
   "source": [
    "# 데이터 준비\n",
    "data = np.loadtxt('./country2.csv', delimiter=',', dtype=np.float64, skiprows=1)\n",
    "print(type(data))\n",
    "print(data.shape)\n",
    "print(data)"
   ]
  },
  {
   "cell_type": "code",
   "execution_count": 3,
   "metadata": {
    "colab": {
     "base_uri": "https://localhost:8080/"
    },
    "executionInfo": {
     "elapsed": 21,
     "status": "ok",
     "timestamp": 1659769749353,
     "user": {
      "displayName": "강사엄기흥",
      "userId": "12410353940363031053"
     },
     "user_tz": -540
    },
    "id": "2hUOVgTG7_bx",
    "outputId": "b11a4406-6dc0-490b-c041-0aa53146f0cf"
   },
   "outputs": [
    {
     "name": "stdout",
     "output_type": "stream",
     "text": [
      "(100, 7)\n",
      "(7, 100)\n"
     ]
    }
   ],
   "source": [
    "# 평균, 표준 편차의 산출시 행방향 기준이 아니라 열방향을 기준으로 산출해야함.\n",
    "# 성  명  Python  Tensorflow  Analysis\n",
    "# 왕눈이  90      80            90  \n",
    "# 아로미  95      90            85  \n",
    "# 투투    80      65            75\n",
    "# Python 과목의 평균과 표준편차는 열방향으로 구해야하나, \n",
    "# 일반적인 관측치 데이터는 행방향을 가지고 있음\n",
    "\n",
    "print(data.shape)\n",
    "datat = data.T\n",
    "print(datat.shape)"
   ]
  },
  {
   "cell_type": "code",
   "execution_count": 4,
   "metadata": {},
   "outputs": [
    {
     "data": {
      "text/plain": [
       "0.4737087712930805"
      ]
     },
     "execution_count": 4,
     "metadata": {},
     "output_type": "execute_result"
    }
   ],
   "source": [
    "np.sqrt(np.var(datat[2]))"
   ]
  },
  {
   "cell_type": "code",
   "execution_count": 5,
   "metadata": {
    "colab": {
     "base_uri": "https://localhost:8080/"
    },
    "executionInfo": {
     "elapsed": 17,
     "status": "ok",
     "timestamp": 1659769749354,
     "user": {
      "displayName": "강사엄기흥",
      "userId": "12410353940363031053"
     },
     "user_tz": -540
    },
    "id": "mfzjeHCv8lvX",
    "outputId": "9ee8f509-f110-492a-d891-9a3cd101fd0d"
   },
   "outputs": [
    {
     "name": "stdout",
     "output_type": "stream",
     "text": [
      "range(0, 7)\n",
      "range(0, 6)\n"
     ]
    }
   ],
   "source": [
    "# 표준화, 연속실행 안됨 ★\n",
    "print(range(len(datat)))\n",
    "print(range(len(datat)-1)) # 7번째 행은 분류라 제외(아래 for문에서 -1로 제외)\n"
   ]
  },
  {
   "cell_type": "code",
   "execution_count": 6,
   "metadata": {},
   "outputs": [
    {
     "name": "stdout",
     "output_type": "stream",
     "text": [
      "0 행 m: 0.8  std: 1.0295630140987002\n",
      "1 행 m: 0.39  std: 0.4877499359302879\n",
      "2 행 m: 0.66  std: 0.4737087712930805\n",
      "3 행 m: 7.32  std: 2.842111890830479\n",
      "4 행 m: 0.92  std: 0.2712931993250107\n",
      "5 행 m: 1.19  std: 1.2385071659057931\n"
     ]
    }
   ],
   "source": [
    "\n",
    "# print(datat)\n",
    "ms = [] # 평균 목록, 테스트시 사용\n",
    "stds = [] # 표준편차 목록, 테스트시 사용\n",
    "for i in range(len(datat)-1): # 6개의 행 대상, Target 컬럼 7번째 컬럼은 제외\n",
    "    # datat[i] = datat[i].astype('float32')\n",
    "    m = datat[i].mean()  # 평균\n",
    "    std = datat[i].std() # 표준편차\n",
    "    print(i, '행 ''m:', m, ' std:', std)\n",
    "    \n",
    "    # 표준화 실행, 평균(m) 0, 분산 1, 표준편차: std\n",
    "    datat[i] = (datat[i] - m) / std # z 값\n",
    "\n",
    "    ms.append(m)     # 모델 사용시에 사용\n",
    "    stds.append(std) # 모델 사용시에 사용\n",
    "\n",
    "# print(datat[5])\n"
   ]
  },
  {
   "cell_type": "code",
   "execution_count": 7,
   "metadata": {
    "colab": {
     "base_uri": "https://localhost:8080/"
    },
    "executionInfo": {
     "elapsed": 14,
     "status": "ok",
     "timestamp": 1659769749355,
     "user": {
      "displayName": "강사엄기흥",
      "userId": "12410353940363031053"
     },
     "user_tz": -540
    },
    "id": "W-12cYNC9xnf",
    "outputId": "22bbb983-dc10-4823-e96d-e541e3ed9727"
   },
   "outputs": [
    {
     "name": "stdout",
     "output_type": "stream",
     "text": [
      "(100, 7)\n",
      "[-0.77702869 -0.79959006 -1.39326109 -0.81629439  0.29488391 -0.96083417\n",
      "  0.        ]\n"
     ]
    }
   ],
   "source": [
    "data = datat.T     # 행과열을 처음 상태로 복원\n",
    "print(data.shape)\n",
    "print(data[0])"
   ]
  },
  {
   "cell_type": "code",
   "execution_count": 8,
   "metadata": {
    "colab": {
     "base_uri": "https://localhost:8080/"
    },
    "executionInfo": {
     "elapsed": 13,
     "status": "ok",
     "timestamp": 1659769749356,
     "user": {
      "displayName": "강사엄기흥",
      "userId": "12410353940363031053"
     },
     "user_tz": -540
    },
    "id": "Coy8S3I7unAL",
    "outputId": "68fe3391-beed-4d9d-9b20-e96189ee293d"
   },
   "outputs": [
    {
     "name": "stdout",
     "output_type": "stream",
     "text": [
      "[[-0.77702869 -0.79959006 -1.39326109 -0.81629439  0.29488391 -0.96083417]\n",
      " [ 0.19425717 -0.79959006  0.71774056 -0.46444336  0.29488391 -0.96083417]\n",
      " [ 0.19425717  1.25064086  0.71774056  0.94296076  0.29488391 -0.96083417]]\n",
      "[0. 1. 1.]\n",
      "(90, 6)\n",
      "(10, 6)\n",
      "(90,)\n",
      "(10,)\n"
     ]
    }
   ],
   "source": [
    "# 데이터가 정렬이 안된경우 사용 가능\n",
    "# 훈련용 + 검증용: 90 건\n",
    "\n",
    "# 테스트용: 10 건\n",
    "# 데이터가 정렬이 안된경우 사용 가능\n",
    "# 훈련용 + 검증용: 90 건\n",
    "X = data[:, :6]\n",
    "print(X[:3])\n",
    "Y = data[:, 6]\n",
    "print(Y[:3])\n",
    "# 테스트용: 10 건\n",
    "\n",
    "x_train, x_test, y_train, y_test, = train_test_split(X, Y, test_size=0.1, shuffle=True)\n",
    "print(x_train.shape)    # 훈련+검증 1314개, 9개 컬럼(독립변수)\n",
    "print(x_test.shape)     # 테스트 146개, 9개 컬럼(독립변수)\n",
    "print(y_train.shape)    # 훈련+검증 1314개, 1개 컬럼(종속변수) -> SalePrice\n",
    "print(y_test.shape)     # 테스트 146개, 1개 컬럼(종속변수) -> SalePrice\n",
    "\n"
   ]
  },
  {
   "cell_type": "code",
   "execution_count": 9,
   "metadata": {
    "colab": {
     "base_uri": "https://localhost:8080/"
    },
    "executionInfo": {
     "elapsed": 8800,
     "status": "ok",
     "timestamp": 1659769758146,
     "user": {
      "displayName": "강사엄기흥",
      "userId": "12410353940363031053"
     },
     "user_tz": -540
    },
    "id": "3mARfxQNu_qy",
    "outputId": "6ed4054e-dc33-46cb-ff85-6245da2a94ca"
   },
   "outputs": [
    {
     "name": "stdout",
     "output_type": "stream",
     "text": [
      "Model: \"sequential\"\n",
      "_________________________________________________________________\n",
      " Layer (type)                Output Shape              Param #   \n",
      "=================================================================\n",
      " layer1 (Dense)              (None, 300)               2100      \n",
      "                                                                 \n",
      " layer2 (Dense)              (None, 200)               60200     \n",
      "                                                                 \n",
      " layer3 (Dense)              (None, 100)               20100     \n",
      "                                                                 \n",
      " layer4 (Dense)              (None, 50)                5050      \n",
      "                                                                 \n",
      " layer5 (Dense)              (None, 1)                 51        \n",
      "                                                                 \n",
      "=================================================================\n",
      "Total params: 87,501\n",
      "Trainable params: 87,501\n",
      "Non-trainable params: 0\n",
      "_________________________________________________________________\n"
     ]
    },
    {
     "name": "stdout",
     "output_type": "stream",
     "text": [
      "Epoch 1/10\n",
      "1/8 [==>...........................] - ETA: 3s - loss: 0.6848 - accuracy: 0.6000\n",
      "Epoch 1: val_accuracy improved from -inf to 1.00000, saving model to ./model\\001-1.0000.h5\n",
      "8/8 [==============================] - 1s 30ms/step - loss: 0.6365 - accuracy: 0.6389 - val_loss: 0.5344 - val_accuracy: 1.0000\n",
      "Epoch 2/10\n",
      "1/8 [==>...........................] - ETA: 0s - loss: 0.4394 - accuracy: 1.0000\n",
      "Epoch 2: val_accuracy did not improve from 1.00000\n",
      "8/8 [==============================] - 0s 6ms/step - loss: 0.4440 - accuracy: 0.9722 - val_loss: 0.3362 - val_accuracy: 1.0000\n",
      "Epoch 3/10\n",
      "1/8 [==>...........................] - ETA: 0s - loss: 0.3308 - accuracy: 1.0000\n",
      "Epoch 3: val_accuracy did not improve from 1.00000\n",
      "8/8 [==============================] - 0s 6ms/step - loss: 0.2854 - accuracy: 0.9583 - val_loss: 0.1451 - val_accuracy: 1.0000\n",
      "Epoch 4/10\n",
      "1/8 [==>...........................] - ETA: 0s - loss: 0.1733 - accuracy: 1.0000\n",
      "Epoch 4: val_accuracy did not improve from 1.00000\n",
      "8/8 [==============================] - 0s 6ms/step - loss: 0.1696 - accuracy: 0.9583 - val_loss: 0.0590 - val_accuracy: 1.0000\n",
      "Epoch 5/10\n",
      "1/8 [==>...........................] - ETA: 0s - loss: 0.0879 - accuracy: 1.0000\n",
      "Epoch 5: val_accuracy did not improve from 1.00000\n",
      "8/8 [==============================] - 0s 6ms/step - loss: 0.1164 - accuracy: 0.9583 - val_loss: 0.0221 - val_accuracy: 1.0000\n",
      "Epoch 6/10\n",
      "1/8 [==>...........................] - ETA: 0s - loss: 0.0330 - accuracy: 1.0000\n",
      "Epoch 6: val_accuracy did not improve from 1.00000\n",
      "8/8 [==============================] - 0s 6ms/step - loss: 0.0728 - accuracy: 0.9861 - val_loss: 0.0159 - val_accuracy: 1.0000\n",
      "Epoch 7/10\n",
      "1/8 [==>...........................] - ETA: 0s - loss: 0.0120 - accuracy: 1.0000\n",
      "Epoch 7: val_accuracy did not improve from 1.00000\n",
      "8/8 [==============================] - 0s 6ms/step - loss: 0.0791 - accuracy: 0.9861 - val_loss: 0.0135 - val_accuracy: 1.0000\n",
      "Epoch 8/10\n",
      "1/8 [==>...........................] - ETA: 0s - loss: 0.0162 - accuracy: 1.0000\n",
      "Epoch 8: val_accuracy did not improve from 1.00000\n",
      "8/8 [==============================] - 0s 6ms/step - loss: 0.0531 - accuracy: 0.9861 - val_loss: 0.0059 - val_accuracy: 1.0000\n",
      "Epoch 9/10\n",
      "1/8 [==>...........................] - ETA: 0s - loss: 0.0145 - accuracy: 1.0000\n",
      "Epoch 9: val_accuracy did not improve from 1.00000\n",
      "8/8 [==============================] - 0s 6ms/step - loss: 0.0502 - accuracy: 0.9861 - val_loss: 0.0065 - val_accuracy: 1.0000\n",
      "Epoch 10/10\n",
      "1/8 [==>...........................] - ETA: 0s - loss: 0.0053 - accuracy: 1.0000\n",
      "Epoch 10: val_accuracy did not improve from 1.00000\n",
      "8/8 [==============================] - 0s 6ms/step - loss: 0.0611 - accuracy: 0.9444 - val_loss: 0.0094 - val_accuracy: 1.0000\n"
     ]
    }
   ],
   "source": [
    "# 네트워크 설계\n",
    "# node, epoch, batch_size\n",
    "SEED = 0\n",
    "os.environ['PYTHONHASHSEED'] = str(SEED)\n",
    "os.environ['TF_DETERMINISTIC_OPS'] = '1'\n",
    "\n",
    "tf.random.set_seed(SEED) # Global seed\n",
    "np.random.seed(SEED)\n",
    "random.seed(SEED)\n",
    "\n",
    "model = Sequential()\n",
    "\n",
    "model.add(Dense(300, input_dim=6, activation='relu', name = 'layer1'))\n",
    "model.add(Dense(200, activation='relu', name = 'layer2'))\n",
    "model.add(Dense(100, activation='relu', name = 'layer3'))\n",
    "model.add(Dense(50, activation='relu', name = 'layer4'))\n",
    "model.add(Dense(1, activation='sigmoid', name = 'layer5'))\n",
    "model.compile(optimizer=Adam(lr=0.001), loss='binary_crossentropy', metrics=['accuracy']) \n",
    "model.summary()\n",
    "\n",
    "# patience=5: 손실이 5번 늘어날때까지 훈련을 계속, 5번째 종료\n",
    "# restore_best_weights=True: 가중치를 가장 오차가 적었던 경우로 저장\n",
    "es = EarlyStopping(monitor='loss', patience=5, restore_best_weights=True)\n",
    "\n",
    "MODEL_DIR = './model/'\n",
    "if not os.path.exists(MODEL_DIR): # 폴더가 존재하지 않으면 생성\n",
    "    os.mkdir(MODEL_DIR) # 폴더 생성\n",
    "\n",
    "# 03d: 좌측 0 padding 정수 3자리, .4f: 실수 소수점 4자리 \n",
    "modelpath='./model/{epoch:03d}-{val_accuracy:.4f}.h5'  \n",
    "# epoch:03d: 부족한 자리를 0으로 채우는 정수 형식\n",
    "# val_accuracy:.4f: 소수이하 4째자리까지 표현 형식\n",
    "\n",
    "# 검증 정확도가 개선되었을 때만 학습 모델 파일로 저장\n",
    "# filepath=modelpath: 파일이 저장되는 경로와 파일명\n",
    "# monitor='val_accuracy': 검증 정확도 기준으로 판단\n",
    "# verbose=1: 기록되는 파일 정보 출력\n",
    "# save_best_only=True: 검증 정확도가 개선되면 파일로 저장\n",
    "mcp= ModelCheckpoint(filepath=modelpath,\n",
    "                    monitor='val_accuracy',\n",
    "                    verbose=1, save_best_only=True)\n",
    "\n",
    "hist = model.fit(x_train, y_train, \n",
    "                    validation_split=0.2, shuffle=True, \n",
    "                    epochs=10, batch_size=10 , callbacks=[es, mcp])"
   ]
  },
  {
   "cell_type": "code",
   "execution_count": 14,
   "metadata": {
    "colab": {
     "base_uri": "https://localhost:8080/",
     "height": 338
    },
    "executionInfo": {
     "elapsed": 2311,
     "status": "ok",
     "timestamp": 1659769760443,
     "user": {
      "displayName": "강사엄기흥",
      "userId": "12410353940363031053"
     },
     "user_tz": -540
    },
    "id": "NC5QdulG3xrr",
    "outputId": "3ecff5dd-cc6c-4a5e-9a12-b3c6f533423e"
   },
   "outputs": [
    {
     "data": {
      "image/png": "[encoded data removed]",
      "text/plain": [
       "<Figure size 1000x500 with 2 Axes>"
      ]
     },
     "metadata": {},
     "output_type": "display_data"
    }
   ],
   "source": [
    "fig, loss_ax = plt.subplots()\n",
    "# plt.figure(figsize=(6,4)) # ERROR\n",
    "fig.set_size_inches(10, 5)  # 챠트 크기 설정\n",
    "\n",
    "acc_ax = loss_ax.twinx()  # 오른쪽 y 출 설정\n",
    "\n",
    "loss_ax.plot(hist.history['loss'], 'y', label='train loss')   # 훈련 손실\n",
    "loss_ax.plot(hist.history['val_loss'], 'r', label='val loss') # 검증 손실, 학습의 우수성 평가 척도\n",
    "loss_ax.set_ylim([0.0, 10]) # 왼쪽 y 축, 값을 반영하여 변경\n",
    "\n",
    "acc_ax.plot(hist.history['accuracy'], 'b', label='train accuracy')   # 훈련 정확도\n",
    "acc_ax.plot(hist.history['val_accuracy'], 'g', label='val accuracy') # 검증 정확도\n",
    "acc_ax.set_ylim([0.0, 1.0])  # 오른쪽 y 축, 0 ~100 %를 의미\n",
    "\n",
    "loss_ax.set_xlabel('epoch')  # x축 레이블\n",
    "loss_ax.set_ylabel('loss')     # 왼쪽 y 레이블\n",
    "acc_ax.set_ylabel('accuray') # 오른쪽 y 레이블\n",
    "\n",
    "loss_ax.legend(loc='upper left')  # 좌측 y 축 기준 범례 위치 설정\n",
    "acc_ax.legend(loc='lower left')   # 우측 y 축 기준 범례 위치 설정\n",
    "\n",
    "plt.show()"
   ]
  },
  {
   "cell_type": "code",
   "execution_count": 15,
   "metadata": {
    "colab": {
     "base_uri": "https://localhost:8080/"
    },
    "executionInfo": {
     "elapsed": 447,
     "status": "ok",
     "timestamp": 1659769760885,
     "user": {
      "displayName": "강사엄기흥",
      "userId": "12410353940363031053"
     },
     "user_tz": -540
    },
    "id": "b-juTWEI3yjw",
    "outputId": "2417ac10-42d5-4454-c662-4d2e008270c4"
   },
   "outputs": [
    {
     "name": "stdout",
     "output_type": "stream",
     "text": [
      "손실값: 0.8130480647087097 /정확도: 89.99999761581421 %\n"
     ]
    }
   ],
   "source": [
    "test_loss, test_acc = model.evaluate(x_test, y_test, batch_size=1, verbose=0)\n",
    "print('손실값:', test_loss, '/정확도:', (test_acc*100), '%')\n",
    "# Country1.csv:        손실값: 0.32279130816459656 /정확도: 80.0000011920929 %\n",
    "# Country2.csv:        손실값: 0.07252821326255798 /정확도: 100.0 %\n",
    "# Country1.csv 표준화: 손실값: 0.0017746156081557274 /정확도: 100.0 %"
   ]
  },
  {
   "cell_type": "code",
   "execution_count": 16,
   "metadata": {
    "colab": {
     "base_uri": "https://localhost:8080/"
    },
    "executionInfo": {
     "elapsed": 38499,
     "status": "ok",
     "timestamp": 1659769824902,
     "user": {
      "displayName": "강사엄기흥",
      "userId": "12410353940363031053"
     },
     "user_tz": -540
    },
    "id": "HQbcEMiZ4JmP",
    "outputId": "c3de76f7-1ee0-40c6-f7ac-0fdb32fb963d"
   },
   "outputs": [],
   "source": [
    "# 1) 주당 음주 횟수: 0 ~ 3(3회 이상)\n",
    "# 2) 농촌에서 생활적이 있다: 0(없음), 1(있음)\n",
    "# 3) 가족중에 농촌에서 생활하고 있는 친척있는 여부: 0(없음), 1(있음)\n",
    "# 4) 1년동안의 여행 횟수: 0 ~ 12\n",
    "#     (12이상, 교통을 이용한 등산/캠핑, 당일, 국내, 국외 모두 해당)\n",
    "# 5) 집을 소유 할 수 있는 경제력: 0(없음), 1(있음)\n",
    "# 6) 경작 할 수 있는 토지 평수: 0 ~ (평)\n",
    "#     0: 없음, 1: 1 ~ 2000 미만, 2: 2000이상 ~ 3000미만, 3: 3000 이상\n",
    "# 7) 정착: 1, 실패: 0\n",
    "        \n",
    "drink = int(input('주당 음주 횟수는 (0 ~ 3(3회 이상)):'))\n",
    "life = int(input('농촌에서 생활한 경험(0(없음), 1(있음)):'))\n",
    "life2 = int(input('가족중에 농촌에서 생활하고 있는 친척있는 여부(0(없음), 1(있음)):'))\n",
    "trip = int(input('1년동안의 여행 횟수(0 ~ 12):'))\n",
    "house = int(input('집을 소유 할 수 있는 경제력(0(없음), 1(있음)):'))\n",
    "land = int(input('경작 할 수 있는 토지 평수(0: 없음, 1: 1 ~ 2000 미만, 2: 2000이상 ~ 3000미만, 3: 3000 이상):'))"
   ]
  },
  {
   "cell_type": "code",
   "execution_count": 17,
   "metadata": {
    "colab": {
     "base_uri": "https://localhost:8080/"
    },
    "executionInfo": {
     "elapsed": 301,
     "status": "ok",
     "timestamp": 1659769871652,
     "user": {
      "displayName": "강사엄기흥",
      "userId": "12410353940363031053"
     },
     "user_tz": -540
    },
    "id": "Yx5eUFV5_Q2C",
    "outputId": "bb804bd6-472c-4cba-c138-5cef3970f5b6"
   },
   "outputs": [
    {
     "name": "stdout",
     "output_type": "stream",
     "text": [
      "(1, 6)\n",
      "[[-0.77702869 -0.79959006 -1.39326109 -2.57554955 -3.39116499 -0.96083417]]\n"
     ]
    }
   ],
   "source": [
    "# 모집단의 평균과 표준편차를 이용하여 테스트 데이터의 표준화 진행 ★\n",
    "data = []\n",
    "data.append((drink - ms[0]) / stds[0])\n",
    "data.append((life - ms[1]) / stds[1])\n",
    "data.append((life2 - ms[2]) / stds[2])\n",
    "data.append((trip - ms[3]) / stds[3])\n",
    "data.append((house - ms[4]) / stds[4])\n",
    "data.append((land - ms[5]) / stds[5])\n",
    "\n",
    "x = np.array([\n",
    "             data,\n",
    "      ])\n",
    "print(x.shape)\n",
    "print(x)"
   ]
  },
  {
   "cell_type": "code",
   "execution_count": 18,
   "metadata": {
    "colab": {
     "base_uri": "https://localhost:8080/"
    },
    "executionInfo": {
     "elapsed": 703,
     "status": "ok",
     "timestamp": 1659769949024,
     "user": {
      "displayName": "강사엄기흥",
      "userId": "12410353940363031053"
     },
     "user_tz": -540
    },
    "id": "wdbmnQHW_lki",
    "outputId": "505dfb19-57d1-442a-e087-85e80bdd0711"
   },
   "outputs": [
    {
     "name": "stdout",
     "output_type": "stream",
     "text": [
      "[[4.2365816e-10]]\n",
      "(1, 1)\n",
      "적응 확률: 0.000%\n",
      "도시형: 시골에 적응이 불가능합니다.\n"
     ]
    }
   ],
   "source": [
    "yp = model.predict(x)\n",
    "print(yp)\n",
    "print(yp.shape)\n",
    "\n",
    "for i in range(len(x)):\n",
    "    # print('적응 확률:', yp[i][0] * 100, ' %')\n",
    "    print('적응 확률: {0:.3f}%'.format(yp[i][0] * 100))\n",
    "    \n",
    "    if yp[i][0] >= 0.5:    # 기존 사례를 참고하여 결정\n",
    "        print('시골형: 시골에 적응 할 수 있습니다.')\n",
    "    else:\n",
    "        print('도시형: 시골에 적응이 불가능합니다.')"
   ]
  },
  {
   "cell_type": "code",
   "execution_count": 19,
   "metadata": {
    "colab": {
     "base_uri": "https://localhost:8080/"
    },
    "executionInfo": {
     "elapsed": 1650,
     "status": "ok",
     "timestamp": 1659770063602,
     "user": {
      "displayName": "강사엄기흥",
      "userId": "12410353940363031053"
     },
     "user_tz": -540
    },
    "id": "X24Ojcej_4Xp",
    "outputId": "006c7062-243a-4b79-b45f-3d11aa66f778"
   },
   "outputs": [
    {
     "ename": "ValueError",
     "evalue": "could not convert string to float: ''",
     "output_type": "error",
     "traceback": [
      "\u001b[1;31m---------------------------------------------------------------------------\u001b[0m",
      "\u001b[1;31mValueError\u001b[0m                                Traceback (most recent call last)",
      "Cell \u001b[1;32mIn[19], line 7\u001b[0m\n\u001b[0;32m      1\u001b[0m \u001b[39m# 모든 데이터를 통으로 입력받은 경우\u001b[39;00m\n\u001b[0;32m      2\u001b[0m \u001b[39m# 2,1,1,0,3,1,0\u001b[39;00m\n\u001b[0;32m      3\u001b[0m \u001b[39m# 2,1,1,1,3,1,0\u001b[39;00m\n\u001b[0;32m      4\u001b[0m \u001b[39m# 2,1,1,1,3,1,1\u001b[39;00m\n\u001b[0;32m      5\u001b[0m \u001b[39m# 2,1,1,1,6,1,1\u001b[39;00m\n\u001b[0;32m      6\u001b[0m total \u001b[39m=\u001b[39m \u001b[39minput\u001b[39m(\u001b[39m'\u001b[39m\u001b[39m모든 데이터를 통으로 입력:\u001b[39m\u001b[39m'\u001b[39m)\n\u001b[1;32m----> 7\u001b[0m total_split \u001b[39m=\u001b[39m np\u001b[39m.\u001b[39;49marray(total\u001b[39m.\u001b[39;49msplit(\u001b[39m'\u001b[39;49m\u001b[39m,\u001b[39;49m\u001b[39m'\u001b[39;49m), dtype\u001b[39m=\u001b[39;49m\u001b[39mfloat\u001b[39;49m)\n\u001b[0;32m      8\u001b[0m data \u001b[39m=\u001b[39m []\n\u001b[0;32m      9\u001b[0m data\u001b[39m.\u001b[39mappend((total_split[\u001b[39m0\u001b[39m] \u001b[39m-\u001b[39m ms[\u001b[39m0\u001b[39m]) \u001b[39m/\u001b[39m stds[\u001b[39m0\u001b[39m])\n",
      "\u001b[1;31mValueError\u001b[0m: could not convert string to float: ''"
     ]
    }
   ],
   "source": [
    "# 모든 데이터를 통으로 입력받은 경우\n",
    "# 2,1,1,0,3,1,0\n",
    "# 2,1,1,1,3,1,0\n",
    "# 2,1,1,1,3,1,1\n",
    "# 2,1,1,1,6,1,1\n",
    "total = input('모든 데이터를 통으로 입력:')\n",
    "total_split = np.array(total.split(','), dtype=float)\n",
    "data = []\n",
    "data.append((total_split[0] - ms[0]) / stds[0])\n",
    "data.append((total_split[1] - ms[1]) / stds[1])\n",
    "data.append((total_split[2] - ms[2]) / stds[2])\n",
    "data.append((total_split[3] - ms[3]) / stds[3])\n",
    "data.append((total_split[4] - ms[4]) / stds[4])\n",
    "data.append((total_split[5] - ms[5]) / stds[5])\n",
    "\n",
    "x = np.array([\n",
    "             data,\n",
    "      ])\n",
    "\n",
    "yp = model.predict(x)\n",
    "\n",
    "for i in range(len(x)):\n",
    "    # print('적응 확률:', yp[i][0] * 100, ' %')\n",
    "    print('적응 확률: {0:.3f}%'.format(yp[i][0] * 100))\n",
    "    \n",
    "    if yp[i][0] >= 0.5:    # 기존 사례를 참고하여 결정\n",
    "        print('시골형: 시골에 적응 할 수 있습니다.')\n",
    "    else:\n",
    "        print('도시형: 시골에 적응이 불가능합니다.')"
   ]
  },
  {
   "cell_type": "code",
   "execution_count": null,
   "metadata": {
    "id": "Pwc4v9ntAUHH"
   },
   "outputs": [],
   "source": [
    "# y = aX + b에서 데이터를 읽고 오차가 가장 작은 a, b를 찾는 과정을\n",
    "# 머신러닝이라고함.\n",
    "# 데이터의 규칙(패턴)을 발견하고 최적의 a, b를 찾게됨.\n",
    "# 모델(a: 기울기, b: y 절편)이 발견되면 새로운 X를 대입하여 y를 예측 할 수 있음. \n",
    "\n",
    "# - 하나의 변수에 대한 것은 y = a1X1 + b 로 예측 가능\n",
    "# - 2개이상의 변수 y = a1*X1 + a2*X2 + b 로 해결 가능\n",
    "# - 3개이상의 변수 y = a1*X1 + a2*X2 + a3*X3 + b 로 해결 가능\n",
    "# - 관계형 데이터베이스의 변수(컬럼)는 보통 10 ~ 20개 이상임으로 \n",
    "# - 개발자가 직접 선형회귀 구현 어려움\n",
    "\n",
    "# 선형회귀를 이용한 도시형/귀촌/귀농에 성공한 사람들의 패턴을 파악하여 고객 진단\n",
    "# - 시골에 가족(친척)이 있는지 여부\n",
    "# - 시골에서 생활한 경험\n",
    "# - 자택 소유\n",
    "# - 토지\n",
    "# - 1년의 여행 횟수\n",
    "# - 음주 횟수\n",
    "# - 운전면허 소유 여부\n",
    "# - 차량 소유 여부\n",
    "# - 성격\n",
    "# - 성별\n",
    "# - 판정(도시형/주말 펜션/귀촌/귀농), class\n",
    "\n",
    "# 머신러닝은 선형회귀/분류 알고리즘을 이용하여 도시형인지 시골형인지 진단\n",
    "# 딥러닝 신경망(회귀)에 기반하여 도시형인지 시골형인지 진단"
   ]
  }
 ],
 "metadata": {
  "colab": {
   "authorship_tag": "ABX9TyOVnMYmzNX15GVhcX+WXTCF",
   "collapsed_sections": [],
   "mount_file_id": "1TKt2vlw85_LVUxWBFy8pgBjqFN5d6cBr",
   "name": "Country3.ipynb",
   "provenance": []
  },
  "kernelspec": {
   "display_name": "ai",
   "language": "python",
   "name": "ai"
  },
  "language_info": {
   "codemirror_mode": {
    "name": "ipython",
    "version": 3
   },
   "file_extension": ".py",
   "mimetype": "text/x-python",
   "name": "python",
   "nbconvert_exporter": "python",
   "pygments_lexer": "ipython3",
   "version": "3.9.16"
  }
 },
 "nbformat": 4,
 "nbformat_minor": 1
}
