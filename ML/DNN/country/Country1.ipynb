{
 "cells": [
  {
   "attachments": {},
   "cell_type": "markdown",
   "metadata": {
    "id": "Bj4nkZ_xt0EJ"
   },
   "source": [
    "### 이항 분류, CPU\n",
    "#### 표준화하지 않은 데이터 사용: country1.csv"
   ]
  },
  {
   "cell_type": "code",
   "execution_count": 1,
   "metadata": {
    "executionInfo": {
     "elapsed": 858,
     "status": "ok",
     "timestamp": 1659768415785,
     "user": {
      "displayName": "강사엄기흥",
      "userId": "12410353940363031053"
     },
     "user_tz": -540
    },
    "id": "igcNLT6MtsXw"
   },
   "outputs": [],
   "source": [
    "import warnings\n",
    "warnings.filterwarnings(action='ignore')\n",
    "\n",
    "import os\n",
    "import time\n",
    "# import cv2\n",
    "import random\n",
    "\n",
    "import numpy as np\n",
    "import pandas as pd\n",
    "import seaborn as sb\n",
    "import tensorflow as tf\n",
    "\n",
    "from tensorflow.keras.models import Sequential  # class\n",
    "from tensorflow.keras.models import load_model  # model 사용\n",
    "from tensorflow.keras.layers import Dense       # 전결합\n",
    "from tensorflow.keras.layers import Dropout     # 특정 node를 사용안함.\n",
    "from tensorflow.keras.layers import Conv2D\n",
    "from tensorflow.keras.layers import MaxPooling2D\n",
    "from tensorflow.keras.layers import Flatten\n",
    "\n",
    "from tensorflow.keras.callbacks import EarlyStopping   # 학습 자동 중지\n",
    "from tensorflow.keras.callbacks import ModelCheckpoint # 우수한 학습 모델 파일 저장\n",
    "from tensorflow.keras import regularizers \n",
    "from tensorflow.keras.utils import to_categorical   # one-hot 엔코딩\n",
    "from tensorflow.keras.optimizers import Adam\n",
    "\n",
    "from tensorflow.keras.datasets import mnist\n",
    "\n",
    "from sklearn.preprocessing import LabelEncoder\n",
    "from sklearn.model_selection import train_test_split # 학습셋과 테스트셋의 분리 지원\n",
    "from sklearn.model_selection import StratifiedKFold  # K겹 교차 검증\n",
    "\n",
    "from PIL import Image\n",
    "\n",
    "import matplotlib.pyplot as plt\n",
    "import seaborn as sb\n",
    "from matplotlib import font_manager, rc\n",
    "\n",
    "import platform \n",
    "# Windows, Linux, Darwin\n",
    "if (platform.system() == 'Windows'):  \n",
    "    rc('font', family=font_manager.FontProperties(fname=\"C:/Windows/Fonts/malgun.ttf\").get_name())\n",
    "    path = '.' # Local\n",
    "else:    \n",
    "    rc('font', family='NanumBarunGothic')  # Ubuntu 18.04 기준 한글 처리\n",
    "    path = '/content/drive/My Drive/kd_ml/dnn/country' # Colab\n",
    "\n",
    "os.chdir(path) # 기본 경로 설정\n",
    "\n",
    "plt.rcParams[\"font.size\"] = 12         # 글자 크기\n",
    "# plt.rcParams[\"figure.figsize\"] = (10, 4) # 10:4의 그래프 비율\n",
    "plt.rcParams['axes.unicode_minus'] = False  # minus 부호는 unicode 적용시 한글이 깨짐으로 설정\n",
    "\n",
    "%matplotlib inline\n",
    "\n",
    "# ---------------------------------------------------------------------\n",
    "# gpu 사용시 런타임에서 필요한 양만큼의 GPU 메모리를 할당후 자동 증가 처리\n",
    "# OS 메모리도 초기화됨.\n",
    "# ---------------------------------------------------------------------\n",
    "import tensorflow as tf\n",
    "\n",
    "gpus = tf.config.experimental.list_physical_devices('GPU')\n",
    "if gpus:\n",
    "    try:\n",
    "        tf.config.experimental.set_memory_growth(gpus[0], True)\n",
    "    except RuntimeError as e:\n",
    "        # 프로그램 시작시에 메모리 증가가 설정되어야만 합니다\n",
    "        print(e)\n",
    "    \n",
    "# ---------------------------------------------------------------------"
   ]
  },
  {
   "cell_type": "code",
   "execution_count": 2,
   "metadata": {
    "colab": {
     "base_uri": "https://localhost:8080/"
    },
    "executionInfo": {
     "elapsed": 31,
     "status": "ok",
     "timestamp": 1659768416119,
     "user": {
      "displayName": "강사엄기흥",
      "userId": "12410353940363031053"
     },
     "user_tz": -540
    },
    "id": "lm--BrExuA0f",
    "outputId": "f8587bdf-1766-436e-e51a-845037970382"
   },
   "outputs": [
    {
     "name": "stdout",
     "output_type": "stream",
     "text": [
      "<class 'numpy.ndarray'>\n",
      "(100, 7)\n",
      "[[0.e+00 0.e+00 0.e+00 5.e+00 1.e+00 0.e+00 0.e+00]\n",
      " [1.e+00 0.e+00 1.e+00 6.e+00 1.e+00 0.e+00 1.e+00]\n",
      " [1.e+00 1.e+00 1.e+00 1.e+01 1.e+00 0.e+00 1.e+00]\n",
      " [0.e+00 0.e+00 0.e+00 1.e+01 1.e+00 0.e+00 0.e+00]\n",
      " [1.e+00 0.e+00 1.e+00 1.e+01 1.e+00 2.e+03 1.e+00]\n",
      " [1.e+00 0.e+00 0.e+00 0.e+00 0.e+00 1.e+03 0.e+00]\n",
      " [0.e+00 0.e+00 0.e+00 5.e+00 1.e+00 0.e+00 0.e+00]\n",
      " [1.e+00 0.e+00 1.e+00 6.e+00 1.e+00 0.e+00 1.e+00]\n",
      " [1.e+00 1.e+00 1.e+00 1.e+01 1.e+00 3.e+03 1.e+00]\n",
      " [1.e+00 0.e+00 1.e+00 2.e+00 1.e+00 1.e+03 0.e+00]\n",
      " [0.e+00 1.e+00 1.e+00 1.e+01 1.e+00 3.e+03 1.e+00]\n",
      " [1.e+00 0.e+00 1.e+00 1.e+01 1.e+00 3.e+03 1.e+00]\n",
      " [0.e+00 0.e+00 0.e+00 5.e+00 1.e+00 0.e+00 0.e+00]\n",
      " [1.e+00 0.e+00 1.e+00 6.e+00 1.e+00 0.e+00 1.e+00]\n",
      " [1.e+00 1.e+00 1.e+00 1.e+01 1.e+00 1.e+03 1.e+00]\n",
      " [0.e+00 0.e+00 0.e+00 1.e+01 1.e+00 1.e+03 0.e+00]\n",
      " [1.e+00 0.e+00 1.e+00 1.e+01 1.e+00 3.e+03 1.e+00]\n",
      " [1.e+00 1.e+00 0.e+00 1.e+01 1.e+00 3.e+03 1.e+00]\n",
      " [0.e+00 0.e+00 0.e+00 5.e+00 1.e+00 0.e+00 0.e+00]\n",
      " [1.e+00 0.e+00 1.e+00 6.e+00 1.e+00 0.e+00 1.e+00]\n",
      " [1.e+00 1.e+00 1.e+00 1.e+01 1.e+00 1.e+03 1.e+00]\n",
      " [1.e+00 0.e+00 0.e+00 3.e+00 0.e+00 1.e+03 0.e+00]\n",
      " [1.e+00 1.e+00 0.e+00 1.e+01 1.e+00 3.e+03 1.e+00]\n",
      " [1.e+00 1.e+00 1.e+00 1.e+01 1.e+00 2.e+03 1.e+00]\n",
      " [0.e+00 0.e+00 0.e+00 5.e+00 1.e+00 0.e+00 0.e+00]\n",
      " [1.e+00 0.e+00 1.e+00 6.e+00 1.e+00 0.e+00 1.e+00]\n",
      " [1.e+00 0.e+00 1.e+00 1.e+01 1.e+00 3.e+03 1.e+00]\n",
      " [1.e+00 1.e+00 0.e+00 7.e+00 1.e+00 0.e+00 0.e+00]\n",
      " [0.e+00 0.e+00 1.e+00 1.e+01 1.e+00 1.e+03 0.e+00]\n",
      " [1.e+00 1.e+00 1.e+00 1.e+01 1.e+00 3.e+03 1.e+00]\n",
      " [0.e+00 0.e+00 0.e+00 5.e+00 1.e+00 0.e+00 0.e+00]\n",
      " [1.e+00 0.e+00 1.e+00 6.e+00 1.e+00 0.e+00 1.e+00]\n",
      " [1.e+00 1.e+00 1.e+00 1.e+01 1.e+00 0.e+00 0.e+00]\n",
      " [1.e+00 1.e+00 1.e+00 1.e+01 1.e+00 0.e+00 1.e+00]\n",
      " [1.e+00 0.e+00 1.e+00 1.e+01 1.e+00 3.e+03 1.e+00]\n",
      " [1.e+00 0.e+00 0.e+00 0.e+00 0.e+00 1.e+03 0.e+00]\n",
      " [0.e+00 0.e+00 0.e+00 5.e+00 1.e+00 0.e+00 0.e+00]\n",
      " [1.e+00 0.e+00 1.e+00 6.e+00 1.e+00 0.e+00 1.e+00]\n",
      " [1.e+00 1.e+00 1.e+00 1.e+01 1.e+00 3.e+03 1.e+00]\n",
      " [1.e+00 0.e+00 1.e+00 2.e+00 1.e+00 3.e+03 0.e+00]\n",
      " [0.e+00 1.e+00 1.e+00 1.e+01 1.e+00 2.e+03 1.e+00]\n",
      " [1.e+00 0.e+00 1.e+00 8.e+00 1.e+00 1.e+03 1.e+00]\n",
      " [0.e+00 0.e+00 0.e+00 5.e+00 1.e+00 0.e+00 0.e+00]\n",
      " [1.e+00 0.e+00 1.e+00 6.e+00 1.e+00 0.e+00 1.e+00]\n",
      " [1.e+00 1.e+00 1.e+00 1.e+01 1.e+00 1.e+03 1.e+00]\n",
      " [0.e+00 0.e+00 0.e+00 1.e+01 1.e+00 1.e+03 0.e+00]\n",
      " [0.e+00 0.e+00 1.e+00 5.e+00 1.e+00 3.e+03 0.e+00]\n",
      " [1.e+00 1.e+00 0.e+00 1.e+01 1.e+00 3.e+03 1.e+00]\n",
      " [0.e+00 0.e+00 0.e+00 5.e+00 1.e+00 0.e+00 0.e+00]\n",
      " [1.e+00 0.e+00 1.e+00 6.e+00 1.e+00 0.e+00 1.e+00]\n",
      " [1.e+00 1.e+00 1.e+00 1.e+01 1.e+00 1.e+03 1.e+00]\n",
      " [0.e+00 1.e+00 1.e+00 3.e+00 0.e+00 1.e+03 0.e+00]\n",
      " [1.e+00 1.e+00 0.e+00 7.e+00 1.e+00 3.e+03 1.e+00]\n",
      " [1.e+00 1.e+00 1.e+00 7.e+00 1.e+00 2.e+03 1.e+00]\n",
      " [0.e+00 0.e+00 0.e+00 5.e+00 1.e+00 0.e+00 0.e+00]\n",
      " [1.e+00 0.e+00 1.e+00 6.e+00 1.e+00 0.e+00 1.e+00]\n",
      " [1.e+00 0.e+00 1.e+00 1.e+01 1.e+00 2.e+03 1.e+00]\n",
      " [1.e+00 1.e+00 0.e+00 7.e+00 1.e+00 0.e+00 0.e+00]\n",
      " [0.e+00 0.e+00 1.e+00 1.e+01 1.e+00 1.e+03 0.e+00]\n",
      " [1.e+00 1.e+00 1.e+00 1.e+01 1.e+00 3.e+03 1.e+00]\n",
      " [1.e+01 0.e+00 0.e+00 5.e+00 1.e+00 0.e+00 0.e+00]\n",
      " [1.e+00 0.e+00 1.e+00 6.e+00 1.e+00 0.e+00 1.e+00]\n",
      " [1.e+00 1.e+00 1.e+00 1.e+01 1.e+00 0.e+00 1.e+00]\n",
      " [1.e+00 1.e+00 1.e+00 1.e+01 1.e+00 0.e+00 1.e+00]\n",
      " [1.e+00 0.e+00 1.e+00 1.e+01 1.e+00 3.e+03 1.e+00]\n",
      " [1.e+00 0.e+00 0.e+00 0.e+00 0.e+00 3.e+03 0.e+00]\n",
      " [0.e+00 0.e+00 0.e+00 5.e+00 1.e+00 0.e+00 0.e+00]\n",
      " [1.e+00 0.e+00 1.e+00 6.e+00 1.e+00 0.e+00 1.e+00]\n",
      " [1.e+00 1.e+00 1.e+00 1.e+01 1.e+00 3.e+03 1.e+00]\n",
      " [1.e+00 0.e+00 1.e+00 2.e+00 1.e+00 1.e+03 0.e+00]\n",
      " [0.e+00 1.e+00 1.e+00 1.e+01 1.e+00 3.e+03 1.e+00]\n",
      " [1.e+00 0.e+00 1.e+00 1.e+01 1.e+00 3.e+03 1.e+00]\n",
      " [0.e+00 0.e+00 0.e+00 5.e+00 1.e+00 0.e+00 0.e+00]\n",
      " [1.e+00 0.e+00 1.e+00 6.e+00 1.e+00 0.e+00 1.e+00]\n",
      " [1.e+00 1.e+00 1.e+00 1.e+01 1.e+00 1.e+03 1.e+00]\n",
      " [0.e+00 0.e+00 0.e+00 5.e+00 1.e+00 1.e+03 0.e+00]\n",
      " [1.e+00 0.e+00 1.e+00 1.e+01 1.e+00 3.e+03 1.e+00]\n",
      " [1.e+00 1.e+00 0.e+00 1.e+01 1.e+00 3.e+03 1.e+00]\n",
      " [0.e+00 0.e+00 0.e+00 5.e+00 1.e+00 0.e+00 0.e+00]\n",
      " [1.e+00 0.e+00 1.e+00 6.e+00 1.e+00 0.e+00 1.e+00]\n",
      " [1.e+00 1.e+00 1.e+00 1.e+01 1.e+00 1.e+03 1.e+00]\n",
      " [1.e+00 1.e+00 1.e+00 1.e+01 0.e+00 1.e+03 1.e+00]\n",
      " [1.e+00 0.e+00 0.e+00 1.e+00 0.e+00 1.e+03 0.e+00]\n",
      " [1.e+00 1.e+00 1.e+00 1.e+01 1.e+00 2.e+03 1.e+00]\n",
      " [0.e+00 0.e+00 0.e+00 5.e+00 1.e+00 0.e+00 0.e+00]\n",
      " [1.e+00 0.e+00 1.e+00 6.e+00 1.e+00 0.e+00 1.e+00]\n",
      " [1.e+00 0.e+00 1.e+00 1.e+01 1.e+00 3.e+03 1.e+00]\n",
      " [1.e+00 1.e+00 0.e+00 5.e+00 1.e+00 0.e+00 0.e+00]\n",
      " [0.e+00 0.e+00 1.e+00 5.e+00 1.e+00 1.e+03 0.e+00]\n",
      " [1.e+00 1.e+00 1.e+00 1.e+01 1.e+00 3.e+03 1.e+00]\n",
      " [1.e+00 1.e+00 1.e+00 1.e+01 1.e+00 1.e+03 1.e+00]\n",
      " [0.e+00 0.e+00 1.e+00 5.e+00 0.e+00 1.e+03 0.e+00]\n",
      " [1.e+00 1.e+00 1.e+00 1.e+01 1.e+00 3.e+03 1.e+00]\n",
      " [1.e+00 1.e+00 1.e+00 1.e+01 1.e+00 2.e+03 1.e+00]\n",
      " [0.e+00 0.e+00 0.e+00 5.e+00 1.e+00 0.e+00 0.e+00]\n",
      " [1.e+00 0.e+00 1.e+00 6.e+00 1.e+00 0.e+00 1.e+00]\n",
      " [1.e+00 1.e+00 1.e+00 1.e+01 1.e+00 3.e+03 1.e+00]\n",
      " [1.e+00 1.e+00 0.e+00 7.e+00 1.e+00 0.e+00 0.e+00]\n",
      " [0.e+00 0.e+00 1.e+00 5.e+00 1.e+00 1.e+03 0.e+00]\n",
      " [1.e+00 1.e+00 1.e+00 1.e+01 1.e+00 3.e+03 1.e+00]]\n"
     ]
    }
   ],
   "source": [
    "# 데이터 준비\n",
    "data = np.loadtxt('./country1.csv', delimiter=',', dtype=np.float64, skiprows=1)\n",
    "print(type(data))\n",
    "print(data.shape)\n",
    "print(data)"
   ]
  },
  {
   "cell_type": "code",
   "execution_count": 8,
   "metadata": {},
   "outputs": [
    {
     "name": "stdout",
     "output_type": "stream",
     "text": [
      "[[ 0.  0.  0.  5.  1.  0.]\n",
      " [ 1.  0.  1.  6.  1.  0.]\n",
      " [ 1.  1.  1. 10.  1.  0.]]\n",
      "[0. 1. 1.]\n"
     ]
    }
   ],
   "source": [
    "X = data[:, :6]\n",
    "print(X[:3])\n",
    "Y = data[:, 6]\n",
    "print(Y[:3])"
   ]
  },
  {
   "cell_type": "code",
   "execution_count": 9,
   "metadata": {
    "colab": {
     "base_uri": "https://localhost:8080/"
    },
    "executionInfo": {
     "elapsed": 28,
     "status": "ok",
     "timestamp": 1659768416120,
     "user": {
      "displayName": "강사엄기흥",
      "userId": "12410353940363031053"
     },
     "user_tz": -540
    },
    "id": "Coy8S3I7unAL",
    "outputId": "9492e96c-e7c0-4072-9a55-a4b97aa8ac13"
   },
   "outputs": [
    {
     "name": "stdout",
     "output_type": "stream",
     "text": [
      "(90, 6)\n",
      "(10, 6)\n",
      "(90,)\n",
      "(10,)\n"
     ]
    }
   ],
   "source": [
    "# 훈련용 + 검증용: 90 건\n",
    "# 데이터 분할\n",
    "# 훈련: 90%(훈련: 80%, 검증: 20%), 검증: 10%\n",
    "x_train, x_test, y_train, y_test, = train_test_split(X, Y, test_size=0.1, shuffle=True)\n",
    "print(x_train.shape)    # 훈련+검증 1314개, 9개 컬럼(독립변수)\n",
    "print(x_test.shape)     # 테스트 146개, 9개 컬럼(독립변수)\n",
    "print(y_train.shape)    # 훈련+검증 1314개, 1개 컬럼(종속변수) -> SalePrice\n",
    "print(y_test.shape)     # 테스트 146개, 1개 컬럼(종속변수) -> SalePrice\n",
    "# 테스트용: 10 건\n"
   ]
  },
  {
   "cell_type": "code",
   "execution_count": 15,
   "metadata": {
    "colab": {
     "base_uri": "https://localhost:8080/"
    },
    "executionInfo": {
     "elapsed": 3557,
     "status": "ok",
     "timestamp": 1659768419655,
     "user": {
      "displayName": "강사엄기흥",
      "userId": "12410353940363031053"
     },
     "user_tz": -540
    },
    "id": "3mARfxQNu_qy",
    "outputId": "09e897e8-b4a3-4914-cf8d-d264c22f45b2"
   },
   "outputs": [
    {
     "name": "stdout",
     "output_type": "stream",
     "text": [
      "Model: \"sequential_2\"\n",
      "_________________________________________________________________\n",
      " Layer (type)                Output Shape              Param #   \n",
      "=================================================================\n",
      " layer1 (Dense)              (None, 300)               2100      \n",
      "                                                                 \n",
      " layer2 (Dense)              (None, 200)               60200     \n",
      "                                                                 \n",
      " layer3 (Dense)              (None, 100)               20100     \n",
      "                                                                 \n",
      " layer4 (Dense)              (None, 50)                5050      \n",
      "                                                                 \n",
      " layer5 (Dense)              (None, 1)                 51        \n",
      "                                                                 \n",
      "=================================================================\n",
      "Total params: 87,501\n",
      "Trainable params: 87,501\n",
      "Non-trainable params: 0\n",
      "_________________________________________________________________\n",
      "Epoch 1/1000\n",
      "1/8 [==>...........................] - ETA: 2s - loss: 28.8661 - accuracy: 0.5000\n",
      "Epoch 1: val_accuracy improved from -inf to 0.61111, saving model to ./model\\001-0.6111.h5\n",
      "8/8 [==============================] - 1s 31ms/step - loss: 8.7786 - accuracy: 0.5694 - val_loss: 2.7317 - val_accuracy: 0.6111\n",
      "Epoch 2/1000\n",
      "1/8 [==>...........................] - ETA: 0s - loss: 3.1518 - accuracy: 0.6000\n",
      "Epoch 2: val_accuracy did not improve from 0.61111\n",
      "8/8 [==============================] - 0s 7ms/step - loss: 2.1675 - accuracy: 0.6528 - val_loss: 5.3617 - val_accuracy: 0.3889\n",
      "Epoch 3/1000\n",
      "1/8 [==>...........................] - ETA: 0s - loss: 8.7003 - accuracy: 0.3000\n",
      "Epoch 3: val_accuracy did not improve from 0.61111\n",
      "8/8 [==============================] - 0s 7ms/step - loss: 4.8086 - accuracy: 0.6111 - val_loss: 12.1926 - val_accuracy: 0.4444\n",
      "Epoch 4/1000\n",
      "1/8 [==>...........................] - ETA: 0s - loss: 11.0045 - accuracy: 0.3000\n",
      "Epoch 4: val_accuracy improved from 0.61111 to 0.72222, saving model to ./model\\004-0.7222.h5\n",
      "8/8 [==============================] - 0s 12ms/step - loss: 5.2933 - accuracy: 0.5694 - val_loss: 1.8138 - val_accuracy: 0.7222\n",
      "Epoch 5/1000\n",
      "1/8 [==>...........................] - ETA: 0s - loss: 5.5664 - accuracy: 0.6000\n",
      "Epoch 5: val_accuracy improved from 0.72222 to 0.77778, saving model to ./model\\005-0.7778.h5\n",
      "8/8 [==============================] - 0s 12ms/step - loss: 2.8972 - accuracy: 0.7639 - val_loss: 2.8506 - val_accuracy: 0.7778\n",
      "Epoch 6/1000\n",
      "1/8 [==>...........................] - ETA: 0s - loss: 3.3479 - accuracy: 0.8000\n",
      "Epoch 6: val_accuracy did not improve from 0.77778\n",
      "8/8 [==============================] - 0s 8ms/step - loss: 3.0856 - accuracy: 0.7083 - val_loss: 2.1863 - val_accuracy: 0.7222\n",
      "Epoch 7/1000\n",
      "1/8 [==>...........................] - ETA: 0s - loss: 8.2322 - accuracy: 0.5000\n",
      "Epoch 7: val_accuracy improved from 0.77778 to 0.83333, saving model to ./model\\007-0.8333.h5\n",
      "8/8 [==============================] - 0s 12ms/step - loss: 3.5868 - accuracy: 0.6806 - val_loss: 3.1112 - val_accuracy: 0.8333\n"
     ]
    }
   ],
   "source": [
    "# 네트워크 설계\n",
    "# node, epoch, batch_size\n",
    "SEED = 0\n",
    "os.environ['PYTHONHASHSEED'] = str(SEED)\n",
    "os.environ['TF_DETERMINISTIC_OPS'] = '1'\n",
    "\n",
    "tf.random.set_seed(SEED) # Global seed\n",
    "np.random.seed(SEED)\n",
    "random.seed(SEED)\n",
    "\n",
    "model = Sequential()\n",
    "\n",
    "model.add(Dense(300, input_dim=6, activation='relu', name = 'layer1'))\n",
    "model.add(Dense(200, activation='relu', name = 'layer2'))\n",
    "model.add(Dense(100, activation='relu', name = 'layer3'))\n",
    "model.add(Dense(50, activation='relu', name = 'layer4'))\n",
    "model.add(Dense(1, activation='sigmoid', name = 'layer5'))\n",
    "model.compile(optimizer=Adam(lr=0.001), loss='binary_crossentropy', metrics=['accuracy']) \n",
    "model.summary()\n",
    "\n",
    "# patience=5: 손실이 5번 늘어날때까지 훈련을 계속, 5번째 종료\n",
    "# restore_best_weights=True: 가중치를 가장 오차가 적었던 경우로 저장\n",
    "es = EarlyStopping(monitor='loss', patience=5, restore_best_weights=True)\n",
    "\n",
    "MODEL_DIR = './model/'\n",
    "if not os.path.exists(MODEL_DIR): # 폴더가 존재하지 않으면 생성\n",
    "    os.mkdir(MODEL_DIR) # 폴더 생성\n",
    "\n",
    "# 03d: 좌측 0 padding 정수 3자리, .4f: 실수 소수점 4자리 \n",
    "modelpath='./model/{epoch:03d}-{val_accuracy:.4f}.h5'  \n",
    "# epoch:03d: 부족한 자리를 0으로 채우는 정수 형식\n",
    "# val_accuracy:.4f: 소수이하 4째자리까지 표현 형식\n",
    "\n",
    "# 검증 정확도가 개선되었을 때만 학습 모델 파일로 저장\n",
    "# filepath=modelpath: 파일이 저장되는 경로와 파일명\n",
    "# monitor='val_accuracy': 검증 정확도 기준으로 판단\n",
    "# verbose=1: 기록되는 파일 정보 출력\n",
    "# save_best_only=True: 검증 정확도가 개선되면 파일로 저장\n",
    "mcp= ModelCheckpoint(filepath=modelpath,\n",
    "                    monitor='val_accuracy',\n",
    "                    verbose=1, save_best_only=True)\n",
    "\n",
    "hist = model.fit(x_train, y_train, \n",
    "                    validation_split=0.2, shuffle=True, \n",
    "                    epochs=1000, batch_size=10 , callbacks=[es, mcp])"
   ]
  },
  {
   "cell_type": "code",
   "execution_count": 16,
   "metadata": {
    "colab": {
     "base_uri": "https://localhost:8080/",
     "height": 0
    },
    "executionInfo": {
     "elapsed": 2128,
     "status": "ok",
     "timestamp": 1659768421777,
     "user": {
      "displayName": "강사엄기흥",
      "userId": "12410353940363031053"
     },
     "user_tz": -540
    },
    "id": "NC5QdulG3xrr",
    "outputId": "85a4868d-00b8-4cbd-ea19-f88ef776c186"
   },
   "outputs": [
    {
     "data": {
      "image/png": "[encoded data removed]",
      "text/plain": [
       "<Figure size 1000x500 with 2 Axes>"
      ]
     },
     "metadata": {},
     "output_type": "display_data"
    }
   ],
   "source": [
    "fig, loss_ax = plt.subplots()\n",
    "# plt.figure(figsize=(6,4)) # ERROR\n",
    "fig.set_size_inches(10, 5)  # 챠트 크기 설정\n",
    "\n",
    "acc_ax = loss_ax.twinx()  # 오른쪽 y 출 설정\n",
    "\n",
    "loss_ax.plot(hist.history['loss'], 'y', label='train loss')   # 훈련 손실\n",
    "loss_ax.plot(hist.history['val_loss'], 'r', label='val loss') # 검증 손실, 학습의 우수성 평가 척도\n",
    "loss_ax.set_ylim([0.0, 28.8661]) # 왼쪽 y 축, 값을 반영하여 변경\n",
    "\n",
    "acc_ax.plot(hist.history['accuracy'], 'b', label='train accuracy')   # 훈련 정확도\n",
    "acc_ax.plot(hist.history['val_accuracy'], 'g', label='val accuracy') # 검증 정확도\n",
    "acc_ax.set_ylim([0.0, 1.0])  # 오른쪽 y 축, 0 ~100 %를 의미\n",
    "\n",
    "loss_ax.set_xlabel('epoch')  # x축 레이블\n",
    "loss_ax.set_ylabel('loss')     # 왼쪽 y 레이블\n",
    "acc_ax.set_ylabel('accuray') # 오른쪽 y 레이블\n",
    "\n",
    "loss_ax.legend(loc='upper left')  # 좌측 y 축 기준 범례 위치 설정\n",
    "acc_ax.legend(loc='lower left')   # 우측 y 축 기준 범례 위치 설정\n",
    "\n",
    "plt.show()"
   ]
  },
  {
   "cell_type": "code",
   "execution_count": 14,
   "metadata": {
    "colab": {
     "base_uri": "https://localhost:8080/"
    },
    "executionInfo": {
     "elapsed": 449,
     "status": "ok",
     "timestamp": 1659768422216,
     "user": {
      "displayName": "강사엄기흥",
      "userId": "12410353940363031053"
     },
     "user_tz": -540
    },
    "id": "b-juTWEI3yjw",
    "outputId": "3f31b4f8-0e0d-4720-be41-bbfd77e04a3f"
   },
   "outputs": [
    {
     "name": "stdout",
     "output_type": "stream",
     "text": [
      "손실값: 4.792194366455078 /정확도: 40.00000059604645 %\n"
     ]
    }
   ],
   "source": [
    "test_loss, test_acc = model.evaluate(x_test, y_test, batch_size=1, verbose=0)\n",
    "print('손실값:', test_loss, '/정확도:', (test_acc*100), '%')"
   ]
  },
  {
   "cell_type": "code",
   "execution_count": null,
   "metadata": {
    "executionInfo": {
     "elapsed": 5,
     "status": "ok",
     "timestamp": 1659768422217,
     "user": {
      "displayName": "강사엄기흥",
      "userId": "12410353940363031053"
     },
     "user_tz": -540
    },
    "id": "HQbcEMiZ4JmP"
   },
   "outputs": [],
   "source": []
  }
 ],
 "metadata": {
  "colab": {
   "authorship_tag": "ABX9TyMmkfdzqE+BpogNqeFKnpzb",
   "collapsed_sections": [],
   "mount_file_id": "1BjEzM3j3vrLSXXzruBO2BfN11QD-kDhJ",
   "name": "Country1.ipynb",
   "provenance": []
  },
  "kernelspec": {
   "display_name": "ai",
   "language": "python",
   "name": "ai"
  },
  "language_info": {
   "codemirror_mode": {
    "name": "ipython",
    "version": 3
   },
   "file_extension": ".py",
   "mimetype": "text/x-python",
   "name": "python",
   "nbconvert_exporter": "python",
   "pygments_lexer": "ipython3",
   "version": "3.9.16"
  }
 },
 "nbformat": 4,
 "nbformat_minor": 1
}
