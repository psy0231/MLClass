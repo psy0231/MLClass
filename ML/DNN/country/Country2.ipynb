{
 "cells": [
  {
   "attachments": {},
   "cell_type": "markdown",
   "metadata": {
    "id": "Bj4nkZ_xt0EJ"
   },
   "source": [
    "### 이항 분류, CPU\n",
    "#### 표준화하지 않은 데이터 사용: country2.csv"
   ]
  },
  {
   "cell_type": "code",
   "execution_count": 1,
   "metadata": {
    "executionInfo": {
     "elapsed": 595,
     "status": "ok",
     "timestamp": 1659768283180,
     "user": {
      "displayName": "강사엄기흥",
      "userId": "12410353940363031053"
     },
     "user_tz": -540
    },
    "id": "igcNLT6MtsXw"
   },
   "outputs": [],
   "source": [
    "import warnings\n",
    "warnings.filterwarnings(action='ignore')\n",
    "\n",
    "import os\n",
    "import time\n",
    "# import cv2\n",
    "import random\n",
    "\n",
    "import numpy as np\n",
    "import pandas as pd\n",
    "import seaborn as sb\n",
    "import tensorflow as tf\n",
    "\n",
    "from tensorflow.keras.models import Sequential  # class\n",
    "from tensorflow.keras.models import load_model  # model 사용\n",
    "from tensorflow.keras.layers import Dense       # 전결합\n",
    "from tensorflow.keras.layers import Dropout     # 특정 node를 사용안함.\n",
    "from tensorflow.keras.layers import Conv2D\n",
    "from tensorflow.keras.layers import MaxPooling2D\n",
    "from tensorflow.keras.layers import Flatten\n",
    "\n",
    "from tensorflow.keras.callbacks import EarlyStopping   # 학습 자동 중지\n",
    "from tensorflow.keras.callbacks import ModelCheckpoint # 우수한 학습 모델 파일 저장\n",
    "from tensorflow.keras import regularizers \n",
    "from tensorflow.keras.utils import to_categorical   # one-hot 엔코딩\n",
    "from tensorflow.keras.optimizers import Adam\n",
    "\n",
    "from tensorflow.keras.datasets import mnist\n",
    "\n",
    "from sklearn.preprocessing import LabelEncoder\n",
    "from sklearn.model_selection import train_test_split # 학습셋과 테스트셋의 분리 지원\n",
    "from sklearn.model_selection import StratifiedKFold  # K겹 교차 검증\n",
    "\n",
    "from PIL import Image\n",
    "\n",
    "import matplotlib.pyplot as plt\n",
    "import seaborn as sb\n",
    "from matplotlib import font_manager, rc\n",
    "\n",
    "import platform \n",
    "# Windows, Linux, Darwin\n",
    "if (platform.system() == 'Windows'):  \n",
    "    rc('font', family=font_manager.FontProperties(fname=\"C:/Windows/Fonts/malgun.ttf\").get_name())\n",
    "    path = '.' # Local\n",
    "else:    \n",
    "    rc('font', family='NanumBarunGothic')  # Ubuntu 18.04 기준 한글 처리\n",
    "    path = '/content/drive/My Drive/kd_ml/dnn/country' # Colab\n",
    "\n",
    "os.chdir(path) # 기본 경로 설정\n",
    "\n",
    "plt.rcParams[\"font.size\"] = 12         # 글자 크기\n",
    "# plt.rcParams[\"figure.figsize\"] = (10, 4) # 10:4의 그래프 비율\n",
    "plt.rcParams['axes.unicode_minus'] = False  # minus 부호는 unicode 적용시 한글이 깨짐으로 설정\n",
    "\n",
    "%matplotlib inline\n",
    "\n",
    "# ---------------------------------------------------------------------\n",
    "# gpu 사용시 런타임에서 필요한 양만큼의 GPU 메모리를 할당후 자동 증가 처리\n",
    "# OS 메모리도 초기화됨.\n",
    "# ---------------------------------------------------------------------\n",
    "import tensorflow as tf\n",
    "\n",
    "gpus = tf.config.experimental.list_physical_devices('GPU')\n",
    "if gpus:\n",
    "    try:\n",
    "        tf.config.experimental.set_memory_growth(gpus[0], True)\n",
    "    except RuntimeError as e:\n",
    "        # 프로그램 시작시에 메모리 증가가 설정되어야만 합니다\n",
    "        print(e)\n",
    "    \n",
    "# ---------------------------------------------------------------------"
   ]
  },
  {
   "cell_type": "code",
   "execution_count": 2,
   "metadata": {
    "colab": {
     "base_uri": "https://localhost:8080/"
    },
    "executionInfo": {
     "elapsed": 819,
     "status": "ok",
     "timestamp": 1659768283997,
     "user": {
      "displayName": "강사엄기흥",
      "userId": "12410353940363031053"
     },
     "user_tz": -540
    },
    "id": "lm--BrExuA0f",
    "outputId": "db98353e-c957-4356-fbb3-ea27d558ccec"
   },
   "outputs": [
    {
     "name": "stdout",
     "output_type": "stream",
     "text": [
      "<class 'numpy.ndarray'>\n",
      "(100, 7)\n",
      "[[ 0.  0.  0.  5.  1.  0.  0.]\n",
      " [ 1.  0.  1.  6.  1.  0.  1.]\n",
      " [ 1.  1.  1. 10.  1.  0.  1.]\n",
      " [ 0.  0.  0. 10.  1.  0.  0.]\n",
      " [ 1.  0.  1. 10.  1.  2.  1.]\n",
      " [ 1.  0.  0.  0.  0.  1.  0.]\n",
      " [ 0.  0.  0.  5.  1.  0.  0.]\n",
      " [ 1.  0.  1.  6.  1.  0.  1.]\n",
      " [ 1.  1.  1. 10.  1.  3.  1.]\n",
      " [ 1.  0.  1.  2.  1.  1.  0.]\n",
      " [ 0.  1.  1. 10.  1.  3.  1.]\n",
      " [ 1.  0.  1. 10.  1.  3.  1.]\n",
      " [ 0.  0.  0.  5.  1.  0.  0.]\n",
      " [ 1.  0.  1.  6.  1.  0.  1.]\n",
      " [ 1.  1.  1. 10.  1.  1.  1.]\n",
      " [ 0.  0.  0. 10.  1.  1.  0.]\n",
      " [ 1.  0.  1. 10.  1.  3.  1.]\n",
      " [ 1.  1.  0. 10.  1.  3.  1.]\n",
      " [ 0.  0.  0.  5.  1.  0.  0.]\n",
      " [ 1.  0.  1.  6.  1.  0.  1.]\n",
      " [ 1.  1.  1. 10.  1.  1.  1.]\n",
      " [ 1.  0.  0.  3.  0.  1.  0.]\n",
      " [ 1.  1.  0. 10.  1.  3.  1.]\n",
      " [ 1.  1.  1. 10.  1.  2.  1.]\n",
      " [ 0.  0.  0.  5.  1.  0.  0.]\n",
      " [ 1.  0.  1.  6.  1.  0.  1.]\n",
      " [ 1.  0.  1. 10.  1.  3.  1.]\n",
      " [ 1.  1.  0.  7.  1.  0.  0.]\n",
      " [ 0.  0.  1. 10.  1.  1.  0.]\n",
      " [ 1.  1.  1. 10.  1.  3.  1.]\n",
      " [ 0.  0.  0.  5.  1.  0.  0.]\n",
      " [ 1.  0.  1.  6.  1.  0.  1.]\n",
      " [ 1.  1.  1. 10.  1.  0.  0.]\n",
      " [ 1.  1.  1. 10.  1.  0.  1.]\n",
      " [ 1.  0.  1. 10.  1.  3.  1.]\n",
      " [ 1.  0.  0.  0.  0.  1.  0.]\n",
      " [ 0.  0.  0.  5.  1.  0.  0.]\n",
      " [ 1.  0.  1.  6.  1.  0.  1.]\n",
      " [ 1.  1.  1. 10.  1.  3.  1.]\n",
      " [ 1.  0.  1.  2.  1.  3.  0.]\n",
      " [ 0.  1.  1. 10.  1.  2.  1.]\n",
      " [ 1.  0.  1.  8.  1.  1.  1.]\n",
      " [ 0.  0.  0.  5.  1.  0.  0.]\n",
      " [ 1.  0.  1.  6.  1.  0.  1.]\n",
      " [ 1.  1.  1. 10.  1.  1.  1.]\n",
      " [ 0.  0.  0. 10.  1.  1.  0.]\n",
      " [ 0.  0.  1.  5.  1.  3.  0.]\n",
      " [ 1.  1.  0. 10.  1.  3.  1.]\n",
      " [ 0.  0.  0.  5.  1.  0.  0.]\n",
      " [ 1.  0.  1.  6.  1.  0.  1.]\n",
      " [ 1.  1.  1. 10.  1.  1.  1.]\n",
      " [ 0.  1.  1.  3.  0.  1.  0.]\n",
      " [ 1.  1.  0.  7.  1.  3.  1.]\n",
      " [ 1.  1.  1.  7.  1.  2.  1.]\n",
      " [ 0.  0.  0.  5.  1.  0.  0.]\n",
      " [ 1.  0.  1.  6.  1.  0.  1.]\n",
      " [ 1.  0.  1. 10.  1.  2.  1.]\n",
      " [ 1.  1.  0.  7.  1.  0.  0.]\n",
      " [ 0.  0.  1. 10.  1.  1.  0.]\n",
      " [ 1.  1.  1. 10.  1.  3.  1.]\n",
      " [10.  0.  0.  5.  1.  0.  0.]\n",
      " [ 1.  0.  1.  6.  1.  0.  1.]\n",
      " [ 1.  1.  1. 10.  1.  0.  1.]\n",
      " [ 1.  1.  1. 10.  1.  0.  1.]\n",
      " [ 1.  0.  1. 10.  1.  3.  1.]\n",
      " [ 1.  0.  0.  0.  0.  3.  0.]\n",
      " [ 0.  0.  0.  5.  1.  0.  0.]\n",
      " [ 1.  0.  1.  6.  1.  0.  1.]\n",
      " [ 1.  1.  1. 10.  1.  3.  1.]\n",
      " [ 1.  0.  1.  2.  1.  1.  0.]\n",
      " [ 0.  1.  1. 10.  1.  3.  1.]\n",
      " [ 1.  0.  1. 10.  1.  3.  1.]\n",
      " [ 0.  0.  0.  5.  1.  0.  0.]\n",
      " [ 1.  0.  1.  6.  1.  0.  1.]\n",
      " [ 1.  1.  1. 10.  1.  1.  1.]\n",
      " [ 0.  0.  0.  5.  1.  1.  0.]\n",
      " [ 1.  0.  1. 10.  1.  3.  1.]\n",
      " [ 1.  1.  0. 10.  1.  3.  1.]\n",
      " [ 0.  0.  0.  5.  1.  0.  0.]\n",
      " [ 1.  0.  1.  6.  1.  0.  1.]\n",
      " [ 1.  1.  1. 10.  1.  1.  1.]\n",
      " [ 1.  1.  1. 10.  0.  1.  1.]\n",
      " [ 1.  0.  0.  1.  0.  1.  0.]\n",
      " [ 1.  1.  1. 10.  1.  2.  1.]\n",
      " [ 0.  0.  0.  5.  1.  0.  0.]\n",
      " [ 1.  0.  1.  6.  1.  0.  1.]\n",
      " [ 1.  0.  1. 10.  1.  3.  1.]\n",
      " [ 1.  1.  0.  5.  1.  0.  0.]\n",
      " [ 0.  0.  1.  5.  1.  1.  0.]\n",
      " [ 1.  1.  1. 10.  1.  3.  1.]\n",
      " [ 1.  1.  1. 10.  1.  1.  1.]\n",
      " [ 0.  0.  1.  5.  0.  1.  0.]\n",
      " [ 1.  1.  1. 10.  1.  3.  1.]\n",
      " [ 1.  1.  1. 10.  1.  2.  1.]\n",
      " [ 0.  0.  0.  5.  1.  0.  0.]\n",
      " [ 1.  0.  1.  6.  1.  0.  1.]\n",
      " [ 1.  1.  1. 10.  1.  3.  1.]\n",
      " [ 1.  1.  0.  7.  1.  0.  0.]\n",
      " [ 0.  0.  1.  5.  1.  1.  0.]\n",
      " [ 1.  1.  1. 10.  1.  3.  1.]]\n"
     ]
    }
   ],
   "source": [
    "# 데이터 준비\n",
    "data = np.loadtxt('./country2.csv', delimiter=',', dtype=np.float64, skiprows=1)\n",
    "print(type(data))\n",
    "print(data.shape)\n",
    "print(data)"
   ]
  },
  {
   "cell_type": "code",
   "execution_count": 4,
   "metadata": {
    "colab": {
     "base_uri": "https://localhost:8080/"
    },
    "executionInfo": {
     "elapsed": 7,
     "status": "ok",
     "timestamp": 1659768283998,
     "user": {
      "displayName": "강사엄기흥",
      "userId": "12410353940363031053"
     },
     "user_tz": -540
    },
    "id": "Coy8S3I7unAL",
    "outputId": "fd056dcd-5f46-44d0-9418-779fe551dfd6"
   },
   "outputs": [
    {
     "name": "stdout",
     "output_type": "stream",
     "text": [
      "[[ 0.  0.  0.  5.  1.  0.]\n",
      " [ 1.  0.  1.  6.  1.  0.]\n",
      " [ 1.  1.  1. 10.  1.  0.]]\n",
      "[0. 1. 1.]\n",
      "(90, 6)\n",
      "(10, 6)\n",
      "(90,)\n",
      "(10,)\n"
     ]
    }
   ],
   "source": [
    "# 데이터가 정렬이 안된경우 사용 가능\n",
    "# 훈련용 + 검증용: 90 건\n",
    "X = data[:, :6]\n",
    "print(X[:3])\n",
    "Y = data[:, 6]\n",
    "print(Y[:3])\n",
    "# 테스트용: 10 건\n",
    "\n",
    "x_train, x_test, y_train, y_test, = train_test_split(X, Y, test_size=0.1, shuffle=True)\n",
    "print(x_train.shape)    # 훈련+검증 1314개, 9개 컬럼(독립변수)\n",
    "print(x_test.shape)     # 테스트 146개, 9개 컬럼(독립변수)\n",
    "print(y_train.shape)    # 훈련+검증 1314개, 1개 컬럼(종속변수) -> SalePrice\n",
    "print(y_test.shape)     # 테스트 146개, 1개 컬럼(종속변수) -> SalePrice\n",
    "\n"
   ]
  },
  {
   "cell_type": "code",
   "execution_count": 6,
   "metadata": {
    "colab": {
     "base_uri": "https://localhost:8080/"
    },
    "executionInfo": {
     "elapsed": 11365,
     "status": "ok",
     "timestamp": 1659768295360,
     "user": {
      "displayName": "강사엄기흥",
      "userId": "12410353940363031053"
     },
     "user_tz": -540
    },
    "id": "3mARfxQNu_qy",
    "outputId": "e882db7d-3824-4e75-b369-78a5f3116522"
   },
   "outputs": [
    {
     "name": "stdout",
     "output_type": "stream",
     "text": [
      "Model: \"sequential_1\"\n",
      "_________________________________________________________________\n",
      " Layer (type)                Output Shape              Param #   \n",
      "=================================================================\n",
      " layer1 (Dense)              (None, 300)               2100      \n",
      "                                                                 \n",
      " layer2 (Dense)              (None, 200)               60200     \n",
      "                                                                 \n",
      " layer3 (Dense)              (None, 100)               20100     \n",
      "                                                                 \n",
      " layer4 (Dense)              (None, 50)                5050      \n",
      "                                                                 \n",
      " layer5 (Dense)              (None, 1)                 51        \n",
      "                                                                 \n"
     ]
    },
    {
     "name": "stdout",
     "output_type": "stream",
     "text": [
      "=================================================================\n",
      "Total params: 87,501\n",
      "Trainable params: 87,501\n",
      "Non-trainable params: 0\n",
      "_________________________________________________________________\n",
      "Epoch 1/10\n",
      "1/8 [==>...........................] - ETA: 2s - loss: 0.7085 - accuracy: 0.3000\n",
      "Epoch 1: val_accuracy improved from -inf to 0.50000, saving model to ./model\\001-0.5000.h5\n",
      "8/8 [==============================] - 1s 25ms/step - loss: 0.5822 - accuracy: 0.5833 - val_loss: 0.7989 - val_accuracy: 0.5000\n",
      "Epoch 2/10\n",
      "1/8 [==>...........................] - ETA: 0s - loss: 0.4344 - accuracy: 0.7000\n",
      "Epoch 2: val_accuracy improved from 0.50000 to 0.66667, saving model to ./model\\002-0.6667.h5\n",
      "8/8 [==============================] - 0s 12ms/step - loss: 0.4970 - accuracy: 0.6667 - val_loss: 0.6159 - val_accuracy: 0.6667\n",
      "Epoch 3/10\n",
      "1/8 [==>...........................] - ETA: 0s - loss: 0.7094 - accuracy: 0.5000\n",
      "Epoch 3: val_accuracy did not improve from 0.66667\n",
      "8/8 [==============================] - 0s 6ms/step - loss: 0.4408 - accuracy: 0.8194 - val_loss: 0.6813 - val_accuracy: 0.5000\n",
      "Epoch 4/10\n",
      "1/8 [==>...........................] - ETA: 0s - loss: 0.2253 - accuracy: 0.8000\n",
      "Epoch 4: val_accuracy improved from 0.66667 to 0.94444, saving model to ./model\\004-0.9444.h5\n",
      "8/8 [==============================] - 0s 10ms/step - loss: 0.4233 - accuracy: 0.7083 - val_loss: 0.4116 - val_accuracy: 0.9444\n",
      "Epoch 5/10\n",
      "1/8 [==>...........................] - ETA: 0s - loss: 0.3028 - accuracy: 1.0000\n",
      "Epoch 5: val_accuracy did not improve from 0.94444\n",
      "8/8 [==============================] - 0s 7ms/step - loss: 0.3464 - accuracy: 0.8472 - val_loss: 0.4325 - val_accuracy: 0.7778\n",
      "Epoch 6/10\n",
      "1/8 [==>...........................] - ETA: 0s - loss: 0.3233 - accuracy: 0.8000\n",
      "Epoch 6: val_accuracy did not improve from 0.94444\n",
      "8/8 [==============================] - 0s 6ms/step - loss: 0.3204 - accuracy: 0.9028 - val_loss: 0.4590 - val_accuracy: 0.7778\n",
      "Epoch 7/10\n",
      "1/8 [==>...........................] - ETA: 0s - loss: 0.2826 - accuracy: 0.8000\n",
      "Epoch 7: val_accuracy did not improve from 0.94444\n",
      "8/8 [==============================] - 0s 7ms/step - loss: 0.2386 - accuracy: 0.9028 - val_loss: 0.2799 - val_accuracy: 0.8333\n",
      "Epoch 8/10\n",
      "1/8 [==>...........................] - ETA: 0s - loss: 0.1428 - accuracy: 1.0000\n",
      "Epoch 8: val_accuracy did not improve from 0.94444\n",
      "8/8 [==============================] - 0s 7ms/step - loss: 0.1832 - accuracy: 0.9167 - val_loss: 0.2794 - val_accuracy: 0.8333\n",
      "Epoch 9/10\n",
      "1/8 [==>...........................] - ETA: 0s - loss: 0.0707 - accuracy: 1.0000\n",
      "Epoch 9: val_accuracy did not improve from 0.94444\n",
      "8/8 [==============================] - 0s 7ms/step - loss: 0.1354 - accuracy: 0.9722 - val_loss: 0.5190 - val_accuracy: 0.7778\n",
      "Epoch 10/10\n",
      "1/8 [==>...........................] - ETA: 0s - loss: 0.3326 - accuracy: 0.7000\n",
      "Epoch 10: val_accuracy did not improve from 0.94444\n",
      "8/8 [==============================] - 0s 6ms/step - loss: 0.1252 - accuracy: 0.9306 - val_loss: 0.1880 - val_accuracy: 0.9444\n"
     ]
    }
   ],
   "source": [
    "# 네트워크 설계\n",
    "# node, epoch, batch_size\n",
    "SEED = 0\n",
    "os.environ['PYTHONHASHSEED'] = str(SEED)\n",
    "os.environ['TF_DETERMINISTIC_OPS'] = '1'\n",
    "\n",
    "tf.random.set_seed(SEED) # Global seed\n",
    "np.random.seed(SEED)\n",
    "random.seed(SEED)\n",
    "\n",
    "model = Sequential()\n",
    "\n",
    "model.add(Dense(300, input_dim=6, activation='relu', name = 'layer1'))\n",
    "model.add(Dense(200, activation='relu', name = 'layer2'))\n",
    "model.add(Dense(100, activation='relu', name = 'layer3'))\n",
    "model.add(Dense(50, activation='relu', name = 'layer4'))\n",
    "model.add(Dense(1, activation='sigmoid', name = 'layer5'))\n",
    "model.compile(optimizer=Adam(lr=0.001), loss='binary_crossentropy', metrics=['accuracy']) \n",
    "model.summary()\n",
    "\n",
    "# patience=5: 손실이 5번 늘어날때까지 훈련을 계속, 5번째 종료\n",
    "# restore_best_weights=True: 가중치를 가장 오차가 적었던 경우로 저장\n",
    "es = EarlyStopping(monitor='loss', patience=5, restore_best_weights=True)\n",
    "\n",
    "MODEL_DIR = './model/'\n",
    "if not os.path.exists(MODEL_DIR): # 폴더가 존재하지 않으면 생성\n",
    "    os.mkdir(MODEL_DIR) # 폴더 생성\n",
    "\n",
    "# 03d: 좌측 0 padding 정수 3자리, .4f: 실수 소수점 4자리 \n",
    "modelpath='./model/{epoch:03d}-{val_accuracy:.4f}.h5'  \n",
    "# epoch:03d: 부족한 자리를 0으로 채우는 정수 형식\n",
    "# val_accuracy:.4f: 소수이하 4째자리까지 표현 형식\n",
    "\n",
    "# 검증 정확도가 개선되었을 때만 학습 모델 파일로 저장\n",
    "# filepath=modelpath: 파일이 저장되는 경로와 파일명\n",
    "# monitor='val_accuracy': 검증 정확도 기준으로 판단\n",
    "# verbose=1: 기록되는 파일 정보 출력\n",
    "# save_best_only=True: 검증 정확도가 개선되면 파일로 저장\n",
    "mcp= ModelCheckpoint(filepath=modelpath,\n",
    "                    monitor='val_accuracy',\n",
    "                    verbose=1, save_best_only=True)\n",
    "\n",
    "hist = model.fit(x_train, y_train, \n",
    "                    validation_split=0.2, shuffle=True, \n",
    "                    epochs=10, batch_size=10 , callbacks=[es, mcp])"
   ]
  },
  {
   "cell_type": "code",
   "execution_count": 7,
   "metadata": {
    "colab": {
     "base_uri": "https://localhost:8080/",
     "height": 338
    },
    "executionInfo": {
     "elapsed": 615,
     "status": "ok",
     "timestamp": 1659768508901,
     "user": {
      "displayName": "강사엄기흥",
      "userId": "12410353940363031053"
     },
     "user_tz": -540
    },
    "id": "NC5QdulG3xrr",
    "outputId": "b6aa3e3d-07ea-46c8-a34b-294e8d763261"
   },
   "outputs": [
    {
     "data": {
      "image/png": "[encoded data removed]",
      "text/plain": [
       "<Figure size 1000x500 with 2 Axes>"
      ]
     },
     "metadata": {},
     "output_type": "display_data"
    }
   ],
   "source": [
    "fig, loss_ax = plt.subplots()\n",
    "# plt.figure(figsize=(6,4)) # ERROR\n",
    "fig.set_size_inches(10, 5)  # 챠트 크기 설정\n",
    "\n",
    "acc_ax = loss_ax.twinx()  # 오른쪽 y 출 설정\n",
    "\n",
    "loss_ax.plot(hist.history['loss'], 'y', label='train loss')   # 훈련 손실\n",
    "loss_ax.plot(hist.history['val_loss'], 'r', label='val loss') # 검증 손실, 학습의 우수성 평가 척도\n",
    "loss_ax.set_ylim([0.0,  5]) # 왼쪽 y 축, 값을 반영하여 변경\n",
    "\n",
    "acc_ax.plot(hist.history['accuracy'], 'b', label='train accuracy')   # 훈련 정확도\n",
    "acc_ax.plot(hist.history['val_accuracy'], 'g', label='val accuracy') # 검증 정확도\n",
    "acc_ax.set_ylim([0.0, 1.0])  # 오른쪽 y 축, 0 ~100 %를 의미\n",
    "\n",
    "loss_ax.set_xlabel('epoch')  # x축 레이블\n",
    "loss_ax.set_ylabel('loss')     # 왼쪽 y 레이블\n",
    "acc_ax.set_ylabel('accuray') # 오른쪽 y 레이블\n",
    "\n",
    "loss_ax.legend(loc='upper left')  # 좌측 y 축 기준 범례 위치 설정\n",
    "acc_ax.legend(loc='lower left')   # 우측 y 축 기준 범례 위치 설정\n",
    "\n",
    "plt.show()"
   ]
  },
  {
   "cell_type": "code",
   "execution_count": 8,
   "metadata": {
    "colab": {
     "base_uri": "https://localhost:8080/"
    },
    "executionInfo": {
     "elapsed": 453,
     "status": "ok",
     "timestamp": 1659768296439,
     "user": {
      "displayName": "강사엄기흥",
      "userId": "12410353940363031053"
     },
     "user_tz": -540
    },
    "id": "b-juTWEI3yjw",
    "outputId": "9a99f1ab-410e-4d68-a8d5-b481aed61fdc"
   },
   "outputs": [
    {
     "name": "stdout",
     "output_type": "stream",
     "text": [
      "손실값: 0.035637564957141876 /정확도: 100.0 %\n"
     ]
    }
   ],
   "source": [
    "test_loss, test_acc = model.evaluate(x_test, y_test, batch_size=1, verbose=0)\n",
    "print('손실값:', test_loss, '/정확도:', (test_acc*100), '%')"
   ]
  },
  {
   "cell_type": "code",
   "execution_count": null,
   "metadata": {
    "executionInfo": {
     "elapsed": 4,
     "status": "ok",
     "timestamp": 1659768296440,
     "user": {
      "displayName": "강사엄기흥",
      "userId": "12410353940363031053"
     },
     "user_tz": -540
    },
    "id": "HQbcEMiZ4JmP"
   },
   "outputs": [],
   "source": []
  }
 ],
 "metadata": {
  "colab": {
   "authorship_tag": "ABX9TyPRPsHfxxebELBGZh0za9uP",
   "collapsed_sections": [],
   "mount_file_id": "1LplGYPB7NdTNT2LSN2LVXx85Nn_cYQr6",
   "name": "Country2.ipynb",
   "provenance": []
  },
  "kernelspec": {
   "display_name": "ai",
   "language": "python",
   "name": "ai"
  },
  "language_info": {
   "codemirror_mode": {
    "name": "ipython",
    "version": 3
   },
   "file_extension": ".py",
   "mimetype": "text/x-python",
   "name": "python",
   "nbconvert_exporter": "python",
   "pygments_lexer": "ipython3",
   "version": "3.9.16"
  }
 },
 "nbformat": 4,
 "nbformat_minor": 1
}
