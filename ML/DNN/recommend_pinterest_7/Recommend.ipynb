{
 "cells": [
  {
   "cell_type": "markdown",
   "id": "822565c8",
   "metadata": {},
   "source": [
    "### 추천 시스템 제작(Pinterest), CPU"
   ]
  },
  {
   "cell_type": "code",
   "execution_count": 21,
   "id": "adcd3d43",
   "metadata": {},
   "outputs": [],
   "source": [
    "import warnings\n",
    "warnings.filterwarnings(action='ignore')\n",
    "\n",
    "import os\n",
    "import time\n",
    "# import cv2\n",
    "import random\n",
    "\n",
    "import numpy as np\n",
    "import pandas as pd\n",
    "import seaborn as sb\n",
    "import tensorflow as tf\n",
    "\n",
    "from tensorflow.keras.models import Sequential  # class\n",
    "from tensorflow.keras.models import load_model  # model 사용\n",
    "from tensorflow.keras.layers import Dense       # 전결합\n",
    "from tensorflow.keras.layers import Dropout     # 특정 node를 사용안함.\n",
    "from tensorflow.keras.layers import Conv2D\n",
    "from tensorflow.keras.layers import MaxPooling2D\n",
    "from tensorflow.keras.layers import Flatten\n",
    "\n",
    "from tensorflow.keras.callbacks import EarlyStopping   # 학습 자동 중지\n",
    "from tensorflow.keras.callbacks import ModelCheckpoint # 우수한 학습 모델 파일 저장\n",
    "from tensorflow.keras import regularizers \n",
    "from tensorflow.keras.utils import to_categorical   # one-hot 엔코딩\n",
    "from tensorflow.keras.optimizers import Adam\n",
    "\n",
    "from tensorflow.keras.datasets import mnist\n",
    "\n",
    "from sklearn.preprocessing import LabelEncoder\n",
    "from sklearn.model_selection import train_test_split # 학습셋과 테스트셋의 분리 지원\n",
    "from sklearn.model_selection import StratifiedKFold  # K겹 교차 검증\n",
    "\n",
    "from PIL import Image\n",
    "\n",
    "import matplotlib.pyplot as plt\n",
    "from matplotlib import font_manager, rc\n",
    "\n",
    "import platform \n",
    "# Windows, Linux, Darwin\n",
    "if (platform.system() == 'Windows'):  \n",
    "    rc('font', family=font_manager.FontProperties(fname=\"C:/Windows/Fonts/malgun.ttf\").get_name())\n",
    "    path = '.' # Local\n",
    "else:    \n",
    "    rc('font', family='NanumBarunGothic')  # Ubuntu 18.04 기준 한글 처리\n",
    "    path = '/content/drive/My Drive/kd_ml/dnn/recommend_book' # Colab\n",
    "\n",
    "os.chdir(path) # 기본 경로 설정\n",
    "\n",
    "plt.rcParams[\"font.size\"] = 12         # 글자 크기\n",
    "# plt.rcParams[\"figure.figsize\"] = (10, 4) # 10:4의 그래프 비율\n",
    "plt.rcParams['axes.unicode_minus'] = False  # minus 부호는 unicode 적용시 한글이 깨짐으로 설정\n",
    "\n",
    "%matplotlib inline\n",
    "\n",
    "# ---------------------------------------------------------------------\n",
    "# gpu 사용시 런타임에서 필요한 양만큼의 GPU 메모리를 할당후 자동 증가 처리\n",
    "# OS 메모리도 초기화됨.\n",
    "# ---------------------------------------------------------------------\n",
    "import tensorflow as tf\n",
    "\n",
    "gpus = tf.config.experimental.list_physical_devices('GPU')\n",
    "if gpus:\n",
    "    try:\n",
    "        tf.config.experimental.set_memory_growth(gpus[0], True)\n",
    "    except RuntimeError as e:\n",
    "        # 프로그램 시작시에 메모리 증가가 설정되어야만 합니다\n",
    "        print(e)\n",
    "    \n",
    "# ---------------------------------------------------------------------"
   ]
  },
  {
   "cell_type": "code",
   "execution_count": 22,
   "id": "2d177f37",
   "metadata": {},
   "outputs": [
    {
     "name": "stdout",
     "output_type": "stream",
     "text": [
      "<class 'numpy.ndarray'>\n",
      "(220, 50)\n"
     ]
    }
   ],
   "source": [
    "# header가 있을경우 skiprows=1 선언\n",
    "data = np.loadtxt('./train.csv', delimiter=',', skiprows=1, dtype=np.float64)   # 특성이 작은 데이터의 예외 추가, 손실: 0.0060576219111680984\n",
    "print(type(data))\n",
    "print(data.shape)"
   ]
  },
  {
   "cell_type": "code",
   "execution_count": 23,
   "id": "3f0d6b04",
   "metadata": {},
   "outputs": [
    {
     "name": "stdout",
     "output_type": "stream",
     "text": [
      "(220, 49)\n",
      "(220,)\n"
     ]
    }
   ],
   "source": [
    "# 데이터와 class의 분리\n",
    "# 0: 강아지, 1: 카페, 2: 가을, 3: 한우, 4: 꽃\n",
    "X = data[:, 0:49]  # 0 ~ 49\n",
    "print(X.shape)\n",
    "Y = data[:, 49]    # 49 번째 데이터, class의 분리\n",
    "print(Y.shape)"
   ]
  },
  {
   "cell_type": "code",
   "execution_count": 24,
   "id": "9f97224e",
   "metadata": {},
   "outputs": [
    {
     "name": "stdout",
     "output_type": "stream",
     "text": [
      "[[1. 0. 0. 0. 0. 0. 0. 1. 0. 0. 0. 0. 0. 0. 1. 0. 0. 0. 0. 0. 0. 1. 0. 0.\n",
      "  0. 0. 0. 0. 1. 0. 0. 0. 0. 0. 0. 1. 0. 0. 0. 0. 0. 0. 1. 0. 0. 0. 0. 0.\n",
      "  0.]\n",
      " [0. 1. 0. 0. 0. 0. 0. 0. 1. 0. 0. 0. 0. 0. 0. 1. 0. 0. 0. 0. 0. 0. 1. 0.\n",
      "  0. 0. 0. 0. 0. 1. 0. 0. 0. 0. 0. 0. 1. 0. 0. 0. 0. 0. 0. 1. 0. 0. 0. 0.\n",
      "  0.]\n",
      " [0. 0. 1. 0. 0. 0. 0. 0. 0. 1. 0. 0. 0. 0. 0. 0. 1. 0. 0. 0. 0. 0. 0. 1.\n",
      "  0. 0. 0. 0. 0. 0. 1. 0. 0. 0. 0. 0. 0. 1. 0. 0. 0. 0. 0. 0. 1. 0. 0. 0.\n",
      "  0.]\n",
      " [0. 0. 0. 1. 0. 0. 0. 0. 0. 0. 1. 0. 0. 0. 0. 0. 0. 1. 0. 0. 0. 0. 0. 0.\n",
      "  1. 0. 0. 0. 0. 0. 0. 1. 0. 0. 0. 0. 0. 0. 1. 0. 0. 0. 0. 0. 0. 1. 0. 0.\n",
      "  0.]\n",
      " [0. 0. 0. 0. 1. 0. 0. 0. 0. 0. 0. 1. 0. 0. 0. 0. 0. 0. 1. 0. 0. 0. 0. 0.\n",
      "  0. 1. 0. 0. 0. 0. 0. 0. 1. 0. 0. 0. 0. 0. 0. 1. 0. 0. 0. 0. 0. 0. 1. 0.\n",
      "  0.]]\n"
     ]
    }
   ],
   "source": [
    "print(X[:5]) # 5행 확인"
   ]
  },
  {
   "cell_type": "code",
   "execution_count": 25,
   "id": "76c5141e",
   "metadata": {},
   "outputs": [
    {
     "name": "stdout",
     "output_type": "stream",
     "text": [
      "[0. 1. 2. 3. 4.]\n"
     ]
    }
   ],
   "source": [
    "print(Y[:5]) # 5행의 데이터만 확인"
   ]
  },
  {
   "cell_type": "code",
   "execution_count": 26,
   "id": "abe1e4dd",
   "metadata": {},
   "outputs": [
    {
     "name": "stdout",
     "output_type": "stream",
     "text": [
      "[0 1 2 3 4 5 6 0 1 2 3 4 5 6 0 1 2 3 4 5 6 0 1 2 3 4 5 6 0 1 2 3 4 5 6 0 1\n",
      " 2 3 4 5 6 0 1 2 3 4 5 6 0 1 2 3 4 5 6 0 1 2 3 4 5 6 0 1 2 3 4 5 6 0 1 2 3\n",
      " 4 5 6 0 1 2 3 4 5 6 0 1 2 3 4 5 6 0 1 2 3 4 5 6 0 1 2 3 4 5 6 0 1 2 3 4 5\n",
      " 6 0 1 2 3 4 5 6 0 1 2 3 4 5 6 0 1 2 3 4 5 6 0 1 2 3 4 5 6 0 1 2 3 4 5 6 0\n",
      " 1 2 3 4 5 6 0 1 2 3 4 5 6 0 1 2 3 4 5 6 0 1 2 3 4 5 6 0 1 2 3 4 5 6 0 1 2\n",
      " 3 4 5 6 0 1 2 3 4 5 6 0 1 2 3 4 5 6 0 1 2 3 4 5 6 0 0 0 0 0 0 0 0 0 0]\n"
     ]
    }
   ],
   "source": [
    "Y = Y.astype('int') # 정수로 형변환\n",
    "print(Y)"
   ]
  },
  {
   "cell_type": "code",
   "execution_count": 27,
   "id": "96d0995e",
   "metadata": {},
   "outputs": [
    {
     "name": "stdout",
     "output_type": "stream",
     "text": [
      "[[1. 0. 0. 0. 0. 0. 0.]\n",
      " [0. 1. 0. 0. 0. 0. 0.]\n",
      " [0. 0. 1. 0. 0. 0. 0.]\n",
      " [0. 0. 0. 1. 0. 0. 0.]\n",
      " [0. 0. 0. 0. 1. 0. 0.]]\n"
     ]
    }
   ],
   "source": [
    "# 0: 강아지, 1: 카페, 2: 가을, 3: 한우, 4: 꽃\n",
    "Y_encoded = to_categorical(Y) # 데이터 전처리 기법: one-hot-encoding\n",
    "\n",
    "print(Y_encoded[:5]) \n",
    "# [[1. 0. 0. 0. 0.]: 0 <- 숫자 1이 존재하는 index\n",
    "#  [0. 1. 0. 0. 0.]: 1\n",
    "#  [0. 0. 1. 0. 0.]: 2\n",
    "#  [0. 0. 0. 1. 0.]: 3\n",
    "#  [0. 0. 0. 0. 1.]]: 4"
   ]
  },
  {
   "cell_type": "code",
   "execution_count": 28,
   "id": "dbd52142",
   "metadata": {},
   "outputs": [
    {
     "name": "stdout",
     "output_type": "stream",
     "text": [
      "[1. 0. 0. 0. 0. 0. 0. 1. 0. 0. 0. 0. 0. 0. 1. 0. 0. 0. 0. 0. 0. 1. 0. 0.\n",
      " 0. 0. 0. 0. 1. 0. 0. 0. 0. 0. 0. 1. 0. 0. 0. 0. 0. 0. 1. 0. 0. 0. 0. 0.\n",
      " 0.] -> [1. 0. 0. 0. 0. 0. 0.]\n",
      "[0. 1. 0. 0. 0. 0. 0. 0. 1. 0. 0. 0. 0. 0. 0. 1. 0. 0. 0. 0. 0. 0. 1. 0.\n",
      " 0. 0. 0. 0. 0. 1. 0. 0. 0. 0. 0. 0. 1. 0. 0. 0. 0. 0. 0. 1. 0. 0. 0. 0.\n",
      " 0.] -> [0. 1. 0. 0. 0. 0. 0.]\n",
      "[0. 0. 1. 0. 0. 0. 0. 0. 0. 1. 0. 0. 0. 0. 0. 0. 1. 0. 0. 0. 0. 0. 0. 1.\n",
      " 0. 0. 0. 0. 0. 0. 1. 0. 0. 0. 0. 0. 0. 1. 0. 0. 0. 0. 0. 0. 1. 0. 0. 0.\n",
      " 0.] -> [0. 0. 1. 0. 0. 0. 0.]\n"
     ]
    }
   ],
   "source": [
    "print(X[0], '->', Y_encoded[0]) \n",
    "# [1. 0. 0. 0. 0. 1. 0. 0. 0. 0. 1. 0. 0. 0. 0. 1. 0. 0. 0. 0. 1. 0. 0. 0.\n",
    "# 0.] 이 데이터는 답이 [1. 0. 0. 0. 0.] 임\n",
    "\n",
    "print(X[1], '->', Y_encoded[1]) \n",
    "# [0. 1. 0. 0. 0. 0. 1. 0. 0. 0. 0. 1. 0. 0. 0. 0. 1. 0. 0. 0. 0. 1. 0. 0.\n",
    "# 0.] 이 데이터는 답이 [0. 1. 0. 0. 0.]임\n",
    "\n",
    "print(X[2], '->', Y_encoded[2]) \n",
    "# [0. 0. 1. 0. 0. 0. 0. 1. 0. 0. 0. 0. 1. 0. 0. 0. 0. 1. 0. 0. 0. 0. 1. 0.\n",
    "# 0.]이 데이터는 답이 [0. 0. 1. 0. 0.]임"
   ]
  },
  {
   "cell_type": "code",
   "execution_count": 29,
   "id": "8974cacd",
   "metadata": {},
   "outputs": [
    {
     "name": "stdout",
     "output_type": "stream",
     "text": [
      "[[0. 0. 0. 1. 0. 0. 0.]\n",
      " [0. 0. 0. 0. 0. 1. 0.]\n",
      " [0. 0. 0. 0. 1. 0. 0.]\n",
      " [1. 0. 0. 0. 0. 0. 0.]\n",
      " [0. 0. 0. 0. 0. 0. 1.]\n",
      " [1. 0. 0. 0. 0. 0. 0.]\n",
      " [0. 0. 0. 1. 0. 0. 0.]\n",
      " [0. 0. 0. 0. 1. 0. 0.]\n",
      " [0. 0. 1. 0. 0. 0. 0.]\n",
      " [0. 0. 1. 0. 0. 0. 0.]\n",
      " [0. 0. 0. 1. 0. 0. 0.]\n",
      " [0. 0. 0. 0. 0. 0. 1.]\n",
      " [0. 1. 0. 0. 0. 0. 0.]\n",
      " [0. 0. 0. 0. 0. 0. 1.]\n",
      " [0. 1. 0. 0. 0. 0. 0.]\n",
      " [0. 0. 0. 0. 0. 0. 1.]\n",
      " [1. 0. 0. 0. 0. 0. 0.]\n",
      " [0. 0. 0. 1. 0. 0. 0.]\n",
      " [0. 0. 1. 0. 0. 0. 0.]\n",
      " [0. 0. 0. 0. 0. 0. 1.]\n",
      " [0. 1. 0. 0. 0. 0. 0.]\n",
      " [0. 0. 0. 0. 1. 0. 0.]\n",
      " [1. 0. 0. 0. 0. 0. 0.]\n",
      " [1. 0. 0. 0. 0. 0. 0.]\n",
      " [1. 0. 0. 0. 0. 0. 0.]\n",
      " [0. 0. 0. 0. 0. 1. 0.]\n",
      " [0. 0. 0. 0. 0. 1. 0.]\n",
      " [0. 1. 0. 0. 0. 0. 0.]\n",
      " [1. 0. 0. 0. 0. 0. 0.]\n",
      " [0. 0. 1. 0. 0. 0. 0.]\n",
      " [0. 0. 0. 0. 1. 0. 0.]\n",
      " [0. 0. 0. 0. 1. 0. 0.]\n",
      " [0. 0. 0. 0. 0. 1. 0.]\n",
      " [0. 0. 1. 0. 0. 0. 0.]\n",
      " [0. 0. 0. 1. 0. 0. 0.]\n",
      " [0. 1. 0. 0. 0. 0. 0.]\n",
      " [0. 0. 0. 0. 0. 1. 0.]\n",
      " [0. 0. 0. 0. 0. 0. 1.]\n",
      " [0. 0. 1. 0. 0. 0. 0.]\n",
      " [0. 0. 0. 1. 0. 0. 0.]]\n",
      "(40, 7)\n"
     ]
    }
   ],
   "source": [
    "# train_test_split 분할을 통한 훈련, 검증, 테스트 데이터의 분리\n",
    "seed = 0\n",
    "# X 분할: x_train_all, x_test\n",
    "# Y 분할: y_train_all, y_test\n",
    "# stratify=Y_encoded: 5개의 그룹을 균등하게 분포시켜 분할함.\n",
    "# test_size=0.1: 10%를 x_test, y_test에 할당\n",
    "# random_state=seed: 무작위로 데이터 추출\n",
    "\n",
    "# 90%: x_train_all, y_train_all\n",
    "# 10%: x_test, y_test\n",
    "# 테스트의 크기가 분류 갯수보다 작으면 에러가 발생함으로 5건 이상이어야함.\n",
    "x_train_all, x_test, y_train_all, y_test = train_test_split(X, Y_encoded,\n",
    "                                           stratify=Y_encoded,\n",
    "                                           test_size=0.1,\n",
    "                                           random_state=seed)\n",
    "\n",
    "# 나머지 데이터 90%를 분할, 80%: 훈련, 20%: 검증\n",
    "# 80%: x_train, y_train\n",
    "# 20%: x_val, y_val\n",
    "x_train, x_val, y_train, y_val = train_test_split(x_train_all, y_train_all,\n",
    "                                           stratify=y_train_all,\n",
    "                                           test_size=0.2,\n",
    "                                           random_state=seed)\n",
    "\n",
    "print(y_val)\n",
    "print(y_val.shape)\n",
    "# 강아지, 고양이, 물고기, 자전거, 축제, 등산, 캠핑"
   ]
  },
  {
   "cell_type": "code",
   "execution_count": 30,
   "id": "aad033c8",
   "metadata": {},
   "outputs": [
    {
     "name": "stdout",
     "output_type": "stream",
     "text": [
      "[[0. 1. 0. 0. 0. 0. 0.]\n",
      " [0. 0. 1. 0. 0. 0. 0.]\n",
      " [0. 1. 0. 0. 0. 0. 0.]\n",
      " [1. 0. 0. 0. 0. 0. 0.]\n",
      " [0. 0. 0. 1. 0. 0. 0.]\n",
      " [0. 0. 0. 0. 0. 0. 1.]\n",
      " [0. 0. 1. 0. 0. 0. 0.]\n",
      " [0. 0. 1. 0. 0. 0. 0.]\n",
      " [0. 0. 0. 0. 0. 1. 0.]\n",
      " [0. 0. 0. 1. 0. 0. 0.]\n",
      " [1. 0. 0. 0. 0. 0. 0.]\n",
      " [0. 0. 0. 0. 0. 1. 0.]\n",
      " [0. 0. 0. 0. 1. 0. 0.]\n",
      " [0. 0. 0. 0. 0. 1. 0.]\n",
      " [0. 0. 0. 0. 0. 0. 1.]\n",
      " [0. 0. 0. 0. 1. 0. 0.]\n",
      " [0. 1. 0. 0. 0. 0. 0.]\n",
      " [0. 0. 0. 1. 0. 0. 0.]\n",
      " [0. 0. 0. 0. 1. 0. 0.]\n",
      " [1. 0. 0. 0. 0. 0. 0.]\n",
      " [1. 0. 0. 0. 0. 0. 0.]\n",
      " [0. 0. 0. 0. 0. 0. 1.]]\n",
      "(22, 7)\n"
     ]
    }
   ],
   "source": [
    "print(y_test)\n",
    "print(y_test.shape)\n",
    "# (10, 5): 10건의 데이터가 입력되어 한건당 5가지에 속할 확률이 출력됨으로 10행 5열이됨."
   ]
  },
  {
   "cell_type": "code",
   "execution_count": 31,
   "id": "9a43597f",
   "metadata": {},
   "outputs": [
    {
     "name": "stdout",
     "output_type": "stream",
     "text": [
      "Model: \"sequential_1\"\n",
      "_________________________________________________________________\n",
      " Layer (type)                Output Shape              Param #   \n",
      "=================================================================\n",
      " dense_3 (Dense)             (None, 20)                1000      \n",
      "                                                                 \n",
      " dense_4 (Dense)             (None, 10)                210       \n",
      "                                                                 \n",
      " dense_5 (Dense)             (None, 7)                 77        \n",
      "                                                                 \n",
      "=================================================================\n",
      "Total params: 1,287\n",
      "Trainable params: 1,287\n",
      "Non-trainable params: 0\n",
      "_________________________________________________________________\n",
      "Epoch 1/10\n",
      "150/158 [===========================>..] - ETA: 0s - loss: 1.7957 - accuracy: 0.4867\n",
      "Epoch 1: val_accuracy improved from -inf to 0.82500, saving model to .\\Pinterest.h5\n",
      "158/158 [==============================] - 2s 8ms/step - loss: 1.7843 - accuracy: 0.4937 - val_loss: 1.4720 - val_accuracy: 0.8250\n",
      "Epoch 2/10\n",
      "157/158 [============================>.] - ETA: 0s - loss: 1.2002 - accuracy: 0.8408\n",
      "Epoch 2: val_accuracy improved from 0.82500 to 0.87500, saving model to .\\Pinterest.h5\n",
      "158/158 [==============================] - 1s 6ms/step - loss: 1.2005 - accuracy: 0.8354 - val_loss: 0.8656 - val_accuracy: 0.8750\n",
      "Epoch 3/10\n",
      "157/158 [============================>.] - ETA: 0s - loss: 0.6518 - accuracy: 0.9554\n",
      "Epoch 3: val_accuracy improved from 0.87500 to 1.00000, saving model to .\\Pinterest.h5\n",
      "158/158 [==============================] - 1s 6ms/step - loss: 0.6488 - accuracy: 0.9557 - val_loss: 0.4008 - val_accuracy: 1.0000\n",
      "Epoch 4/10\n",
      "155/158 [============================>.] - ETA: 0s - loss: 0.2756 - accuracy: 1.0000\n",
      "Epoch 4: val_accuracy did not improve from 1.00000\n",
      "158/158 [==============================] - 1s 6ms/step - loss: 0.2749 - accuracy: 1.0000 - val_loss: 0.1511 - val_accuracy: 1.0000\n",
      "Epoch 5/10\n",
      "158/158 [==============================] - ETA: 0s - loss: 0.1017 - accuracy: 1.0000\n",
      "Epoch 5: val_accuracy did not improve from 1.00000\n",
      "158/158 [==============================] - 1s 6ms/step - loss: 0.1017 - accuracy: 1.0000 - val_loss: 0.0604 - val_accuracy: 1.0000\n",
      "Epoch 6/10\n",
      "149/158 [===========================>..] - ETA: 0s - loss: 0.0455 - accuracy: 1.0000\n",
      "Epoch 6: val_accuracy did not improve from 1.00000\n",
      "158/158 [==============================] - 1s 6ms/step - loss: 0.0452 - accuracy: 1.0000 - val_loss: 0.0307 - val_accuracy: 1.0000\n",
      "Epoch 7/10\n",
      "156/158 [============================>.] - ETA: 0s - loss: 0.0242 - accuracy: 1.0000\n",
      "Epoch 7: val_accuracy did not improve from 1.00000\n",
      "158/158 [==============================] - 1s 6ms/step - loss: 0.0241 - accuracy: 1.0000 - val_loss: 0.0177 - val_accuracy: 1.0000\n",
      "Epoch 8/10\n",
      "152/158 [===========================>..] - ETA: 0s - loss: 0.0148 - accuracy: 1.0000\n",
      "Epoch 8: val_accuracy did not improve from 1.00000\n",
      "158/158 [==============================] - 1s 6ms/step - loss: 0.0147 - accuracy: 1.0000 - val_loss: 0.0113 - val_accuracy: 1.0000\n",
      "Epoch 9/10\n",
      "149/158 [===========================>..] - ETA: 0s - loss: 0.0097 - accuracy: 1.0000\n",
      "Epoch 9: val_accuracy did not improve from 1.00000\n",
      "158/158 [==============================] - 1s 6ms/step - loss: 0.0095 - accuracy: 1.0000 - val_loss: 0.0076 - val_accuracy: 1.0000\n",
      "Epoch 10/10\n",
      "152/158 [===========================>..] - ETA: 0s - loss: 0.0067 - accuracy: 1.0000\n",
      "Epoch 10: val_accuracy did not improve from 1.00000\n",
      "158/158 [==============================] - 1s 6ms/step - loss: 0.0066 - accuracy: 1.0000 - val_loss: 0.0055 - val_accuracy: 1.0000\n"
     ]
    }
   ],
   "source": [
    "# 네트워크 구성\n",
    "SEED = 0\n",
    "os.environ['PYTHONHASHSEED'] = str(SEED)\n",
    "os.environ['TF_DETERMINISTIC_OPS'] = '1'\n",
    "\n",
    "tf.random.set_seed(SEED) # Global seed, 가중치, 편향이 일정하게 변경됨\n",
    "np.random.seed(SEED)\n",
    "random.seed(SEED)\n",
    "\n",
    "model = Sequential()\n",
    "# input_dim=25: 입력 데이터 x의 갯수\n",
    "model.add(Dense(20, input_dim=49, activation='relu'))# Weight: 500, BIAS: 20\n",
    "model.add(Dense(10, activation='relu')) \n",
    "model.add(Dense(7, activation='softmax')) # 0 ~ 1 사이의 확률 5개 출력,총합: 1\n",
    "model.compile(optimizer='adam', loss='categorical_crossentropy', \n",
    "                                metrics=['accuracy'])\n",
    "model.summary()\n",
    "\n",
    "# 오차 감소시마다 h5 형식으로 파일 저장\n",
    "mcp = ModelCheckpoint(filepath='./Pinterest.h5', monitor='val_accuracy',\n",
    "                      verbose=1, save_best_only=True)\n",
    "\n",
    "# 오차가 1회 증가시 자동 종료\n",
    "es = EarlyStopping(monitor='loss', patience=1, restore_best_weights=True)\n",
    "\n",
    "hist = model.fit(x_train, y_train, \n",
    "                 validation_data=(x_val, y_val),\n",
    "                 epochs=10, \n",
    "                 batch_size=1, callbacks=[mcp, es])\n"
   ]
  },
  {
   "cell_type": "code",
   "execution_count": 32,
   "id": "0ef6c87a",
   "metadata": {},
   "outputs": [
    {
     "data": {
      "image/png": "[encoded data removed]",
      "text/plain": [
       "<Figure size 1000x500 with 2 Axes>"
      ]
     },
     "metadata": {},
     "output_type": "display_data"
    }
   ],
   "source": [
    "import matplotlib.pyplot as plt\n",
    "%matplotlib inline  \n",
    "\n",
    "fig, loss_ax = plt.subplots()\n",
    "# plt.figure(figsize=(6,4)) # ERROR\n",
    "fig.set_size_inches(10, 5)  # 챠트 크기 설정\n",
    "\n",
    "acc_ax = loss_ax.twinx()  # 오른쪽 y 출 설정\n",
    "\n",
    "# 왼쪽 y 축 설정\n",
    "loss_ax.plot(hist.history['loss'], 'y', label='train loss')\n",
    "loss_ax.plot(hist.history['val_loss'], 'r', label='val loss')\n",
    "loss_ax.set_ylim([0.0, 1.5]) # 값을 반영하여 변경\n",
    "\n",
    "# 오른쪽 y 축 설정\n",
    "acc_ax.plot(hist.history['accuracy'], 'b', label='train accuracy')\n",
    "acc_ax.plot(hist.history['val_accuracy'], 'g', label='val accuracy')\n",
    "acc_ax.set_ylim([0.0, 1.1])\n",
    "\n",
    "# 축 레이블 설정\n",
    "loss_ax.set_xlabel('epoch' )  # 학습 횟수\n",
    "loss_ax.set_ylabel('loss')    # 왼쪽 y 축 레이블, 오차\n",
    "acc_ax.set_ylabel('accuracy') # 오른쪽 y 축 레이블,정확도\n",
    "\n",
    "loss_ax.legend(loc='upper left') # 왼쪽 y 축 오차 레이블 위치\n",
    "acc_ax.legend(loc='lower left')  # 오른쪽 y 축 정확도 레이블 위치\n",
    "\n",
    "plt.show()"
   ]
  },
  {
   "cell_type": "code",
   "execution_count": 33,
   "id": "638e83e7",
   "metadata": {},
   "outputs": [
    {
     "name": "stdout",
     "output_type": "stream",
     "text": [
      "손실값: 0.005481325089931488 /정확도: 100.0 %\n"
     ]
    }
   ],
   "source": [
    "test_loss, test_acc = model.evaluate(x_val, y_val, batch_size=1, verbose=0)\n",
    "print('손실값:', test_loss, '/정확도:', (test_acc*100), '%')"
   ]
  },
  {
   "cell_type": "code",
   "execution_count": 34,
   "id": "955dee2d",
   "metadata": {},
   "outputs": [],
   "source": [
    "# model.save(path + '/Pinterest.h5')"
   ]
  },
  {
   "cell_type": "code",
   "execution_count": 35,
   "id": "f5419678",
   "metadata": {},
   "outputs": [
    {
     "name": "stdout",
     "output_type": "stream",
     "text": [
      "데이터: (22, 49)\n",
      "데이터: [0. 1. 0. 0. 0. 0. 0. 0. 1. 0. 0. 0. 0. 0. 0. 1. 0. 0. 0. 0. 0. 0. 1. 0.\n",
      " 0. 0. 0. 0. 0. 1. 0. 0. 0. 0. 0. 0. 1. 0. 0. 0. 0. 0. 0. 1. 0. 0. 0. 0.\n",
      " 0.]\n",
      "예측 결과 p.shape: (22, 7)\n"
     ]
    }
   ],
   "source": [
    "print('데이터:', x_test.shape) # 변수가 25개로 구성된 10건의 관측치(행)\n",
    "print('데이터:', x_test[0])    # 첫번째 데이터행\n",
    "\n",
    "p = model.predict(x_test)      # 테스트 데이터 10건 ★\n",
    "print('예측 결과 p.shape:', p.shape)     # (10, 5): 5: 카테고리(폼종)의 갯수"
   ]
  },
  {
   "cell_type": "code",
   "execution_count": 36,
   "id": "668d3d42",
   "metadata": {},
   "outputs": [
    {
     "name": "stdout",
     "output_type": "stream",
     "text": [
      "예측값: [6.05095585e-04 9.95720327e-01 3.62485996e-04 1.76516257e-03\n",
      " 1.44451005e-05 7.60879338e-05 1.45636476e-03]\n"
     ]
    }
   ],
   "source": [
    "# 첫번째 행의 예측값 출력, 확률 0 ~ 1사이의 실수값\n",
    "print('예측값:', p[0])   "
   ]
  },
  {
   "cell_type": "code",
   "execution_count": 37,
   "id": "88a9a3a1",
   "metadata": {},
   "outputs": [
    {
     "name": "stdout",
     "output_type": "stream",
     "text": [
      "예측값의 합: 1.000\n"
     ]
    }
   ],
   "source": [
    "# 예측값의 합:1 -> 100%\n",
    "print('예측값의 합: {0:0.3f}'.format(np.sum(p[0])))"
   ]
  },
  {
   "cell_type": "code",
   "execution_count": 38,
   "id": "6f752661",
   "metadata": {},
   "outputs": [
    {
     "name": "stdout",
     "output_type": "stream",
     "text": [
      "예측값: 0.06051% 99.57203% 0.03625% 0.17652% 0.00144\n"
     ]
    }
   ],
   "source": [
    "# 하나의 행이 속할 카테고리는 5건이고 예측값도 5건에 속할 확률이 출력됨.\n",
    "print('예측값: {0:.5f}% {1:.5f}% {2:.5f}% {3:.5f}% {4:.5f}'.format(p[0,0]*100,p[0,1]*100,p[0,2]*100,p[0,3]*100,p[0,4]*100))"
   ]
  },
  {
   "cell_type": "code",
   "execution_count": 39,
   "id": "86417ad1",
   "metadata": {},
   "outputs": [
    {
     "name": "stdout",
     "output_type": "stream",
     "text": [
      "One-hot-encoding(찾아야할 값):  [0. 1. 0. 0. 0. 0. 0.]\n",
      "1\n"
     ]
    }
   ],
   "source": [
    "print('One-hot-encoding(찾아야할 값): ', y_test[0])\n",
    "print(np.argmax(p[0])) # 가장 큰값의 index ★"
   ]
  },
  {
   "cell_type": "code",
   "execution_count": 40,
   "id": "bb3571bc",
   "metadata": {},
   "outputs": [
    {
     "name": "stdout",
     "output_type": "stream",
     "text": [
      "[[6.05095585e-04 9.95720327e-01 3.62485996e-04 1.76516257e-03\n",
      "  1.44451005e-05 7.60879338e-05 1.45636476e-03]\n",
      " [1.66644477e-05 1.80501700e-03 9.94873464e-01 1.38583715e-07\n",
      "  1.84872781e-03 1.43150194e-03 2.44767780e-05]\n",
      " [6.05095585e-04 9.95720327e-01 3.62485996e-04 1.76516257e-03\n",
      "  1.44451005e-05 7.60879338e-05 1.45636476e-03]\n",
      " [9.96422708e-01 5.71597411e-05 3.09280513e-05 8.15699343e-04\n",
      "  2.66073766e-04 2.40730122e-03 1.69245862e-08]\n",
      " [5.20255824e-04 1.28783417e-04 4.05449136e-05 9.97021139e-01\n",
      "  1.62952975e-03 6.16168603e-04 4.35130278e-05]\n",
      " [5.72526778e-06 1.94642972e-03 2.64265668e-03 1.10525158e-04\n",
      "  1.47645478e-04 1.96770543e-05 9.95127439e-01]\n",
      " [1.66644477e-05 1.80501700e-03 9.94873464e-01 1.38583715e-07\n",
      "  1.84872781e-03 1.43150194e-03 2.44767780e-05]\n",
      " [1.66644477e-05 1.80501700e-03 9.94873464e-01 1.38583715e-07\n",
      "  1.84872781e-03 1.43150194e-03 2.44767780e-05]\n",
      " [1.37912040e-03 2.91050703e-04 1.00276130e-03 2.75448547e-04\n",
      "  3.02029279e-04 9.96728063e-01 2.15493001e-05]\n",
      " [5.20255824e-04 1.28783417e-04 4.05449136e-05 9.97021139e-01\n",
      "  1.62952975e-03 6.16168603e-04 4.35130278e-05]\n",
      " [9.96422708e-01 5.71597411e-05 3.09280513e-05 8.15699343e-04\n",
      "  2.66073766e-04 2.40730122e-03 1.69245862e-08]\n",
      " [1.37912040e-03 2.91050703e-04 1.00276130e-03 2.75448547e-04\n",
      "  3.02029279e-04 9.96728063e-01 2.15493001e-05]\n",
      " [9.93031717e-05 5.28314413e-05 7.40350364e-03 1.48086378e-03\n",
      "  9.87962186e-01 2.99942447e-03 1.91178356e-06]\n",
      " [1.37912040e-03 2.91050703e-04 1.00276130e-03 2.75448547e-04\n",
      "  3.02029279e-04 9.96728063e-01 2.15493001e-05]\n",
      " [5.72526778e-06 1.94642972e-03 2.64265668e-03 1.10525158e-04\n",
      "  1.47645478e-04 1.96770543e-05 9.95127439e-01]\n",
      " [9.93031717e-05 5.28314413e-05 7.40350364e-03 1.48086378e-03\n",
      "  9.87962186e-01 2.99942447e-03 1.91178356e-06]\n",
      " [6.05095585e-04 9.95720327e-01 3.62485996e-04 1.76516257e-03\n",
      "  1.44451005e-05 7.60879338e-05 1.45636476e-03]\n",
      " [5.20255824e-04 1.28783417e-04 4.05449136e-05 9.97021139e-01\n",
      "  1.62952975e-03 6.16168603e-04 4.35130278e-05]\n",
      " [9.93031717e-05 5.28314413e-05 7.40350364e-03 1.48086378e-03\n",
      "  9.87962186e-01 2.99942447e-03 1.91178356e-06]\n",
      " [9.96422708e-01 5.71597411e-05 3.09280513e-05 8.15699343e-04\n",
      "  2.66073766e-04 2.40730122e-03 1.69245862e-08]\n",
      " [9.96422708e-01 5.71597411e-05 3.09280513e-05 8.15699343e-04\n",
      "  2.66073766e-04 2.40730122e-03 1.69245862e-08]\n",
      " [5.72526778e-06 1.94642972e-03 2.64265668e-03 1.10525158e-04\n",
      "  1.47645478e-04 1.96770543e-05 9.95127439e-01]]\n"
     ]
    }
   ],
   "source": [
    "print(p) # 10건의 모든 예측값 출력"
   ]
  },
  {
   "cell_type": "code",
   "execution_count": null,
   "id": "52e5ae37",
   "metadata": {},
   "outputs": [],
   "source": []
  }
 ],
 "metadata": {
  "kernelspec": {
   "display_name": "ai",
   "language": "python",
   "name": "ai"
  },
  "language_info": {
   "codemirror_mode": {
    "name": "ipython",
    "version": 3
   },
   "file_extension": ".py",
   "mimetype": "text/x-python",
   "name": "python",
   "nbconvert_exporter": "python",
   "pygments_lexer": "ipython3",
   "version": "3.9.16"
  }
 },
 "nbformat": 4,
 "nbformat_minor": 5
}
