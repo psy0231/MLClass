{
 "cells": [
  {
   "cell_type": "code",
   "execution_count": 1,
   "metadata": {},
   "outputs": [],
   "source": [
    "# %autosave 0\n",
    "import warnings\n",
    "warnings.filterwarnings(action='ignore')\n",
    "\n",
    "import numpy as np\n",
    "import pandas as pd\n",
    "\n",
    "from tensorflow.keras.utils import to_categorical  # one-hot 엔코딩\n",
    "from sklearn.preprocessing import LabelEncoder     # 명목형 척도 정수화 \n",
    "from tensorflow.keras.models import load_model     # model 사용"
   ]
  },
  {
   "cell_type": "code",
   "execution_count": 2,
   "metadata": {},
   "outputs": [],
   "source": [
    "model = load_model('./Iris.h5')"
   ]
  },
  {
   "cell_type": "code",
   "execution_count": 3,
   "metadata": {},
   "outputs": [
    {
     "name": "stdout",
     "output_type": "stream",
     "text": [
      "   sepal_length  sepal_width  petal_length  petal_width      species\n",
      "0           5.0          3.5           1.3          0.3  Iris-setosa\n",
      "1           4.5          2.3           1.3          0.3  Iris-setosa\n",
      "2           4.4          3.2           1.3          0.2  Iris-setosa\n",
      "3           5.0          3.5           1.6          0.6  Iris-setosa\n",
      "4           5.1          3.8           1.9          0.4  Iris-setosa\n"
     ]
    }
   ],
   "source": [
    "df = pd.read_csv('./iris_use.csv', names = [\"sepal_length\", \"sepal_width\", \"petal_length\", \"petal_width\", \"species\"])\n",
    "print(df.head())"
   ]
  },
  {
   "cell_type": "code",
   "execution_count": 4,
   "metadata": {},
   "outputs": [
    {
     "name": "stdout",
     "output_type": "stream",
     "text": [
      "<class 'numpy.ndarray'>\n",
      "30\n",
      "['Iris-setosa' 'Iris-setosa' 'Iris-setosa' 'Iris-setosa' 'Iris-setosa'\n",
      " 'Iris-setosa' 'Iris-setosa' 'Iris-setosa' 'Iris-setosa' 'Iris-setosa'\n",
      " 'Iris-versicolor' 'Iris-versicolor' 'Iris-versicolor' 'Iris-versicolor'\n",
      " 'Iris-versicolor' 'Iris-versicolor' 'Iris-versicolor' 'Iris-versicolor'\n",
      " 'Iris-versicolor' 'Iris-versicolor' 'Iris-virginica' 'Iris-virginica'\n",
      " 'Iris-virginica' 'Iris-virginica' 'Iris-virginica' 'Iris-virginica'\n",
      " 'Iris-virginica' 'Iris-virginica' 'Iris-virginica' 'Iris-virginica']\n"
     ]
    }
   ],
   "source": [
    "data = df.values\n",
    "print(type(data))\n",
    "print(len(data))\n",
    "X = data[:, 0:4].astype(float)  # 독립 변수, 정의역\n",
    "Y_str = data[:, 4]              # 종속 변수, 치역 \n",
    "print(Y_str)"
   ]
  },
  {
   "cell_type": "code",
   "execution_count": 5,
   "metadata": {},
   "outputs": [
    {
     "name": "stdout",
     "output_type": "stream",
     "text": [
      "[0 0 0 0 0 0 0 0 0 0 1 1 1 1 1 1 1 1 1 1 2 2 2 2 2 2 2 2 2 2]\n",
      "[1. 0. 0.]\n",
      "[0. 1. 0.]\n",
      "[0. 0. 1.]\n"
     ]
    }
   ],
   "source": [
    "# 문자 레이블을 숫자화, 문자열을 알파벳순으로 그룹화한후 0부터 숫자로 변환\n",
    "encoder = LabelEncoder()\n",
    "Y = encoder.fit_transform(Y_str)\n",
    "print(Y)\n",
    "\n",
    "Y_encoded = to_categorical(Y) # one-hot-encoding, 해당 index만 1로 변경\n",
    "print(Y_encoded[0])\n",
    "print(Y_encoded[10])\n",
    "print(Y_encoded[20])\n",
    "\n",
    "# LabelEncoder() 엔코더 사용시 모든 그룹의 데이터를 통합하여 진행 권장\n",
    "# CSV 훈련: A, B, C  CSV 테스트: A, B, D\n",
    "#           0  1  2              0  1  ?  \n",
    "# CSV A, B, C, D 모두 통합후 -> 엔코더 적용 -> 데이터 훈련, 테스트로 분할\n",
    "#     1  2  3  4"
   ]
  },
  {
   "cell_type": "code",
   "execution_count": 6,
   "metadata": {},
   "outputs": [
    {
     "name": "stdout",
     "output_type": "stream",
     "text": [
      "['Iris-setosa' 'Iris-versicolor' 'Iris-virginica']\n"
     ]
    }
   ],
   "source": [
    "print(encoder.inverse_transform([0, 1, 2])) # Label 확인"
   ]
  },
  {
   "cell_type": "code",
   "execution_count": 8,
   "metadata": {},
   "outputs": [
    {
     "name": "stdout",
     "output_type": "stream",
     "text": [
      "p.shape: (30, 3)\n",
      "데이터: [5.  3.5 1.3 0.3]\n"
     ]
    }
   ],
   "source": [
    "# Iris-setosa: 0, Iris-versicolor: 1, Iris-virginica: 2\n",
    "p = model.predict(X)  # 테스트 데이터 30건\n",
    "print('p.shape:', p.shape)\n",
    "print('데이터:', X[0]) # 첫번째 데이터행"
   ]
  },
  {
   "cell_type": "code",
   "execution_count": 9,
   "metadata": {},
   "outputs": [
    {
     "name": "stdout",
     "output_type": "stream",
     "text": [
      "예측값: [0.9504712  0.00506847 0.04446027]\n",
      "예측값: 95.05% 0.51% 4.45%\n",
      "LabelEncoder:  0\n",
      "One-hot-encoding:  [1. 0. 0.]\n",
      "0\n",
      "Iris-setosa\n"
     ]
    }
   ],
   "source": [
    "# 확률 0 ~ 1사이의 실수값\n",
    "print('예측값:', p[0]) \n",
    "print('예측값: {0:.2f}% {1:.2f}% {2:.2f}%'.format((p[0][0]*100), (p[0][1]*100), (p[0][2]*100))) \n",
    "print('LabelEncoder: ', Y[0])\n",
    "print('One-hot-encoding: ', Y_encoded[0])\n",
    "print(np.argmax(p[0]))  # 가장 큰값의 index\n",
    "print(Y_str[0])         # 첫번째 품종"
   ]
  },
  {
   "cell_type": "code",
   "execution_count": 10,
   "metadata": {},
   "outputs": [
    {
     "name": "stdout",
     "output_type": "stream",
     "text": [
      "[0.9504712  0.00506847 0.04446027]\n",
      "최대값: 0.9504712 -> index: 0\n",
      "[0.8266243  0.03801839 0.13535729]\n",
      "최대값: 0.8266243 -> index: 0\n",
      "[0.92875457 0.00970859 0.06153683]\n",
      "최대값: 0.92875457 -> index: 0\n",
      "[0.918645   0.01277162 0.06858333]\n",
      "최대값: 0.918645 -> index: 0\n",
      "[0.92751247 0.0110701  0.06141748]\n",
      "최대값: 0.92751247 -> index: 0\n",
      "[0.9112058  0.01427844 0.07451574]\n",
      "최대값: 0.9112058 -> index: 0\n",
      "[0.95294976 0.0048865  0.04216376]\n",
      "최대값: 0.95294976 -> index: 0\n",
      "[0.92608577 0.01035208 0.06356215]\n",
      "최대값: 0.92608577 -> index: 0\n",
      "[0.9564501  0.00409422 0.03945557]\n",
      "최대값: 0.9564501 -> index: 0\n",
      "[0.93941724 0.00727605 0.05330673]\n",
      "최대값: 0.93941724 -> index: 0\n",
      "[0.02595438 0.5814452  0.39260045]\n",
      "최대값: 0.5814452 -> index: 1\n",
      "[0.02604049 0.5653677  0.40859184]\n",
      "최대값: 0.5653677 -> index: 1\n",
      "[0.02099667 0.52875316 0.45025015]\n",
      "최대값: 0.52875316 -> index: 1\n",
      "[0.0333773  0.48543406 0.48118863]\n",
      "최대값: 0.48543406 -> index: 1\n",
      "[0.023431   0.50604266 0.4705264 ]\n",
      "최대값: 0.50604266 -> index: 1\n",
      "[0.02705857 0.4992689  0.47367263]\n",
      "최대값: 0.4992689 -> index: 1\n",
      "[0.02186903 0.5371607  0.4409703 ]\n",
      "최대값: 0.5371607 -> index: 1\n",
      "[0.06487209 0.5668951  0.3682328 ]\n",
      "최대값: 0.5668951 -> index: 1\n",
      "[0.02734312 0.5469793  0.42567754]\n",
      "최대값: 0.5469793 -> index: 1\n",
      "[0.03440628 0.52282315 0.4427705 ]\n",
      "최대값: 0.52282315 -> index: 1\n",
      "[0.00599654 0.3110814  0.68292207]\n",
      "최대값: 0.68292207 -> index: 2\n",
      "[0.01223662 0.35450733 0.6332561 ]\n",
      "최대값: 0.6332561 -> index: 2\n",
      "[0.00702549 0.32907608 0.66389847]\n",
      "최대값: 0.66389847 -> index: 2\n",
      "[0.01001028 0.34976918 0.6402206 ]\n",
      "최대값: 0.6402206 -> index: 2\n",
      "[0.00723434 0.31620902 0.6765567 ]\n",
      "최대값: 0.6765567 -> index: 2\n",
      "[0.00463112 0.27687123 0.71849763]\n",
      "최대값: 0.71849763 -> index: 2\n",
      "[0.01911491 0.3834106  0.5974745 ]\n",
      "최대값: 0.5974745 -> index: 2\n",
      "[0.00667235 0.31217372 0.6811539 ]\n",
      "최대값: 0.6811539 -> index: 2\n",
      "[0.00837855 0.30056658 0.6910549 ]\n",
      "최대값: 0.6910549 -> index: 2\n",
      "[0.00530547 0.34071827 0.65397626]\n",
      "최대값: 0.65397626 -> index: 2\n"
     ]
    }
   ],
   "source": [
    "for item in p: # 2차원 배열에서 1행씩 산출\n",
    "    print(item)\n",
    "    print('최대값:', np.max(item), '-> index:', np.argmax(item))\n",
    "    # 최대값 -> 최대값이 있는 index"
   ]
  },
  {
   "cell_type": "code",
   "execution_count": 11,
   "metadata": {},
   "outputs": [
    {
     "name": "stdout",
     "output_type": "stream",
     "text": [
      "[0.9504712  0.00506847 0.04446027]  합계: 1\n",
      "[0.8266243  0.03801839 0.13535729]  합계: 1\n",
      "[0.92875457 0.00970859 0.06153683]  합계: 1\n",
      "[0.918645   0.01277162 0.06858333]  합계: 1\n",
      "[0.92751247 0.0110701  0.06141748]  합계: 1\n",
      "[0.9112058  0.01427844 0.07451574]  합계: 1\n",
      "[0.95294976 0.0048865  0.04216376]  합계: 1\n",
      "[0.92608577 0.01035208 0.06356215]  합계: 1\n",
      "[0.9564501  0.00409422 0.03945557]  합계: 1\n",
      "[0.93941724 0.00727605 0.05330673]  합계: 1\n",
      "[0.02595438 0.5814452  0.39260045]  합계: 1\n",
      "[0.02604049 0.5653677  0.40859184]  합계: 1\n",
      "[0.02099667 0.52875316 0.45025015]  합계: 1\n",
      "[0.0333773  0.48543406 0.48118863]  합계: 1\n",
      "[0.023431   0.50604266 0.4705264 ]  합계: 1\n",
      "[0.02705857 0.4992689  0.47367263]  합계: 1\n",
      "[0.02186903 0.5371607  0.4409703 ]  합계: 1\n",
      "[0.06487209 0.5668951  0.3682328 ]  합계: 1\n",
      "[0.02734312 0.5469793  0.42567754]  합계: 1\n",
      "[0.03440628 0.52282315 0.4427705 ]  합계: 1\n",
      "[0.00599654 0.3110814  0.68292207]  합계: 1\n",
      "[0.01223662 0.35450733 0.6332561 ]  합계: 1\n",
      "[0.00702549 0.32907608 0.66389847]  합계: 1\n",
      "[0.01001028 0.34976918 0.6402206 ]  합계: 1\n",
      "[0.00723434 0.31620902 0.6765567 ]  합계: 1\n",
      "[0.00463112 0.27687123 0.71849763]  합계: 1\n",
      "[0.01911491 0.3834106  0.5974745 ]  합계: 1\n",
      "[0.00667235 0.31217372 0.6811539 ]  합계: 1\n",
      "[0.00837855 0.30056658 0.6910549 ]  합계: 1\n",
      "[0.00530547 0.34071827 0.65397626]  합계: 1\n"
     ]
    }
   ],
   "source": [
    "# softmax 함수의 값이 1이되는지 확인\n",
    "# 컴퓨터는 내부적으로 정수 연산이라 미세한 오차 발생\n",
    "for item in p:\n",
    "    print(item, ' 합계: {0:0.0f}'.format(np.sum(item)))"
   ]
  },
  {
   "cell_type": "code",
   "execution_count": 12,
   "metadata": {},
   "outputs": [],
   "source": [
    "# Iris-setosa: 0, Iris-versicolor: 1, Iris-virginica: 2\n",
    "def decode(data):  # data: 1차원 배열, predict는 2차원 배열을 리턴함\n",
    "    index = np.argmax(data) # 최대값의 index를 찾아줌\n",
    "    if index == 0:\n",
    "        label = 'Iris-setosa'\n",
    "    elif index == 1:\n",
    "        label = 'Iris-versicolor'\n",
    "    elif index == 2:\n",
    "        label = 'Iris-virginica'\n",
    "        \n",
    "    return label"
   ]
  },
  {
   "cell_type": "code",
   "execution_count": 14,
   "metadata": {},
   "outputs": [
    {
     "name": "stdout",
     "output_type": "stream",
     "text": [
      "30\n",
      "Target(실제값): Iris-setosa  Y hat(예측값): Iris-setosa\n",
      "Target(실제값): Iris-setosa  Y hat(예측값): Iris-setosa\n",
      "Target(실제값): Iris-setosa  Y hat(예측값): Iris-setosa\n",
      "Target(실제값): Iris-setosa  Y hat(예측값): Iris-setosa\n",
      "Target(실제값): Iris-setosa  Y hat(예측값): Iris-setosa\n",
      "Target(실제값): Iris-setosa  Y hat(예측값): Iris-setosa\n",
      "Target(실제값): Iris-setosa  Y hat(예측값): Iris-setosa\n",
      "Target(실제값): Iris-setosa  Y hat(예측값): Iris-setosa\n",
      "Target(실제값): Iris-setosa  Y hat(예측값): Iris-setosa\n",
      "Target(실제값): Iris-setosa  Y hat(예측값): Iris-setosa\n",
      "Target(실제값): Iris-versicolor  Y hat(예측값): Iris-versicolor\n",
      "Target(실제값): Iris-versicolor  Y hat(예측값): Iris-versicolor\n",
      "Target(실제값): Iris-versicolor  Y hat(예측값): Iris-versicolor\n",
      "Target(실제값): Iris-versicolor  Y hat(예측값): Iris-versicolor\n",
      "Target(실제값): Iris-versicolor  Y hat(예측값): Iris-versicolor\n",
      "Target(실제값): Iris-versicolor  Y hat(예측값): Iris-versicolor\n",
      "Target(실제값): Iris-versicolor  Y hat(예측값): Iris-versicolor\n",
      "Target(실제값): Iris-versicolor  Y hat(예측값): Iris-versicolor\n",
      "Target(실제값): Iris-versicolor  Y hat(예측값): Iris-versicolor\n",
      "Target(실제값): Iris-versicolor  Y hat(예측값): Iris-versicolor\n",
      "Target(실제값): Iris-virginica  Y hat(예측값): Iris-virginica\n",
      "Target(실제값): Iris-virginica  Y hat(예측값): Iris-virginica\n",
      "Target(실제값): Iris-virginica  Y hat(예측값): Iris-virginica\n",
      "Target(실제값): Iris-virginica  Y hat(예측값): Iris-virginica\n",
      "Target(실제값): Iris-virginica  Y hat(예측값): Iris-virginica\n",
      "Target(실제값): Iris-virginica  Y hat(예측값): Iris-virginica\n",
      "Target(실제값): Iris-virginica  Y hat(예측값): Iris-virginica\n",
      "Target(실제값): Iris-virginica  Y hat(예측값): Iris-virginica\n",
      "Target(실제값): Iris-virginica  Y hat(예측값): Iris-virginica\n",
      "Target(실제값): Iris-virginica  Y hat(예측값): Iris-virginica\n"
     ]
    }
   ],
   "source": [
    "print(len(p))\n",
    "for i in range(len(p)):\n",
    "    print('Target(실제값):', Y_str[i], ' Y hat(예측값):', decode(p[i]))"
   ]
  },
  {
   "cell_type": "code",
   "execution_count": 15,
   "metadata": {},
   "outputs": [
    {
     "name": "stdout",
     "output_type": "stream",
     "text": [
      "꽃받침 길이, 꽃받침 넓이, 꽃잎 길이, 꽃잎 넓이를 입력하세요.5.1,3.5,1.4,0.2\n",
      "<class 'str'>\n",
      "5.1,3.5,1.4,0.2\n"
     ]
    }
   ],
   "source": [
    "# input 함수의 사용\n",
    "# 5.1,3.5,1.4,0.2\n",
    "src = input('꽃받침 길이, 꽃받침 넓이, 꽃잎 길이, 꽃잎 넓이를 입력하세요.')\n",
    "print(type(src))\n",
    "print(src)"
   ]
  },
  {
   "cell_type": "code",
   "execution_count": 16,
   "metadata": {},
   "outputs": [
    {
     "name": "stdout",
     "output_type": "stream",
     "text": [
      "(4,)\n",
      "[5.1 3.5 1.4 0.2]\n"
     ]
    }
   ],
   "source": [
    "data = np.array(src.split(','), dtype=float) # 1차원 텐서\n",
    "print(data.shape)\n",
    "print(data)"
   ]
  },
  {
   "cell_type": "code",
   "execution_count": 17,
   "metadata": {},
   "outputs": [
    {
     "name": "stdout",
     "output_type": "stream",
     "text": [
      "(1, 4)\n",
      "[[5.1 3.5 1.4 0.2]]\n",
      "p: [[0.95041513 0.00509432 0.04449051]]\n",
      "예측값: Iris-setosa\n"
     ]
    }
   ],
   "source": [
    "X = np.array([data])  # 2차원 텐서(배열)로 변환\n",
    "print(X.shape)\n",
    "print(X)\n",
    "p = model.predict(X)  # 2차원 배열 대입\n",
    "print('p:', p)\n",
    "\n",
    "for i in range(len(p)):\n",
    "    print('예측값:', decode(p[i])) # [[0.6227252  0.23900516 0.13826966]]"
   ]
  },
  {
   "cell_type": "code",
   "execution_count": null,
   "metadata": {},
   "outputs": [],
   "source": []
  },
  {
   "cell_type": "code",
   "execution_count": null,
   "metadata": {},
   "outputs": [],
   "source": []
  }
 ],
 "metadata": {
  "kernelspec": {
   "display_name": "ai",
   "language": "python",
   "name": "ai"
  },
  "language_info": {
   "codemirror_mode": {
    "name": "ipython",
    "version": 3
   },
   "file_extension": ".py",
   "mimetype": "text/x-python",
   "name": "python",
   "nbconvert_exporter": "python",
   "pygments_lexer": "ipython3",
   "version": "3.9.16"
  }
 },
 "nbformat": 4,
 "nbformat_minor": 2
}
