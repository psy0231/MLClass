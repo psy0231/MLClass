{
 "cells": [
  {
   "cell_type": "markdown",
   "metadata": {
    "id": "txHwPv5Q_MO7"
   },
   "source": [
    "### Overfit 발생 모델, 훈련/검증/테스트로 데이터 구성"
   ]
  },
  {
   "cell_type": "code",
   "execution_count": null,
   "metadata": {
    "colab": {
     "base_uri": "https://localhost:8080/"
    },
    "executionInfo": {
     "elapsed": 21323,
     "status": "ok",
     "timestamp": 1659772672151,
     "user": {
      "displayName": "강사엄기흥",
      "userId": "12410353940363031053"
     },
     "user_tz": -540
    },
    "id": "eSQYRYNk_dKV",
    "outputId": "7d45f242-f8b7-4209-b094-6bcd108db517"
   },
   "outputs": [
    {
     "name": "stdout",
     "output_type": "stream",
     "text": [
      "Mounted at /content/drive\n"
     ]
    }
   ],
   "source": [
    "# 보안 문제로 ipynb 파일 open시마다 실행\n",
    "from google.colab import drive\n",
    "drive.mount('/content/drive') # 마운트 이름은 자유롭게 지정 가능"
   ]
  },
  {
   "cell_type": "code",
   "execution_count": 17,
   "metadata": {
    "id": "nKOR8_zp_MPA"
   },
   "outputs": [],
   "source": [
    "import warnings\n",
    "warnings.filterwarnings(action='ignore')\n",
    "\n",
    "import os\n",
    "import time\n",
    "# import cv2\n",
    "import random\n",
    "\n",
    "import numpy as np\n",
    "import pandas as pd\n",
    "import seaborn as sb\n",
    "import tensorflow as tf\n",
    "\n",
    "from tensorflow.keras.models import Sequential  # class\n",
    "from tensorflow.keras.models import load_model  # model 사용\n",
    "from tensorflow.keras.layers import Dense       # 전결합\n",
    "from tensorflow.keras.layers import Dropout     # 특정 node를 사용안함.\n",
    "from tensorflow.keras.layers import Conv2D\n",
    "from tensorflow.keras.layers import MaxPooling2D\n",
    "from tensorflow.keras.layers import Flatten\n",
    "\n",
    "from tensorflow.keras.callbacks import EarlyStopping   # 학습 자동 중지\n",
    "from tensorflow.keras.callbacks import ModelCheckpoint # 우수한 학습 모델 파일 저장\n",
    "from tensorflow.keras import regularizers \n",
    "from tensorflow.keras.utils import to_categorical   # one-hot 엔코딩\n",
    "from tensorflow.keras.optimizers import Adam\n",
    "\n",
    "from tensorflow.keras.datasets import mnist\n",
    "\n",
    "from sklearn.preprocessing import LabelEncoder\n",
    "from sklearn.preprocessing import StandardScaler\n",
    "from sklearn.model_selection import train_test_split # 학습셋과 테스트셋의 분리 지원\n",
    "from sklearn.model_selection import StratifiedKFold  # K겹 교차 검증\n",
    "from sklearn.metrics import confusion_matrix\n",
    "from sklearn.metrics import roc_curve\n",
    "\n",
    "from PIL import Image\n",
    "\n",
    "import matplotlib.pyplot as plt\n",
    "import seaborn as sns\n",
    "from matplotlib import font_manager, rc\n",
    "\n",
    "import platform \n",
    "# Windows, Linux, Darwin\n",
    "if (platform.system() == 'Windows'):  \n",
    "    rc('font', family=font_manager.FontProperties(fname=\"C:/Windows/Fonts/malgun.ttf\").get_name())\n",
    "    path = '.' # Local\n",
    "else:    \n",
    "    rc('font', family='NanumBarunGothic')  # Ubuntu 18.04 기준 한글 처리\n",
    "    path = '/content/drive/My Drive/kd_ml/dnn/survival' # Colab\n",
    "\n",
    "os.chdir(path) # 기본 경로 설정\n",
    "\n",
    "plt.rcParams[\"font.size\"] = 12         # 글자 크기\n",
    "plt.rcParams[\"figure.figsize\"] = (5, 3) # 10:4의 그래프 비율\n",
    "plt.rcParams['axes.unicode_minus'] = False  # minus 부호는 unicode 적용시 한글이 깨짐으로 설정\n",
    "\n",
    "%matplotlib inline\n",
    "\n",
    "# ---------------------------------------------------------------------\n",
    "# gpu 사용시 런타임에서 필요한 양만큼의 GPU 메모리를 할당후 자동 증가 처리\n",
    "# OS 메모리도 초기화됨.\n",
    "# ---------------------------------------------------------------------\n",
    "import tensorflow as tf\n",
    "\n",
    "gpus = tf.config.experimental.list_physical_devices('GPU')\n",
    "if gpus:\n",
    "    try:\n",
    "        tf.config.experimental.set_memory_growth(gpus[0], True)\n",
    "    except RuntimeError as e:\n",
    "        # 프로그램 시작시에 메모리 증가가 설정되어야만 합니다\n",
    "        print(e)\n",
    "    \n",
    "# ---------------------------------------------------------------------"
   ]
  },
  {
   "cell_type": "code",
   "execution_count": 2,
   "metadata": {
    "colab": {
     "base_uri": "https://localhost:8080/"
    },
    "executionInfo": {
     "elapsed": 724,
     "status": "ok",
     "timestamp": 1659772677025,
     "user": {
      "displayName": "강사엄기흥",
      "userId": "12410353940363031053"
     },
     "user_tz": -540
    },
    "id": "f0yewFZh_MPD",
    "outputId": "abb97782-bc5e-4e17-d43c-6e38f4c82609"
   },
   "outputs": [
    {
     "name": "stdout",
     "output_type": "stream",
     "text": [
      "<class 'numpy.ndarray'>\n",
      "(470, 18)\n"
     ]
    }
   ],
   "source": [
    "data = np.loadtxt('./survival.csv', delimiter=\",\", dtype=np.float64)\n",
    "# 사망자 삭제를 통한 생존자 비율 조정\n",
    "# data = np.loadtxt('./Survival2.csv', delimiter=\",\", dtype=np.float64)\n",
    "print(type(data))\n",
    "print(data.shape)"
   ]
  },
  {
   "cell_type": "code",
   "execution_count": 3,
   "metadata": {
    "colab": {
     "base_uri": "https://localhost:8080/"
    },
    "executionInfo": {
     "elapsed": 14,
     "status": "ok",
     "timestamp": 1659772677025,
     "user": {
      "displayName": "강사엄기흥",
      "userId": "12410353940363031053"
     },
     "user_tz": -540
    },
    "id": "FsL1WH6U_MPE",
    "outputId": "65d2cb80-5a10-4c3e-d33d-ffb787d38bf4"
   },
   "outputs": [
    {
     "name": "stdout",
     "output_type": "stream",
     "text": [
      "(470, 17)\n",
      "(470,)\n"
     ]
    }
   ],
   "source": [
    "X = data[:, 0:17] # 0 ~ 16: 17개, 독립 변수\n",
    "print(X.shape)\n",
    "Y = data[:, 17]   # 17: 1개, 종속 변수, target\n",
    "print(Y.shape)"
   ]
  },
  {
   "cell_type": "code",
   "execution_count": 5,
   "metadata": {
    "colab": {
     "base_uri": "https://localhost:8080/"
    },
    "executionInfo": {
     "elapsed": 12,
     "status": "ok",
     "timestamp": 1659772677026,
     "user": {
      "displayName": "강사엄기흥",
      "userId": "12410353940363031053"
     },
     "user_tz": -540
    },
    "id": "2GKwjA6G_MPE",
    "outputId": "911e18ed-75f2-4282-a3fe-64698ec10e3b"
   },
   "outputs": [
    {
     "name": "stdout",
     "output_type": "stream",
     "text": [
      "사망자: 400, 생존자: 70\n"
     ]
    }
   ],
   "source": [
    "# 생존자, 사망자\n",
    "rpt = [0] * 2\n",
    "for row in Y:\n",
    "    # print(row)\n",
    "    row = int(row)\n",
    "    rpt[row] = rpt[row] + 1 # row: 0 사망자 카운트, row 1: 생존자 카운트\n",
    "    \n",
    "print('사망자: {0:.0f}, 생존자: {1:.0f}'.format(rpt[0], rpt[1]))   "
   ]
  },
  {
   "cell_type": "code",
   "execution_count": 6,
   "metadata": {
    "colab": {
     "base_uri": "https://localhost:8080/"
    },
    "executionInfo": {
     "elapsed": 9,
     "status": "ok",
     "timestamp": 1659772677026,
     "user": {
      "displayName": "강사엄기흥",
      "userId": "12410353940363031053"
     },
     "user_tz": -540
    },
    "id": "EcSTK5qj_MPF",
    "outputId": "e95e8ec5-07e2-4ac6-9a92-5260b3b6ad7b"
   },
   "outputs": [
    {
     "name": "stdout",
     "output_type": "stream",
     "text": [
      "[0. 0. 0. 1. 0. 0. 0. 0. 1. 0. 0. 0. 0. 0. 0. 1. 0. 0. 0. 0. 0. 0. 0. 0.\n",
      " 0. 0. 0. 0. 0. 0. 0. 0. 0. 0. 1. 0. 0. 1. 0. 0. 0. 1. 0. 0. 0. 0. 0. 0.\n",
      " 0. 0. 0. 0. 0. 0. 0. 0. 0. 1. 0. 0. 0. 0. 0. 1. 0. 0. 0. 0. 0. 0. 0. 1.\n",
      " 0. 1. 1. 0. 0. 0. 0. 0. 1. 0. 0. 0. 0. 0. 1. 0. 0. 0. 0. 0. 0. 0. 0. 0.\n",
      " 0. 0. 0. 1.]\n",
      "(127,)\n"
     ]
    }
   ],
   "source": [
    "# train_test_split 분할을 통한 훈련, 검증, 테스트 데이터의 분리\n",
    "seed = 0\n",
    "# 90%: 분할대기(x_train_all), 10%: 테스트(x_test)\n",
    "x_train_all, x_test, y_train_all, y_test = train_test_split(X, Y,\n",
    "                                                          stratify=Y,\n",
    "                                                          test_size=0.1,\n",
    "                                                          random_state=seed)\n",
    "# Overfit\n",
    "# 나머지 데이터 90%를 분할, 70%: 훈련(x_train), 30%: 검증(x_val)\n",
    "x_train, x_val, y_train, y_val = train_test_split(x_train_all, y_train_all,\n",
    "                                                  stratify=y_train_all,\n",
    "                                                  test_size=0.3,\n",
    "                                                  random_state=seed)\n",
    "\n",
    "print(y_val[0:100])\n",
    "print(y_val.shape)"
   ]
  },
  {
   "cell_type": "code",
   "execution_count": 38,
   "metadata": {
    "id": "hNoLiXg8_MPG"
   },
   "outputs": [],
   "source": [
    "# 네트워크 구현\n",
    "def overfit1():\n",
    "    SEED = 0\n",
    "    os.environ['PYTHONHASHSEED'] = str(SEED)\n",
    "    os.environ['TF_DETERMINISTIC_OPS'] = '1'\n",
    "\n",
    "    tf.random.set_seed(SEED) # Global seed\n",
    "    np.random.seed(SEED)\n",
    "    random.seed(SEED)\n",
    "\n",
    "    model = Sequential()\n",
    "    model.add(Dense(128, input_dim=17, activation='relu')) # 기울기 소실 방지\n",
    "    model.add(Dense(64, activation='relu'))\n",
    "    model.add(Dense(32, activation='relu'))\n",
    "    model.add(Dense(15, activation='relu'))\n",
    "    model.add(Dense(1, activation='sigmoid')) # True/False\n",
    "    model.compile(optimizer='adam', loss='binary_crossentropy', \n",
    "                  metrics=['accuracy'])\n",
    "    model.summary()\n",
    "\n",
    "    # patience=14: Overfit, 과대 적합, 일반화 성질 훼손\n",
    "    #                       모델이 외부에서 사용시 정확도가 기대보다 떨어짐.\n",
    "    # restore_best_weights=True: 학습 종료시 가장 우수한 가중치, 편향으로 저장\n",
    "    es= EarlyStopping(monitor='loss', patience=14, restore_best_weights=True)\n",
    "\n",
    "    MODEL_DIR = './model/'\n",
    "    if not os.path.exists(MODEL_DIR): # 폴더가 존재하지 않으면 생성\n",
    "        os.mkdir(MODEL_DIR) # 폴더 생성\n",
    "\n",
    "    # 03d: 좌측 0 padding 정수 3자리, .4f: 실수 소수점 4자리 \n",
    "    modelpath='./model/{epoch:03d}-{val_accuracy:.4f}.h5'  \n",
    "    # epoch:03d: 부족한 자리를 0으로 채우는 정수 형식\n",
    "    # val_accuracy:.4f: 소수이하 4째자리까지 표현 형식\n",
    "\n",
    "    # 검증 정확도가 개선되었을 때만 학습 모델 파일로 저장\n",
    "    # filepath=modelpath: 파일이 저장되는 경로와 파일명\n",
    "    # monitor='val_accuracy': 검증 정확도 기준으로 판단\n",
    "    # verbose=1: 기록되는 파일 정보 출력\n",
    "    # save_best_only=True: 검증 정확도가 개선되면 파일로 저장\n",
    "    mcp= ModelCheckpoint(filepath=modelpath,\n",
    "                        monitor='val_accuracy',\n",
    "                        verbose=1, save_best_only=True)\n",
    "\n",
    "    start = time.time()\n",
    "    hist = model.fit(x_train, y_train, validation_data=(x_val, y_val), shuffle=True,\n",
    "                    epochs=1000, batch_size=1, callbacks=[es, mcp])\n",
    "    end=time.time()\n",
    "    print('Runtime: {0:.0f} 초'.format(end-start))\n",
    "    # patience=5 i5 2320: 248s, i9-10900kf: i9-11900H 54s,\n",
    "    # Ryzen 7 2700X: 121s, Ryzen 5 3600: 54s\n",
    "    \n",
    "    return model, hist"
   ]
  },
  {
   "cell_type": "code",
   "execution_count": 39,
   "metadata": {
    "colab": {
     "base_uri": "https://localhost:8080/"
    },
    "executionInfo": {
     "elapsed": 54868,
     "status": "ok",
     "timestamp": 1659772731889,
     "user": {
      "displayName": "강사엄기흥",
      "userId": "12410353940363031053"
     },
     "user_tz": -540
    },
    "id": "_ouCQiWf_MPH",
    "outputId": "d2e975b1-2ac6-44ef-eda3-c4ab51cecd97"
   },
   "outputs": [
    {
     "name": "stdout",
     "output_type": "stream",
     "text": [
      "Model: \"sequential_3\"\n",
      "_________________________________________________________________\n",
      " Layer (type)                Output Shape              Param #   \n",
      "=================================================================\n",
      " dense_10 (Dense)            (None, 128)               2304      \n",
      "                                                                 \n",
      " dense_11 (Dense)            (None, 64)                8256      \n",
      "                                                                 \n",
      " dense_12 (Dense)            (None, 32)                2080      \n",
      "                                                                 \n",
      " dense_13 (Dense)            (None, 15)                495       \n",
      "                                                                 \n",
      " dense_14 (Dense)            (None, 1)                 16        \n",
      "                                                                 \n",
      "=================================================================\n",
      "Total params: 13,151\n",
      "Trainable params: 13,151\n",
      "Non-trainable params: 0\n",
      "_________________________________________________________________\n",
      "Epoch 1/1000\n",
      "290/296 [============================>.] - ETA: 0s - loss: 0.6296 - accuracy: 0.8241\n",
      "Epoch 1: val_accuracy improved from -inf to 0.85039, saving model to ./model\\001-0.8504.h5\n",
      "296/296 [==============================] - 3s 9ms/step - loss: 0.6214 - accuracy: 0.8277 - val_loss: 0.4432 - val_accuracy: 0.8504\n",
      "Epoch 2/1000\n",
      "292/296 [============================>.] - ETA: 0s - loss: 0.4819 - accuracy: 0.8253\n",
      "Epoch 2: val_accuracy did not improve from 0.85039\n",
      "296/296 [==============================] - 2s 8ms/step - loss: 0.4862 - accuracy: 0.8243 - val_loss: 0.4525 - val_accuracy: 0.8504\n",
      "Epoch 3/1000\n",
      "293/296 [============================>.] - ETA: 0s - loss: 0.5203 - accuracy: 0.8396\n",
      "Epoch 3: val_accuracy did not improve from 0.85039\n",
      "296/296 [==============================] - 2s 8ms/step - loss: 0.5220 - accuracy: 0.8378 - val_loss: 0.4207 - val_accuracy: 0.8425\n",
      "Epoch 4/1000\n",
      "292/296 [============================>.] - ETA: 0s - loss: 0.4867 - accuracy: 0.8425\n",
      "Epoch 4: val_accuracy did not improve from 0.85039\n",
      "296/296 [==============================] - 2s 8ms/step - loss: 0.4834 - accuracy: 0.8446 - val_loss: 0.4084 - val_accuracy: 0.8504\n",
      "Epoch 5/1000\n",
      "293/296 [============================>.] - ETA: 0s - loss: 0.4580 - accuracy: 0.8532\n",
      "Epoch 5: val_accuracy did not improve from 0.85039\n",
      "296/296 [==============================] - 2s 8ms/step - loss: 0.4651 - accuracy: 0.8514 - val_loss: 0.4067 - val_accuracy: 0.8504\n",
      "Epoch 6/1000\n",
      "293/296 [============================>.] - ETA: 0s - loss: 0.4500 - accuracy: 0.8498\n",
      "Epoch 6: val_accuracy did not improve from 0.85039\n",
      "296/296 [==============================] - 2s 8ms/step - loss: 0.4484 - accuracy: 0.8514 - val_loss: 0.4519 - val_accuracy: 0.8504\n",
      "Epoch 7/1000\n",
      "295/296 [============================>.] - ETA: 0s - loss: 0.4352 - accuracy: 0.8508\n",
      "Epoch 7: val_accuracy did not improve from 0.85039\n",
      "296/296 [==============================] - 2s 8ms/step - loss: 0.4422 - accuracy: 0.8480 - val_loss: 0.4104 - val_accuracy: 0.8504\n",
      "Epoch 8/1000\n",
      "295/296 [============================>.] - ETA: 0s - loss: 0.4536 - accuracy: 0.8508\n",
      "Epoch 8: val_accuracy did not improve from 0.85039\n",
      "296/296 [==============================] - 2s 8ms/step - loss: 0.4529 - accuracy: 0.8514 - val_loss: 0.4217 - val_accuracy: 0.8504\n",
      "Epoch 9/1000\n",
      "291/296 [============================>.] - ETA: 0s - loss: 0.4427 - accuracy: 0.8488\n",
      "Epoch 9: val_accuracy did not improve from 0.85039\n",
      "296/296 [==============================] - 2s 8ms/step - loss: 0.4371 - accuracy: 0.8514 - val_loss: 0.4265 - val_accuracy: 0.8504\n",
      "Epoch 10/1000\n",
      "291/296 [============================>.] - ETA: 0s - loss: 0.4404 - accuracy: 0.8522\n",
      "Epoch 10: val_accuracy did not improve from 0.85039\n",
      "296/296 [==============================] - 2s 8ms/step - loss: 0.4413 - accuracy: 0.8514 - val_loss: 0.4162 - val_accuracy: 0.8504\n",
      "Epoch 11/1000\n",
      "293/296 [============================>.] - ETA: 0s - loss: 0.4322 - accuracy: 0.8532\n",
      "Epoch 11: val_accuracy did not improve from 0.85039\n",
      "296/296 [==============================] - 2s 8ms/step - loss: 0.4389 - accuracy: 0.8514 - val_loss: 0.4434 - val_accuracy: 0.8504\n",
      "Epoch 12/1000\n",
      "295/296 [============================>.] - ETA: 0s - loss: 0.4440 - accuracy: 0.8508\n",
      "Epoch 12: val_accuracy did not improve from 0.85039\n",
      "296/296 [==============================] - 2s 8ms/step - loss: 0.4436 - accuracy: 0.8514 - val_loss: 0.4559 - val_accuracy: 0.8504\n",
      "Epoch 13/1000\n",
      "289/296 [============================>.] - ETA: 0s - loss: 0.4380 - accuracy: 0.8512\n",
      "Epoch 13: val_accuracy did not improve from 0.85039\n",
      "296/296 [==============================] - 2s 8ms/step - loss: 0.4379 - accuracy: 0.8514 - val_loss: 0.4364 - val_accuracy: 0.8504\n",
      "Epoch 14/1000\n",
      "291/296 [============================>.] - ETA: 0s - loss: 0.4238 - accuracy: 0.8557\n",
      "Epoch 14: val_accuracy did not improve from 0.85039\n",
      "296/296 [==============================] - 2s 8ms/step - loss: 0.4337 - accuracy: 0.8514 - val_loss: 0.4187 - val_accuracy: 0.8504\n",
      "Epoch 15/1000\n",
      "296/296 [==============================] - ETA: 0s - loss: 0.4381 - accuracy: 0.8514\n",
      "Epoch 15: val_accuracy did not improve from 0.85039\n",
      "296/296 [==============================] - 2s 8ms/step - loss: 0.4381 - accuracy: 0.8514 - val_loss: 0.4361 - val_accuracy: 0.8504\n",
      "Epoch 16/1000\n",
      "291/296 [============================>.] - ETA: 0s - loss: 0.4311 - accuracy: 0.8522\n",
      "Epoch 16: val_accuracy did not improve from 0.85039\n",
      "296/296 [==============================] - 2s 8ms/step - loss: 0.4326 - accuracy: 0.8514 - val_loss: 0.4242 - val_accuracy: 0.8504\n",
      "Epoch 17/1000\n",
      "293/296 [============================>.] - ETA: 0s - loss: 0.4316 - accuracy: 0.8498\n",
      "Epoch 17: val_accuracy did not improve from 0.85039\n",
      "296/296 [==============================] - 2s 8ms/step - loss: 0.4299 - accuracy: 0.8514 - val_loss: 0.4298 - val_accuracy: 0.8504\n",
      "Epoch 18/1000\n",
      "296/296 [==============================] - ETA: 0s - loss: 0.4355 - accuracy: 0.8514\n",
      "Epoch 18: val_accuracy did not improve from 0.85039\n",
      "296/296 [==============================] - 2s 8ms/step - loss: 0.4355 - accuracy: 0.8514 - val_loss: 0.4267 - val_accuracy: 0.8504\n",
      "Epoch 19/1000\n",
      "290/296 [============================>.] - ETA: 0s - loss: 0.4329 - accuracy: 0.8483\n",
      "Epoch 19: val_accuracy did not improve from 0.85039\n",
      "296/296 [==============================] - 2s 8ms/step - loss: 0.4290 - accuracy: 0.8514 - val_loss: 0.4318 - val_accuracy: 0.8504\n",
      "Epoch 20/1000\n",
      "290/296 [============================>.] - ETA: 0s - loss: 0.4314 - accuracy: 0.8483\n",
      "Epoch 20: val_accuracy did not improve from 0.85039\n",
      "296/296 [==============================] - 2s 8ms/step - loss: 0.4253 - accuracy: 0.8514 - val_loss: 0.4295 - val_accuracy: 0.8504\n",
      "Epoch 21/1000\n",
      "295/296 [============================>.] - ETA: 0s - loss: 0.4260 - accuracy: 0.8542\n",
      "Epoch 21: val_accuracy did not improve from 0.85039\n",
      "296/296 [==============================] - 2s 8ms/step - loss: 0.4311 - accuracy: 0.8514 - val_loss: 0.4309 - val_accuracy: 0.8504\n",
      "Epoch 22/1000\n",
      "292/296 [============================>.] - ETA: 0s - loss: 0.4545 - accuracy: 0.8527\n",
      "Epoch 22: val_accuracy did not improve from 0.85039\n",
      "296/296 [==============================] - 2s 8ms/step - loss: 0.4562 - accuracy: 0.8514 - val_loss: 0.4231 - val_accuracy: 0.8504\n",
      "Epoch 23/1000\n",
      "292/296 [============================>.] - ETA: 0s - loss: 0.4176 - accuracy: 0.8527\n",
      "Epoch 23: val_accuracy did not improve from 0.85039\n",
      "296/296 [==============================] - 2s 8ms/step - loss: 0.4268 - accuracy: 0.8480 - val_loss: 0.4244 - val_accuracy: 0.8504\n",
      "Epoch 24/1000\n",
      "289/296 [============================>.] - ETA: 0s - loss: 0.4363 - accuracy: 0.8512\n",
      "Epoch 24: val_accuracy did not improve from 0.85039\n",
      "296/296 [==============================] - 2s 8ms/step - loss: 0.4370 - accuracy: 0.8514 - val_loss: 0.4274 - val_accuracy: 0.8504\n",
      "Epoch 25/1000\n",
      "292/296 [============================>.] - ETA: 0s - loss: 0.4304 - accuracy: 0.8493\n",
      "Epoch 25: val_accuracy did not improve from 0.85039\n",
      "296/296 [==============================] - 2s 8ms/step - loss: 0.4260 - accuracy: 0.8514 - val_loss: 0.4311 - val_accuracy: 0.8504\n",
      "Epoch 26/1000\n",
      "296/296 [==============================] - ETA: 0s - loss: 0.4378 - accuracy: 0.8514\n",
      "Epoch 26: val_accuracy did not improve from 0.85039\n",
      "296/296 [==============================] - 2s 8ms/step - loss: 0.4378 - accuracy: 0.8514 - val_loss: 0.4300 - val_accuracy: 0.8504\n",
      "Epoch 27/1000\n",
      "295/296 [============================>.] - ETA: 0s - loss: 0.4213 - accuracy: 0.8508\n",
      "Epoch 27: val_accuracy did not improve from 0.85039\n",
      "296/296 [==============================] - 2s 8ms/step - loss: 0.4205 - accuracy: 0.8514 - val_loss: 0.4214 - val_accuracy: 0.8504\n",
      "Epoch 28/1000\n",
      "288/296 [============================>.] - ETA: 0s - loss: 0.4172 - accuracy: 0.8576\n",
      "Epoch 28: val_accuracy did not improve from 0.85039\n",
      "296/296 [==============================] - 2s 8ms/step - loss: 0.4276 - accuracy: 0.8514 - val_loss: 0.4246 - val_accuracy: 0.8504\n",
      "Epoch 29/1000\n",
      "295/296 [============================>.] - ETA: 0s - loss: 0.4185 - accuracy: 0.8508\n",
      "Epoch 29: val_accuracy did not improve from 0.85039\n",
      "296/296 [==============================] - 2s 8ms/step - loss: 0.4179 - accuracy: 0.8514 - val_loss: 0.4519 - val_accuracy: 0.8504\n",
      "Epoch 30/1000\n",
      "296/296 [==============================] - ETA: 0s - loss: 0.4261 - accuracy: 0.8514\n",
      "Epoch 30: val_accuracy did not improve from 0.85039\n",
      "296/296 [==============================] - 2s 8ms/step - loss: 0.4261 - accuracy: 0.8514 - val_loss: 0.4411 - val_accuracy: 0.8504\n",
      "Epoch 31/1000\n",
      "295/296 [============================>.] - ETA: 0s - loss: 0.4314 - accuracy: 0.8508\n",
      "Epoch 31: val_accuracy did not improve from 0.85039\n",
      "296/296 [==============================] - 2s 8ms/step - loss: 0.4304 - accuracy: 0.8514 - val_loss: 0.4333 - val_accuracy: 0.8504\n",
      "Epoch 32/1000\n",
      "294/296 [============================>.] - ETA: 0s - loss: 0.4185 - accuracy: 0.8503\n",
      "Epoch 32: val_accuracy did not improve from 0.85039\n",
      "296/296 [==============================] - 2s 8ms/step - loss: 0.4174 - accuracy: 0.8514 - val_loss: 0.4462 - val_accuracy: 0.8504\n",
      "Epoch 33/1000\n",
      "296/296 [==============================] - ETA: 0s - loss: 0.4326 - accuracy: 0.8514\n",
      "Epoch 33: val_accuracy did not improve from 0.85039\n",
      "296/296 [==============================] - 2s 8ms/step - loss: 0.4326 - accuracy: 0.8514 - val_loss: 0.4345 - val_accuracy: 0.8504\n",
      "Epoch 34/1000\n",
      "296/296 [==============================] - ETA: 0s - loss: 0.4226 - accuracy: 0.8514\n",
      "Epoch 34: val_accuracy did not improve from 0.85039\n",
      "296/296 [==============================] - 2s 8ms/step - loss: 0.4226 - accuracy: 0.8514 - val_loss: 0.4275 - val_accuracy: 0.8504\n",
      "Epoch 35/1000\n",
      "294/296 [============================>.] - ETA: 0s - loss: 0.4289 - accuracy: 0.8503\n",
      "Epoch 35: val_accuracy did not improve from 0.85039\n",
      "296/296 [==============================] - 2s 8ms/step - loss: 0.4274 - accuracy: 0.8514 - val_loss: 0.4263 - val_accuracy: 0.8504\n",
      "Epoch 36/1000\n",
      "291/296 [============================>.] - ETA: 0s - loss: 0.4220 - accuracy: 0.8591\n",
      "Epoch 36: val_accuracy did not improve from 0.85039\n",
      "296/296 [==============================] - 2s 8ms/step - loss: 0.4363 - accuracy: 0.8514 - val_loss: 0.4328 - val_accuracy: 0.8504\n",
      "Epoch 37/1000\n",
      "288/296 [============================>.] - ETA: 0s - loss: 0.4235 - accuracy: 0.8507\n",
      "Epoch 37: val_accuracy did not improve from 0.85039\n",
      "296/296 [==============================] - 2s 8ms/step - loss: 0.4229 - accuracy: 0.8514 - val_loss: 0.4283 - val_accuracy: 0.8504\n",
      "Epoch 38/1000\n",
      "294/296 [============================>.] - ETA: 0s - loss: 0.4307 - accuracy: 0.8503\n",
      "Epoch 38: val_accuracy did not improve from 0.85039\n",
      "296/296 [==============================] - 2s 8ms/step - loss: 0.4289 - accuracy: 0.8514 - val_loss: 0.4274 - val_accuracy: 0.8504\n",
      "Epoch 39/1000\n",
      "288/296 [============================>.] - ETA: 0s - loss: 0.4285 - accuracy: 0.8472\n",
      "Epoch 39: val_accuracy did not improve from 0.85039\n",
      "296/296 [==============================] - 2s 8ms/step - loss: 0.4204 - accuracy: 0.8514 - val_loss: 0.4366 - val_accuracy: 0.8504\n",
      "Epoch 40/1000\n",
      "290/296 [============================>.] - ETA: 0s - loss: 0.4226 - accuracy: 0.8483\n",
      "Epoch 40: val_accuracy did not improve from 0.85039\n",
      "296/296 [==============================] - 2s 8ms/step - loss: 0.4184 - accuracy: 0.8514 - val_loss: 0.4343 - val_accuracy: 0.8504\n",
      "Epoch 41/1000\n",
      "292/296 [============================>.] - ETA: 0s - loss: 0.4149 - accuracy: 0.8527\n",
      "Epoch 41: val_accuracy did not improve from 0.85039\n",
      "296/296 [==============================] - 2s 8ms/step - loss: 0.4183 - accuracy: 0.8514 - val_loss: 0.4443 - val_accuracy: 0.8504\n",
      "Epoch 42/1000\n",
      "288/296 [============================>.] - ETA: 0s - loss: 0.4204 - accuracy: 0.8507\n",
      "Epoch 42: val_accuracy did not improve from 0.85039\n",
      "296/296 [==============================] - 2s 8ms/step - loss: 0.4182 - accuracy: 0.8514 - val_loss: 0.4379 - val_accuracy: 0.8504\n",
      "Epoch 43/1000\n",
      "296/296 [==============================] - ETA: 0s - loss: 0.4178 - accuracy: 0.8514\n",
      "Epoch 43: val_accuracy did not improve from 0.85039\n",
      "296/296 [==============================] - 2s 8ms/step - loss: 0.4178 - accuracy: 0.8514 - val_loss: 0.4251 - val_accuracy: 0.8504\n",
      "Epoch 44/1000\n",
      "291/296 [============================>.] - ETA: 0s - loss: 0.4155 - accuracy: 0.8522\n",
      "Epoch 44: val_accuracy did not improve from 0.85039\n",
      "296/296 [==============================] - 2s 8ms/step - loss: 0.4157 - accuracy: 0.8514 - val_loss: 0.4371 - val_accuracy: 0.8504\n",
      "Epoch 45/1000\n",
      "289/296 [============================>.] - ETA: 0s - loss: 0.4189 - accuracy: 0.8512\n",
      "Epoch 45: val_accuracy did not improve from 0.85039\n",
      "296/296 [==============================] - 2s 8ms/step - loss: 0.4177 - accuracy: 0.8514 - val_loss: 0.5121 - val_accuracy: 0.8504\n",
      "Epoch 46/1000\n",
      "292/296 [============================>.] - ETA: 0s - loss: 0.4112 - accuracy: 0.8527\n",
      "Epoch 46: val_accuracy did not improve from 0.85039\n",
      "296/296 [==============================] - 2s 8ms/step - loss: 0.4157 - accuracy: 0.8514 - val_loss: 0.4571 - val_accuracy: 0.8504\n",
      "Epoch 47/1000\n",
      "295/296 [============================>.] - ETA: 0s - loss: 0.4186 - accuracy: 0.8508\n",
      "Epoch 47: val_accuracy did not improve from 0.85039\n",
      "296/296 [==============================] - 2s 8ms/step - loss: 0.4174 - accuracy: 0.8514 - val_loss: 0.4504 - val_accuracy: 0.8504\n",
      "Epoch 48/1000\n",
      "294/296 [============================>.] - ETA: 0s - loss: 0.4312 - accuracy: 0.8503\n",
      "Epoch 48: val_accuracy did not improve from 0.85039\n",
      "296/296 [==============================] - 2s 8ms/step - loss: 0.4286 - accuracy: 0.8514 - val_loss: 0.4788 - val_accuracy: 0.8504\n",
      "Epoch 49/1000\n",
      "289/296 [============================>.] - ETA: 0s - loss: 0.4076 - accuracy: 0.8547\n",
      "Epoch 49: val_accuracy did not improve from 0.85039\n",
      "296/296 [==============================] - 2s 8ms/step - loss: 0.4125 - accuracy: 0.8514 - val_loss: 0.4677 - val_accuracy: 0.8504\n",
      "Epoch 50/1000\n",
      "293/296 [============================>.] - ETA: 0s - loss: 0.4295 - accuracy: 0.8498\n",
      "Epoch 50: val_accuracy did not improve from 0.85039\n",
      "296/296 [==============================] - 2s 8ms/step - loss: 0.4267 - accuracy: 0.8514 - val_loss: 0.4487 - val_accuracy: 0.8504\n",
      "Epoch 51/1000\n",
      "288/296 [============================>.] - ETA: 0s - loss: 0.4125 - accuracy: 0.8542\n",
      "Epoch 51: val_accuracy did not improve from 0.85039\n",
      "296/296 [==============================] - 2s 8ms/step - loss: 0.4164 - accuracy: 0.8514 - val_loss: 0.5171 - val_accuracy: 0.8504\n",
      "Epoch 52/1000\n",
      "290/296 [============================>.] - ETA: 0s - loss: 0.4157 - accuracy: 0.8517\n",
      "Epoch 52: val_accuracy did not improve from 0.85039\n",
      "296/296 [==============================] - 2s 8ms/step - loss: 0.4152 - accuracy: 0.8514 - val_loss: 0.4376 - val_accuracy: 0.8504\n",
      "Epoch 53/1000\n",
      "293/296 [============================>.] - ETA: 0s - loss: 0.4083 - accuracy: 0.8498\n",
      "Epoch 53: val_accuracy did not improve from 0.85039\n",
      "296/296 [==============================] - 2s 8ms/step - loss: 0.4060 - accuracy: 0.8514 - val_loss: 0.5516 - val_accuracy: 0.8504\n",
      "Epoch 54/1000\n",
      "293/296 [============================>.] - ETA: 0s - loss: 0.4084 - accuracy: 0.8532\n",
      "Epoch 54: val_accuracy did not improve from 0.85039\n",
      "296/296 [==============================] - 2s 8ms/step - loss: 0.4104 - accuracy: 0.8514 - val_loss: 0.5383 - val_accuracy: 0.8504\n",
      "Epoch 55/1000\n"
     ]
    },
    {
     "name": "stdout",
     "output_type": "stream",
     "text": [
      "293/296 [============================>.] - ETA: 0s - loss: 0.4086 - accuracy: 0.8532\n",
      "Epoch 55: val_accuracy did not improve from 0.85039\n",
      "296/296 [==============================] - 2s 8ms/step - loss: 0.4120 - accuracy: 0.8514 - val_loss: 0.4832 - val_accuracy: 0.8504\n",
      "Epoch 56/1000\n",
      "290/296 [============================>.] - ETA: 0s - loss: 0.4178 - accuracy: 0.8483\n",
      "Epoch 56: val_accuracy did not improve from 0.85039\n",
      "296/296 [==============================] - 2s 8ms/step - loss: 0.4131 - accuracy: 0.8514 - val_loss: 0.4356 - val_accuracy: 0.8504\n",
      "Epoch 57/1000\n",
      "290/296 [============================>.] - ETA: 0s - loss: 0.4299 - accuracy: 0.8483\n",
      "Epoch 57: val_accuracy did not improve from 0.85039\n",
      "296/296 [==============================] - 3s 9ms/step - loss: 0.4265 - accuracy: 0.8514 - val_loss: 0.4221 - val_accuracy: 0.8504\n",
      "Epoch 58/1000\n",
      "296/296 [==============================] - ETA: 0s - loss: 0.4050 - accuracy: 0.8514\n",
      "Epoch 58: val_accuracy did not improve from 0.85039\n",
      "296/296 [==============================] - 2s 8ms/step - loss: 0.4050 - accuracy: 0.8514 - val_loss: 0.4661 - val_accuracy: 0.8504\n",
      "Epoch 59/1000\n",
      "296/296 [==============================] - ETA: 0s - loss: 0.4088 - accuracy: 0.8514\n",
      "Epoch 59: val_accuracy did not improve from 0.85039\n",
      "296/296 [==============================] - 2s 8ms/step - loss: 0.4088 - accuracy: 0.8514 - val_loss: 0.4576 - val_accuracy: 0.8504\n",
      "Epoch 60/1000\n",
      "291/296 [============================>.] - ETA: 0s - loss: 0.4056 - accuracy: 0.8488\n",
      "Epoch 60: val_accuracy did not improve from 0.85039\n",
      "296/296 [==============================] - 2s 8ms/step - loss: 0.4009 - accuracy: 0.8514 - val_loss: 0.4713 - val_accuracy: 0.8504\n",
      "Epoch 61/1000\n",
      "295/296 [============================>.] - ETA: 0s - loss: 0.4058 - accuracy: 0.8508\n",
      "Epoch 61: val_accuracy did not improve from 0.85039\n",
      "296/296 [==============================] - 2s 8ms/step - loss: 0.4052 - accuracy: 0.8514 - val_loss: 0.4807 - val_accuracy: 0.8504\n",
      "Epoch 62/1000\n",
      "293/296 [============================>.] - ETA: 0s - loss: 0.4011 - accuracy: 0.8532\n",
      "Epoch 62: val_accuracy did not improve from 0.85039\n",
      "296/296 [==============================] - 2s 8ms/step - loss: 0.4033 - accuracy: 0.8514 - val_loss: 0.5388 - val_accuracy: 0.8504\n",
      "Epoch 63/1000\n",
      "290/296 [============================>.] - ETA: 0s - loss: 0.4064 - accuracy: 0.8517\n",
      "Epoch 63: val_accuracy did not improve from 0.85039\n",
      "296/296 [==============================] - 2s 8ms/step - loss: 0.4076 - accuracy: 0.8514 - val_loss: 0.4396 - val_accuracy: 0.8346\n",
      "Epoch 64/1000\n",
      "291/296 [============================>.] - ETA: 0s - loss: 0.4056 - accuracy: 0.8488\n",
      "Epoch 64: val_accuracy did not improve from 0.85039\n",
      "296/296 [==============================] - 2s 8ms/step - loss: 0.4062 - accuracy: 0.8480 - val_loss: 0.5367 - val_accuracy: 0.8504\n",
      "Epoch 65/1000\n",
      "292/296 [============================>.] - ETA: 0s - loss: 0.4094 - accuracy: 0.8493\n",
      "Epoch 65: val_accuracy did not improve from 0.85039\n",
      "296/296 [==============================] - 2s 8ms/step - loss: 0.4103 - accuracy: 0.8480 - val_loss: 0.5011 - val_accuracy: 0.8504\n",
      "Epoch 66/1000\n",
      "289/296 [============================>.] - ETA: 0s - loss: 0.3977 - accuracy: 0.8478\n",
      "Epoch 66: val_accuracy did not improve from 0.85039\n",
      "296/296 [==============================] - 2s 8ms/step - loss: 0.3905 - accuracy: 0.8514 - val_loss: 0.8374 - val_accuracy: 0.8504\n",
      "Epoch 67/1000\n",
      "289/296 [============================>.] - ETA: 0s - loss: 0.4264 - accuracy: 0.8512\n",
      "Epoch 67: val_accuracy did not improve from 0.85039\n",
      "296/296 [==============================] - 2s 8ms/step - loss: 0.4269 - accuracy: 0.8514 - val_loss: 0.4189 - val_accuracy: 0.8425\n",
      "Epoch 68/1000\n",
      "293/296 [============================>.] - ETA: 0s - loss: 0.4081 - accuracy: 0.8464\n",
      "Epoch 68: val_accuracy did not improve from 0.85039\n",
      "296/296 [==============================] - 2s 8ms/step - loss: 0.4058 - accuracy: 0.8480 - val_loss: 0.4973 - val_accuracy: 0.8504\n",
      "Epoch 69/1000\n",
      "289/296 [============================>.] - ETA: 0s - loss: 0.4094 - accuracy: 0.8512\n",
      "Epoch 69: val_accuracy did not improve from 0.85039\n",
      "296/296 [==============================] - 2s 8ms/step - loss: 0.4037 - accuracy: 0.8547 - val_loss: 0.5085 - val_accuracy: 0.8504\n",
      "Epoch 70/1000\n",
      "295/296 [============================>.] - ETA: 0s - loss: 0.3969 - accuracy: 0.8475\n",
      "Epoch 70: val_accuracy did not improve from 0.85039\n",
      "296/296 [==============================] - 2s 8ms/step - loss: 0.3961 - accuracy: 0.8480 - val_loss: 0.4805 - val_accuracy: 0.8504\n",
      "Epoch 71/1000\n",
      "292/296 [============================>.] - ETA: 0s - loss: 0.4037 - accuracy: 0.8527\n",
      "Epoch 71: val_accuracy did not improve from 0.85039\n",
      "296/296 [==============================] - 2s 8ms/step - loss: 0.4059 - accuracy: 0.8514 - val_loss: 0.5304 - val_accuracy: 0.8504\n",
      "Epoch 72/1000\n",
      "288/296 [============================>.] - ETA: 0s - loss: 0.3912 - accuracy: 0.8576\n",
      "Epoch 72: val_accuracy did not improve from 0.85039\n",
      "296/296 [==============================] - 2s 8ms/step - loss: 0.3972 - accuracy: 0.8547 - val_loss: 0.5282 - val_accuracy: 0.8346\n",
      "Epoch 73/1000\n",
      "290/296 [============================>.] - ETA: 0s - loss: 0.4065 - accuracy: 0.8483\n",
      "Epoch 73: val_accuracy did not improve from 0.85039\n",
      "296/296 [==============================] - 2s 8ms/step - loss: 0.4000 - accuracy: 0.8514 - val_loss: 0.4575 - val_accuracy: 0.8425\n",
      "Epoch 74/1000\n",
      "296/296 [==============================] - ETA: 0s - loss: 0.3955 - accuracy: 0.8514\n",
      "Epoch 74: val_accuracy did not improve from 0.85039\n",
      "296/296 [==============================] - 2s 8ms/step - loss: 0.3955 - accuracy: 0.8514 - val_loss: 0.5476 - val_accuracy: 0.8504\n",
      "Epoch 75/1000\n",
      "290/296 [============================>.] - ETA: 0s - loss: 0.4020 - accuracy: 0.8552\n",
      "Epoch 75: val_accuracy did not improve from 0.85039\n",
      "296/296 [==============================] - 2s 8ms/step - loss: 0.4013 - accuracy: 0.8547 - val_loss: 0.7434 - val_accuracy: 0.8504\n",
      "Epoch 76/1000\n",
      "292/296 [============================>.] - ETA: 0s - loss: 0.4279 - accuracy: 0.8390\n",
      "Epoch 76: val_accuracy did not improve from 0.85039\n",
      "296/296 [==============================] - 2s 8ms/step - loss: 0.4238 - accuracy: 0.8412 - val_loss: 0.5018 - val_accuracy: 0.8504\n",
      "Epoch 77/1000\n",
      "296/296 [==============================] - ETA: 0s - loss: 0.3972 - accuracy: 0.8514\n",
      "Epoch 77: val_accuracy did not improve from 0.85039\n",
      "296/296 [==============================] - 2s 8ms/step - loss: 0.3972 - accuracy: 0.8514 - val_loss: 0.5047 - val_accuracy: 0.8504\n",
      "Epoch 78/1000\n",
      "293/296 [============================>.] - ETA: 0s - loss: 0.3923 - accuracy: 0.8567\n",
      "Epoch 78: val_accuracy did not improve from 0.85039\n",
      "296/296 [==============================] - 2s 8ms/step - loss: 0.3947 - accuracy: 0.8547 - val_loss: 0.5726 - val_accuracy: 0.8504\n",
      "Epoch 79/1000\n",
      "296/296 [==============================] - ETA: 0s - loss: 0.4022 - accuracy: 0.8547\n",
      "Epoch 79: val_accuracy did not improve from 0.85039\n",
      "296/296 [==============================] - 2s 8ms/step - loss: 0.4022 - accuracy: 0.8547 - val_loss: 0.5838 - val_accuracy: 0.8504\n",
      "Epoch 80/1000\n",
      "293/296 [============================>.] - ETA: 0s - loss: 0.3941 - accuracy: 0.8498\n",
      "Epoch 80: val_accuracy did not improve from 0.85039\n",
      "296/296 [==============================] - 2s 8ms/step - loss: 0.3913 - accuracy: 0.8514 - val_loss: 0.6580 - val_accuracy: 0.8504\n",
      "Epoch 81/1000\n",
      "294/296 [============================>.] - ETA: 0s - loss: 0.4010 - accuracy: 0.8537\n",
      "Epoch 81: val_accuracy did not improve from 0.85039\n",
      "296/296 [==============================] - 2s 8ms/step - loss: 0.3989 - accuracy: 0.8547 - val_loss: 0.6011 - val_accuracy: 0.8504\n",
      "Epoch 82/1000\n",
      "294/296 [============================>.] - ETA: 0s - loss: 0.3822 - accuracy: 0.8605\n",
      "Epoch 82: val_accuracy did not improve from 0.85039\n",
      "296/296 [==============================] - 2s 8ms/step - loss: 0.3866 - accuracy: 0.8581 - val_loss: 0.6208 - val_accuracy: 0.8268\n",
      "Epoch 83/1000\n",
      "292/296 [============================>.] - ETA: 0s - loss: 0.4085 - accuracy: 0.8493\n",
      "Epoch 83: val_accuracy did not improve from 0.85039\n",
      "296/296 [==============================] - 2s 8ms/step - loss: 0.4049 - accuracy: 0.8514 - val_loss: 0.4903 - val_accuracy: 0.8504\n",
      "Epoch 84/1000\n",
      "288/296 [============================>.] - ETA: 0s - loss: 0.3844 - accuracy: 0.8576\n",
      "Epoch 84: val_accuracy did not improve from 0.85039\n",
      "296/296 [==============================] - 2s 8ms/step - loss: 0.3883 - accuracy: 0.8547 - val_loss: 0.6472 - val_accuracy: 0.8504\n",
      "Epoch 85/1000\n",
      "290/296 [============================>.] - ETA: 0s - loss: 0.3718 - accuracy: 0.8552\n",
      "Epoch 85: val_accuracy did not improve from 0.85039\n",
      "296/296 [==============================] - 2s 8ms/step - loss: 0.3735 - accuracy: 0.8547 - val_loss: 0.7679 - val_accuracy: 0.8425\n",
      "Epoch 86/1000\n",
      "296/296 [==============================] - ETA: 0s - loss: 0.4468 - accuracy: 0.8480\n",
      "Epoch 86: val_accuracy did not improve from 0.85039\n",
      "296/296 [==============================] - 2s 8ms/step - loss: 0.4468 - accuracy: 0.8480 - val_loss: 0.5550 - val_accuracy: 0.8504\n",
      "Epoch 87/1000\n",
      "295/296 [============================>.] - ETA: 0s - loss: 0.3860 - accuracy: 0.8576\n",
      "Epoch 87: val_accuracy did not improve from 0.85039\n",
      "296/296 [==============================] - 2s 8ms/step - loss: 0.3852 - accuracy: 0.8581 - val_loss: 0.5867 - val_accuracy: 0.8504\n",
      "Epoch 88/1000\n",
      "296/296 [==============================] - ETA: 0s - loss: 0.3759 - accuracy: 0.8581\n",
      "Epoch 88: val_accuracy did not improve from 0.85039\n",
      "296/296 [==============================] - 2s 8ms/step - loss: 0.3759 - accuracy: 0.8581 - val_loss: 0.5454 - val_accuracy: 0.8110\n",
      "Epoch 89/1000\n",
      "294/296 [============================>.] - ETA: 0s - loss: 0.3996 - accuracy: 0.8639\n",
      "Epoch 89: val_accuracy did not improve from 0.85039\n",
      "296/296 [==============================] - 2s 8ms/step - loss: 0.3981 - accuracy: 0.8649 - val_loss: 0.5625 - val_accuracy: 0.8189\n",
      "Epoch 90/1000\n",
      "294/296 [============================>.] - ETA: 0s - loss: 0.3575 - accuracy: 0.8707\n",
      "Epoch 90: val_accuracy did not improve from 0.85039\n",
      "296/296 [==============================] - 2s 8ms/step - loss: 0.3616 - accuracy: 0.8682 - val_loss: 0.6621 - val_accuracy: 0.8425\n",
      "Epoch 91/1000\n",
      "291/296 [============================>.] - ETA: 0s - loss: 0.3924 - accuracy: 0.8557\n",
      "Epoch 91: val_accuracy did not improve from 0.85039\n",
      "296/296 [==============================] - 3s 8ms/step - loss: 0.3892 - accuracy: 0.8581 - val_loss: 0.5811 - val_accuracy: 0.8346\n",
      "Epoch 92/1000\n",
      "292/296 [============================>.] - ETA: 0s - loss: 0.3707 - accuracy: 0.8664\n",
      "Epoch 92: val_accuracy did not improve from 0.85039\n",
      "296/296 [==============================] - 2s 8ms/step - loss: 0.3730 - accuracy: 0.8649 - val_loss: 0.6155 - val_accuracy: 0.8268\n",
      "Epoch 93/1000\n",
      "292/296 [============================>.] - ETA: 0s - loss: 0.3940 - accuracy: 0.8767\n",
      "Epoch 93: val_accuracy did not improve from 0.85039\n",
      "296/296 [==============================] - 2s 8ms/step - loss: 0.3895 - accuracy: 0.8784 - val_loss: 0.6193 - val_accuracy: 0.8504\n",
      "Epoch 94/1000\n",
      "289/296 [============================>.] - ETA: 0s - loss: 0.3757 - accuracy: 0.8651\n",
      "Epoch 94: val_accuracy did not improve from 0.85039\n",
      "296/296 [==============================] - 2s 8ms/step - loss: 0.3819 - accuracy: 0.8615 - val_loss: 0.6934 - val_accuracy: 0.8504\n",
      "Epoch 95/1000\n",
      "291/296 [============================>.] - ETA: 0s - loss: 0.3727 - accuracy: 0.8625\n",
      "Epoch 95: val_accuracy did not improve from 0.85039\n",
      "296/296 [==============================] - 2s 8ms/step - loss: 0.3702 - accuracy: 0.8649 - val_loss: 0.7084 - val_accuracy: 0.8425\n",
      "Epoch 96/1000\n",
      "294/296 [============================>.] - ETA: 0s - loss: 0.3863 - accuracy: 0.8571\n",
      "Epoch 96: val_accuracy did not improve from 0.85039\n",
      "296/296 [==============================] - 2s 8ms/step - loss: 0.3849 - accuracy: 0.8581 - val_loss: 0.6201 - val_accuracy: 0.8504\n",
      "Epoch 97/1000\n",
      "291/296 [============================>.] - ETA: 0s - loss: 0.4270 - accuracy: 0.8488\n",
      "Epoch 97: val_accuracy did not improve from 0.85039\n",
      "296/296 [==============================] - 2s 8ms/step - loss: 0.4228 - accuracy: 0.8514 - val_loss: 0.4827 - val_accuracy: 0.8268\n",
      "Epoch 98/1000\n",
      "293/296 [============================>.] - ETA: 0s - loss: 0.3717 - accuracy: 0.8635\n",
      "Epoch 98: val_accuracy did not improve from 0.85039\n",
      "296/296 [==============================] - 2s 8ms/step - loss: 0.3692 - accuracy: 0.8649 - val_loss: 0.5834 - val_accuracy: 0.8504\n",
      "Epoch 99/1000\n",
      "289/296 [============================>.] - ETA: 0s - loss: 0.3717 - accuracy: 0.8616\n",
      "Epoch 99: val_accuracy did not improve from 0.85039\n",
      "296/296 [==============================] - 2s 8ms/step - loss: 0.3712 - accuracy: 0.8615 - val_loss: 0.6481 - val_accuracy: 0.8504\n",
      "Epoch 100/1000\n",
      "292/296 [============================>.] - ETA: 0s - loss: 0.3630 - accuracy: 0.8699\n",
      "Epoch 100: val_accuracy did not improve from 0.85039\n",
      "296/296 [==============================] - 2s 8ms/step - loss: 0.3643 - accuracy: 0.8682 - val_loss: 0.6339 - val_accuracy: 0.8268\n",
      "Epoch 101/1000\n",
      "290/296 [============================>.] - ETA: 0s - loss: 0.3718 - accuracy: 0.8621\n",
      "Epoch 101: val_accuracy did not improve from 0.85039\n",
      "296/296 [==============================] - 2s 8ms/step - loss: 0.3665 - accuracy: 0.8649 - val_loss: 0.6466 - val_accuracy: 0.8268\n",
      "Epoch 102/1000\n",
      "296/296 [==============================] - ETA: 0s - loss: 0.4122 - accuracy: 0.8514\n",
      "Epoch 102: val_accuracy did not improve from 0.85039\n",
      "296/296 [==============================] - 2s 8ms/step - loss: 0.4122 - accuracy: 0.8514 - val_loss: 0.5964 - val_accuracy: 0.8504\n",
      "Epoch 103/1000\n",
      "293/296 [============================>.] - ETA: 0s - loss: 0.3808 - accuracy: 0.8635\n",
      "Epoch 103: val_accuracy did not improve from 0.85039\n",
      "296/296 [==============================] - 2s 8ms/step - loss: 0.3783 - accuracy: 0.8649 - val_loss: 0.5182 - val_accuracy: 0.8425\n",
      "Epoch 104/1000\n",
      "292/296 [============================>.] - ETA: 0s - loss: 0.3612 - accuracy: 0.8699\n",
      "Epoch 104: val_accuracy did not improve from 0.85039\n",
      "296/296 [==============================] - 2s 8ms/step - loss: 0.3643 - accuracy: 0.8682 - val_loss: 0.5305 - val_accuracy: 0.8425\n",
      "Epoch 105/1000\n",
      "292/296 [============================>.] - ETA: 0s - loss: 0.3649 - accuracy: 0.8801\n",
      "Epoch 105: val_accuracy did not improve from 0.85039\n",
      "296/296 [==============================] - 2s 8ms/step - loss: 0.3707 - accuracy: 0.8750 - val_loss: 0.5622 - val_accuracy: 0.8346\n",
      "Epoch 106/1000\n",
      "294/296 [============================>.] - ETA: 0s - loss: 0.3665 - accuracy: 0.8707\n",
      "Epoch 106: val_accuracy did not improve from 0.85039\n",
      "296/296 [==============================] - 2s 8ms/step - loss: 0.3673 - accuracy: 0.8682 - val_loss: 0.5665 - val_accuracy: 0.8346\n",
      "Runtime: 248 초\n"
     ]
    }
   ],
   "source": [
    "model, hist = overfit1()"
   ]
  },
  {
   "cell_type": "code",
   "execution_count": 43,
   "metadata": {
    "colab": {
     "base_uri": "https://localhost:8080/",
     "height": 356
    },
    "executionInfo": {
     "elapsed": 28448,
     "status": "ok",
     "timestamp": 1659772760316,
     "user": {
      "displayName": "강사엄기흥",
      "userId": "12410353940363031053"
     },
     "user_tz": -540
    },
    "id": "KotpBhSz_MPI",
    "outputId": "285b671b-ed3b-4c70-9a2d-de843177384a",
    "scrolled": true
   },
   "outputs": [
    {
     "data": {
      "image/png": "[encoded data removed]",
      "text/plain": [
       "<Figure size 1000x500 with 2 Axes>"
      ]
     },
     "metadata": {},
     "output_type": "display_data"
    }
   ],
   "source": [
    "import matplotlib.pyplot as plt\n",
    "%matplotlib inline  \n",
    "\n",
    "fig, loss_ax = plt.subplots()\n",
    "# plt.figure(figsize=(6,4)) # ERROR\n",
    "fig.set_size_inches(10, 5)  # 챠트 크기 설정\n",
    "\n",
    "acc_ax = loss_ax.twinx()  # 오른쪽 y 출 설정\n",
    "\n",
    "# 왼쪽 y 축 설정\n",
    "loss_ax.plot(hist.history['loss'], 'y', label='train loss')\n",
    "loss_ax.plot(hist.history['val_loss'], 'r', label='val loss')\n",
    "loss_ax.set_ylim([0.0, 1.0]) # 값을 반영하여 변경\n",
    "\n",
    "# 오른쪽 y 축 설정\n",
    "acc_ax.plot(hist.history['accuracy'], 'b', label='train accuracy')\n",
    "acc_ax.plot(hist.history['val_accuracy'], 'g', label='val accuracy')\n",
    "acc_ax.set_ylim([0.0, 1]) # 0.0, 1: 0 ~ 100 %, 정확도임으로 변경하지 않음\n",
    "\n",
    "# 축 레이블 설정\n",
    "loss_ax.set_xlabel('epoch')  # 학습 횟수\n",
    "loss_ax.set_ylabel('loss')   # 오차\n",
    "acc_ax.set_ylabel('accuracy') # 정확도\n",
    "\n",
    "loss_ax.legend(loc='upper left') # 오차 레이블 위치\n",
    "acc_ax.legend(loc='lower left')  # 정확도 레이블 위치\n",
    "\n",
    "plt.show()"
   ]
  },
  {
   "cell_type": "code",
   "execution_count": 34,
   "metadata": {
    "colab": {
     "base_uri": "https://localhost:8080/"
    },
    "executionInfo": {
     "elapsed": 437,
     "status": "ok",
     "timestamp": 1659772760746,
     "user": {
      "displayName": "강사엄기흥",
      "userId": "12410353940363031053"
     },
     "user_tz": -540
    },
    "id": "b7z8yXQK_MPJ",
    "outputId": "002d8fed-de0e-4e5a-be46-489049fa9477"
   },
   "outputs": [
    {
     "name": "stdout",
     "output_type": "stream",
     "text": [
      "손실값: 0.4713906943798065 /정확도: 85.10638475418091 %\n"
     ]
    }
   ],
   "source": [
    "test_loss, test_acc = model.evaluate(x_test, y_test, batch_size=1, verbose=0)\n",
    "print('손실값:', test_loss, '/정확도:', (test_acc*100), '%')"
   ]
  },
  {
   "cell_type": "code",
   "execution_count": 35,
   "metadata": {
    "id": "NfLXSFG7_MPJ"
   },
   "outputs": [],
   "source": [
    "# 생존자의 규칙 파악에 실패하여 생존자 예측이 1~2명 정도만 가능하다.\n",
    "# 85.10638475418091 % 신뢰할 수 없다.\n",
    "# 생존자의 데이터를 증가 시켜야한다.\n",
    "# 사망 생존에 영향을 많이 주는 변수를 주성분 분석등을 이용하여 파악한다.\n",
    "# 기존 생존자 데이터가 규칙성이 없는 경우 데이터 증폭을 위해 기존 데이터의\n",
    "# 중앙값이나 평균등을 이용하여 데이터를 추가해도 정확도 개선은 어렵다.\n",
    "# 재료(데이터)가 부실하면 생산 제품도 부실하다."
   ]
  },
  {
   "cell_type": "code",
   "execution_count": 36,
   "metadata": {
    "id": "dverlBAv_MPK"
   },
   "outputs": [
    {
     "name": "stdout",
     "output_type": "stream",
     "text": [
      "(47, 17)\n",
      "[[0]\n",
      " [0]\n",
      " [0]\n",
      " [0]\n",
      " [0]]\n"
     ]
    },
    {
     "data": {
      "image/png": "[encoded data removed]",
      "text/plain": [
       "<Figure size 500x300 with 1 Axes>"
      ]
     },
     "metadata": {},
     "output_type": "display_data"
    },
    {
     "name": "stdout",
     "output_type": "stream",
     "text": [
      "[[40  0]\n",
      " [ 7  0]]\n"
     ]
    }
   ],
   "source": [
    "# 결과 - 혼동 행렬\n",
    "print(x_test.shape)\n",
    "\n",
    "# 모델 테스트, Tensorflow 2.5까지 지원\n",
    "# y_test_pred = model.predict_classes(x_test)  \n",
    "\n",
    "# 모델 테스트, Tensorflow 2.6 이상 지원\n",
    "y_test_pred = (model.predict(x_test) >= 0.5).astype(\"int32\")  # 모델 테스트,\n",
    "print(y_test_pred[:5])\n",
    "\n",
    "c_matrix = confusion_matrix(y_test, y_test_pred)\n",
    "ax = sb.heatmap(c_matrix, annot=True, \n",
    "                 xticklabels=['사망', '생존'], \n",
    "                 yticklabels=['사망', '생존'], cbar=False, cmap='Blues')\n",
    "ax.set_xlabel(\"Prediction\")\n",
    "ax.set_ylabel(\"Actual\")\n",
    "plt.show()\n",
    "\n",
    "print(c_matrix)\n",
    "\n",
    "# [[40   0]\n",
    "#  [ 7   0]]\n",
    "# [[사망자 맞춘 갯수   사망자 틀린 갯수]\n",
    "#  [생존자 틀린 갯수   생존자 맞춘갯수]]"
   ]
  },
  {
   "cell_type": "code",
   "execution_count": 37,
   "metadata": {},
   "outputs": [
    {
     "data": {
      "image/png": "[encoded data removed]",
      "text/plain": [
       "<Figure size 500x300 with 1 Axes>"
      ]
     },
     "metadata": {},
     "output_type": "display_data"
    }
   ],
   "source": [
    "# 결과 - ROC 곡선\n",
    "y_test_pred_probs = model.predict(x_test)\n",
    "# print(y_test_pred_probs)\n",
    "FPR, TPR, _ = roc_curve(y_test, y_test_pred_probs)\n",
    "plt.plot(FPR, TPR)\n",
    "plt.plot([0,1],[0,1],'--', color='black') #diagonal line\n",
    "plt.title('ROC Curve')\n",
    "plt.xlabel('False Positive Rate')\n",
    "plt.ylabel('True Positive Rate')\n",
    "plt.show()"
   ]
  },
  {
   "cell_type": "code",
   "execution_count": null,
   "metadata": {},
   "outputs": [],
   "source": [
    "# 과대적합, 과적합, Overfit 감소 방법\n",
    "# patience 감소, 네트워크 단순화, 지도 학습은 상황에따라 네트워크 조절 불가능."
   ]
  }
 ],
 "metadata": {
  "colab": {
   "collapsed_sections": [],
   "name": "Overfit.ipynb",
   "provenance": []
  },
  "kernelspec": {
   "display_name": "ai",
   "language": "python",
   "name": "ai"
  },
  "language_info": {
   "codemirror_mode": {
    "name": "ipython",
    "version": 3
   },
   "file_extension": ".py",
   "mimetype": "text/x-python",
   "name": "python",
   "nbconvert_exporter": "python",
   "pygments_lexer": "ipython3",
   "version": "3.9.16"
  }
 },
 "nbformat": 4,
 "nbformat_minor": 1
}
