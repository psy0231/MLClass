{
 "cells": [
  {
   "attachments": {},
   "cell_type": "markdown",
   "id": "ddca8406",
   "metadata": {},
   "source": [
    "### 모델 테스트"
   ]
  },
  {
   "cell_type": "code",
   "execution_count": 1,
   "id": "2211a79e",
   "metadata": {},
   "outputs": [],
   "source": [
    "import warnings\n",
    "warnings.filterwarnings(action='ignore')\n",
    "\n",
    "import numpy as np\n",
    "from tensorflow.keras.models import load_model  # model 사용"
   ]
  },
  {
   "cell_type": "code",
   "execution_count": 2,
   "id": "8df21d2a",
   "metadata": {},
   "outputs": [],
   "source": [
    "model = load_model('./Pinterest.h5')"
   ]
  },
  {
   "cell_type": "code",
   "execution_count": 3,
   "id": "38414353",
   "metadata": {},
   "outputs": [
    {
     "name": "stdout",
     "output_type": "stream",
     "text": [
      "[[1 0 0 0 0 1 0 0 0 0 1 0 0 0 0 1 0 0 0 0 1 0 0 0 0]]\n"
     ]
    }
   ],
   "source": [
    "X = np.array([[1,0,0,0,0,1,0,0,0,0,1,0,0,0,0,1,0,0,0,0,1,0,0,0,0]])\n",
    "Y = [0]\n",
    "\n",
    "print(X)"
   ]
  },
  {
   "cell_type": "code",
   "execution_count": 4,
   "id": "33586031",
   "metadata": {},
   "outputs": [
    {
     "name": "stdout",
     "output_type": "stream",
     "text": [
      "[[0.6499224  0.00782875 0.01280042 0.12066945 0.20877898]]\n"
     ]
    }
   ],
   "source": [
    "p=model.predict(X)\n",
    "print(p)"
   ]
  },
  {
   "cell_type": "code",
   "execution_count": 5,
   "id": "ff6488c9",
   "metadata": {},
   "outputs": [
    {
     "name": "stdout",
     "output_type": "stream",
     "text": [
      "[[64.99223    0.7828749  1.2800415 12.066945  20.877897 ]]\n",
      "64.99223\n",
      "0\n"
     ]
    }
   ],
   "source": [
    "print(p*100)\n",
    "print(np.max(p*100))\n",
    "print(np.argmax(p*100))"
   ]
  },
  {
   "cell_type": "code",
   "execution_count": 6,
   "id": "d1df0ff6",
   "metadata": {},
   "outputs": [
    {
     "name": "stdout",
     "output_type": "stream",
     "text": [
      "-> index:  0\n",
      "-> per:  64.992\n",
      "{'label': '강아지', 'per': 64.992}\n"
     ]
    }
   ],
   "source": [
    "# 0: 강아지, 1: 카페, 2: 가을, 3: 한우, 4: 꽃  \n",
    "index = np.argmax(p) \n",
    "print('-> index: ', index) # 0 ~ 4\n",
    "per = round(np.max(p) * 100, 3)\n",
    "print('-> per: ', per) \n",
    "\n",
    "if index == 0:\n",
    "    label = '강아지'\n",
    "elif index == 1:\n",
    "    label = '카페'\n",
    "elif index == 2:\n",
    "    label = '가을'\n",
    "elif index == 3:\n",
    "    label = '한우'\n",
    "elif index == 4:\n",
    "    label = '꽃'\n",
    "\n",
    "result = {}\n",
    "# 종류가 5개임으로 균등한 분할은 20%임으로 20% 초과시 추천\n",
    "if per >= 20:\n",
    "    result = {\"label\": label, \"per\": per}\n",
    "else:\n",
    "    result = {\"label\": f'가장 인접한 추천: {label}', \"per\": per}\n",
    "\n",
    "print(result)\n",
    "\n",
    "# [[0.35821876 0.28507757 0.35670367]]: 1번만 전부 선택 했는데 확률이 너무 작은 값임."
   ]
  },
  {
   "cell_type": "code",
   "execution_count": 7,
   "id": "ea33f7fe",
   "metadata": {},
   "outputs": [],
   "source": [
    "# 함수 기반의 처리\n",
    "def recommend(X, Y):\n",
    "    data = np.array([np.array(X)]) # ndarray 타입의 2차원이어야함\n",
    "    p = model.predict(data)  # 모델 사용, 2차원 데이터 전달\n",
    "    \n",
    "    index = np.argmax(p) \n",
    "    per = round(np.max(p) * 100, 1)\n",
    "    print(f'-> index: {index}  per: {per} %', end=' ')\n",
    "\n",
    "    if index == 0:\n",
    "        label = '강아지'\n",
    "    elif index == 1:\n",
    "        label = '카페'\n",
    "    elif index == 2:\n",
    "        label = '가을'\n",
    "    elif index == 3:\n",
    "        label = '한우'\n",
    "    elif index == 4:\n",
    "        label = '꽃'\n",
    "    \n",
    "    if np.max(p*100) > 20:\n",
    "        print(label + ' 추천 필요') \n",
    "    else:\n",
    "        print('구별이 확실하지 않아 추천이 어렵습니다.')\n",
    "        print(f'가장 인접한 추천: {label}')"
   ]
  },
  {
   "cell_type": "code",
   "execution_count": 8,
   "id": "97c84d4d",
   "metadata": {},
   "outputs": [
    {
     "name": "stdout",
     "output_type": "stream",
     "text": [
      "-> index: 0  per: 65.0 % 강아지 추천 필요\n",
      "-> index: 1  per: 64.6 % 카페 추천 필요\n",
      "-> index: 2  per: 71.0 % 가을 추천 필요\n",
      "-> index: 0  per: 46.7 % 강아지 추천 필요\n",
      "-> index: 0  per: 28.7 % 강아지 추천 필요\n",
      "-> index: 1  per: 41.8 % 카페 추천 필요\n",
      "-> index: 1  per: 58.7 % 카페 추천 필요\n",
      "-> index: 3  per: 49.6 % 한우 추천 필요\n",
      "-> index: 3  per: 68.8 % 한우 추천 필요\n"
     ]
    }
   ],
   "source": [
    "# 0: 강아지, 1: 카페, 2: 가을, 3: 한우 0,0,0,1,0, 4: 꽃  \n",
    "recommend([1,0,0,0,0,1,0,0,0,0,1,0,0,0,0,1,0,0,0,0,1,0,0,0,0], 0)\n",
    "recommend([0,1,0,0,0,0,1,0,0,0,0,1,0,0,0,0,1,0,0,0,0,1,0,0,0], 1)\n",
    "recommend([0,0,1,0,0,0,0,1,0,0,0,0,1,0,0,0,0,1,0,0,0,0,1,0,0], 2)\n",
    "# 강아지 4번 카페 1번\n",
    "recommend([1,0,0,0,0,1,0,0,0,0,1,0,0,0,0,1,0,0,0,0,0,1,0,0,0], 0)\n",
    "# 강아지 3번 카페 2번\n",
    "recommend([1,0,0,0,0,1,0,0,0,0,1,0,0,0,0,0,1,0,0,0,0,1,0,0,0], 0)\n",
    "# 강아지 2번 카페 3번\n",
    "recommend([1,0,0,0,0,1,0,0,0,0,0,1,0,0,0,0,1,0,0,0,0,1,0,0,0], 0)\n",
    "# 강아지 1번 카페 4번\n",
    "recommend([1,0,0,0,0,0,1,0,0,0,0,1,0,0,0,0,1,0,0,0,0,1,0,0,0], 0)\n",
    "# 한우 3번, 꽃 2번\n",
    "recommend([0,0,0,1,0,\n",
    "           0,0,0,0,1,\n",
    "           0,0,0,1,0,\n",
    "           0,0,0,0,1,\n",
    "           0,0,0,1,0], 0)\n",
    "# 한우 3번, 강아지1번, 꽃 2번\n",
    "recommend([0,0,0,1,0,\n",
    "           0,0,0,0,1,\n",
    "           0,0,0,1,0,\n",
    "           1,0,0,0,0,\n",
    "           0,0,0,1,0], 0)"
   ]
  },
  {
   "cell_type": "code",
   "execution_count": null,
   "id": "a19aae17",
   "metadata": {},
   "outputs": [],
   "source": []
  }
 ],
 "metadata": {
  "kernelspec": {
   "display_name": "ai",
   "language": "python",
   "name": "ai"
  },
  "language_info": {
   "codemirror_mode": {
    "name": "ipython",
    "version": 3
   },
   "file_extension": ".py",
   "mimetype": "text/x-python",
   "name": "python",
   "nbconvert_exporter": "python",
   "pygments_lexer": "ipython3",
   "version": "3.9.16"
  }
 },
 "nbformat": 4,
 "nbformat_minor": 5
}
