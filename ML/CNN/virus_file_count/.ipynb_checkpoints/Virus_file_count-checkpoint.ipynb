{
 "cells": [
  {
   "cell_type": "code",
   "execution_count": 1,
   "metadata": {
    "colab": {
     "base_uri": "https://localhost:8080/"
    },
    "executionInfo": {
     "elapsed": 18680,
     "status": "ok",
     "timestamp": 1660981500581,
     "user": {
      "displayName": "강사엄기흥",
      "userId": "12410353940363031053"
     },
     "user_tz": -540
    },
    "id": "a1bd47fCrghx",
    "outputId": "d88a9836-5983-4a48-a351-e2a25052ed04"
   },
   "outputs": [],
   "source": [
    "# GPU 런타임 환경 설정\n",
    "\n",
    "# 보안 문제로 ipynb 파일 open시마다 실행\n",
    "# from google.colab import drive\n",
    "# drive.mount('/content/drive') # 마운트 이름은 자유롭게 지정 가능"
   ]
  },
  {
   "cell_type": "code",
   "execution_count": 7,
   "metadata": {
    "id": "tXiRd6fyqT6w"
   },
   "outputs": [],
   "source": [
    "import warnings\n",
    "warnings.filterwarnings(action='ignore')\n",
    "\n",
    "import os\n",
    "import time\n",
    "import cv2\n",
    "import random\n",
    "\n",
    "import numpy as np\n",
    "import pandas as pd\n",
    "import seaborn as sb\n",
    "import tensorflow as tf\n",
    "\n",
    "from tensorflow.keras.models import Sequential  # class\n",
    "from tensorflow.keras.models import load_model  # model 사용\n",
    "from tensorflow.keras.layers import Dense       # 전결합\n",
    "from tensorflow.keras.layers import Dropout     # 특정 node를 사용안함.\n",
    "from tensorflow.keras.layers import Conv2D\n",
    "from tensorflow.keras.layers import MaxPooling2D\n",
    "from tensorflow.keras.layers import Flatten\n",
    "\n",
    "from tensorflow.keras.callbacks import EarlyStopping   # 학습 자동 중지\n",
    "from tensorflow.keras.callbacks import ModelCheckpoint # 우수한 학습 모델 파일 저장\n",
    "from tensorflow.keras import regularizers \n",
    "from tensorflow.keras.utils import to_categorical   # one-hot 엔코딩\n",
    "from tensorflow.keras.optimizers import Adam\n",
    "\n",
    "from tensorflow.keras.datasets import mnist\n",
    "\n",
    "from sklearn.preprocessing import LabelEncoder\n",
    "from sklearn.model_selection import train_test_split # 학습셋과 테스트셋의 분리 지원\n",
    "from sklearn.model_selection import StratifiedKFold  # K겹 교차 검증\n",
    "\n",
    "from PIL import Image\n",
    "\n",
    "import matplotlib.pyplot as plt\n",
    "from matplotlib import font_manager, rc\n",
    "\n",
    "import platform \n",
    "# Windows, Linux, Darwin\n",
    "if (platform.system() == 'Windows'):  \n",
    "    rc('font', family=font_manager.FontProperties(fname=\"C:/Windows/Fonts/malgun.ttf\").get_name())\n",
    "    path = '.' # Local\n",
    "else:    \n",
    "    rc('font', family='NanumBarunGothic')  # Ubuntu 18.04 기준 한글 처리\n",
    "    path = '/content/drive/My Drive/kd_ml/cnn/green' # Colab\n",
    "\n",
    "os.chdir(path) # 기본 경로 설정\n",
    "\n",
    "plt.rcParams[\"font.size\"] = 12         # 글자 크기\n",
    "# plt.rcParams[\"figure.figsize\"] = (10, 4) # 10:4의 그래프 비율\n",
    "plt.rcParams['axes.unicode_minus'] = False  # minus 부호는 unicode 적용시 한글이 깨짐으로 설정\n",
    "\n",
    "%matplotlib inline\n",
    "\n",
    "# ---------------------------------------------------------------------\n",
    "# gpu 사용시 런타임에서 필요한 양만큼의 GPU 메모리를 할당후 자동 증가 처리\n",
    "# OS 메모리도 초기화됨.\n",
    "# ---------------------------------------------------------------------\n",
    "import tensorflow as tf\n",
    "\n",
    "gpus = tf.config.experimental.list_physical_devices('GPU')\n",
    "if gpus:\n",
    "    try:\n",
    "        tf.config.experimental.set_memory_growth(gpus[0], True)\n",
    "    except RuntimeError as e:\n",
    "        # 프로그램 시작시에 메모리 증가가 설정되어야만 합니다\n",
    "        print(e)\n",
    "    \n",
    "# ---------------------------------------------------------------------"
   ]
  },
  {
   "cell_type": "code",
   "execution_count": 8,
   "metadata": {
    "id": "SSFznrCvqT65"
   },
   "outputs": [],
   "source": [
    "width = 128\n",
    "height = 128\n",
    "\n",
    "# 주어진 폴더의 모든 파일을 numpy array로 변환하는 함수\n",
    "def convertArray(path):\n",
    "    file_list = os.listdir(path)\n",
    "    img_X = [] # data\n",
    "    img_Y = [] # target\n",
    "    \n",
    "    for i in range(len(file_list)): # 파일을 하나씩 읽음\n",
    "        spt = os.path.splitext(file_list[i])\n",
    "        # print(spt) # ('0', '.jpg')\n",
    "        img_Y.append(int(spt[0])) # 파일명\n",
    "        \n",
    "#         img = Image.open(path + \"/\" + file_list[i])\n",
    "#         img_array = np.array(img)\n",
    "        image_bgr = cv2.imread(path + \"/\" + file_list[i], cv2.IMREAD_COLOR)\n",
    "        image_rgb = cv2.cvtColor(image_bgr, cv2.COLOR_BGR2RGB)\n",
    "\n",
    "        # 1차원 list안에 color 3차원 배열로 변경된 이미지를 저장     \n",
    "        img_X.append(image_rgb) \n",
    "\n",
    "    img_X = np.array(img_X) # 이미지 데이터 [] -> ndarray\n",
    "    img_Y = np.array(img_Y) # Target, Y\n",
    "\n",
    "    \n",
    "    # OpenCV는 흰색을 255로 나타냄으로 변환이 필요함.\n",
    "    img_X = 255 - img_X # 색이 없으면 0으로 인식되게 변환, 255 - 4차원 배열\n",
    "    \n",
    "    # 텐서플로와 GPU 실수 기반에 최적화되어 있어\n",
    "    # 0 ~ 1 사이의 실수 값으로 변경하면 정확도 상승, 정규화\n",
    "    img_X = img_X / 255.0\n",
    "    print('img_X: ', img_X.shape);\n",
    "    \n",
    "    # img_Y.reshape(img_Y.shape[0], 1): target은 2차원 배열의 형태이어야함.\n",
    "    # 행수는 이미지 수, 컬럼이 1개인 2차원 배열\n",
    "    # astype(int): 찾아야하는 값은 정수이기 때문에 형변환\n",
    "    return img_X, img_Y.reshape(img_Y.shape[0], 1).astype(int)"
   ]
  },
  {
   "cell_type": "code",
   "execution_count": 9,
   "metadata": {
    "colab": {
     "base_uri": "https://localhost:8080/"
    },
    "executionInfo": {
     "elapsed": 34004,
     "status": "ok",
     "timestamp": 1660981539006,
     "user": {
      "displayName": "강사엄기흥",
      "userId": "12410353940363031053"
     },
     "user_tz": -540
    },
    "id": "9O4n3_FvqT66",
    "outputId": "c72936aa-aa91-46c8-e203-32c4c60903f8"
   },
   "outputs": [
    {
     "name": "stdout",
     "output_type": "stream",
     "text": [
      "img_X:  (22, 128, 128, 3)\n",
      "img_X:  (5, 128, 128, 3)\n",
      "img_X:  (3, 128, 128, 3)\n"
     ]
    }
   ],
   "source": [
    "# 데이터 준비\n",
    "x_train, y_train = convertArray('./train') # 훈련용\n",
    "x_val, y_val = convertArray('./val')       # 검증용\n",
    "x_test, y_test = convertArray('./test')    # 테스트용 \n",
    "# (70, 128, 128, 3): 칼라 이미지 70장, (count, width, height, color channel)"
   ]
  },
  {
   "cell_type": "code",
   "execution_count": 10,
   "metadata": {
    "colab": {
     "base_uri": "https://localhost:8080/"
    },
    "executionInfo": {
     "elapsed": 27,
     "status": "ok",
     "timestamp": 1660981539007,
     "user": {
      "displayName": "강사엄기흥",
      "userId": "12410353940363031053"
     },
     "user_tz": -540
    },
    "id": "BjAtzk7CqT69",
    "outputId": "6e83fcbc-0251-4b03-e648-1beb2b08fb54"
   },
   "outputs": [
    {
     "name": "stdout",
     "output_type": "stream",
     "text": [
      "(22, 128, 128, 3)\n",
      "(22, 1)\n",
      "(5, 128, 128, 3)\n",
      "(5, 1)\n",
      "(3, 128, 128, 3)\n",
      "(3, 1)\n",
      "[[14]\n",
      " [21]\n",
      " [ 7]]\n"
     ]
    }
   ],
   "source": [
    "print(x_train.shape) # 훈련 데이터\n",
    "print(y_train.shape) # (70, 1), 녹초 수치, 정수형\n",
    "\n",
    "print(x_val.shape)   # 검증데이터\n",
    "print(y_val.shape) \n",
    "\n",
    "print(x_test.shape)  # 테스트데이터\n",
    "print(y_test.shape)\n",
    "print(y_test)"
   ]
  },
  {
   "cell_type": "code",
   "execution_count": 11,
   "metadata": {
    "colab": {
     "base_uri": "https://localhost:8080/"
    },
    "executionInfo": {
     "elapsed": 24,
     "status": "ok",
     "timestamp": 1660981539007,
     "user": {
      "displayName": "강사엄기흥",
      "userId": "12410353940363031053"
     },
     "user_tz": -540
    },
    "id": "PujvAYmDqT6-",
    "outputId": "c3dae505-d035-43e3-a926-aa274054bfa5"
   },
   "outputs": [
    {
     "name": "stdout",
     "output_type": "stream",
     "text": [
      "<class 'numpy.float64'>\n",
      "[[[[0. 0. 0.]\n",
      "   [0. 0. 0.]\n",
      "   [0. 0. 0.]\n",
      "   ...\n",
      "   [0. 0. 0.]\n",
      "   [0. 0. 0.]\n",
      "   [0. 0. 0.]]\n",
      "\n",
      "  [[0. 0. 0.]\n",
      "   [0. 0. 0.]\n",
      "   [0. 0. 0.]\n",
      "   ...\n",
      "   [0. 0. 0.]\n",
      "   [0. 0. 0.]\n",
      "   [0. 0. 0.]]\n",
      "\n",
      "  [[0. 0. 0.]\n",
      "   [0. 0. 0.]\n",
      "   [0. 0. 0.]\n",
      "   ...\n",
      "   [0. 0. 0.]\n",
      "   [0. 0. 0.]\n",
      "   [0. 0. 0.]]\n",
      "\n",
      "  ...\n",
      "\n",
      "  [[0. 0. 0.]\n",
      "   [0. 0. 0.]\n",
      "   [0. 0. 0.]\n",
      "   ...\n",
      "   [0. 0. 0.]\n",
      "   [0. 0. 0.]\n",
      "   [0. 0. 0.]]\n",
      "\n",
      "  [[0. 0. 0.]\n",
      "   [0. 0. 0.]\n",
      "   [0. 0. 0.]\n",
      "   ...\n",
      "   [0. 0. 0.]\n",
      "   [0. 0. 0.]\n",
      "   [0. 0. 0.]]\n",
      "\n",
      "  [[0. 0. 0.]\n",
      "   [0. 0. 0.]\n",
      "   [0. 0. 0.]\n",
      "   ...\n",
      "   [0. 0. 0.]\n",
      "   [0. 0. 0.]\n",
      "   [0. 0. 0.]]]]\n"
     ]
    }
   ],
   "source": [
    "print(type(x_train[0, 0, 0, 0])) # 첫번째 이미지 첫번째 픽셀의 type 확인\n",
    "print(x_train[0:1]) # 첫번째 이미지 배열 값"
   ]
  },
  {
   "cell_type": "code",
   "execution_count": 12,
   "metadata": {
    "colab": {
     "base_uri": "https://localhost:8080/"
    },
    "executionInfo": {
     "elapsed": 22,
     "status": "ok",
     "timestamp": 1660981539008,
     "user": {
      "displayName": "강사엄기흥",
      "userId": "12410353940363031053"
     },
     "user_tz": -540
    },
    "id": "-1Agi7dkqT6-",
    "outputId": "72e56f46-1aca-4a2e-f8ab-1ba7315f7531"
   },
   "outputs": [
    {
     "name": "stdout",
     "output_type": "stream",
     "text": [
      "[[ 1]\n",
      " [11]\n",
      " [12]\n",
      " [13]\n",
      " [15]\n",
      " [16]\n",
      " [18]\n",
      " [19]\n",
      " [ 2]\n",
      " [20]]\n"
     ]
    }
   ],
   "source": [
    "print(y_train[0:10]) # 훈련 target 확인"
   ]
  },
  {
   "cell_type": "code",
   "execution_count": 13,
   "metadata": {
    "colab": {
     "base_uri": "https://localhost:8080/"
    },
    "executionInfo": {
     "elapsed": 11,
     "status": "ok",
     "timestamp": 1661563378185,
     "user": {
      "displayName": "강사엄기흥",
      "userId": "12410353940363031053"
     },
     "user_tz": -540
    },
    "id": "IZbwl40G5Ln6",
    "outputId": "75f5b9e8-5b07-4aee-b090-fadd271f4c60"
   },
   "outputs": [
    {
     "name": "stdout",
     "output_type": "stream",
     "text": [
      "3584\n"
     ]
    }
   ],
   "source": [
    " # (None, 128, 128, 128)     3584: 128 x 128 이미지, 128 channel\n",
    "# 3584: 필터_size * 필터 갯수 * color 수 + Bias 수\n",
    "print(9 * 128 * 3 + 128)"
   ]
  },
  {
   "cell_type": "code",
   "execution_count": 9,
   "metadata": {
    "colab": {
     "base_uri": "https://localhost:8080/"
    },
    "executionInfo": {
     "elapsed": 469,
     "status": "ok",
     "timestamp": 1660981539458,
     "user": {
      "displayName": "강사엄기흥",
      "userId": "12410353940363031053"
     },
     "user_tz": -540
    },
    "id": "-qT-YbsHqT7C",
    "outputId": "9852300c-db54-4cc0-eb6d-0c895c386bcc"
   },
   "outputs": [
    {
     "name": "stdout",
     "output_type": "stream",
     "text": [
      "Model: \"sequential\"\n",
      "_________________________________________________________________\n",
      "Layer (type)                 Output Shape              Param #   \n",
      "=================================================================\n",
      "conv2d (Conv2D)              (None, 128, 128, 128)     3584      \n",
      "_________________________________________________________________\n",
      "conv2d_1 (Conv2D)            (None, 128, 128, 32)      36896     \n",
      "_________________________________________________________________\n",
      "max_pooling2d (MaxPooling2D) (None, 64, 64, 32)        0         \n",
      "_________________________________________________________________\n",
      "conv2d_2 (Conv2D)            (None, 64, 64, 16)        4624      \n",
      "_________________________________________________________________\n",
      "conv2d_3 (Conv2D)            (None, 64, 64, 16)        2320      \n",
      "_________________________________________________________________\n",
      "max_pooling2d_1 (MaxPooling2 (None, 32, 32, 16)        0         \n",
      "_________________________________________________________________\n",
      "flatten (Flatten)            (None, 16384)             0         \n",
      "_________________________________________________________________\n",
      "dense (Dense)                (None, 128)               2097280   \n",
      "_________________________________________________________________\n",
      "dense_1 (Dense)              (None, 64)                8256      \n",
      "_________________________________________________________________\n",
      "dense_2 (Dense)              (None, 32)                2080      \n",
      "_________________________________________________________________\n",
      "dense_3 (Dense)              (None, 16)                528       \n",
      "_________________________________________________________________\n",
      "dense_4 (Dense)              (None, 1)                 17        \n",
      "=================================================================\n",
      "Total params: 2,155,585\n",
      "Trainable params: 2,155,585\n",
      "Non-trainable params: 0\n",
      "_________________________________________________________________\n"
     ]
    }
   ],
   "source": [
    "# 네트워크 구성\n",
    "SEED = 0\n",
    "os.environ['PYTHONHASHSEED'] = str(SEED)\n",
    "os.environ['TF_DETERMINISTIC_OPS'] = '1'\n",
    "\n",
    "tf.random.set_seed(SEED) # Global seed\n",
    "np.random.seed(SEED)\n",
    "random.seed(SEED)\n",
    "\n",
    "width=128\n",
    "height=128\n",
    "\n",
    "model = Sequential()\n",
    "model.add(Conv2D(128, kernel_size = (3, 3), padding='same',\n",
    "                 input_shape = (width, height, 3), activation='relu'))\n",
    "model.add(Flatten()) # 3차원 텐서의 형태를 1차원 열방향으로 변경\n",
    "model.add(Dense(1)) # 활성화 함수 생략시 수치 예측(회귀 산출)\n",
    "model.compile(optimizer=Adam(lr=0.00001), loss='mse')\n",
    "\n",
    "model.summary()\n",
    "\n",
    "# mcp = ModelCheckpoint(filepath='./Green.h5', monitor='val_accuracy',\n",
    "#                       verbose=1, save_best_only=True)\n",
    "\n",
    "es = EarlyStopping(monitor='val_loss', patience=2, restore_best_weights=True)\n",
    "\n",
    "start = time.time()\n",
    "hist = model.fit(x_train, y_train, validation_data = (x_val, y_val), \n",
    "                 shuffle=True, epochs=1000, \n",
    "                 batch_size=1, callbacks=[es])\n",
    "end = time.time()\n",
    "print('Runtime: {0:.2f} 초'.format(end-start))\n",
    "# patience=5\n",
    "# i5 2320: 181s, i5 8500 6core: 90s, i9-10900kf: i9-11900H 42s,\n",
    "# Ryzen 7 2700X: , Ryzen 5 5600u: 35s, Ryzen 5 3600: 29s\n",
    "# RTX 3090: 4.68s, RTX 2080: 5.57s, GTX 1060: 30s, Colab GPU: 20~33s\n",
    "# loss: 10898.1055 - val_loss: 214.2879\n",
    "# loss: 10898.1055 - val_loss: 214.2879\n",
    "# loss: 10898.1055 - val_loss: 214.2879 23.36s"
   ]
  },
  {
   "cell_type": "code",
   "execution_count": 10,
   "metadata": {
    "colab": {
     "base_uri": "https://localhost:8080/"
    },
    "executionInfo": {
     "elapsed": 98370,
     "status": "ok",
     "timestamp": 1660981637820,
     "user": {
      "displayName": "강사엄기흥",
      "userId": "12410353940363031053"
     },
     "user_tz": -540
    },
    "id": "YQh8qAlYwF-A",
    "outputId": "a95513cd-29f2-420d-d31b-a84da0c4a6c7"
   },
   "outputs": [
    {
     "name": "stdout",
     "output_type": "stream",
     "text": [
      "Epoch 1/1000\n",
      "22/22 [==============================] - 8s 327ms/step - loss: 239.1055 - val_loss: 5.4255\n",
      "Epoch 2/1000\n",
      "22/22 [==============================] - 5s 222ms/step - loss: 26.9661 - val_loss: 12.1110\n",
      "Epoch 3/1000\n",
      "22/22 [==============================] - 5s 224ms/step - loss: 1.7201 - val_loss: 2.3734\n",
      "Epoch 4/1000\n",
      "22/22 [==============================] - 5s 224ms/step - loss: 1.8532 - val_loss: 1.9074\n",
      "Epoch 5/1000\n",
      "22/22 [==============================] - 5s 225ms/step - loss: 1.6761 - val_loss: 0.6281\n",
      "Epoch 6/1000\n",
      "22/22 [==============================] - 5s 223ms/step - loss: 0.7165 - val_loss: 0.5641\n",
      "Epoch 7/1000\n",
      "22/22 [==============================] - 5s 221ms/step - loss: 1.1141 - val_loss: 1.3768\n",
      "Epoch 8/1000\n",
      "22/22 [==============================] - 5s 223ms/step - loss: 1.5526 - val_loss: 0.7845\n",
      "Runtime: 42.60 초\n"
     ]
    }
   ],
   "source": []
  },
  {
   "cell_type": "code",
   "execution_count": 16,
   "metadata": {
    "colab": {
     "base_uri": "https://localhost:8080/",
     "height": 353
    },
    "executionInfo": {
     "elapsed": 28,
     "status": "ok",
     "timestamp": 1660981637822,
     "user": {
      "displayName": "강사엄기흥",
      "userId": "12410353940363031053"
     },
     "user_tz": -540
    },
    "id": "oFdaHFH0qT7e",
    "outputId": "d1a96781-6923-42e2-d540-5c17dc136545"
   },
   "outputs": [
    {
     "data": {
      "image/png": "[encoded data removed]",
      "text/plain": [
       "<Figure size 720x360 with 1 Axes>"
      ]
     },
     "metadata": {
      "needs_background": "light"
     },
     "output_type": "display_data"
    }
   ],
   "source": [
    "fig, loss_ax = plt.subplots()\n",
    "# plt.figure(figsize=(6,4)) # ERROR\n",
    "fig.set_size_inches(10, 5)  # 챠트 크기 설정\n",
    "\n",
    "# acc_ax = loss_ax.twinx()  # 오른쪽 y 출 설정\n",
    "\n",
    "# 왼쪽 y 축 설정\n",
    "loss_ax.plot(hist.history['loss'], 'y', label='train loss')\n",
    "loss_ax.plot(hist.history['val_loss'], 'r', label='val loss')\n",
    "loss_ax.set_ylim([0.0, 15]) # 값을 반영하여 변경\n",
    "\n",
    "# 오른쪽 y 축 설정\n",
    "# acc_ax.plot(hist.history['accuracy'], 'b', label='train accuracy')\n",
    "# acc_ax.plot(hist.history['val_accuracy'], 'g', label='val accuracy')\n",
    "# acc_ax.set_ylim([0.0, 1.0])\n",
    "\n",
    "# 축 레이블 설정\n",
    "loss_ax.set_xlabel('epoch')  # 학습 횟수\n",
    "loss_ax.set_ylabel('loss')   # 오차\n",
    "# acc_ax.set_ylabel('accuracy') # 정확도\n",
    "\n",
    "loss_ax.legend(loc='upper left') # 오차 레이블 위치\n",
    "# acc_ax.legend(loc='lower left')  # 정확도 레이블 위치\n",
    "\n",
    "plt.show()"
   ]
  },
  {
   "cell_type": "code",
   "execution_count": 12,
   "metadata": {
    "colab": {
     "base_uri": "https://localhost:8080/"
    },
    "executionInfo": {
     "elapsed": 427,
     "status": "ok",
     "timestamp": 1660981638240,
     "user": {
      "displayName": "강사엄기흥",
      "userId": "12410353940363031053"
     },
     "user_tz": -540
    },
    "id": "BBzZoAfstEVG",
    "outputId": "22f42875-15f1-49d6-8d3c-8cae3800160e"
   },
   "outputs": [
    {
     "name": "stdout",
     "output_type": "stream",
     "text": [
      "[[15.182538]\n",
      " [21.314405]\n",
      " [ 7.16358 ]]\n"
     ]
    }
   ],
   "source": [
    "yp = model.predict(x_test, batch_size=1) # 모델 사용\n",
    "print(yp)"
   ]
  },
  {
   "cell_type": "code",
   "execution_count": 13,
   "metadata": {
    "colab": {
     "base_uri": "https://localhost:8080/",
     "height": 287
    },
    "executionInfo": {
     "elapsed": 476,
     "status": "ok",
     "timestamp": 1660981638708,
     "user": {
      "displayName": "강사엄기흥",
      "userId": "12410353940363031053"
     },
     "user_tz": -540
    },
    "id": "Zo3B1-l970u6",
    "outputId": "173488a3-b14b-4163-b308-715aa4b53654"
   },
   "outputs": [
    {
     "data": {
      "text/plain": [
       "<matplotlib.image.AxesImage at 0x22d1c49de88>"
      ]
     },
     "execution_count": 13,
     "metadata": {},
     "output_type": "execute_result"
    },
    {
     "data": {
      "image/png": "[encoded data removed]",
      "text/plain": [
       "<Figure size 432x288 with 1 Axes>"
      ]
     },
     "metadata": {
      "needs_background": "light"
     },
     "output_type": "display_data"
    }
   ],
   "source": [
    "# 테스트할 첫번째 이미지 확인\n",
    "file_list = os.listdir('./test')\n",
    "img_bgr = cv2.imread('./test' + \"/\" + file_list[0], cv2.IMREAD_COLOR)\n",
    "img_rgb = cv2.cvtColor(img_bgr, cv2.COLOR_BGR2RGB)\n",
    "plt.imshow(img_rgb)"
   ]
  },
  {
   "cell_type": "code",
   "execution_count": 14,
   "metadata": {
    "colab": {
     "base_uri": "https://localhost:8080/",
     "height": 165
    },
    "executionInfo": {
     "elapsed": 474,
     "status": "ok",
     "timestamp": 1660981639175,
     "user": {
      "displayName": "강사엄기흥",
      "userId": "12410353940363031053"
     },
     "user_tz": -540
    },
    "id": "rWpqCiVK8LNK",
    "outputId": "7b80b0e6-7845-4b58-f5ae-bd1afa4fc029"
   },
   "outputs": [
    {
     "data": {
      "image/png": "[encoded data removed]",
      "text/plain": [
       "<Figure size 720x288 with 3 Axes>"
      ]
     },
     "metadata": {
      "needs_background": "light"
     },
     "output_type": "display_data"
    }
   ],
   "source": [
    "import glob # 파일 필터링\n",
    "\n",
    "# fig.set_size_inches(16, 5)  # 챠트 크기 설정 \n",
    "plt.rcParams[\"figure.figsize\"] = (10, 4) # subplot 크기 결정\n",
    "fig = plt.figure() # rows*cols 행렬의 i번째 subplot 생성\n",
    "fig.tight_layout() # 최적의 간격 설정\n",
    "rows = 1           # 1행 4열 이미지 출력\n",
    "cols = 5\n",
    "i = 1\n",
    "\n",
    "# left - 왼쪽 margin. 디폴트는 0.125\n",
    "# right - 오른쪽 margin. 디폴트는 0.9\n",
    "# bottom - 아래쪽 margin. 디폴트는 0.1\n",
    "# top - 위쪽 margin. 디폴트는 0.9\n",
    "# wspace - subplots 의 수평 간격. 디폴트는 0.2\n",
    "# hspace - subplots 의 수직 간격. 디폴트는 0.2\n",
    "plt.subplots_adjust(wspace=0.8, hspace=0.4)\n",
    "\n",
    "# 디렉터리 위치 변경\n",
    "os.chdir('./test') \n",
    "\n",
    "for filename in glob.glob(\"*.jpg\"): # jpg 파일만 추출\n",
    "    img_bgr = cv2.imread(filename, cv2.IMREAD_COLOR)\n",
    "    ax = fig.add_subplot(rows, cols, i) # 1, 5, 1\n",
    "    ax.imshow(cv2.cvtColor(img_bgr, cv2.COLOR_BGR2RGB)) # BGR -> RGB\n",
    "    # R: 실제값, P: 예측한 값, yp: 예측값, 배열 index: i-1\n",
    "    ax.set_title('R {0:.0f} P {1:.0f}'.format(y_test[i-1][0], yp[i-1][0]))\n",
    "    ax.set_xlabel(filename)\n",
    "    ax.set_xticks([0, 32, 64, 96, 128]) # x축 눈금선 \n",
    "    ax.set_yticks([0, 32, 64, 96, 128])\n",
    "    i += 1 # 서브플롯 갯수 증가\n",
    "\n",
    "plt.show()\n",
    "os.chdir(path) # 기본 경로로 변경"
   ]
  },
  {
   "cell_type": "code",
   "execution_count": null,
   "metadata": {
    "id": "EZJYQOC7ewGi"
   },
   "outputs": [],
   "source": []
  }
 ],
 "metadata": {
  "accelerator": "GPU",
  "colab": {
   "collapsed_sections": [],
   "name": "Green_cv2.ipynb",
   "provenance": []
  },
  "gpuClass": "standard",
  "kernelspec": {
   "display_name": "ai",
   "language": "python",
   "name": "ai"
  },
  "language_info": {
   "codemirror_mode": {
    "name": "ipython",
    "version": 3
   },
   "file_extension": ".py",
   "mimetype": "text/x-python",
   "name": "python",
   "nbconvert_exporter": "python",
   "pygments_lexer": "ipython3",
   "version": "3.9.16"
  }
 },
 "nbformat": 4,
 "nbformat_minor": 1
}
