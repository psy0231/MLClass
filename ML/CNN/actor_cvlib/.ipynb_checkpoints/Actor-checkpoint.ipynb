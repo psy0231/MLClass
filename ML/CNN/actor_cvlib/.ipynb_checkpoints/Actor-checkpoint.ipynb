{
 "cells": [
  {
   "cell_type": "markdown",
   "metadata": {
    "id": "heSOUwlunVal"
   },
   "source": [
    "### CNN 기법을 이용한 안면(얼굴) 인식"
   ]
  },
  {
   "cell_type": "code",
   "execution_count": 1,
   "metadata": {
    "colab": {
     "base_uri": "https://localhost:8080/"
    },
    "executionInfo": {
     "elapsed": 20522,
     "status": "ok",
     "timestamp": 1661572112628,
     "user": {
      "displayName": "강사엄기흥",
      "userId": "12410353940363031053"
     },
     "user_tz": -540
    },
    "id": "rn5MEvpSnXq6",
    "outputId": "718783ee-6e72-4cec-f794-8960a1da5c8f"
   },
   "outputs": [
    {
     "name": "stdout",
     "output_type": "stream",
     "text": [
      "Mounted at /content/drive\n"
     ]
    }
   ],
   "source": [
    "# 글꼴 설치전 런타임 환경 확인\n",
    "# !sudo apt-get install -y fonts-nanum\n",
    "# !sudo fc-cache -fv\n",
    "# !rm ~/.cache/matplotlib -rf\n",
    "\n",
    "# GPU 런타임 환경 설정\n",
    "\n",
    "# 보안 문제로 ipynb 파일 open시마다 실행\n",
    "# from google.colab import drive\n",
    "# drive.mount('/content/drive') # 마운트 이름은 자유롭게 지정 가능"
   ]
  },
  {
   "cell_type": "code",
   "execution_count": 30,
   "metadata": {
    "colab": {
     "base_uri": "https://localhost:8080/",
     "height": 35
    },
    "executionInfo": {
     "elapsed": 3663,
     "status": "ok",
     "timestamp": 1661572134768,
     "user": {
      "displayName": "강사엄기흥",
      "userId": "12410353940363031053"
     },
     "user_tz": -540
    },
    "id": "QaoDxzj3nVap",
    "outputId": "4d0306a5-48db-4189-d1b0-0f0249297dc5"
   },
   "outputs": [],
   "source": [
    "import warnings\n",
    "warnings.filterwarnings(action='ignore')\n",
    "\n",
    "import os\n",
    "import time\n",
    "import random\n",
    "import datetime\n",
    "\n",
    "import cvlib\n",
    "import cv2\n",
    "import numpy as np\n",
    "import pandas as pd\n",
    "import seaborn as sb\n",
    "import tensorflow as tf\n",
    "\n",
    "from tensorflow.keras.models import Sequential  # class\n",
    "from tensorflow.keras.models import load_model  # model 사용\n",
    "from tensorflow.keras.layers import Dense       # 전결합\n",
    "from tensorflow.keras.layers import Dropout     # 특정 node를 사용안함.\n",
    "from tensorflow.keras.layers import Conv2D\n",
    "from tensorflow.keras.layers import MaxPooling2D\n",
    "from tensorflow.keras.layers import Flatten\n",
    "\n",
    "from tensorflow.keras.callbacks import EarlyStopping   # 학습 자동 중지\n",
    "from tensorflow.keras.callbacks import ModelCheckpoint # 우수한 학습 모델 파일 저장\n",
    "from tensorflow.keras import regularizers \n",
    "from tensorflow.keras.utils import to_categorical   # one-hot 엔코딩\n",
    "\n",
    "from tensorflow.keras.preprocessing.image import ImageDataGenerator\n",
    "\n",
    "from tensorflow.keras.datasets import mnist\n",
    "\n",
    "from sklearn.preprocessing import LabelEncoder\n",
    "from sklearn.model_selection import train_test_split # 학습셋과 테스트셋의 분리 지원\n",
    "from sklearn.model_selection import StratifiedKFold  # K겹 교차 검증\n",
    "\n",
    "import matplotlib.pyplot as plt\n",
    "from matplotlib import font_manager, rc\n",
    "\n",
    "import platform \n",
    "\n",
    "if (platform.system() == 'Windows'):  # Windows, Linux, Darwin\n",
    "    rc('font', family=font_manager.FontProperties(fname=\"C:/Windows/Fonts/malgun.ttf\").get_name())\n",
    "    path = '.' # Local\n",
    "else:    \n",
    "    plt.rc('font', family='NanumBarunGothic')  # Ubuntu 18.04 기준 한글 처리\n",
    "    path = '/content/drive/My Drive/kd_ml/cnn/actor_cvlib' # Colab\n",
    "\n",
    "os.chdir(path) # 기본 경로 설정\n",
    "\n",
    "plt.rcParams[\"font.size\"] = 12         # 글자 크기\n",
    "# plt.rcParams[\"figure.figsize\"] = (10, 4) # 10:4의 그래프 비율\n",
    "plt.rcParams['axes.unicode_minus'] = False  # minus 부호는 unicode 적용시 한글이 깨짐으로 설정\n",
    "\n",
    "%matplotlib inline  "
   ]
  },
  {
   "cell_type": "code",
   "execution_count": 31,
   "metadata": {
    "colab": {
     "base_uri": "https://localhost:8080/"
    },
    "executionInfo": {
     "elapsed": 1594,
     "status": "ok",
     "timestamp": 1661572371868,
     "user": {
      "displayName": "강사엄기흥",
      "userId": "12410353940363031053"
     },
     "user_tz": -540
    },
    "id": "9PB1N5LSnVar",
    "outputId": "c2f13b60-28f5-4df1-bd06-3c578866f939",
    "scrolled": true
   },
   "outputs": [
    {
     "name": "stdout",
     "output_type": "stream",
     "text": [
      "Found 254 images belonging to 8 classes.\n",
      "Found 73 images belonging to 8 classes.\n"
     ]
    }
   ],
   "source": [
    "width=64\n",
    "height=64\n",
    "\n",
    "# 훈련용 데이터 생성기\n",
    "# rescale=1./255: 실수형태로 정규화, 0~1 사이의 값\n",
    "train_datagen = ImageDataGenerator(rescale=1./255)\n",
    " \n",
    "train_generator = train_datagen.flow_from_directory(\n",
    "        './train', # 파일이 있는 폴더, Colab은 절대 경로 명시해야 인식가능 \n",
    "        target_size=(width, height), # 훈련데이터 크기\n",
    "        batch_size=1,                # 이미지 1건씩 처리\n",
    "        class_mode='categorical')    # 다중분류\n",
    "\n",
    "# 검증용 데이터 생성기\n",
    "vali_datagen = ImageDataGenerator(rescale=1./255)\n",
    " \n",
    "vali_generator = vali_datagen.flow_from_directory(\n",
    "        './validation',\n",
    "        target_size=(width, height),    \n",
    "        batch_size=1,\n",
    "        class_mode='categorical')\n",
    "# 3 classes: ./train/circle, ./train/rectangle, ./train/triangle"
   ]
  },
  {
   "cell_type": "code",
   "execution_count": 32,
   "metadata": {
    "colab": {
     "base_uri": "https://localhost:8080/"
    },
    "executionInfo": {
     "elapsed": 208693,
     "status": "ok",
     "timestamp": 1661572741378,
     "user": {
      "displayName": "강사엄기흥",
      "userId": "12410353940363031053"
     },
     "user_tz": -540
    },
    "id": "Y-0JjyF-nVar",
    "outputId": "1d3f2a4f-0b59-4a00-e93e-625880a4878b"
   },
   "outputs": [
    {
     "name": "stdout",
     "output_type": "stream",
     "text": [
      "Model: \"sequential_2\"\n",
      "_________________________________________________________________\n",
      " Layer (type)                Output Shape              Param #   \n",
      "=================================================================\n",
      " conv2d_4 (Conv2D)           (None, 64, 64, 16)        448       \n",
      "                                                                 \n",
      " conv2d_5 (Conv2D)           (None, 64, 64, 16)        2320      \n",
      "                                                                 \n",
      " max_pooling2d_2 (MaxPooling  (None, 32, 32, 16)       0         \n",
      " 2D)                                                             \n",
      "                                                                 \n",
      " flatten_2 (Flatten)         (None, 16384)             0         \n",
      "                                                                 \n",
      " dense_4 (Dense)             (None, 20)                327700    \n",
      "                                                                 \n",
      " dense_5 (Dense)             (None, 8)                 168       \n",
      "                                                                 \n",
      "=================================================================\n",
      "Total params: 330,636\n",
      "Trainable params: 330,636\n",
      "Non-trainable params: 0\n",
      "_________________________________________________________________\n",
      "Epoch 1/30\n",
      "252/254 [============================>.] - ETA: 0s - loss: 1.9634 - accuracy: 0.2579\n",
      "Epoch 1: val_accuracy improved from -inf to 0.57534, saving model to .\\Actor.h5\n",
      "254/254 [==============================] - 4s 14ms/step - loss: 1.9618 - accuracy: 0.2598 - val_loss: 1.4310 - val_accuracy: 0.5753\n",
      "Epoch 2/30\n",
      "254/254 [==============================] - ETA: 0s - loss: 0.9356 - accuracy: 0.6417\n",
      "Epoch 2: val_accuracy improved from 0.57534 to 0.73973, saving model to .\\Actor.h5\n",
      "254/254 [==============================] - 3s 13ms/step - loss: 0.9356 - accuracy: 0.6417 - val_loss: 0.7097 - val_accuracy: 0.7397\n",
      "Epoch 3/30\n",
      "250/254 [============================>.] - ETA: 0s - loss: 0.4121 - accuracy: 0.8520\n",
      "Epoch 3: val_accuracy improved from 0.73973 to 0.83562, saving model to .\\Actor.h5\n",
      "254/254 [==============================] - 3s 13ms/step - loss: 0.4151 - accuracy: 0.8504 - val_loss: 0.4872 - val_accuracy: 0.8356\n",
      "Epoch 4/30\n",
      "249/254 [============================>.] - ETA: 0s - loss: 0.1544 - accuracy: 0.9438\n",
      "Epoch 4: val_accuracy did not improve from 0.83562\n",
      "254/254 [==============================] - 3s 12ms/step - loss: 0.1523 - accuracy: 0.9449 - val_loss: 0.5831 - val_accuracy: 0.8082\n",
      "Epoch 5/30\n",
      "247/254 [============================>.] - ETA: 0s - loss: 0.0940 - accuracy: 0.9757\n",
      "Epoch 5: val_accuracy improved from 0.83562 to 0.87671, saving model to .\\Actor.h5\n",
      "254/254 [==============================] - 3s 13ms/step - loss: 0.0918 - accuracy: 0.9764 - val_loss: 0.3721 - val_accuracy: 0.8767\n",
      "Epoch 6/30\n",
      "253/254 [============================>.] - ETA: 0s - loss: 0.0441 - accuracy: 0.9921\n",
      "Epoch 6: val_accuracy did not improve from 0.87671\n",
      "254/254 [==============================] - 3s 12ms/step - loss: 0.0440 - accuracy: 0.9921 - val_loss: 0.7659 - val_accuracy: 0.8356\n",
      "Epoch 7/30\n",
      "254/254 [==============================] - ETA: 0s - loss: 0.0173 - accuracy: 1.0000\n",
      "Epoch 7: val_accuracy did not improve from 0.87671\n",
      "254/254 [==============================] - 3s 12ms/step - loss: 0.0173 - accuracy: 1.0000 - val_loss: 0.4749 - val_accuracy: 0.8767\n",
      "Epoch 8/30\n",
      "250/254 [============================>.] - ETA: 0s - loss: 0.0019 - accuracy: 1.0000\n",
      "Epoch 8: val_accuracy did not improve from 0.87671\n",
      "254/254 [==============================] - 3s 12ms/step - loss: 0.0018 - accuracy: 1.0000 - val_loss: 0.3999 - val_accuracy: 0.8767\n",
      "Epoch 9/30\n",
      "250/254 [============================>.] - ETA: 0s - loss: 9.1290e-04 - accuracy: 1.0000\n",
      "Epoch 9: val_accuracy did not improve from 0.87671\n",
      "254/254 [==============================] - 3s 12ms/step - loss: 9.1210e-04 - accuracy: 1.0000 - val_loss: 0.4104 - val_accuracy: 0.8767\n",
      "Epoch 10/30\n",
      "251/254 [============================>.] - ETA: 0s - loss: 5.2651e-04 - accuracy: 1.0000\n",
      "Epoch 10: val_accuracy did not improve from 0.87671\n",
      "254/254 [==============================] - 3s 12ms/step - loss: 5.2243e-04 - accuracy: 1.0000 - val_loss: 0.4003 - val_accuracy: 0.8767\n",
      "Epoch 11/30\n",
      "249/254 [============================>.] - ETA: 0s - loss: 3.9344e-04 - accuracy: 1.0000\n",
      "Epoch 11: val_accuracy did not improve from 0.87671\n",
      "254/254 [==============================] - 3s 12ms/step - loss: 3.9415e-04 - accuracy: 1.0000 - val_loss: 0.4111 - val_accuracy: 0.8767\n",
      "Epoch 12/30\n",
      "248/254 [============================>.] - ETA: 0s - loss: 2.9056e-04 - accuracy: 1.0000\n",
      "Epoch 12: val_accuracy did not improve from 0.87671\n",
      "254/254 [==============================] - 3s 13ms/step - loss: 2.9966e-04 - accuracy: 1.0000 - val_loss: 0.3944 - val_accuracy: 0.8767\n",
      "Epoch 13/30\n",
      "254/254 [==============================] - ETA: 0s - loss: 2.3716e-04 - accuracy: 1.0000\n",
      "Epoch 13: val_accuracy did not improve from 0.87671\n",
      "254/254 [==============================] - 3s 13ms/step - loss: 2.3716e-04 - accuracy: 1.0000 - val_loss: 0.4013 - val_accuracy: 0.8767\n",
      "Epoch 14/30\n",
      "251/254 [============================>.] - ETA: 0s - loss: 1.9337e-04 - accuracy: 1.0000\n",
      "Epoch 14: val_accuracy did not improve from 0.87671\n",
      "254/254 [==============================] - 3s 12ms/step - loss: 1.9175e-04 - accuracy: 1.0000 - val_loss: 0.4225 - val_accuracy: 0.8767\n",
      "Epoch 15/30\n",
      "252/254 [============================>.] - ETA: 0s - loss: 1.5410e-04 - accuracy: 1.0000\n",
      "Epoch 15: val_accuracy did not improve from 0.87671\n",
      "254/254 [==============================] - 3s 12ms/step - loss: 1.5333e-04 - accuracy: 1.0000 - val_loss: 0.4204 - val_accuracy: 0.8767\n",
      "Epoch 16/30\n",
      "254/254 [==============================] - ETA: 0s - loss: 1.2960e-04 - accuracy: 1.0000\n",
      "Epoch 16: val_accuracy did not improve from 0.87671\n",
      "254/254 [==============================] - 3s 12ms/step - loss: 1.2960e-04 - accuracy: 1.0000 - val_loss: 0.4187 - val_accuracy: 0.8767\n",
      "Epoch 17/30\n",
      "250/254 [============================>.] - ETA: 0s - loss: 1.1076e-04 - accuracy: 1.0000\n",
      "Epoch 17: val_accuracy did not improve from 0.87671\n",
      "254/254 [==============================] - 3s 12ms/step - loss: 1.0970e-04 - accuracy: 1.0000 - val_loss: 0.4266 - val_accuracy: 0.8767\n",
      "Epoch 18/30\n",
      "253/254 [============================>.] - ETA: 0s - loss: 9.6563e-05 - accuracy: 1.0000\n",
      "Epoch 18: val_accuracy did not improve from 0.87671\n",
      "254/254 [==============================] - 3s 12ms/step - loss: 9.6183e-05 - accuracy: 1.0000 - val_loss: 0.4322 - val_accuracy: 0.8767\n",
      "Epoch 19/30\n",
      "254/254 [==============================] - ETA: 0s - loss: 7.9867e-05 - accuracy: 1.0000\n",
      "Epoch 19: val_accuracy did not improve from 0.87671\n",
      "254/254 [==============================] - 3s 13ms/step - loss: 7.9867e-05 - accuracy: 1.0000 - val_loss: 0.4303 - val_accuracy: 0.8767\n",
      "Epoch 20/30\n",
      "250/254 [============================>.] - ETA: 0s - loss: 6.8814e-05 - accuracy: 1.0000\n",
      "Epoch 20: val_accuracy did not improve from 0.87671\n",
      "254/254 [==============================] - 3s 13ms/step - loss: 6.9291e-05 - accuracy: 1.0000 - val_loss: 0.4103 - val_accuracy: 0.8767\n",
      "Epoch 21/30\n",
      "251/254 [============================>.] - ETA: 0s - loss: 5.9880e-05 - accuracy: 1.0000\n",
      "Epoch 21: val_accuracy did not improve from 0.87671\n",
      "254/254 [==============================] - 3s 13ms/step - loss: 5.9236e-05 - accuracy: 1.0000 - val_loss: 0.4272 - val_accuracy: 0.8767\n",
      "Epoch 22/30\n",
      "253/254 [============================>.] - ETA: 0s - loss: 5.1625e-05 - accuracy: 1.0000\n",
      "Epoch 22: val_accuracy did not improve from 0.87671\n",
      "254/254 [==============================] - 3s 13ms/step - loss: 5.1491e-05 - accuracy: 1.0000 - val_loss: 0.4181 - val_accuracy: 0.8767\n",
      "Epoch 23/30\n",
      "251/254 [============================>.] - ETA: 0s - loss: 4.3628e-05 - accuracy: 1.0000\n",
      "Epoch 23: val_accuracy did not improve from 0.87671\n",
      "254/254 [==============================] - 3s 13ms/step - loss: 4.3726e-05 - accuracy: 1.0000 - val_loss: 0.4254 - val_accuracy: 0.8767\n",
      "Epoch 24/30\n",
      "251/254 [============================>.] - ETA: 0s - loss: 3.8497e-05 - accuracy: 1.0000\n",
      "Epoch 24: val_accuracy did not improve from 0.87671\n",
      "254/254 [==============================] - 3s 13ms/step - loss: 3.8236e-05 - accuracy: 1.0000 - val_loss: 0.4175 - val_accuracy: 0.8767\n"
     ]
    },
    {
     "name": "stdout",
     "output_type": "stream",
     "text": [
      "Epoch 25/30\n",
      "254/254 [==============================] - ETA: 0s - loss: 3.3017e-05 - accuracy: 1.0000\n",
      "Epoch 25: val_accuracy did not improve from 0.87671\n",
      "254/254 [==============================] - 3s 13ms/step - loss: 3.3017e-05 - accuracy: 1.0000 - val_loss: 0.4263 - val_accuracy: 0.8767\n",
      "Epoch 26/30\n",
      "253/254 [============================>.] - ETA: 0s - loss: 2.8058e-05 - accuracy: 1.0000\n",
      "Epoch 26: val_accuracy did not improve from 0.87671\n",
      "254/254 [==============================] - 3s 12ms/step - loss: 2.7949e-05 - accuracy: 1.0000 - val_loss: 0.4403 - val_accuracy: 0.8767\n",
      "Epoch 27/30\n",
      "254/254 [==============================] - ETA: 0s - loss: 2.4715e-05 - accuracy: 1.0000\n",
      "Epoch 27: val_accuracy did not improve from 0.87671\n",
      "254/254 [==============================] - 3s 13ms/step - loss: 2.4715e-05 - accuracy: 1.0000 - val_loss: 0.4372 - val_accuracy: 0.8767\n",
      "Epoch 28/30\n",
      "251/254 [============================>.] - ETA: 0s - loss: 2.1294e-05 - accuracy: 1.0000\n",
      "Epoch 28: val_accuracy improved from 0.87671 to 0.89041, saving model to .\\Actor.h5\n",
      "254/254 [==============================] - 3s 14ms/step - loss: 2.1543e-05 - accuracy: 1.0000 - val_loss: 0.4492 - val_accuracy: 0.8904\n",
      "Epoch 29/30\n",
      "252/254 [============================>.] - ETA: 0s - loss: 1.8902e-05 - accuracy: 1.0000\n",
      "Epoch 29: val_accuracy did not improve from 0.89041\n",
      "254/254 [==============================] - 3s 12ms/step - loss: 1.8755e-05 - accuracy: 1.0000 - val_loss: 0.4410 - val_accuracy: 0.8904\n",
      "Epoch 30/30\n",
      "253/254 [============================>.] - ETA: 0s - loss: 1.6379e-05 - accuracy: 1.0000\n",
      "Epoch 30: val_accuracy did not improve from 0.89041\n",
      "254/254 [==============================] - 3s 12ms/step - loss: 1.6314e-05 - accuracy: 1.0000 - val_loss: 0.4520 - val_accuracy: 0.8904\n",
      "Runtime: 97.23 초\n"
     ]
    }
   ],
   "source": [
    "SEED = 0\n",
    "os.environ['PYTHONHASHSEED'] = str(SEED)\n",
    "os.environ['TF_DETERMINISTIC_OPS'] = '1'\n",
    "\n",
    "tf.random.set_seed(SEED) # Global seed\n",
    "np.random.seed(SEED)\n",
    "random.seed(SEED)\n",
    "\n",
    "model = Sequential()\n",
    "model.add(Conv2D(16, kernel_size = (3, 3), padding='same',\n",
    "                 input_shape = (width, height, 3), activation='relu'))\n",
    "model.add(Conv2D(16, (3, 3), padding='same', activation='relu'))\n",
    "# 4개중에 최대값 1개만 다음 레이어로 전달, 슬라이딩이 작동되어 파라미터수가 50%로 감소함 \n",
    "model.add(MaxPooling2D(pool_size=(2, 2))) \n",
    "\n",
    "# model.add(Conv2D(16, (3, 3), padding='same', activation='relu'))\n",
    "# model.add(Conv2D(16, (3, 3), padding='same', activation='relu'))\n",
    "# model.add(MaxPooling2D(pool_size=(2, 2))) # 25%만 사용\n",
    "# model.add(Dropout(0.25)) # node 25% 사용하지 않음.\n",
    "\n",
    "model.add(Flatten()) # 3차원 텐서의 형태를 1차원 열방향으로 변경\n",
    "model.add(Dense(20, activation='relu'))\n",
    "# model.add(Dropout(0.25)) # node 25% 사용하지 않음.\n",
    "\n",
    "model.add(Dense(8, activation='softmax'))\n",
    "model.compile(optimizer='adam', loss='categorical_crossentropy', \n",
    "                                metrics=['accuracy'])\n",
    "model.summary()\n",
    "\n",
    "cp = ModelCheckpoint(filepath='./Actor.h5', monitor='val_accuracy',\n",
    "                               verbose=1, save_best_only=True)\n",
    "es = EarlyStopping(monitor='loss', patience=2, restore_best_weights=True)\n",
    "\n",
    "start = time.time()\n",
    "\n",
    "hist = model.fit(\n",
    "    train_generator,\n",
    "    epochs=30,\n",
    "    validation_data = vali_generator,\n",
    "    callbacks=[cp, es])\n",
    "\n",
    "end = time.time()\n",
    "print('Runtime: {0:.2f} 초'.format(end-start))\n",
    "\n",
    "# Total params: 993,431 Colab gpu: 42 ~ 83s, GTX 1060: 45\n",
    "\n",
    "# CPU: \n",
    "# Colab GPU: 198 초"
   ]
  },
  {
   "cell_type": "code",
   "execution_count": 33,
   "metadata": {
    "colab": {
     "base_uri": "https://localhost:8080/",
     "height": 376
    },
    "executionInfo": {
     "elapsed": 547,
     "status": "ok",
     "timestamp": 1661572870155,
     "user": {
      "displayName": "강사엄기흥",
      "userId": "12410353940363031053"
     },
     "user_tz": -540
    },
    "id": "RRf1d65YnVas",
    "outputId": "83c28275-7143-4bda-b28a-21bb668ad6a8"
   },
   "outputs": [
    {
     "data": {
      "image/png": "[encoded data removed]",
      "text/plain": [
       "<Figure size 1000x500 with 2 Axes>"
      ]
     },
     "metadata": {},
     "output_type": "display_data"
    }
   ],
   "source": [
    "import matplotlib.pyplot as plt\n",
    "%matplotlib inline  \n",
    "\n",
    "fig, loss_ax = plt.subplots()\n",
    "# plt.figure(figsize=(6,4)) # ERROR\n",
    "fig.set_size_inches(10, 5)  # 챠트 크기 설정\n",
    "\n",
    "acc_ax = loss_ax.twinx()  # 오른쪽 y 출 설정\n",
    "\n",
    "# 왼쪽 y 축 설정\n",
    "loss_ax.plot(hist.history['loss'], 'y', label='train loss')\n",
    "loss_ax.plot(hist.history['val_loss'], 'r', label='val loss')\n",
    "loss_ax.set_ylim([0.0, 2.0]) # 값을 반영하여 변경\n",
    "\n",
    "# 오른쪽 y 축 설정\n",
    "acc_ax.plot(hist.history['accuracy'], 'b', label='train accuracy')\n",
    "acc_ax.plot(hist.history['val_accuracy'], 'g', label='val accuracy')\n",
    "acc_ax.set_ylim([0.0, 1.0])\n",
    "\n",
    "# 축 레이블 설정\n",
    "loss_ax.set_xlabel('epoch')  # 학습 횟수\n",
    "loss_ax.set_ylabel('loss')   # 오차\n",
    "acc_ax.set_ylabel('accuracy') # 정확도\n",
    "\n",
    "loss_ax.legend(loc='upper left') # 오차 레이블 위치\n",
    "acc_ax.legend(loc='lower left')  # 정확도 레이블 위치\n",
    "\n",
    "plt.show()"
   ]
  },
  {
   "cell_type": "code",
   "execution_count": 34,
   "metadata": {
    "colab": {
     "base_uri": "https://localhost:8080/"
    },
    "executionInfo": {
     "elapsed": 790,
     "status": "ok",
     "timestamp": 1661573017915,
     "user": {
      "displayName": "강사엄기흥",
      "userId": "12410353940363031053"
     },
     "user_tz": -540
    },
    "id": "hzuxfisSnVat",
    "outputId": "55bf1ddb-dc0d-4035-bc13-659021e1f775"
   },
   "outputs": [
    {
     "name": "stdout",
     "output_type": "stream",
     "text": [
      "-- Evaluate --\n",
      "accuracy: 89.04%\n"
     ]
    }
   ],
   "source": [
    "print(\"-- Evaluate --\")\n",
    "scores = model.evaluate_generator(vali_generator, verbose=0)  \n",
    "print(\"%s: %.2f%%\" %(model.metrics_names[1], scores[1]*100))"
   ]
  },
  {
   "cell_type": "code",
   "execution_count": 35,
   "metadata": {
    "colab": {
     "base_uri": "https://localhost:8080/"
    },
    "executionInfo": {
     "elapsed": 787,
     "status": "ok",
     "timestamp": 1661573042380,
     "user": {
      "displayName": "강사엄기흥",
      "userId": "12410353940363031053"
     },
     "user_tz": -540
    },
    "id": "XU2DmrBrnVat",
    "outputId": "e7f6b2a7-bd57-46b9-942c-436f8184c5ff"
   },
   "outputs": [
    {
     "name": "stdout",
     "output_type": "stream",
     "text": [
      "-- Predict --\n",
      "{'Amanda Seyfried': 0, 'Andrew Lincoln': 1, 'Anne Hathaway': 2, 'Eom Giheung': 3, 'Hugh Jackman': 4, 'Keira Christina Knightley': 5, 'Pierce Brosnan': 6, 'Zo Jung Seok': 7}\n",
      "<class 'numpy.ndarray'>\n",
      "(73, 8)\n",
      "[[0.997 0.000 0.000 0.000 0.000 0.003 0.000 0.000]\n",
      " [0.000 0.000 0.000 0.000 1.000 0.000 0.000 0.000]\n",
      " [1.000 0.000 0.000 0.000 0.000 0.000 0.000 0.000]\n",
      " [0.000 0.000 0.000 0.000 0.000 0.000 1.000 0.000]\n",
      " [0.141 0.005 0.000 0.000 0.000 0.222 0.633 0.000]\n",
      " [0.000 0.000 0.000 0.000 1.000 0.000 0.000 0.000]\n",
      " [0.966 0.000 0.000 0.000 0.000 0.033 0.000 0.000]\n",
      " [0.015 0.000 0.000 0.000 0.000 0.985 0.000 0.000]\n",
      " [0.999 0.000 0.000 0.000 0.000 0.001 0.000 0.000]\n",
      " [0.000 0.000 0.000 1.000 0.000 0.000 0.000 0.000]\n",
      " [0.000 1.000 0.000 0.000 0.000 0.000 0.000 0.000]\n",
      " [0.000 0.000 1.000 0.000 0.000 0.000 0.000 0.000]\n",
      " [0.000 0.007 0.986 0.000 0.000 0.007 0.000 0.000]\n",
      " [1.000 0.000 0.000 0.000 0.000 0.000 0.000 0.000]\n",
      " [0.005 0.000 0.142 0.000 0.000 0.853 0.000 0.000]\n",
      " [0.000 0.000 0.000 0.000 0.000 0.000 1.000 0.000]\n",
      " [0.000 0.000 1.000 0.000 0.000 0.000 0.000 0.000]\n",
      " [0.000 0.000 0.000 0.000 0.000 0.000 0.000 1.000]\n",
      " [0.000 0.897 0.012 0.000 0.000 0.090 0.000 0.000]\n",
      " [0.000 0.000 0.000 0.000 0.000 0.033 0.000 0.967]\n",
      " [0.000 0.000 0.000 0.000 0.000 1.000 0.000 0.000]\n",
      " [0.000 1.000 0.000 0.000 0.000 0.000 0.000 0.000]\n",
      " [0.000 0.000 0.000 0.000 0.000 0.000 1.000 0.000]\n",
      " [0.000 0.000 0.000 0.000 0.000 0.000 0.000 1.000]\n",
      " [0.672 0.000 0.000 0.000 0.000 0.328 0.000 0.000]\n",
      " [0.000 0.000 0.000 0.000 0.000 0.000 0.000 1.000]\n",
      " [0.000 0.000 0.000 0.000 0.000 0.000 0.000 1.000]\n",
      " [0.000 0.999 0.000 0.000 0.000 0.000 0.001 0.000]\n",
      " [0.000 0.000 1.000 0.000 0.000 0.000 0.000 0.000]\n",
      " [0.000 0.000 0.000 0.000 0.000 0.000 0.000 1.000]\n",
      " [0.000 1.000 0.000 0.000 0.000 0.000 0.000 0.000]\n",
      " [0.000 0.000 0.000 0.000 0.000 0.000 0.000 1.000]\n",
      " [0.000 0.000 0.000 0.000 0.000 1.000 0.000 0.000]\n",
      " [0.000 0.000 0.002 0.000 0.000 0.998 0.000 0.000]\n",
      " [0.000 0.000 0.000 0.000 0.000 0.000 0.000 1.000]\n",
      " [0.000 0.000 0.000 0.000 1.000 0.000 0.000 0.000]\n",
      " [0.000 0.000 0.000 0.000 0.000 0.000 1.000 0.000]\n",
      " [0.000 0.000 0.000 0.000 1.000 0.000 0.000 0.000]\n",
      " [0.000 0.000 0.000 0.000 0.481 0.000 0.519 0.000]\n",
      " [0.000 0.000 0.000 0.000 0.024 0.000 0.000 0.976]\n",
      " [0.000 0.000 0.000 0.000 1.000 0.000 0.000 0.000]\n",
      " [0.000 0.000 0.000 1.000 0.000 0.000 0.000 0.000]\n",
      " [1.000 0.000 0.000 0.000 0.000 0.000 0.000 0.000]\n",
      " [0.000 0.000 0.000 0.000 0.000 1.000 0.000 0.000]\n",
      " [0.000 0.000 0.000 0.000 0.997 0.000 0.000 0.003]\n",
      " [0.000 0.000 0.000 0.000 1.000 0.000 0.000 0.000]\n",
      " [0.000 1.000 0.000 0.000 0.000 0.000 0.000 0.000]\n",
      " [0.000 0.075 0.002 0.000 0.000 0.923 0.000 0.000]\n",
      " [0.000 0.511 0.256 0.000 0.000 0.233 0.000 0.000]\n",
      " [0.000 1.000 0.000 0.000 0.000 0.000 0.000 0.000]\n",
      " [0.000 0.000 0.298 0.000 0.000 0.702 0.000 0.000]\n",
      " [0.000 0.000 0.000 0.000 0.000 0.000 0.000 1.000]\n",
      " [0.000 0.000 0.000 1.000 0.000 0.000 0.000 0.000]\n",
      " [0.000 0.000 0.000 0.000 1.000 0.000 0.000 0.000]\n",
      " [0.000 1.000 0.000 0.000 0.000 0.000 0.000 0.000]\n",
      " [0.000 0.000 1.000 0.000 0.000 0.000 0.000 0.000]\n",
      " [0.915 0.008 0.076 0.000 0.000 0.002 0.000 0.000]\n",
      " [0.000 0.000 0.000 0.000 0.000 0.000 1.000 0.000]\n",
      " [0.000 0.000 1.000 0.000 0.000 0.000 0.000 0.000]\n",
      " [0.000 0.000 1.000 0.000 0.000 0.000 0.000 0.000]\n",
      " [1.000 0.000 0.000 0.000 0.000 0.000 0.000 0.000]\n",
      " [1.000 0.000 0.000 0.000 0.000 0.000 0.000 0.000]\n",
      " [0.000 0.000 0.000 0.000 0.000 1.000 0.000 0.000]\n",
      " [0.000 1.000 0.000 0.000 0.000 0.000 0.000 0.000]\n",
      " [0.000 0.000 0.008 0.000 0.000 0.992 0.000 0.000]\n",
      " [0.000 0.000 0.000 0.000 0.000 0.000 0.000 1.000]\n",
      " [0.249 0.001 0.009 0.000 0.000 0.741 0.000 0.000]\n",
      " [0.000 0.075 0.002 0.000 0.000 0.923 0.000 0.000]\n",
      " [0.000 0.000 0.049 0.000 0.225 0.000 0.726 0.000]\n",
      " [0.150 0.003 0.734 0.000 0.000 0.112 0.000 0.000]\n",
      " [0.000 0.000 0.000 0.000 1.000 0.000 0.000 0.000]\n",
      " [0.000 0.000 0.000 0.000 0.000 0.000 1.000 0.000]\n",
      " [0.000 0.993 0.000 0.000 0.000 0.002 0.005 0.000]]\n"
     ]
    }
   ],
   "source": [
    "print(\"-- Predict --\")\n",
    "output = model.predict_generator(vali_generator)\n",
    "# 실수를 소수점 3자리까지 출력 설정\n",
    "np.set_printoptions(formatter={'float': lambda x: \"{0:0.3f}\".format(x)})\n",
    "\n",
    "# 그룹의 index {'circle': 0, 'rectangle': 1, 'triangle': 2}, 알파벳 순\n",
    "print(vali_generator.class_indices) # 분류에 할당된 index\n",
    "print(type(output))\n",
    "print(output.shape) # 검증 이미지가 70개, 7개의 분류임으로 출력은 70행 7열\n",
    "print(output)"
   ]
  },
  {
   "cell_type": "code",
   "execution_count": 36,
   "metadata": {
    "executionInfo": {
     "elapsed": 742,
     "status": "ok",
     "timestamp": 1661573201187,
     "user": {
      "displayName": "강사엄기흥",
      "userId": "12410353940363031053"
     },
     "user_tz": -540
    },
    "id": "_UJfeDjsnVau"
   },
   "outputs": [],
   "source": [
    "model.save('./Actor.h5')"
   ]
  },
  {
   "cell_type": "code",
   "execution_count": 37,
   "metadata": {
    "executionInfo": {
     "elapsed": 6,
     "status": "ok",
     "timestamp": 1661573203186,
     "user": {
      "displayName": "강사엄기흥",
      "userId": "12410353940363031053"
     },
     "user_tz": -540
    },
    "id": "G0DJMolPnVau"
   },
   "outputs": [],
   "source": [
    "model = load_model('./Actor.h5')"
   ]
  },
  {
   "cell_type": "code",
   "execution_count": 58,
   "metadata": {
    "executionInfo": {
     "elapsed": 316,
     "status": "ok",
     "timestamp": 1661573225678,
     "user": {
      "displayName": "강사엄기흥",
      "userId": "12410353940363031053"
     },
     "user_tz": -540
    },
    "id": "I_6E0LICnVau"
   },
   "outputs": [
    {
     "name": "stdout",
     "output_type": "stream",
     "text": [
      "{'Amanda Seyfried': 0, 'Andrew Lincoln': 1, 'Anne Hathaway': 2, 'Eom Giheung': 3, 'Hugh Jackman': 4, 'Keira Christina Knightley': 5, 'Pierce Brosnan': 6, 'Zo Jung Seok': 7}\n"
     ]
    }
   ],
   "source": [
    "print(vali_generator.class_indices) # 분류에 할당된 index\n",
    "def display(data):\n",
    "    # print(data)\n",
    "    # print(type(data))\n",
    "    sw= np.argmax(data)\n",
    "    # print('sw:', sw)\n",
    "\n",
    "    if sw == 0:\n",
    "        sw = 'Amanda Seyfried'\n",
    "    elif sw == 1:\n",
    "        sw = 'Andrew Lincoln'\n",
    "    elif sw == 2:\n",
    "        sw = 'Anne Hathaway'\n",
    "    elif sw == 3:\n",
    "        sw = 'Eom Giheung'        \n",
    "    elif sw == 4:\n",
    "        sw = 'Hugh Jackman'\n",
    "    elif sw == 5:\n",
    "        sw = 'Keira Christina Knightley'        \n",
    "    elif sw == 6:\n",
    "        sw = 'Pierce Brosnan'   \n",
    "    elif sw == 7:\n",
    "        sw = '조정석'\n",
    "\n",
    "    return sw    "
   ]
  },
  {
   "cell_type": "code",
   "execution_count": 59,
   "metadata": {
    "colab": {
     "base_uri": "https://localhost:8080/"
    },
    "executionInfo": {
     "elapsed": 777,
     "status": "ok",
     "timestamp": 1661573261356,
     "user": {
      "displayName": "강사엄기흥",
      "userId": "12410353940363031053"
     },
     "user_tz": -540
    },
    "id": "Qnacmo2HnVav",
    "outputId": "bd16830d-9647-4c47-edbd-618c0725280a"
   },
   "outputs": [
    {
     "name": "stdout",
     "output_type": "stream",
     "text": [
      "Found 1 images belonging to 1 classes.\n",
      "[[0.996 0.000 0.000 0.000 0.000 0.004 0.000 0.000]]\n",
      "타겟: Amanda Seyfried / Amanda Seyfried\n"
     ]
    }
   ],
   "source": [
    "# 테스트용 데이터 생성기\n",
    "test_datagen = ImageDataGenerator(rescale=1./255)\n",
    " \n",
    "test_generator = test_datagen.flow_from_directory(\n",
    "        './test1',\n",
    "        target_size=(width, height),    \n",
    "        batch_size=1,\n",
    "        class_mode='categorical')\n",
    "yp = model.predict_generator(test_generator)\n",
    "print(yp)\n",
    "print('타겟: Amanda Seyfried /', display(yp))    # 2차원 텐서 전달"
   ]
  },
  {
   "cell_type": "code",
   "execution_count": 60,
   "metadata": {
    "colab": {
     "base_uri": "https://localhost:8080/"
    },
    "executionInfo": {
     "elapsed": 846,
     "status": "ok",
     "timestamp": 1661573300201,
     "user": {
      "displayName": "강사엄기흥",
      "userId": "12410353940363031053"
     },
     "user_tz": -540
    },
    "id": "gKU5_fQbnVav",
    "outputId": "9db262bd-8b13-44c0-874c-486b3530314c"
   },
   "outputs": [
    {
     "name": "stdout",
     "output_type": "stream",
     "text": [
      "Found 1 images belonging to 1 classes.\n",
      "[[0.000 1.000 0.000 0.000 0.000 0.000 0.000 0.000]]\n",
      "타겟: Andrew Lincoln / Andrew Lincoln\n"
     ]
    }
   ],
   "source": [
    "# 테스트용 데이터 생성기\n",
    "test_datagen = ImageDataGenerator(rescale=1./255)\n",
    " \n",
    "test_generator = test_datagen.flow_from_directory(\n",
    "        './test2',\n",
    "        target_size=(width, height),    \n",
    "        batch_size=1,\n",
    "        class_mode='categorical')\n",
    "yp = model.predict_generator(test_generator)\n",
    "print(yp)\n",
    "print('타겟: Andrew Lincoln /', display(yp))    # 2차원 텐서 전달"
   ]
  },
  {
   "cell_type": "code",
   "execution_count": 61,
   "metadata": {
    "colab": {
     "base_uri": "https://localhost:8080/"
    },
    "executionInfo": {
     "elapsed": 716,
     "status": "ok",
     "timestamp": 1661573345631,
     "user": {
      "displayName": "강사엄기흥",
      "userId": "12410353940363031053"
     },
     "user_tz": -540
    },
    "id": "6VRk7jS7nVaw",
    "outputId": "6f053042-107b-4ecf-8fde-36757165b211"
   },
   "outputs": [
    {
     "name": "stdout",
     "output_type": "stream",
     "text": [
      "Found 1 images belonging to 1 classes.\n",
      "[[0.000 0.000 1.000 0.000 0.000 0.000 0.000 0.000]]\n",
      "타겟: Anne Hathaway / Anne Hathaway\n"
     ]
    }
   ],
   "source": [
    "# 테스트용 데이터 생성기\n",
    "test_datagen = ImageDataGenerator(rescale=1./255)\n",
    " \n",
    "test_generator = test_datagen.flow_from_directory(\n",
    "        './test3',\n",
    "        target_size=(width, height),    \n",
    "        batch_size=1,\n",
    "        class_mode='categorical')\n",
    "yp = model.predict_generator(test_generator)\n",
    "print(yp)\n",
    "print('타겟: Anne Hathaway /', display(yp))    # 2차원 텐서 전달"
   ]
  },
  {
   "cell_type": "code",
   "execution_count": 62,
   "metadata": {
    "colab": {
     "base_uri": "https://localhost:8080/"
    },
    "executionInfo": {
     "elapsed": 501,
     "status": "ok",
     "timestamp": 1661573361629,
     "user": {
      "displayName": "강사엄기흥",
      "userId": "12410353940363031053"
     },
     "user_tz": -540
    },
    "id": "MYe0iiPanVaw",
    "outputId": "2f760648-4842-4bf6-eaed-381d15ac6cb6"
   },
   "outputs": [
    {
     "name": "stdout",
     "output_type": "stream",
     "text": [
      "Found 1 images belonging to 1 classes.\n",
      "[[0.000 0.000 0.000 0.000 0.000 1.000 0.000 0.000]]\n",
      "타겟: Keira Christina Knightley / Keira Christina Knightley\n"
     ]
    }
   ],
   "source": [
    "# 테스트용 데이터 생성기\n",
    "test_datagen = ImageDataGenerator(rescale=1./255)\n",
    " \n",
    "test_generator = test_datagen.flow_from_directory(\n",
    "        './test4',\n",
    "        target_size=(width, height),    \n",
    "        batch_size=1,\n",
    "        class_mode='categorical')\n",
    "yp = model.predict_generator(test_generator)\n",
    "print(yp)\n",
    "print('타겟: Keira Christina Knightley /', display(yp))    # 2차원 텐서 전달"
   ]
  },
  {
   "cell_type": "code",
   "execution_count": 63,
   "metadata": {
    "colab": {
     "base_uri": "https://localhost:8080/"
    },
    "executionInfo": {
     "elapsed": 741,
     "status": "ok",
     "timestamp": 1661573374775,
     "user": {
      "displayName": "강사엄기흥",
      "userId": "12410353940363031053"
     },
     "user_tz": -540
    },
    "id": "kZ_OzqeKnVaw",
    "outputId": "83deaa3a-b299-40d7-d826-30d74cc64e55"
   },
   "outputs": [
    {
     "name": "stdout",
     "output_type": "stream",
     "text": [
      "Found 1 images belonging to 1 classes.\n",
      "[[0.000 0.004 0.000 0.000 0.000 0.000 0.996 0.000]]\n",
      "타겟: Pierce Brosnan / Pierce Brosnan\n"
     ]
    }
   ],
   "source": [
    "# 테스트용 데이터 생성기\n",
    "test_datagen = ImageDataGenerator(rescale=1./255)\n",
    " \n",
    "test_generator = test_datagen.flow_from_directory(\n",
    "        './test5',\n",
    "        target_size=(width, height),    \n",
    "        batch_size=1,\n",
    "        class_mode='categorical')\n",
    "yp = model.predict_generator(test_generator)\n",
    "print(yp)\n",
    "print('타겟: Pierce Brosnan /', display(yp))    # 2차원 텐서 전달"
   ]
  },
  {
   "cell_type": "code",
   "execution_count": 64,
   "metadata": {
    "colab": {
     "base_uri": "https://localhost:8080/"
    },
    "executionInfo": {
     "elapsed": 755,
     "status": "ok",
     "timestamp": 1661573387134,
     "user": {
      "displayName": "강사엄기흥",
      "userId": "12410353940363031053"
     },
     "user_tz": -540
    },
    "id": "N-Lmiah0nVax",
    "outputId": "b267638e-61f3-49c7-914e-9cf91c7b3403"
   },
   "outputs": [
    {
     "name": "stdout",
     "output_type": "stream",
     "text": [
      "Found 1 images belonging to 1 classes.\n",
      "[[0.000 0.000 0.000 0.000 0.000 0.000 0.000 1.000]]\n",
      "타겟: 조정석 / 조정석\n"
     ]
    }
   ],
   "source": [
    "# 테스트용 데이터 생성기\n",
    "test_datagen = ImageDataGenerator(rescale=1./255)\n",
    " \n",
    "test_generator = test_datagen.flow_from_directory(\n",
    "        './test6',\n",
    "        target_size=(width, height),    \n",
    "        batch_size=1,\n",
    "        class_mode='categorical')\n",
    "yp = model.predict_generator(test_generator)\n",
    "print(yp)\n",
    "print('타겟: 조정석 /', display(yp))    # 2차원 텐서 전달"
   ]
  },
  {
   "cell_type": "code",
   "execution_count": 65,
   "metadata": {
    "colab": {
     "base_uri": "https://localhost:8080/"
    },
    "executionInfo": {
     "elapsed": 805,
     "status": "ok",
     "timestamp": 1661573397721,
     "user": {
      "displayName": "강사엄기흥",
      "userId": "12410353940363031053"
     },
     "user_tz": -540
    },
    "id": "5R3Y43KOnVax",
    "outputId": "cd0bc1f3-e590-44ea-e3ed-cff4b74c1487"
   },
   "outputs": [
    {
     "name": "stdout",
     "output_type": "stream",
     "text": [
      "Found 1 images belonging to 1 classes.\n",
      "[[0.000 0.000 0.000 0.000 0.501 0.000 0.389 0.110]]\n",
      "타겟: Hugh Jackman / Hugh Jackman\n"
     ]
    }
   ],
   "source": [
    "# 테스트용 데이터 생성기\n",
    "test_datagen = ImageDataGenerator(rescale=1./255)\n",
    " \n",
    "test_generator = test_datagen.flow_from_directory(\n",
    "        './test7',\n",
    "        target_size=(width, height),    \n",
    "        batch_size=1,\n",
    "        class_mode='categorical')\n",
    "yp = model.predict_generator(test_generator)\n",
    "print(yp)\n",
    "print('타겟: Hugh Jackman /', display(yp))    # 2차원 텐서 전달"
   ]
  },
  {
   "cell_type": "code",
   "execution_count": 66,
   "metadata": {
    "colab": {
     "base_uri": "https://localhost:8080/"
    },
    "executionInfo": {
     "elapsed": 805,
     "status": "ok",
     "timestamp": 1661573397721,
     "user": {
      "displayName": "강사엄기흥",
      "userId": "12410353940363031053"
     },
     "user_tz": -540
    },
    "id": "5R3Y43KOnVax",
    "outputId": "cd0bc1f3-e590-44ea-e3ed-cff4b74c1487"
   },
   "outputs": [
    {
     "name": "stdout",
     "output_type": "stream",
     "text": [
      "Found 1 images belonging to 1 classes.\n",
      "[[0.000 0.000 0.000 1.000 0.000 0.000 0.000 0.000]]\n",
      "타겟: Eom Giheung / Eom Giheung\n"
     ]
    }
   ],
   "source": [
    "# 테스트용 데이터 생성기\n",
    "test_datagen = ImageDataGenerator(rescale=1./255)\n",
    " \n",
    "test_generator = test_datagen.flow_from_directory(\n",
    "        './test8',\n",
    "        target_size=(width, height),    \n",
    "        batch_size=1,\n",
    "        class_mode='categorical')\n",
    "yp = model.predict_generator(test_generator)\n",
    "print(yp)\n",
    "print('타겟: Eom Giheung /', display(yp))    # 2차원 텐서 전달"
   ]
  },
  {
   "cell_type": "code",
   "execution_count": null,
   "metadata": {
    "id": "eF8UCcvFnVax"
   },
   "outputs": [],
   "source": []
  },
  {
   "cell_type": "code",
   "execution_count": null,
   "metadata": {},
   "outputs": [],
   "source": []
  },
  {
   "cell_type": "code",
   "execution_count": null,
   "metadata": {},
   "outputs": [],
   "source": []
  }
 ],
 "metadata": {
  "accelerator": "GPU",
  "colab": {
   "collapsed_sections": [],
   "name": "Actor.ipynb",
   "provenance": []
  },
  "gpuClass": "standard",
  "kernelspec": {
   "display_name": "ai",
   "language": "python",
   "name": "ai"
  },
  "language_info": {
   "codemirror_mode": {
    "name": "ipython",
    "version": 3
   },
   "file_extension": ".py",
   "mimetype": "text/x-python",
   "name": "python",
   "nbconvert_exporter": "python",
   "pygments_lexer": "ipython3",
   "version": "3.9.16"
  }
 },
 "nbformat": 4,
 "nbformat_minor": 1
}
