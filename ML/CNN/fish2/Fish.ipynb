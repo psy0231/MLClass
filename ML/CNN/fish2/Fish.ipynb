{
 "cells": [
  {
   "cell_type": "markdown",
   "metadata": {
    "id": "heSOUwlunVal"
   },
   "source": [
    "### CNN 기법을 이용한 물고기 품종 인식"
   ]
  },
  {
   "cell_type": "code",
   "execution_count": 102,
   "metadata": {
    "colab": {
     "base_uri": "https://localhost:8080/"
    },
    "executionInfo": {
     "elapsed": 20359,
     "status": "ok",
     "timestamp": 1661580930479,
     "user": {
      "displayName": "강사엄기흥",
      "userId": "12410353940363031053"
     },
     "user_tz": -540
    },
    "id": "rn5MEvpSnXq6",
    "outputId": "dba38ee3-6093-4c0d-e6df-e1931d284211"
   },
   "outputs": [],
   "source": [
    "# 글꼴 설치전 런타임 환경 확인\n",
    "# !sudo apt-get install -y fonts-nanum\n",
    "# !sudo fc-cache -fv\n",
    "# !rm ~/.cache/matplotlib -rf\n",
    "\n",
    "# GPU 런타임 환경 설정\n",
    "\n",
    "# 보안 문제로 ipynb 파일 open시마다 실행\n",
    "# from google.colab import drive\n",
    "# drive.mount('/content/drive') # 마운트 이름은 자유롭게 지정 가능"
   ]
  },
  {
   "cell_type": "code",
   "execution_count": 103,
   "metadata": {
    "colab": {
     "base_uri": "https://localhost:8080/",
     "height": 35
    },
    "executionInfo": {
     "elapsed": 3277,
     "status": "ok",
     "timestamp": 1661580984356,
     "user": {
      "displayName": "강사엄기흥",
      "userId": "12410353940363031053"
     },
     "user_tz": -540
    },
    "id": "QaoDxzj3nVap",
    "outputId": "e0fc4eb5-05da-4922-836f-30a8c912b86c"
   },
   "outputs": [
    {
     "data": {
      "application/javascript": [
       "IPython.notebook.set_autosave_interval(0)"
      ]
     },
     "metadata": {},
     "output_type": "display_data"
    },
    {
     "name": "stdout",
     "output_type": "stream",
     "text": [
      "Autosave disabled\n"
     ]
    }
   ],
   "source": [
    "%autosave 0\n",
    "import warnings\n",
    "warnings.filterwarnings(action='ignore')\n",
    "\n",
    "import os\n",
    "import time\n",
    "import random\n",
    "\n",
    "import numpy as np\n",
    "import pandas as pd\n",
    "import seaborn as sb\n",
    "import tensorflow as tf\n",
    "\n",
    "from tensorflow.keras.models import Sequential  # class\n",
    "from tensorflow.keras.models import load_model  # model 사용\n",
    "from tensorflow.keras.layers import Dense       # 전결합\n",
    "from tensorflow.keras.layers import Dropout     # 특정 node를 사용안함.\n",
    "from tensorflow.keras.layers import Conv2D\n",
    "from tensorflow.keras.layers import MaxPooling2D\n",
    "from tensorflow.keras.layers import Flatten\n",
    "\n",
    "from tensorflow.keras.callbacks import EarlyStopping   # 학습 자동 중지\n",
    "from tensorflow.keras.callbacks import ModelCheckpoint # 우수한 학습 모델 파일 저장\n",
    "from tensorflow.keras import regularizers \n",
    "from tensorflow.keras.utils import to_categorical   # one-hot 엔코딩\n",
    "from tensorflow.keras.optimizers import Adam\n",
    "\n",
    "from tensorflow.keras.preprocessing.image import ImageDataGenerator\n",
    "\n",
    "from tensorflow.keras.datasets import mnist\n",
    "\n",
    "from sklearn.preprocessing import LabelEncoder\n",
    "from sklearn.model_selection import train_test_split # 학습셋과 테스트셋의 분리 지원\n",
    "from sklearn.model_selection import StratifiedKFold  # K겹 교차 검증\n",
    "\n",
    "import matplotlib.pyplot as plt\n",
    "from matplotlib import font_manager, rc\n",
    "\n",
    "import platform \n",
    "\n",
    "if (platform.system() == 'Windows'):  # Windows, Linux, Darwin\n",
    "    rc('font', family=font_manager.FontProperties(fname=\"C:/Windows/Fonts/malgun.ttf\").get_name())\n",
    "    path = '.' # Local\n",
    "else:    \n",
    "    plt.rc('font', family='NanumBarunGothic')  # Ubuntu 18.04 기준 한글 처리\n",
    "    path = '/content/drive/My Drive/kd_ml/cnn/fish' # Colab\n",
    "\n",
    "os.chdir(path) # 기본 경로 설정\n",
    "\n",
    "plt.rcParams[\"font.size\"] = 12         # 글자 크기\n",
    "# plt.rcParams[\"figure.figsize\"] = (10, 4) # 10:4의 그래프 비율\n",
    "plt.rcParams['axes.unicode_minus'] = False  # minus 부호는 unicode 적용시 한글이 깨짐으로 설정\n",
    "\n",
    "%matplotlib inline  "
   ]
  },
  {
   "cell_type": "code",
   "execution_count": 104,
   "metadata": {
    "colab": {
     "base_uri": "https://localhost:8080/"
    },
    "executionInfo": {
     "elapsed": 384,
     "status": "ok",
     "timestamp": 1661582764348,
     "user": {
      "displayName": "강사엄기흥",
      "userId": "12410353940363031053"
     },
     "user_tz": -540
    },
    "id": "9PB1N5LSnVar",
    "outputId": "e1a0e3ff-0930-41a7-d46c-6c777ecbffdd",
    "scrolled": true
   },
   "outputs": [
    {
     "name": "stdout",
     "output_type": "stream",
     "text": [
      "Found 24 images belonging to 4 classes.\n",
      "Found 12 images belonging to 4 classes.\n"
     ]
    }
   ],
   "source": [
    "height=80\n",
    "width=128\n",
    "\n",
    "# 훈련용 데이터 생성기\n",
    "# rescale=1./255: 실수형태로 정규화, 0~1 사이의 값\n",
    "train_datagen = ImageDataGenerator(rescale=1./255)\n",
    "\n",
    "# '/content/drive/My Drive/kd_ml/cnn/fish/train', # 파일이 있는 폴더, Colab은 절대 경로 명시해야 인식가능 \n",
    "train_generator = train_datagen.flow_from_directory(\n",
    "        './train', # 파일이 있는 폴더, Colab은 절대 경로 명시해야 인식가능 \n",
    "        target_size=(height, width), # 훈련데이터 크기\n",
    "        batch_size=1,                # 이미지 1건씩 처리\n",
    "        class_mode='categorical')    # 다중분류\n",
    "\n",
    "# 검증용 데이터 생성기\n",
    "vali_datagen = ImageDataGenerator(rescale=1./255)\n",
    "\n",
    "# '/content/drive/My Drive/kd_ml/cnn/fish/validation',\n",
    "vali_generator = vali_datagen.flow_from_directory(\n",
    "        './validation',\n",
    "        target_size=(height, width),    \n",
    "        batch_size=1,\n",
    "        class_mode='categorical')\n",
    "# 3 classes: ./train/circle, ./train/rectangle, ./train/triangle"
   ]
  },
  {
   "cell_type": "code",
   "execution_count": 105,
   "metadata": {
    "colab": {
     "base_uri": "https://localhost:8080/"
    },
    "executionInfo": {
     "elapsed": 16111,
     "status": "ok",
     "timestamp": 1661582785472,
     "user": {
      "displayName": "강사엄기흥",
      "userId": "12410353940363031053"
     },
     "user_tz": -540
    },
    "id": "Y-0JjyF-nVar",
    "outputId": "3b3f16ea-ec1f-4fa5-b6be-270047f1888c"
   },
   "outputs": [
    {
     "name": "stdout",
     "output_type": "stream",
     "text": [
      "Model: \"sequential_6\"\n",
      "_________________________________________________________________\n",
      " Layer (type)                Output Shape              Param #   \n",
      "=================================================================\n",
      " conv2d_12 (Conv2D)          (None, 80, 128, 32)       896       \n",
      "                                                                 \n",
      " conv2d_13 (Conv2D)          (None, 80, 128, 32)       9248      \n",
      "                                                                 \n",
      " max_pooling2d_6 (MaxPooling  (None, 40, 64, 32)       0         \n",
      " 2D)                                                             \n",
      "                                                                 \n",
      " flatten_6 (Flatten)         (None, 81920)             0         \n",
      "                                                                 \n",
      " dense_12 (Dense)            (None, 30)                2457630   \n",
      "                                                                 \n",
      " dense_13 (Dense)            (None, 4)                 124       \n",
      "                                                                 \n",
      "=================================================================\n",
      "Total params: 2,467,898\n",
      "Trainable params: 2,467,898\n",
      "Non-trainable params: 0\n",
      "_________________________________________________________________\n",
      "Epoch 1/50\n",
      "24/24 [==============================] - ETA: 0s - loss: 1.5829 - accuracy: 0.0833\n",
      "Epoch 1: val_accuracy improved from -inf to 0.25000, saving model to .\\Fish.h5\n",
      "24/24 [==============================] - 2s 83ms/step - loss: 1.5829 - accuracy: 0.0833 - val_loss: 1.3701 - val_accuracy: 0.2500\n",
      "Epoch 2/50\n",
      "24/24 [==============================] - ETA: 0s - loss: 1.3656 - accuracy: 0.2500\n",
      "Epoch 2: val_accuracy improved from 0.25000 to 0.33333, saving model to .\\Fish.h5\n",
      "24/24 [==============================] - 2s 75ms/step - loss: 1.3656 - accuracy: 0.2500 - val_loss: 1.3024 - val_accuracy: 0.3333\n",
      "Epoch 3/50\n",
      "24/24 [==============================] - ETA: 0s - loss: 1.2931 - accuracy: 0.3333\n",
      "Epoch 3: val_accuracy did not improve from 0.33333\n",
      "24/24 [==============================] - 1s 33ms/step - loss: 1.2931 - accuracy: 0.3333 - val_loss: 1.3388 - val_accuracy: 0.2500\n",
      "Epoch 4/50\n",
      "23/24 [===========================>..] - ETA: 0s - loss: 1.2709 - accuracy: 0.2174\n",
      "Epoch 4: val_accuracy did not improve from 0.33333\n",
      "24/24 [==============================] - 1s 33ms/step - loss: 1.2840 - accuracy: 0.2083 - val_loss: 1.2503 - val_accuracy: 0.2500\n",
      "Epoch 5/50\n",
      "24/24 [==============================] - ETA: 0s - loss: 1.1620 - accuracy: 0.4167\n",
      "Epoch 5: val_accuracy did not improve from 0.33333\n",
      "24/24 [==============================] - 1s 33ms/step - loss: 1.1620 - accuracy: 0.4167 - val_loss: 1.2053 - val_accuracy: 0.3333\n",
      "Epoch 6/50\n",
      "23/24 [===========================>..] - ETA: 0s - loss: 1.0808 - accuracy: 0.4348\n",
      "Epoch 6: val_accuracy improved from 0.33333 to 0.50000, saving model to .\\Fish.h5\n",
      "24/24 [==============================] - 2s 73ms/step - loss: 1.0655 - accuracy: 0.4583 - val_loss: 1.1271 - val_accuracy: 0.5000\n",
      "Epoch 7/50\n",
      "24/24 [==============================] - ETA: 0s - loss: 1.1058 - accuracy: 0.4167\n",
      "Epoch 7: val_accuracy did not improve from 0.50000\n",
      "24/24 [==============================] - 1s 32ms/step - loss: 1.1058 - accuracy: 0.4167 - val_loss: 1.2016 - val_accuracy: 0.2500\n",
      "Epoch 8/50\n",
      "24/24 [==============================] - ETA: 0s - loss: 0.9413 - accuracy: 0.5417\n",
      "Epoch 8: val_accuracy improved from 0.50000 to 0.58333, saving model to .\\Fish.h5\n",
      "24/24 [==============================] - 2s 75ms/step - loss: 0.9413 - accuracy: 0.5417 - val_loss: 1.0369 - val_accuracy: 0.5833\n",
      "Epoch 9/50\n",
      "23/24 [===========================>..] - ETA: 0s - loss: 0.8337 - accuracy: 0.7391\n",
      "Epoch 9: val_accuracy improved from 0.58333 to 0.66667, saving model to .\\Fish.h5\n",
      "24/24 [==============================] - 2s 75ms/step - loss: 0.8107 - accuracy: 0.7500 - val_loss: 0.9771 - val_accuracy: 0.6667\n",
      "Epoch 10/50\n",
      "23/24 [===========================>..] - ETA: 0s - loss: 0.8216 - accuracy: 0.6522\n",
      "Epoch 10: val_accuracy did not improve from 0.66667\n",
      "24/24 [==============================] - 1s 33ms/step - loss: 0.8006 - accuracy: 0.6667 - val_loss: 0.9621 - val_accuracy: 0.5000\n",
      "Epoch 11/50\n",
      "23/24 [===========================>..] - ETA: 0s - loss: 0.6694 - accuracy: 0.6957\n",
      "Epoch 11: val_accuracy did not improve from 0.66667\n",
      "24/24 [==============================] - 1s 34ms/step - loss: 0.6710 - accuracy: 0.7083 - val_loss: 0.8798 - val_accuracy: 0.6667\n",
      "Epoch 12/50\n",
      "23/24 [===========================>..] - ETA: 0s - loss: 0.6416 - accuracy: 0.7391\n",
      "Epoch 12: val_accuracy did not improve from 0.66667\n",
      "24/24 [==============================] - 1s 33ms/step - loss: 0.6310 - accuracy: 0.7500 - val_loss: 0.8645 - val_accuracy: 0.6667\n",
      "Epoch 13/50\n",
      "23/24 [===========================>..] - ETA: 0s - loss: 0.5115 - accuracy: 0.7826\n",
      "Epoch 13: val_accuracy did not improve from 0.66667\n",
      "24/24 [==============================] - 1s 33ms/step - loss: 0.5427 - accuracy: 0.7500 - val_loss: 0.7676 - val_accuracy: 0.6667\n",
      "Epoch 14/50\n",
      "24/24 [==============================] - ETA: 0s - loss: 0.5190 - accuracy: 0.7917\n",
      "Epoch 14: val_accuracy improved from 0.66667 to 0.75000, saving model to .\\Fish.h5\n",
      "24/24 [==============================] - 2s 74ms/step - loss: 0.5190 - accuracy: 0.7917 - val_loss: 0.7039 - val_accuracy: 0.7500\n",
      "Epoch 15/50\n",
      "23/24 [===========================>..] - ETA: 0s - loss: 0.4249 - accuracy: 0.9130\n",
      "Epoch 15: val_accuracy improved from 0.75000 to 0.83333, saving model to .\\Fish.h5\n",
      "24/24 [==============================] - 2s 75ms/step - loss: 0.4454 - accuracy: 0.9167 - val_loss: 0.6703 - val_accuracy: 0.8333\n",
      "Epoch 16/50\n",
      "23/24 [===========================>..] - ETA: 0s - loss: 0.3885 - accuracy: 0.8261\n",
      "Epoch 16: val_accuracy did not improve from 0.83333\n",
      "24/24 [==============================] - 1s 33ms/step - loss: 0.4113 - accuracy: 0.8333 - val_loss: 0.6359 - val_accuracy: 0.7500\n",
      "Epoch 17/50\n",
      "24/24 [==============================] - ETA: 0s - loss: 0.3746 - accuracy: 0.9583\n",
      "Epoch 17: val_accuracy did not improve from 0.83333\n",
      "24/24 [==============================] - 1s 33ms/step - loss: 0.3746 - accuracy: 0.9583 - val_loss: 0.5839 - val_accuracy: 0.7500\n",
      "Epoch 18/50\n",
      "23/24 [===========================>..] - ETA: 0s - loss: 0.3297 - accuracy: 0.9565\n",
      "Epoch 18: val_accuracy improved from 0.83333 to 0.91667, saving model to .\\Fish.h5\n",
      "24/24 [==============================] - 2s 75ms/step - loss: 0.3205 - accuracy: 0.9583 - val_loss: 0.5664 - val_accuracy: 0.9167\n",
      "Epoch 19/50\n",
      "23/24 [===========================>..] - ETA: 0s - loss: 0.2842 - accuracy: 1.0000\n",
      "Epoch 19: val_accuracy did not improve from 0.91667\n",
      "24/24 [==============================] - 1s 33ms/step - loss: 0.2752 - accuracy: 1.0000 - val_loss: 0.5186 - val_accuracy: 0.8333\n",
      "Epoch 20/50\n",
      "22/24 [==========================>...] - ETA: 0s - loss: 0.2639 - accuracy: 1.0000\n",
      "Epoch 20: val_accuracy did not improve from 0.91667\n",
      "24/24 [==============================] - 1s 33ms/step - loss: 0.2520 - accuracy: 1.0000 - val_loss: 0.5032 - val_accuracy: 0.9167\n",
      "Epoch 21/50\n",
      "22/24 [==========================>...] - ETA: 0s - loss: 0.1898 - accuracy: 1.0000\n",
      "Epoch 21: val_accuracy did not improve from 0.91667\n",
      "24/24 [==============================] - 1s 34ms/step - loss: 0.2183 - accuracy: 1.0000 - val_loss: 0.4586 - val_accuracy: 0.9167\n",
      "Epoch 22/50\n",
      "24/24 [==============================] - ETA: 0s - loss: 0.2256 - accuracy: 0.9583\n",
      "Epoch 22: val_accuracy did not improve from 0.91667\n",
      "24/24 [==============================] - 1s 32ms/step - loss: 0.2256 - accuracy: 0.9583 - val_loss: 0.5513 - val_accuracy: 0.8333\n",
      "Epoch 23/50\n",
      "24/24 [==============================] - ETA: 0s - loss: 0.1778 - accuracy: 1.0000\n",
      "Epoch 23: val_accuracy did not improve from 0.91667\n",
      "24/24 [==============================] - 1s 33ms/step - loss: 0.1778 - accuracy: 1.0000 - val_loss: 0.4417 - val_accuracy: 0.9167\n",
      "Epoch 24/50\n",
      "24/24 [==============================] - ETA: 0s - loss: 0.1720 - accuracy: 1.0000\n",
      "Epoch 24: val_accuracy did not improve from 0.91667\n",
      "24/24 [==============================] - 1s 34ms/step - loss: 0.1720 - accuracy: 1.0000 - val_loss: 0.4507 - val_accuracy: 0.9167\n",
      "Epoch 25/50\n"
     ]
    },
    {
     "name": "stdout",
     "output_type": "stream",
     "text": [
      "24/24 [==============================] - ETA: 0s - loss: 0.1143 - accuracy: 1.0000\n",
      "Epoch 25: val_accuracy did not improve from 0.91667\n",
      "24/24 [==============================] - 1s 33ms/step - loss: 0.1143 - accuracy: 1.0000 - val_loss: 0.3664 - val_accuracy: 0.9167\n",
      "Epoch 26/50\n",
      "23/24 [===========================>..] - ETA: 0s - loss: 0.0956 - accuracy: 1.0000\n",
      "Epoch 26: val_accuracy improved from 0.91667 to 1.00000, saving model to .\\Fish.h5\n",
      "24/24 [==============================] - 2s 75ms/step - loss: 0.0918 - accuracy: 1.0000 - val_loss: 0.3184 - val_accuracy: 1.0000\n",
      "Epoch 27/50\n",
      "23/24 [===========================>..] - ETA: 0s - loss: 0.0686 - accuracy: 1.0000\n",
      "Epoch 27: val_accuracy did not improve from 1.00000\n",
      "24/24 [==============================] - 1s 34ms/step - loss: 0.0706 - accuracy: 1.0000 - val_loss: 0.3704 - val_accuracy: 0.9167\n",
      "Epoch 28/50\n",
      "23/24 [===========================>..] - ETA: 0s - loss: 0.0619 - accuracy: 1.0000\n",
      "Epoch 28: val_accuracy did not improve from 1.00000\n",
      "24/24 [==============================] - 1s 33ms/step - loss: 0.0630 - accuracy: 1.0000 - val_loss: 0.3162 - val_accuracy: 1.0000\n",
      "Epoch 29/50\n",
      "23/24 [===========================>..] - ETA: 0s - loss: 0.0567 - accuracy: 1.0000\n",
      "Epoch 29: val_accuracy did not improve from 1.00000\n",
      "24/24 [==============================] - 1s 34ms/step - loss: 0.0556 - accuracy: 1.0000 - val_loss: 0.3236 - val_accuracy: 0.9167\n",
      "Epoch 30/50\n",
      "23/24 [===========================>..] - ETA: 0s - loss: 0.0465 - accuracy: 1.0000\n",
      "Epoch 30: val_accuracy did not improve from 1.00000\n",
      "24/24 [==============================] - 1s 33ms/step - loss: 0.0507 - accuracy: 1.0000 - val_loss: 0.3570 - val_accuracy: 0.8333\n",
      "Epoch 31/50\n",
      "23/24 [===========================>..] - ETA: 0s - loss: 0.0467 - accuracy: 1.0000\n",
      "Epoch 31: val_accuracy did not improve from 1.00000\n",
      "24/24 [==============================] - 1s 32ms/step - loss: 0.0448 - accuracy: 1.0000 - val_loss: 0.3046 - val_accuracy: 0.9167\n",
      "Epoch 32/50\n",
      "23/24 [===========================>..] - ETA: 0s - loss: 0.0340 - accuracy: 1.0000\n",
      "Epoch 32: val_accuracy did not improve from 1.00000\n",
      "24/24 [==============================] - 1s 32ms/step - loss: 0.0327 - accuracy: 1.0000 - val_loss: 0.3116 - val_accuracy: 0.9167\n",
      "Epoch 33/50\n",
      "22/24 [==========================>...] - ETA: 0s - loss: 0.0252 - accuracy: 1.0000\n",
      "Epoch 33: val_accuracy did not improve from 1.00000\n",
      "24/24 [==============================] - 1s 33ms/step - loss: 0.0271 - accuracy: 1.0000 - val_loss: 0.3049 - val_accuracy: 0.8333\n",
      "Epoch 34/50\n",
      "23/24 [===========================>..] - ETA: 0s - loss: 0.0249 - accuracy: 1.0000\n",
      "Epoch 34: val_accuracy did not improve from 1.00000\n",
      "24/24 [==============================] - 1s 33ms/step - loss: 0.0245 - accuracy: 1.0000 - val_loss: 0.2824 - val_accuracy: 0.9167\n",
      "Epoch 35/50\n",
      "24/24 [==============================] - ETA: 0s - loss: 0.0239 - accuracy: 1.0000\n",
      "Epoch 35: val_accuracy did not improve from 1.00000\n",
      "24/24 [==============================] - 1s 32ms/step - loss: 0.0239 - accuracy: 1.0000 - val_loss: 0.2759 - val_accuracy: 0.9167\n",
      "Epoch 36/50\n",
      "24/24 [==============================] - ETA: 0s - loss: 0.0208 - accuracy: 1.0000\n",
      "Epoch 36: val_accuracy did not improve from 1.00000\n",
      "24/24 [==============================] - 1s 32ms/step - loss: 0.0208 - accuracy: 1.0000 - val_loss: 0.2951 - val_accuracy: 0.8333\n",
      "Epoch 37/50\n",
      "23/24 [===========================>..] - ETA: 0s - loss: 0.0175 - accuracy: 1.0000\n",
      "Epoch 37: val_accuracy did not improve from 1.00000\n",
      "24/24 [==============================] - 1s 33ms/step - loss: 0.0183 - accuracy: 1.0000 - val_loss: 0.2286 - val_accuracy: 0.9167\n",
      "Epoch 38/50\n",
      "24/24 [==============================] - ETA: 0s - loss: 0.0144 - accuracy: 1.0000\n",
      "Epoch 38: val_accuracy did not improve from 1.00000\n",
      "24/24 [==============================] - 1s 35ms/step - loss: 0.0144 - accuracy: 1.0000 - val_loss: 0.2812 - val_accuracy: 0.9167\n",
      "Epoch 39/50\n",
      "24/24 [==============================] - ETA: 0s - loss: 0.0149 - accuracy: 1.0000\n",
      "Epoch 39: val_accuracy did not improve from 1.00000\n",
      "24/24 [==============================] - 1s 33ms/step - loss: 0.0149 - accuracy: 1.0000 - val_loss: 0.2615 - val_accuracy: 0.9167\n",
      "Epoch 40/50\n",
      "23/24 [===========================>..] - ETA: 0s - loss: 0.0130 - accuracy: 1.0000\n",
      "Epoch 40: val_accuracy did not improve from 1.00000\n",
      "24/24 [==============================] - 1s 34ms/step - loss: 0.0128 - accuracy: 1.0000 - val_loss: 0.2574 - val_accuracy: 0.9167\n",
      "Epoch 41/50\n",
      "23/24 [===========================>..] - ETA: 0s - loss: 0.0122 - accuracy: 1.0000\n",
      "Epoch 41: val_accuracy did not improve from 1.00000\n",
      "24/24 [==============================] - 1s 33ms/step - loss: 0.0119 - accuracy: 1.0000 - val_loss: 0.2506 - val_accuracy: 0.9167\n",
      "Epoch 42/50\n",
      "24/24 [==============================] - ETA: 0s - loss: 0.0103 - accuracy: 1.0000\n",
      "Epoch 42: val_accuracy did not improve from 1.00000\n",
      "24/24 [==============================] - 1s 34ms/step - loss: 0.0103 - accuracy: 1.0000 - val_loss: 0.2354 - val_accuracy: 0.9167\n",
      "Epoch 43/50\n",
      "23/24 [===========================>..] - ETA: 0s - loss: 0.0089 - accuracy: 1.0000\n",
      "Epoch 43: val_accuracy did not improve from 1.00000\n",
      "24/24 [==============================] - 1s 32ms/step - loss: 0.0092 - accuracy: 1.0000 - val_loss: 0.2377 - val_accuracy: 0.9167\n",
      "Epoch 44/50\n",
      "22/24 [==========================>...] - ETA: 0s - loss: 0.0080 - accuracy: 1.0000\n",
      "Epoch 44: val_accuracy did not improve from 1.00000\n",
      "24/24 [==============================] - 1s 33ms/step - loss: 0.0086 - accuracy: 1.0000 - val_loss: 0.2387 - val_accuracy: 0.9167\n",
      "Epoch 45/50\n",
      "24/24 [==============================] - ETA: 0s - loss: 0.0076 - accuracy: 1.0000\n",
      "Epoch 45: val_accuracy did not improve from 1.00000\n",
      "24/24 [==============================] - 1s 32ms/step - loss: 0.0076 - accuracy: 1.0000 - val_loss: 0.2311 - val_accuracy: 0.9167\n",
      "Epoch 46/50\n",
      "24/24 [==============================] - ETA: 0s - loss: 0.0071 - accuracy: 1.0000\n",
      "Epoch 46: val_accuracy did not improve from 1.00000\n",
      "24/24 [==============================] - 1s 33ms/step - loss: 0.0071 - accuracy: 1.0000 - val_loss: 0.2071 - val_accuracy: 1.0000\n",
      "Epoch 47/50\n",
      "23/24 [===========================>..] - ETA: 0s - loss: 0.0062 - accuracy: 1.0000\n",
      "Epoch 47: val_accuracy did not improve from 1.00000\n",
      "24/24 [==============================] - 1s 34ms/step - loss: 0.0066 - accuracy: 1.0000 - val_loss: 0.2067 - val_accuracy: 0.9167\n",
      "Epoch 48/50\n",
      "23/24 [===========================>..] - ETA: 0s - loss: 0.0069 - accuracy: 1.0000\n",
      "Epoch 48: val_accuracy did not improve from 1.00000\n",
      "24/24 [==============================] - 1s 32ms/step - loss: 0.0067 - accuracy: 1.0000 - val_loss: 0.2618 - val_accuracy: 0.8333\n",
      "Epoch 49/50\n",
      "23/24 [===========================>..] - ETA: 0s - loss: 0.0059 - accuracy: 1.0000\n",
      "Epoch 49: val_accuracy did not improve from 1.00000\n",
      "24/24 [==============================] - 1s 32ms/step - loss: 0.0058 - accuracy: 1.0000 - val_loss: 0.2013 - val_accuracy: 0.9167\n",
      "Epoch 50/50\n",
      "24/24 [==============================] - ETA: 0s - loss: 0.0050 - accuracy: 1.0000\n",
      "Epoch 50: val_accuracy did not improve from 1.00000\n",
      "24/24 [==============================] - 1s 33ms/step - loss: 0.0050 - accuracy: 1.0000 - val_loss: 0.2066 - val_accuracy: 0.9167\n",
      "Runtime: 50.57 초\n"
     ]
    }
   ],
   "source": [
    "SEED = 0\n",
    "os.environ['PYTHONHASHSEED'] = str(SEED)\n",
    "os.environ['TF_DETERMINISTIC_OPS'] = '1'\n",
    "\n",
    "tf.random.set_seed(SEED) # Global seed\n",
    "np.random.seed(SEED)\n",
    "random.seed(SEED)\n",
    "\n",
    "model = Sequential()\n",
    "model.add(Conv2D(32, kernel_size = (3, 3), padding='same',\n",
    "                 input_shape = (height, width, 3), activation='relu'))\n",
    "model.add(Conv2D(32, (3, 3), padding='same', activation='relu'))\n",
    "# 4개중에 최대값 1개만 다음 레이어로 전달, 슬라이딩이 작동되어 파라미터수가 50%로 감소함 \n",
    "model.add(MaxPooling2D(pool_size=(2, 2))) \n",
    "\n",
    "# model.add(Conv2D(16, (3, 3), padding='same', activation='relu'))\n",
    "# model.add(Conv2D(16, (3, 3), padding='same', activation='relu'))\n",
    "# model.add(MaxPooling2D(pool_size=(2, 2))) # 25%만 사용\n",
    "# model.add(Dropout(0.25)) # node 25% 사용하지 않음.\n",
    "\n",
    "model.add(Flatten()) # 3차원 텐서의 형태를 1차원 열방향으로 변경\n",
    "model.add(Dense(30, activation='relu'))\n",
    "# model.add(Dropout(0.25)) # node 25% 사용하지 않음.\n",
    "\n",
    "model.add(Dense(4, activation='softmax'))\n",
    "model.compile(optimizer=Adam(lr=0.0001), loss='categorical_crossentropy', \n",
    "                                metrics=['accuracy'])\n",
    "model.summary()\n",
    "\n",
    "cp = ModelCheckpoint(filepath='./Fish.h5', monitor='val_accuracy',\n",
    "                               verbose=1, save_best_only=True)\n",
    "es = EarlyStopping(monitor='loss', patience=10, restore_best_weights=True)\n",
    "\n",
    "start = time.time()\n",
    "\n",
    "hist = model.fit(\n",
    "    train_generator,\n",
    "    epochs=50,\n",
    "    validation_data = vali_generator,\n",
    "    callbacks=[cp, es])\n",
    "\n",
    "end = time.time()\n",
    "print('Runtime: {0:.2f} 초'.format(end-start))\n",
    "\n",
    "# Total params: 118,282 Colab gpu: 42 ~ 83s, i5 2320: 117s, gtx 1060: 20s\n"
   ]
  },
  {
   "cell_type": "code",
   "execution_count": 106,
   "metadata": {
    "colab": {
     "base_uri": "https://localhost:8080/",
     "height": 338
    },
    "executionInfo": {
     "elapsed": 13251,
     "status": "ok",
     "timestamp": 1661582826448,
     "user": {
      "displayName": "강사엄기흥",
      "userId": "12410353940363031053"
     },
     "user_tz": -540
    },
    "id": "RRf1d65YnVas",
    "outputId": "8a574508-e547-4eb1-d7af-2e280148fa52"
   },
   "outputs": [
    {
     "data": {
      "image/png": "[encoded data removed]",
      "text/plain": [
       "<Figure size 1000x500 with 2 Axes>"
      ]
     },
     "metadata": {},
     "output_type": "display_data"
    }
   ],
   "source": [
    "import matplotlib.pyplot as plt\n",
    "%matplotlib inline  \n",
    "\n",
    "fig, loss_ax = plt.subplots()\n",
    "# plt.figure(figsize=(6,4)) # ERROR\n",
    "fig.set_size_inches(10, 5)  # 챠트 크기 설정\n",
    "\n",
    "acc_ax = loss_ax.twinx()  # 오른쪽 y 출 설정\n",
    "\n",
    "# 왼쪽 y 축 설정\n",
    "loss_ax.plot(hist.history['loss'], 'y', label='train loss')\n",
    "loss_ax.plot(hist.history['val_loss'], 'r', label='val loss')\n",
    "loss_ax.set_ylim([0.0, 1.1110]) # 값을 반영하여 변경\n",
    "\n",
    "# 오른쪽 y 축 설정\n",
    "acc_ax.plot(hist.history['accuracy'], 'b', label='train accuracy')\n",
    "acc_ax.plot(hist.history['val_accuracy'], 'g', label='val accuracy')\n",
    "acc_ax.set_ylim([0.0, 1.0])\n",
    "\n",
    "# 축 레이블 설정\n",
    "loss_ax.set_xlabel('epoch')  # 학습 횟수\n",
    "loss_ax.set_ylabel('loss')   # 오차\n",
    "acc_ax.set_ylabel('accuracy') # 정확도\n",
    "\n",
    "loss_ax.legend(loc='upper left') # 오차 레이블 위치\n",
    "acc_ax.legend(loc='lower left')  # 정확도 레이블 위치\n",
    "\n",
    "plt.show()"
   ]
  },
  {
   "cell_type": "code",
   "execution_count": 107,
   "metadata": {
    "colab": {
     "base_uri": "https://localhost:8080/"
    },
    "executionInfo": {
     "elapsed": 416,
     "status": "ok",
     "timestamp": 1661582857015,
     "user": {
      "displayName": "강사엄기흥",
      "userId": "12410353940363031053"
     },
     "user_tz": -540
    },
    "id": "hzuxfisSnVat",
    "outputId": "f3dc2a5f-f68f-4cc1-d21a-3dda62990842"
   },
   "outputs": [
    {
     "name": "stdout",
     "output_type": "stream",
     "text": [
      "-- Evaluate --\n",
      "accuracy: 91.67%\n"
     ]
    }
   ],
   "source": [
    "print(\"-- Evaluate --\")\n",
    "scores = model.evaluate_generator(vali_generator, verbose=0)  \n",
    "print(\"%s: %.2f%%\" %(model.metrics_names[1], scores[1]*100))"
   ]
  },
  {
   "cell_type": "code",
   "execution_count": 108,
   "metadata": {
    "colab": {
     "base_uri": "https://localhost:8080/"
    },
    "executionInfo": {
     "elapsed": 443,
     "status": "ok",
     "timestamp": 1661582863648,
     "user": {
      "displayName": "강사엄기흥",
      "userId": "12410353940363031053"
     },
     "user_tz": -540
    },
    "id": "XU2DmrBrnVat",
    "outputId": "6a040c00-19dd-4de2-a446-4581d560a52e"
   },
   "outputs": [
    {
     "name": "stdout",
     "output_type": "stream",
     "text": [
      "-- Predict --\n",
      "{'bunga': 0, 'kwanga': 1, 'samchi': 2, 'wooruk': 3}\n",
      "<class 'numpy.ndarray'>\n",
      "(12, 4)\n",
      "[[0.022 0.000 0.914 0.064]\n",
      " [0.000 0.000 0.993 0.007]\n",
      " [0.953 0.000 0.002 0.045]\n",
      " [0.009 0.001 0.009 0.981]\n",
      " [0.000 0.993 0.003 0.004]\n",
      " [0.117 0.000 0.712 0.170]\n",
      " [0.034 0.351 0.042 0.572]\n",
      " [0.767 0.000 0.044 0.189]\n",
      " [0.003 0.023 0.065 0.909]\n",
      " [0.576 0.000 0.094 0.330]\n",
      " [0.002 0.000 0.007 0.991]\n",
      " [0.000 0.999 0.001 0.000]]\n"
     ]
    }
   ],
   "source": [
    "print(\"-- Predict --\")\n",
    "output = model.predict_generator(vali_generator)\n",
    "# 실수를 소수점 3자리까지 출력 설정\n",
    "np.set_printoptions(formatter={'float': lambda x: \"{0:0.3f}\".format(x)})\n",
    "\n",
    "# 그룹의 index {'circle': 0, 'rectangle': 1, 'triangle': 2}, 알파벳 순\n",
    "print(vali_generator.class_indices) # 분류에 할당된 index\n",
    "print(type(output))\n",
    "print(output.shape) # 검증 이미지가 70개, 7개의 분류임으로 출력은 70행 7열\n",
    "print(output)"
   ]
  },
  {
   "cell_type": "code",
   "execution_count": 109,
   "metadata": {
    "id": "_UJfeDjsnVau"
   },
   "outputs": [],
   "source": [
    "# model.save('/content/drive/My Drive/kd_ml/cnn/fish/Fish.h5')"
   ]
  },
  {
   "cell_type": "code",
   "execution_count": 110,
   "metadata": {
    "executionInfo": {
     "elapsed": 720,
     "status": "ok",
     "timestamp": 1661582906094,
     "user": {
      "displayName": "강사엄기흥",
      "userId": "12410353940363031053"
     },
     "user_tz": -540
    },
    "id": "G0DJMolPnVau"
   },
   "outputs": [],
   "source": [
    "# model = load_model('/content/drive/My Drive/kd_ml/cnn/fish/Fish.h5')\n",
    "model = load_model('./Fish.h5')"
   ]
  },
  {
   "cell_type": "code",
   "execution_count": 111,
   "metadata": {
    "executionInfo": {
     "elapsed": 315,
     "status": "ok",
     "timestamp": 1661583019739,
     "user": {
      "displayName": "강사엄기흥",
      "userId": "12410353940363031053"
     },
     "user_tz": -540
    },
    "id": "I_6E0LICnVau"
   },
   "outputs": [],
   "source": [
    "# {'kwanga': 0, 'megi': 1, 'samchi': 2, 'wooruk': 3}\n",
    "def display(data):\n",
    "    if np.max(data) >= 0.6: # 확신이 있는 결과만 처리\n",
    "        sw= np.argmax(data)\n",
    "\n",
    "        if sw == 0:\n",
    "            sw = '붕어'\n",
    "        elif sw == 1:\n",
    "            sw = '광어'\n",
    "        elif sw == 2:\n",
    "            sw = '삼치'\n",
    "        elif sw == 3:\n",
    "            sw = '우럭'\n",
    "    else:\n",
    "        sw = '품종을 알수없습니다.'  \n",
    "        \n",
    "    return sw    "
   ]
  },
  {
   "cell_type": "code",
   "execution_count": 112,
   "metadata": {
    "colab": {
     "base_uri": "https://localhost:8080/"
    },
    "executionInfo": {
     "elapsed": 789,
     "status": "ok",
     "timestamp": 1661583068463,
     "user": {
      "displayName": "강사엄기흥",
      "userId": "12410353940363031053"
     },
     "user_tz": -540
    },
    "id": "Qnacmo2HnVav",
    "outputId": "0110f6c8-d2e5-4075-b83d-691c35d0b11d"
   },
   "outputs": [
    {
     "name": "stdout",
     "output_type": "stream",
     "text": [
      "Found 1 images belonging to 1 classes.\n",
      "[[0.255 89.873 8.536 1.336]]\n",
      "타겟: 광어 / 광어\n"
     ]
    }
   ],
   "source": [
    "# 테스트용 데이터 생성기\n",
    "# {'kwanga': 0, 'samchi': 1, 'wooruk': 2}\n",
    "test_datagen = ImageDataGenerator(rescale=1./255)\n",
    "\n",
    "# '/content/drive/My Drive/kd_ml/cnn/fish/test1',\n",
    "test_generator = test_datagen.flow_from_directory(\n",
    "        './test1',\n",
    "        target_size=(height, width),    \n",
    "        batch_size=1,\n",
    "        class_mode='categorical')\n",
    "yp = model.predict_generator(test_generator)\n",
    "print(yp*100)\n",
    "print('타겟: 광어 /', display(yp))    # 2차원 텐서 전달"
   ]
  },
  {
   "cell_type": "code",
   "execution_count": 113,
   "metadata": {
    "colab": {
     "base_uri": "https://localhost:8080/"
    },
    "executionInfo": {
     "elapsed": 1213,
     "status": "ok",
     "timestamp": 1661583099545,
     "user": {
      "displayName": "강사엄기흥",
      "userId": "12410353940363031053"
     },
     "user_tz": -540
    },
    "id": "gKU5_fQbnVav",
    "outputId": "f4c11320-abd3-45c7-82a1-42d392829632"
   },
   "outputs": [
    {
     "name": "stdout",
     "output_type": "stream",
     "text": [
      "Found 1 images belonging to 1 classes.\n",
      "[[2.321 0.009 86.020 11.650]]\n",
      "타겟: 삼치 / 삼치\n"
     ]
    }
   ],
   "source": [
    "# 테스트용 데이터 생성기\n",
    "test_datagen = ImageDataGenerator(rescale=1./255)\n",
    "\n",
    "# '/content/drive/My Drive/kd_ml/cnn/fish/test2',\n",
    "test_generator = test_datagen.flow_from_directory(\n",
    "        './test2',\n",
    "        target_size=(height, width),   \n",
    "        batch_size=1,\n",
    "        class_mode='categorical')\n",
    "yp = model.predict_generator(test_generator)\n",
    "print(yp*100)\n",
    "print('타겟: 삼치 /', display(yp))    # 2차원 텐서 전달"
   ]
  },
  {
   "cell_type": "code",
   "execution_count": 114,
   "metadata": {
    "colab": {
     "base_uri": "https://localhost:8080/"
    },
    "executionInfo": {
     "elapsed": 1072,
     "status": "ok",
     "timestamp": 1661583124490,
     "user": {
      "displayName": "강사엄기흥",
      "userId": "12410353940363031053"
     },
     "user_tz": -540
    },
    "id": "6VRk7jS7nVaw",
    "outputId": "15a8b50a-cc61-4f26-8fd7-d19341db0ef6"
   },
   "outputs": [
    {
     "name": "stdout",
     "output_type": "stream",
     "text": [
      "Found 1 images belonging to 1 classes.\n",
      "[[7.770 0.447 8.812 82.971]]\n",
      "타겟: 우럭 / 우럭\n"
     ]
    }
   ],
   "source": [
    "# 테스트용 데이터 생성기\n",
    "test_datagen = ImageDataGenerator(rescale=1./255)\n",
    "\n",
    "# '/content/drive/My Drive/kd_ml/cnn/fish/test3',\n",
    "test_generator = test_datagen.flow_from_directory(\n",
    "        './test3',\n",
    "        target_size=(height, width), \n",
    "        batch_size=1,\n",
    "        class_mode='categorical')\n",
    "yp = model.predict_generator(test_generator)\n",
    "print(yp*100)\n",
    "print('타겟: 우럭 /', display(yp))    # 2차원 텐서 전달"
   ]
  },
  {
   "cell_type": "code",
   "execution_count": 117,
   "metadata": {
    "colab": {
     "base_uri": "https://localhost:8080/"
    },
    "executionInfo": {
     "elapsed": 466,
     "status": "ok",
     "timestamp": 1661583354916,
     "user": {
      "displayName": "강사엄기흥",
      "userId": "12410353940363031053"
     },
     "user_tz": -540
    },
    "id": "ngRAZscTnVax",
    "outputId": "bdc41460-887f-4579-8a62-54e7be343507"
   },
   "outputs": [
    {
     "name": "stdout",
     "output_type": "stream",
     "text": [
      "Found 1 images belonging to 1 classes.\n",
      "[[93.242 0.001 1.829 4.929]]\n",
      "타겟: 붕어 / 붕어\n"
     ]
    }
   ],
   "source": [
    "# 훈련하지 않은 데이터 '쭈꾸미'의 사용\n",
    "# 테스트용 데이터 생성기\n",
    "test_datagen = ImageDataGenerator(rescale=1./255)\n",
    "\n",
    "# '/content/drive/My Drive/kd_ml/cnn/fish/test4',\n",
    "test_generator = test_datagen.flow_from_directory(\n",
    "        './test4',\n",
    "        target_size=(height, width), \n",
    "        batch_size=1,\n",
    "        class_mode='categorical')\n",
    "yp = model.predict_generator(test_generator)\n",
    "print(yp*100)\n",
    "print('타겟: 붕어 /', display(yp))    # 2차원 텐서 전달"
   ]
  },
  {
   "cell_type": "code",
   "execution_count": 118,
   "metadata": {
    "colab": {
     "base_uri": "https://localhost:8080/"
    },
    "executionInfo": {
     "elapsed": 466,
     "status": "ok",
     "timestamp": 1661583354916,
     "user": {
      "displayName": "강사엄기흥",
      "userId": "12410353940363031053"
     },
     "user_tz": -540
    },
    "id": "ngRAZscTnVax",
    "outputId": "bdc41460-887f-4579-8a62-54e7be343507"
   },
   "outputs": [
    {
     "name": "stdout",
     "output_type": "stream",
     "text": [
      "Found 1 images belonging to 1 classes.\n",
      "[[50.633 0.249 21.950 27.168]]\n",
      "타겟: 쭈꾸미 / 품종을 알수없습니다.\n"
     ]
    }
   ],
   "source": [
    "# 훈련하지 않은 데이터 '쭈꾸미'의 사용\n",
    "# 테스트용 데이터 생성기\n",
    "test_datagen = ImageDataGenerator(rescale=1./255)\n",
    "\n",
    "# '/content/drive/My Drive/kd_ml/cnn/fish/test5',\n",
    "test_generator = test_datagen.flow_from_directory(\n",
    "        './test5',\n",
    "        target_size=(height, width),\n",
    "        batch_size=1,\n",
    "        class_mode='categorical')\n",
    "yp = model.predict_generator(test_generator)\n",
    "print(yp*100)\n",
    "print('타겟: 쭈꾸미 /', display(yp))    # 2차원 텐서 전달"
   ]
  },
  {
   "cell_type": "code",
   "execution_count": null,
   "metadata": {
    "id": "Y65QMnOHGv8d"
   },
   "outputs": [],
   "source": []
  },
  {
   "cell_type": "code",
   "execution_count": null,
   "metadata": {},
   "outputs": [],
   "source": []
  }
 ],
 "metadata": {
  "accelerator": "GPU",
  "colab": {
   "collapsed_sections": [],
   "name": "Fish.ipynb",
   "provenance": []
  },
  "gpuClass": "standard",
  "kernelspec": {
   "display_name": "ai",
   "language": "python",
   "name": "ai"
  },
  "language_info": {
   "codemirror_mode": {
    "name": "ipython",
    "version": 3
   },
   "file_extension": ".py",
   "mimetype": "text/x-python",
   "name": "python",
   "nbconvert_exporter": "python",
   "pygments_lexer": "ipython3",
   "version": "3.9.16"
  }
 },
 "nbformat": 4,
 "nbformat_minor": 1
}
