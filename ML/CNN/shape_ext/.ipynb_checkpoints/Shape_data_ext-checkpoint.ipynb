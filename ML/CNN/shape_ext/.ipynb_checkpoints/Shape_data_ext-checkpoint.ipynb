{
 "cells": [
  {
   "cell_type": "markdown",
   "metadata": {},
   "source": [
    "### 데이터 파일 생성"
   ]
  },
  {
   "cell_type": "code",
   "execution_count": 1,
   "metadata": {},
   "outputs": [],
   "source": [
    "import numpy as np\n",
    "\n",
    "# 랜덤시드 고정시키기\n",
    "np.random.seed(0)\n",
    "\n",
    "from tensorflow.keras.preprocessing.image import ImageDataGenerator\n",
    "from tensorflow.keras.preprocessing.image import array_to_img\n",
    "from tensorflow.keras.preprocessing.image import img_to_array\n",
    "from tensorflow.keras.preprocessing.image import load_img\n",
    "\n",
    "# 데이터셋 생성하기\n",
    "train_datagen = ImageDataGenerator(rotation_range=15,\n",
    "                                   width_shift_range=0.1,\n",
    "                                   height_shift_range=0.1,\n",
    "                                   shear_range=0.5,\n",
    "                                   zoom_range=0.3,\n",
    "                                   horizontal_flip=True,\n",
    "                                   vertical_flip=True,\n",
    "                                   fill_mode='nearest')"
   ]
  },
  {
   "cell_type": "code",
   "execution_count": 3,
   "metadata": {},
   "outputs": [
    {
     "name": "stdout",
     "output_type": "stream",
     "text": [
      "(24, 24, 3)\n",
      "<class 'numpy.ndarray'>\n",
      "[[[255. 255. 255.]\n",
      "  [255. 255. 255.]\n",
      "  [255. 255. 255.]\n",
      "  ...\n",
      "  [255. 255. 255.]\n",
      "  [255. 255. 255.]\n",
      "  [255. 255. 255.]]\n",
      "\n",
      " [[255. 255. 255.]\n",
      "  [255. 255. 255.]\n",
      "  [255. 255. 255.]\n",
      "  ...\n",
      "  [255. 255. 255.]\n",
      "  [255. 255. 255.]\n",
      "  [255. 255. 255.]]\n",
      "\n",
      " [[255. 255. 255.]\n",
      "  [255. 255. 255.]\n",
      "  [255. 255. 255.]\n",
      "  ...\n",
      "  [255. 255. 255.]\n",
      "  [255. 255. 255.]\n",
      "  [255. 255. 255.]]\n",
      "\n",
      " ...\n",
      "\n",
      " [[255. 255. 255.]\n",
      "  [255. 255. 255.]\n",
      "  [255. 255. 255.]\n",
      "  ...\n",
      "  [255. 255. 255.]\n",
      "  [255. 255. 255.]\n",
      "  [255. 255. 255.]]\n",
      "\n",
      " [[255. 255. 255.]\n",
      "  [255. 255. 255.]\n",
      "  [255. 255. 255.]\n",
      "  ...\n",
      "  [255. 255. 255.]\n",
      "  [255. 255. 255.]\n",
      "  [255. 255. 255.]]\n",
      "\n",
      " [[254. 254. 254.]\n",
      "  [255. 255. 255.]\n",
      "  [255. 255. 255.]\n",
      "  ...\n",
      "  [255. 255. 255.]\n",
      "  [255. 255. 255.]\n",
      "  [255. 255. 255.]]]\n"
     ]
    }
   ],
   "source": [
    "img = load_img('./src/circle_k.jpg')\n",
    "X = img_to_array(img)\n",
    "print(X.shape) # 24 x 24 칼라(3) 이미지\n",
    "print(type(X))\n",
    "print(X)"
   ]
  },
  {
   "cell_type": "code",
   "execution_count": 4,
   "metadata": {},
   "outputs": [
    {
     "name": "stdout",
     "output_type": "stream",
     "text": [
      "(24, 24, 3)\n",
      "(1, 24, 24, 3)\n"
     ]
    }
   ],
   "source": [
    "# train_datagen.flow() 함수는 4차원 형태로 데이터를 받음\n",
    "print(X.shape) # 24 x 24 칼라(3) 이미지\n",
    "x = X.reshape((1,) + X.shape) # (1, ) + (24, 24, 3) # 차원 확장\n",
    "print(x.shape) # Rank 4, 4차원 배열"
   ]
  },
  {
   "cell_type": "code",
   "execution_count": 5,
   "metadata": {},
   "outputs": [],
   "source": [
    "# 훈련 폴더, 검증 폴더 자동 생성\n",
    "import os\n",
    "\n",
    "newfolder = './train'\n",
    "if os.path.exists(newfolder) == False:\n",
    "    os.mkdir(newfolder)\n",
    "\n",
    "newfolder = './train/circle'\n",
    "if os.path.exists(newfolder) == False:\n",
    "    os.mkdir(newfolder)\n",
    "\n",
    "newfolder = './train/rectangle'\n",
    "if os.path.exists(newfolder) == False:\n",
    "    os.mkdir(newfolder)\n",
    "\n",
    "newfolder = './train/triangle'\n",
    "if os.path.exists(newfolder) == False:\n",
    "    os.mkdir(newfolder)\n",
    "\n",
    "\n",
    "newfolder = './validation'\n",
    "if os.path.exists(newfolder) == False:\n",
    "    os.mkdir(newfolder)\n",
    "\n",
    "newfolder = './validation/circle'\n",
    "if os.path.exists(newfolder) == False:\n",
    "    os.mkdir(newfolder)\n",
    "\n",
    "newfolder = './validation/rectangle'\n",
    "if os.path.exists(newfolder) == False:\n",
    "    os.mkdir(newfolder)\n",
    "\n",
    "newfolder = './validation/triangle'\n",
    "if os.path.exists(newfolder) == False:\n",
    "    os.mkdir(newfolder)\n",
    "    "
   ]
  },
  {
   "cell_type": "markdown",
   "metadata": {},
   "source": [
    "### 훈련 및 검증 이미지는 1개 더 생성할것\n",
    "- 불규칙하게 생성시 1개가 적개 생성되는 문제 있음.\n",
    "- 검은색 계열 원, 사각형, 삼각형 훈련용 각각 80개 생성"
   ]
  },
  {
   "cell_type": "code",
   "execution_count": 7,
   "metadata": {},
   "outputs": [],
   "source": [
    "img = load_img('./src/circle_k.jpg')\n",
    "X = img_to_array(img)\n",
    "x = X.reshape((1,) + X.shape) # (1, ) + (24, 24, 3)\n",
    "i = 0\n",
    "# 자동 중지가 안됨으로 break로 종료\n",
    "for batch in train_datagen.flow(x, batch_size=1, \n",
    "                                save_to_dir='./train/circle',\n",
    "                                save_prefix='k',\n",
    "                                save_format='jpg'):\n",
    "    i = i + 1\n",
    "    if i >= 81:\n",
    "        break;"
   ]
  },
  {
   "cell_type": "code",
   "execution_count": 36,
   "metadata": {},
   "outputs": [],
   "source": [
    "img = load_img('./src/rectangle_k.jpg')\n",
    "X = img_to_array(img)\n",
    "x = X.reshape((1,) + X.shape) # (1, ) + (24, 24, 3)\n",
    "i = 0\n",
    "# 자동 중지가 안됨으로 break로 종료\n",
    "for batch in train_datagen.flow(x, batch_size=1, \n",
    "                                save_to_dir='./train/rectangle',\n",
    "                                save_prefix='k',\n",
    "                                save_format='jpg'):\n",
    "    i = i + 1\n",
    "    if i >= 81:\n",
    "        break;"
   ]
  },
  {
   "cell_type": "code",
   "execution_count": 9,
   "metadata": {},
   "outputs": [],
   "source": [
    "img = load_img('./src/triangle_k.jpg')\n",
    "X = img_to_array(img)\n",
    "x = X.reshape((1,) + X.shape) # (1, ) + (24, 24, 3)\n",
    "i = 0\n",
    "# 자동 중지가 안됨으로 break로 종료\n",
    "for batch in train_datagen.flow(x, batch_size=1, \n",
    "                                save_to_dir='./train/triangle',\n",
    "                                save_prefix='k',\n",
    "                                save_format='jpg'):\n",
    "    i = i + 1\n",
    "    if i >= 81:\n",
    "        break;"
   ]
  },
  {
   "cell_type": "markdown",
   "metadata": {},
   "source": [
    "#### 검은색 계열 원, 사각형, 삼각형 검증용 각각 20개 생성"
   ]
  },
  {
   "cell_type": "code",
   "execution_count": 8,
   "metadata": {},
   "outputs": [],
   "source": [
    "img = load_img('./src/circle_k.jpg')\n",
    "X = img_to_array(img)\n",
    "x = X.reshape((1,) + X.shape) # (1, ) + (24, 24, 3)\n",
    "i = 0\n",
    "# 자동 중지가 안됨으로 break로 종료\n",
    "for batch in train_datagen.flow(x, batch_size=1, \n",
    "                                save_to_dir='./validation/circle',\n",
    "                                save_prefix='k',\n",
    "                                save_format='jpg'):\n",
    "    i = i + 1\n",
    "    if i >= 20:\n",
    "        break;"
   ]
  },
  {
   "cell_type": "code",
   "execution_count": 9,
   "metadata": {},
   "outputs": [],
   "source": [
    "img = load_img('./src/rectangle_k.jpg')\n",
    "X = img_to_array(img)\n",
    "x = X.reshape((1,) + X.shape) # (1, ) + (24, 24, 3)\n",
    "i = 0\n",
    "# 자동 중지가 안됨으로 break로 종료\n",
    "for batch in train_datagen.flow(x, batch_size=1, \n",
    "                                save_to_dir='./validation/rectangle',\n",
    "                                save_prefix='k',\n",
    "                                save_format='jpg'):\n",
    "    i = i + 1\n",
    "    if i >= 20:\n",
    "        break;"
   ]
  },
  {
   "cell_type": "code",
   "execution_count": 10,
   "metadata": {},
   "outputs": [],
   "source": [
    "img = load_img('./src/triangle_k.jpg')\n",
    "X = img_to_array(img)\n",
    "x = X.reshape((1,) + X.shape) # (1, ) + (24, 24, 3)\n",
    "i = 0\n",
    "# 자동 중지가 안됨으로 break로 종료\n",
    "for batch in train_datagen.flow(x, batch_size=1, \n",
    "                                save_to_dir='./validation/triangle',\n",
    "                                save_prefix='k',\n",
    "                                save_format='jpg'):\n",
    "    i = i + 1\n",
    "    if i >= 20:\n",
    "        break;"
   ]
  },
  {
   "cell_type": "markdown",
   "metadata": {},
   "source": [
    "#### 빨간색 계열 원, 사각형, 삼각형 훈련용 각각 80개 생성"
   ]
  },
  {
   "cell_type": "code",
   "execution_count": 10,
   "metadata": {},
   "outputs": [
    {
     "name": "stdout",
     "output_type": "stream",
     "text": [
      "circle\n",
      "rectangle\n",
      "triangle\n"
     ]
    }
   ],
   "source": [
    "folders = ['circle', 'rectangle', 'triangle']  # 폴더명을 list에 저장\n",
    "for folder in folders:\n",
    "    print(folder)"
   ]
  },
  {
   "cell_type": "code",
   "execution_count": 11,
   "metadata": {},
   "outputs": [],
   "source": [
    "folders = ['circle', 'rectangle', 'triangle']\n",
    "for folder in folders:\n",
    "    img = load_img('./src/' + folder + '_r.jpg')\n",
    "    X = img_to_array(img)\n",
    "    x = X.reshape((1,) + X.shape) # (1, ) + (24, 24, 3)\n",
    "    i = 0\n",
    "    # 자동 중지가 안됨으로 break로 종료\n",
    "    for batch in train_datagen.flow(x, batch_size=1, \n",
    "                                    save_to_dir='./train/' + folder,\n",
    "                                    save_prefix='r',\n",
    "                                    save_format='jpg'):\n",
    "        i = i + 1\n",
    "        if i >= 81:\n",
    "            break;"
   ]
  },
  {
   "cell_type": "markdown",
   "metadata": {},
   "source": [
    "#### 빨간색 계열 원, 사각형, 삼각형 검증용 각각 20개 생성"
   ]
  },
  {
   "cell_type": "code",
   "execution_count": 13,
   "metadata": {},
   "outputs": [],
   "source": [
    "folders = ['circle', 'rectangle', 'triangle']\n",
    "for folder in folders:\n",
    "    img = load_img('./src/' + folder + '_r.jpg')\n",
    "    X = img_to_array(img)\n",
    "    x = X.reshape((1,) + X.shape) # (1, ) + (24, 24, 3)\n",
    "    i = 0\n",
    "    # 자동 중지가 안됨으로 break로 종료\n",
    "    for batch in train_datagen.flow(x, batch_size=1, \n",
    "                                    save_to_dir='./validation/' + folder,\n",
    "                                    save_prefix='r',\n",
    "                                    save_format='jpg'):\n",
    "        i = i + 1\n",
    "        if i >= 20:\n",
    "            break;"
   ]
  },
  {
   "cell_type": "markdown",
   "metadata": {},
   "source": [
    "#### 파란색 계열 원, 사각형, 삼각형 훈련용 각각 80개 생성"
   ]
  },
  {
   "cell_type": "code",
   "execution_count": 12,
   "metadata": {},
   "outputs": [],
   "source": [
    "folders = ['circle', 'rectangle', 'triangle']\n",
    "for folder in folders:\n",
    "    img = load_img('./src/' + folder + '_b.jpg')\n",
    "    X = img_to_array(img)\n",
    "    x = X.reshape((1,) + X.shape) # (1, ) + (24, 24, 3)\n",
    "    i = 0\n",
    "    # 자동 중지가 안됨으로 break로 종료\n",
    "    for batch in train_datagen.flow(x, batch_size=1, \n",
    "                                    save_to_dir='./train/' + folder,\n",
    "                                    save_prefix='b',\n",
    "                                    save_format='jpg'):\n",
    "        i = i + 1\n",
    "        if i >= 81:\n",
    "            break;"
   ]
  },
  {
   "cell_type": "markdown",
   "metadata": {},
   "source": [
    "#### 파란색 계열 원, 사각형, 삼각형 검증용 각각 20개 생성"
   ]
  },
  {
   "cell_type": "code",
   "execution_count": 15,
   "metadata": {},
   "outputs": [],
   "source": [
    "folders = ['circle', 'rectangle', 'triangle']\n",
    "for folder in folders:\n",
    "    img = load_img('./src/' + folder + '_b.jpg')\n",
    "    X = img_to_array(img)\n",
    "    x = X.reshape((1,) + X.shape) # (1, ) + (24, 24, 3)\n",
    "    i = 0\n",
    "    # 자동 중지가 안됨으로 break로 종료\n",
    "    for batch in train_datagen.flow(x, batch_size=1, \n",
    "                                    save_to_dir='./validation/' + folder,\n",
    "                                    save_prefix='b',\n",
    "                                    save_format='jpg'):\n",
    "        i = i + 1\n",
    "        if i >= 20:\n",
    "            break;"
   ]
  },
  {
   "cell_type": "code",
   "execution_count": null,
   "metadata": {},
   "outputs": [],
   "source": []
  },
  {
   "cell_type": "code",
   "execution_count": null,
   "metadata": {},
   "outputs": [],
   "source": []
  }
 ],
 "metadata": {
  "kernelspec": {
   "display_name": "ai",
   "language": "python",
   "name": "ai"
  },
  "language_info": {
   "codemirror_mode": {
    "name": "ipython",
    "version": 3
   },
   "file_extension": ".py",
   "mimetype": "text/x-python",
   "name": "python",
   "nbconvert_exporter": "python",
   "pygments_lexer": "ipython3",
   "version": "3.7.11"
  }
 },
 "nbformat": 4,
 "nbformat_minor": 2
}
