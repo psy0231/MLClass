{
 "cells": [
  {
   "cell_type": "code",
   "execution_count": null,
   "metadata": {
    "id": "Y4ravzEYgyur"
   },
   "outputs": [],
   "source": [
    "# 다중 분류, 숫자 이미지의 짝수/홀수 판별, MLP, CPU"
   ]
  },
  {
   "cell_type": "code",
   "execution_count": null,
   "metadata": {
    "colab": {
     "base_uri": "https://localhost:8080/"
    },
    "executionInfo": {
     "elapsed": 20821,
     "status": "ok",
     "timestamp": 1660986533454,
     "user": {
      "displayName": "강사엄기흥",
      "userId": "12410353940363031053"
     },
     "user_tz": -540
    },
    "id": "2_Kmox6r-Q1F",
    "outputId": "629637cb-22d8-49bb-bbf9-f60e16de5b2e"
   },
   "outputs": [
    {
     "name": "stdout",
     "output_type": "stream",
     "text": [
      "Mounted at /content/drive\n"
     ]
    }
   ],
   "source": [
    "from google.colab import drive\n",
    "drive.mount('/content/drive')"
   ]
  },
  {
   "cell_type": "code",
   "execution_count": 7,
   "metadata": {
    "id": "RJFyBKyogyuu"
   },
   "outputs": [],
   "source": [
    "# %autosave 0\n",
    "import warnings\n",
    "warnings.filterwarnings(action='ignore')\n",
    "\n",
    "import os \n",
    "import random\n",
    "import sys\n",
    "import time\n",
    "from time import localtime, strftime\n",
    "\n",
    "import pandas as pd\n",
    "import numpy as np\n",
    "import tensorflow as tf\n",
    "import seaborn as sb\n",
    "import cv2\n",
    "\n",
    "from tensorflow.keras.models import Sequential  # class\n",
    "from tensorflow.keras.models import load_model  # model 사용\n",
    "from tensorflow.keras.layers import Dense       # 전결합\n",
    "from tensorflow.keras.layers import Dropout     # 특정 node를 사용안함.\n",
    "from tensorflow.keras.layers import Conv2D\n",
    "from tensorflow.keras.layers import MaxPooling2D\n",
    "from tensorflow.keras.layers import Flatten\n",
    "from tensorflow.keras.layers import BatchNormalization\n",
    "from tensorflow.keras.layers import Activation\n",
    "\n",
    "from tensorflow.keras.callbacks import EarlyStopping   # 학습 자동 중지\n",
    "from tensorflow.keras.callbacks import ModelCheckpoint # 우수한 학습 모델 파일 저장\n",
    "from tensorflow.keras import regularizers \n",
    "from tensorflow.keras.utils import to_categorical   # one-hot 엔코딩\n",
    "from tensorflow.keras.optimizers import Adam\n",
    "\n",
    "from tensorflow.keras.datasets import mnist\n",
    "\n",
    "from sklearn.preprocessing import LabelEncoder\n",
    "from sklearn.model_selection import train_test_split # 학습셋과 테스트셋의 분리 지원\n",
    "from sklearn.model_selection import StratifiedKFold  # K겹 교차 검증\n",
    "\n",
    "import matplotlib.pyplot as plt\n",
    "from matplotlib import font_manager, rc\n",
    "\n",
    "import platform \n",
    "# Windows, Linux, Darwin\n",
    "if (platform.system() == 'Windows'):  \n",
    "    rc('font', family=font_manager.FontProperties(fname=\"C:/Windows/Fonts/malgun.ttf\").get_name())\n",
    "    path = '.' # Local\n",
    "else:    \n",
    "    rc('font', family='NanumBarunGothic')  # Ubuntu 18.04 기준 한글 처리\n",
    "    path = '/content/drive/My Drive/kd_ml/cnn/mnist' # Colab\n",
    "\n",
    "os.chdir(path) # 기본 경로 설정\n",
    "\n",
    "plt.rcParams[\"font.size\"] = 12         # 글자 크기\n",
    "# plt.rcParams[\"figure.figsize\"] = (10, 4) # 10:4의 그래프 비율\n",
    "plt.rcParams['axes.unicode_minus'] = False  # minus 부호는 unicode 적용시 한글이 깨짐으로 설정\n",
    "\n",
    "%matplotlib inline\n",
    "\n",
    "# ----------------------------------------------------------------\n",
    "# OS\n",
    "import tensorflow as tf\n",
    "\n",
    "gpus = tf.config.experimental.list_physical_devices('GPU')\n",
    "if gpus:\n",
    "    try:\n",
    "        tf.config.experimental.set_memory_growth(gpus[0], True)\n",
    "    except RuntimeError as e:\n",
    "        # 프로그램 시작시에 메모리 증가가 설정되어야만 합니다\n",
    "        print(e)\n",
    "# ----------------------------------------------------------------"
   ]
  },
  {
   "attachments": {},
   "cell_type": "markdown",
   "metadata": {},
   "source": [
    "### 배치 정규화\n",
    "- 활성화 함수로 값이 전달되기전에 정규화(표준화)를 진행하여 분산을 동일하게 변경함, 큰 정수가 작아짐으로 이상치의 영향 감소"
   ]
  },
  {
   "cell_type": "code",
   "execution_count": 8,
   "metadata": {
    "colab": {
     "base_uri": "https://localhost:8080/"
    },
    "executionInfo": {
     "elapsed": 30827,
     "status": "ok",
     "timestamp": 1660986570569,
     "user": {
      "displayName": "강사엄기흥",
      "userId": "12410353940363031053"
     },
     "user_tz": -540
    },
    "id": "ykBR0QGygyux",
    "outputId": "e285d786-4079-4fea-a459-60bfa0c2acb5"
   },
   "outputs": [
    {
     "name": "stdout",
     "output_type": "stream",
     "text": [
      "Model: \"sequential_2\"\n",
      "_________________________________________________________________\n",
      " Layer (type)                Output Shape              Param #   \n",
      "=================================================================\n",
      " flatten_4 (Flatten)         (None, 784)               0         \n",
      "                                                                 \n",
      " dense_8 (Dense)             (None, 30)                23550     \n",
      "                                                                 \n",
      " dense_9 (Dense)             (None, 20)                620       \n",
      "                                                                 \n",
      " dense_10 (Dense)            (None, 10)                210       \n",
      "                                                                 \n",
      "=================================================================\n",
      "Total params: 24,380\n",
      "Trainable params: 24,380\n",
      "Non-trainable params: 0\n",
      "_________________________________________________________________\n",
      "Model: \"sequential_3\"\n",
      "_________________________________________________________________\n",
      " Layer (type)                Output Shape              Param #   \n",
      "=================================================================\n",
      " flatten_5 (Flatten)         (None, 784)               0         \n",
      "                                                                 \n",
      " dense_11 (Dense)            (None, 30)                23550     \n",
      "                                                                 \n",
      " batch_normalization_1 (Batc  (None, 30)               120       \n",
      " hNormalization)                                                 \n",
      "                                                                 \n",
      " activation (Activation)     (None, 30)                0         \n",
      "                                                                 \n",
      " dense_12 (Dense)            (None, 20)                620       \n",
      "                                                                 \n",
      " batch_normalization_2 (Batc  (None, 20)               80        \n",
      " hNormalization)                                                 \n",
      "                                                                 \n",
      " activation_1 (Activation)   (None, 20)                0         \n",
      "                                                                 \n",
      " dense_13 (Dense)            (None, 10)                210       \n",
      "                                                                 \n",
      "=================================================================\n",
      "Total params: 24,580\n",
      "Trainable params: 24,480\n",
      "Non-trainable params: 100\n",
      "_________________________________________________________________\n"
     ]
    }
   ],
   "source": [
    "SEED = 0\n",
    "os.environ['PYTHONHASHSEED'] = str(SEED)\n",
    "os.environ['TF_DETERMINISTIC_OPS'] = '1'\n",
    "\n",
    "tf.random.set_seed(SEED) # Global seed\n",
    "np.random.seed(SEED)\n",
    "random.seed(SEED)\n",
    "\n",
    "width=28\n",
    "height=28\n",
    "\n",
    "(x_train_all, y_train_all), (x_test, y_test)  = mnist.load_data()\n",
    "\n",
    "# 정규화(Normalization), 60000행  X 784열\n",
    "x_train_all = x_train_all.reshape(x_train_all.shape[0], width * height).astype('float32') / 255 \n",
    "x_test = x_test.reshape(x_test.shape[0], width * height).astype('float32') / 255 # 10000 X 784\n",
    "\n",
    "y_train_all = to_categorical(y_train_all, 10)  # One-Hot encoding\n",
    "y_test = to_categorical(y_test, 10)\n",
    "\n",
    "\n",
    "# 80%: 훈련, 20%: 검증\n",
    "x_train, x_val, y_train, y_val = train_test_split(x_train_all, y_train_all,\n",
    "                                                  stratify=y_train_all,\n",
    "                                                  test_size=0.2,\n",
    "                                                  random_state=SEED)\n",
    "\n",
    "# Dense + ReLU\n",
    "model_a = Sequential(\n",
    "[\n",
    "    Flatten(input_shape=[width*height]), # input_shape=(29, 28) X\n",
    "    Dense(30, activation='relu'),\n",
    "    Dense(20, activation='relu'),\n",
    "    Dense(10, activation='softmax'),\n",
    "    \n",
    "])\n",
    "model_a.summary()\n",
    "\n",
    "\n",
    "# Dense + BatchNorm + ReLU\n",
    "model_b = Sequential(\n",
    "[\n",
    "    Flatten(input_shape=[width*height]), # \n",
    "    Dense(30),\n",
    "    BatchNormalization(), # 데이터를 scale 조절\n",
    "    Activation('relu'),\n",
    "    \n",
    "    Dense(20),\n",
    "    BatchNormalization(),\n",
    "    Activation('relu'),\n",
    "    \n",
    "    Dense(10, activation='softmax'),\n",
    "    \n",
    "])\n",
    "model_b.summary()\n",
    "\n",
    "model_a.compile(optimizer='adam', loss='categorical_crossentropy', metrics=['accuracy'])\n",
    "model_b.compile(optimizer='adam', loss='categorical_crossentropy', metrics=['accuracy'])\n",
    "\n",
    "es = EarlyStopping(monitor='loss', patience=1, restore_best_weights=True)"
   ]
  },
  {
   "cell_type": "code",
   "execution_count": 9,
   "metadata": {},
   "outputs": [
    {
     "name": "stdout",
     "output_type": "stream",
     "text": [
      "Epoch 1/5\n",
      "960/960 [==============================] - 7s 6ms/step - loss: 0.4414 - accuracy: 0.8734 - val_loss: 0.2429 - val_accuracy: 0.9323\n",
      "Epoch 2/5\n",
      "960/960 [==============================] - 6s 6ms/step - loss: 0.2096 - accuracy: 0.9391 - val_loss: 0.1971 - val_accuracy: 0.9430\n",
      "Epoch 3/5\n",
      "960/960 [==============================] - 6s 6ms/step - loss: 0.1694 - accuracy: 0.9495 - val_loss: 0.1648 - val_accuracy: 0.9528\n",
      "Epoch 4/5\n",
      "960/960 [==============================] - 6s 6ms/step - loss: 0.1443 - accuracy: 0.9570 - val_loss: 0.1611 - val_accuracy: 0.9546\n",
      "Epoch 5/5\n",
      "960/960 [==============================] - 6s 6ms/step - loss: 0.1281 - accuracy: 0.9612 - val_loss: 0.1487 - val_accuracy: 0.9575\n",
      "Epoch 1/5\n",
      "960/960 [==============================] - 10s 9ms/step - loss: 0.5048 - accuracy: 0.8703 - val_loss: 0.2101 - val_accuracy: 0.9418\n",
      "Epoch 2/5\n",
      "960/960 [==============================] - 9s 9ms/step - loss: 0.1985 - accuracy: 0.9417 - val_loss: 0.1628 - val_accuracy: 0.9516\n",
      "Epoch 3/5\n",
      "960/960 [==============================] - 9s 9ms/step - loss: 0.1549 - accuracy: 0.9530 - val_loss: 0.1266 - val_accuracy: 0.9631\n",
      "Epoch 4/5\n",
      "960/960 [==============================] - 8s 9ms/step - loss: 0.1294 - accuracy: 0.9605 - val_loss: 0.1192 - val_accuracy: 0.9650\n",
      "Epoch 5/5\n",
      "960/960 [==============================] - 9s 9ms/step - loss: 0.1139 - accuracy: 0.9650 - val_loss: 0.1115 - val_accuracy: 0.9662\n"
     ]
    }
   ],
   "source": [
    "hist_a = model_a.fit(x_train, y_train, validation_data=(x_val, y_val),\n",
    "                   epochs=5, batch_size=50, callbacks=[es])\n",
    "\n",
    "hist_b = model_b.fit(x_train, y_train, validation_data=(x_val, y_val),\n",
    "                    epochs=5, batch_size=50, callbacks=[es])"
   ]
  },
  {
   "cell_type": "code",
   "execution_count": 10,
   "metadata": {
    "colab": {
     "base_uri": "https://localhost:8080/",
     "height": 376
    },
    "executionInfo": {
     "elapsed": 601,
     "status": "ok",
     "timestamp": 1660986571151,
     "user": {
      "displayName": "강사엄기흥",
      "userId": "12410353940363031053"
     },
     "user_tz": -540
    },
    "id": "UiQwU5v1gyuy",
    "outputId": "d8b98e8c-ec7f-4f6e-cf3d-13872a4fed4b"
   },
   "outputs": [
    {
     "data": {
      "image/png": "[encoded data removed]",
      "text/plain": [
       "<Figure size 1000x500 with 2 Axes>"
      ]
     },
     "metadata": {},
     "output_type": "display_data"
    }
   ],
   "source": [
    "fig, loss_ax = plt.subplots()\n",
    "# plt.figure(figsize=(6,4)) # ERROR\n",
    "fig.set_size_inches(10, 5)  # 챠트 크기 설정\n",
    "\n",
    "acc_ax = loss_ax.twinx()  # 오른쪽 y 출 설정\n",
    "\n",
    "# 왼쪽 y 축 설정\n",
    "loss_ax.plot(hist_a.history['loss'], 'y', label='plane loss')\n",
    "loss_ax.plot(hist_b.history['loss'], 'r', label='BatchNormal loss')\n",
    "loss_ax.set_ylim([0.0, 0.5]) # 값을 반영하여 변경\n",
    "\n",
    "# 오른쪽 y 축 설정\n",
    "acc_ax.plot(hist_a.history['accuracy'], 'b', label='plane accuracy')\n",
    "acc_ax.plot(hist_b.history['accuracy'], 'g', label='BatchNormall accuracy')\n",
    "acc_ax.set_ylim([0.0, 1.0])\n",
    "\n",
    "# 축 레이블 설정\n",
    "loss_ax.set_xlabel('epoch' )  # 학습 횟수\n",
    "loss_ax.set_ylabel('loss')    # 왼쪽 y 축 레이블, 오차\n",
    "acc_ax.set_ylabel('accuracy') # 오른쪽 y 축 레이블,정확도\n",
    "\n",
    "loss_ax.legend(loc='upper left') # 왼쪽 y 축 오차 레이블 위치\n",
    "acc_ax.legend(loc='lower left')  # 오른쪽 y 축 정확도 레이블 위치\n",
    "\n",
    "plt.show()"
   ]
  },
  {
   "cell_type": "code",
   "execution_count": null,
   "metadata": {
    "id": "3nhf7Ia7gyu1"
   },
   "outputs": [],
   "source": [
    "test_loss, test_acc = model_a.evaluate(x_test, y_test, batch_size=50, verbose=0)\n",
    "print('손실값:', test_loss, '/정확도:', (test_acc*100), '%')"
   ]
  }
 ],
 "metadata": {
  "colab": {
   "collapsed_sections": [],
   "name": "Mnist3_mlp.ipynb",
   "provenance": []
  },
  "kernelspec": {
   "display_name": "ai",
   "language": "python",
   "name": "ai"
  },
  "language_info": {
   "codemirror_mode": {
    "name": "ipython",
    "version": 3
   },
   "file_extension": ".py",
   "mimetype": "text/x-python",
   "name": "python",
   "nbconvert_exporter": "python",
   "pygments_lexer": "ipython3",
   "version": "3.9.16"
  }
 },
 "nbformat": 4,
 "nbformat_minor": 1
}
