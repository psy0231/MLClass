{
 "cells": [
  {
   "cell_type": "code",
   "execution_count": null,
   "metadata": {
    "id": "u-dbV_-yPzgY"
   },
   "outputs": [],
   "source": [
    "# 이항 분류, 숫자 이미지의 짝수/홀수 판별, MLP, CPU"
   ]
  },
  {
   "cell_type": "code",
   "execution_count": null,
   "metadata": {
    "colab": {
     "base_uri": "https://localhost:8080/"
    },
    "executionInfo": {
     "elapsed": 18393,
     "status": "ok",
     "timestamp": 1660986201519,
     "user": {
      "displayName": "강사엄기흥",
      "userId": "12410353940363031053"
     },
     "user_tz": -540
    },
    "id": "ojz4_euk-R84",
    "outputId": "002b53be-2c5d-419d-d44b-30ae177cb350"
   },
   "outputs": [
    {
     "name": "stdout",
     "output_type": "stream",
     "text": [
      "Mounted at /content/drive\n"
     ]
    }
   ],
   "source": [
    "from google.colab import drive\n",
    "drive.mount('/content/drive')"
   ]
  },
  {
   "cell_type": "code",
   "execution_count": null,
   "metadata": {
    "id": "roUVdHK-Pzgd"
   },
   "outputs": [],
   "source": [
    "# %autosave 0\n",
    "import warnings\n",
    "warnings.filterwarnings(action='ignore')\n",
    "\n",
    "import os \n",
    "import random\n",
    "import sys\n",
    "import time\n",
    "from time import localtime, strftime\n",
    "\n",
    "import pandas as pd\n",
    "import numpy as np\n",
    "import tensorflow as tf\n",
    "import seaborn as sb\n",
    "\n",
    "from tensorflow.keras.models import Sequential  # class\n",
    "from tensorflow.keras.models import load_model  # model 사용\n",
    "from tensorflow.keras.layers import Dense       # 전결합\n",
    "from tensorflow.keras.layers import Dropout     # 특정 node를 사용안함.\n",
    "from tensorflow.keras.layers import Conv2D\n",
    "from tensorflow.keras.layers import MaxPooling2D\n",
    "from tensorflow.keras.layers import Flatten\n",
    "\n",
    "from tensorflow.keras.callbacks import EarlyStopping   # 학습 자동 중지\n",
    "from tensorflow.keras.callbacks import ModelCheckpoint # 우수한 학습 모델 파일 저장\n",
    "from tensorflow.keras import regularizers \n",
    "from tensorflow.keras.utils import to_categorical   # one-hot 엔코딩\n",
    "from tensorflow.keras.optimizers import Adam\n",
    "\n",
    "from tensorflow.keras.datasets import mnist\n",
    "\n",
    "from sklearn.preprocessing import LabelEncoder\n",
    "from sklearn.model_selection import train_test_split # 학습셋과 테스트셋의 분리 지원\n",
    "from sklearn.model_selection import StratifiedKFold  # K겹 교차 검증\n",
    "\n",
    "import matplotlib.pyplot as plt\n",
    "from matplotlib import font_manager, rc\n",
    "\n",
    "import platform \n",
    "# Windows, Linux, Darwin\n",
    "if (platform.system() == 'Windows'):  \n",
    "    rc('font', family=font_manager.FontProperties(fname=\"C:/Windows/Fonts/malgun.ttf\").get_name())\n",
    "    path = '.' # Local\n",
    "else:    \n",
    "    rc('font', family='NanumBarunGothic')  # Ubuntu 18.04 기준 한글 처리\n",
    "    path = '/content/drive/My Drive/kd_ml/cnn/mnist' # Colab\n",
    "\n",
    "os.chdir(path) # 기본 경로 설정\n",
    "\n",
    "plt.rcParams[\"font.size\"] = 12         # 글자 크기\n",
    "# plt.rcParams[\"figure.figsize\"] = (10, 4) # 10:4의 그래프 비율\n",
    "plt.rcParams['axes.unicode_minus'] = False  # minus 부호는 unicode 적용시 한글이 깨짐으로 설정\n",
    "\n",
    "%matplotlib inline\n",
    "\n",
    "# ----------------------------------------------------------------\n",
    "# OS\n",
    "import tensorflow as tf\n",
    "\n",
    "gpus = tf.config.experimental.list_physical_devices('GPU')\n",
    "if gpus:\n",
    "    try:\n",
    "        tf.config.experimental.set_memory_growth(gpus[0], True)\n",
    "    except RuntimeError as e:\n",
    "        # 프로그램 시작시에 메모리 증가가 설정되어야만 합니다\n",
    "        print(e)\n",
    "# ----------------------------------------------------------------"
   ]
  },
  {
   "cell_type": "code",
   "execution_count": null,
   "metadata": {
    "colab": {
     "base_uri": "https://localhost:8080/"
    },
    "executionInfo": {
     "elapsed": 558,
     "status": "ok",
     "timestamp": 1660986205502,
     "user": {
      "displayName": "강사엄기흥",
      "userId": "12410353940363031053"
     },
     "user_tz": -540
    },
    "id": "g9nIz94cPzgg",
    "outputId": "8f805fe5-1976-4cda-c6ce-deddba182494"
   },
   "outputs": [
    {
     "name": "stdout",
     "output_type": "stream",
     "text": [
      "Downloading data from https://storage.googleapis.com/tensorflow/tf-keras-datasets/mnist.npz\n",
      "11493376/11490434 [==============================] - 0s 0us/step\n",
      "11501568/11490434 [==============================] - 0s 0us/step\n",
      "x_train.shape: (60000, 28, 28)\n",
      "x_train.shape: (60000, 784)\n"
     ]
    }
   ],
   "source": [
    "# 최초에만 다운로드 발생\n",
    "(x_train, y_train), (x_test, y_test)  = mnist.load_data()\n",
    "width=28\n",
    "height=28\n",
    "\n",
    "print('x_train.shape:', x_train.shape)\n",
    "\n",
    "# 훈련 데이터 3차원 -> 2차원으로 변형, 60000행  X 784열\n",
    "x_train = x_train.reshape(x_train.shape[0], width * height).astype('float32') / 255 \n",
    "print('x_train.shape:', x_train.shape)\n",
    "# 10000행 X 784열\n",
    "x_test = x_test.reshape(x_test.shape[0], width * height).astype('float32') / 255 "
   ]
  },
  {
   "cell_type": "code",
   "execution_count": null,
   "metadata": {
    "colab": {
     "base_uri": "https://localhost:8080/"
    },
    "executionInfo": {
     "elapsed": 9,
     "status": "ok",
     "timestamp": 1660986205503,
     "user": {
      "displayName": "강사엄기흥",
      "userId": "12410353940363031053"
     },
     "user_tz": -540
    },
    "id": "hlkTL6NMPzgi",
    "outputId": "ed63f474-3084-4868-eaf0-8e6be9dbc5f9"
   },
   "outputs": [
    {
     "name": "stdout",
     "output_type": "stream",
     "text": [
      "Target: [7 2 1 0 4 1 4 9 5 9]\n",
      "이항분류가 적용된 Target: [1 0 1 0 0 1 0 1 1 1]\n"
     ]
    }
   ],
   "source": [
    "# 이항 분류 변환\n",
    "# 홀수는 1, 짝수는 0\n",
    "y_train = y_train % 2\n",
    "\n",
    "print('Target:', y_test[0:10])\n",
    "y_test = y_test % 2\n",
    "print('이항분류가 적용된 Target:', y_test[0:10])\n",
    "# 0, 2, 4, 6, 8 학습시 0이라고 학습 시킴\n",
    "# 1, 3, 5, 7, 9 학습시 1이라고 학습 시킴"
   ]
  },
  {
   "cell_type": "code",
   "execution_count": null,
   "metadata": {
    "colab": {
     "base_uri": "https://localhost:8080/",
     "height": 629
    },
    "executionInfo": {
     "elapsed": 694,
     "status": "ok",
     "timestamp": 1660986206191,
     "user": {
      "displayName": "강사엄기흥",
      "userId": "12410353940363031053"
     },
     "user_tz": -540
    },
    "id": "Etn5rlQWPzgj",
    "outputId": "7f4974f5-41d4-454b-d4f3-bfa47be41edd"
   },
   "outputs": [
    {
     "name": "stderr",
     "output_type": "stream",
     "text": [
      "WARNING:matplotlib.font_manager:findfont: Font family ['NanumBarunGothic'] not found. Falling back to DejaVu Sans.\n"
     ]
    },
    {
     "data": {
      "image/png": "[encoded data removed]",
      "text/plain": [
       "<Figure size 720x720 with 25 Axes>"
      ]
     },
     "metadata": {
      "needs_background": "light"
     },
     "output_type": "display_data"
    }
   ],
   "source": [
    "# 데이터 확인\n",
    "plt_row = 5\n",
    "plt_col = 5\n",
    "\n",
    "plt.rcParams[\"figure.figsize\"] = (10,10) # 이미지 사이즈 설정\n",
    "\n",
    "f, axarr = plt.subplots(plt_row, plt_col) # 5행 5열 배열 plot 구조 생성\n",
    "\n",
    "for i in range(plt_row * plt_col): # 25: 0 ~ 24\n",
    "    sub_plt = axarr[i // plt_row, i % plt_col] # 행, 열 위치 설정\n",
    "    sub_plt.axis('off') # 축 label 출력 생략\n",
    "    \n",
    "    # 1차원 배열 -> 2차원 배열로 변경\n",
    "    # 2차원 이미지로 출력하기위해 784 -> 28행 28열로 변경\n",
    "    sub_plt.imshow(x_test[i].reshape(width, height))  \n",
    "    \n",
    "    sub_plt_title = '' \n",
    "    \n",
    "    if y_test[i] :  # 1: True, 0: False\n",
    "        sub_plt_title += 'odd '  # 1, 홀수\n",
    "    else:\n",
    "        sub_plt_title += 'even ' # 0, 짝수\n",
    "    \n",
    "    sub_plt.set_title(sub_plt_title) # 이미지 제목\n",
    "\n",
    "plt.show()"
   ]
  },
  {
   "cell_type": "code",
   "execution_count": null,
   "metadata": {
    "colab": {
     "base_uri": "https://localhost:8080/"
    },
    "executionInfo": {
     "elapsed": 36573,
     "status": "ok",
     "timestamp": 1660986242755,
     "user": {
      "displayName": "강사엄기흥",
      "userId": "12410353940363031053"
     },
     "user_tz": -540
    },
    "id": "G7atbyGuPzgk",
    "outputId": "1f7244fb-c8c6-4f68-bfdb-5747f02e2c0e"
   },
   "outputs": [
    {
     "name": "stdout",
     "output_type": "stream",
     "text": [
      "[1 0 1 0 0 1 0 1 1 1]\n",
      "Model: \"sequential\"\n",
      "_________________________________________________________________\n",
      " Layer (type)                Output Shape              Param #   \n",
      "=================================================================\n",
      " dense (Dense)               (None, 10000)             7850000   \n",
      "                                                                 \n",
      " dense_1 (Dense)             (None, 1000)              10001000  \n",
      "                                                                 \n",
      " dense_2 (Dense)             (None, 200)               200200    \n",
      "                                                                 \n",
      " dense_3 (Dense)             (None, 100)               20100     \n",
      "                                                                 \n",
      " dense_4 (Dense)             (None, 1)                 101       \n",
      "                                                                 \n",
      "=================================================================\n",
      "Total params: 18,071,401\n",
      "Trainable params: 18,071,401\n",
      "Non-trainable params: 0\n",
      "_________________________________________________________________\n",
      "Epoch 1/3\n",
      "1600/1600 [==============================] - 13s 6ms/step - loss: 0.1109 - accuracy: 0.9607 - val_loss: 0.0705 - val_accuracy: 0.9783\n",
      "Epoch 2/3\n",
      "1600/1600 [==============================] - 9s 6ms/step - loss: 0.0549 - accuracy: 0.9806 - val_loss: 0.0535 - val_accuracy: 0.9821\n",
      "Epoch 3/3\n",
      "1600/1600 [==============================] - 9s 6ms/step - loss: 0.0390 - accuracy: 0.9866 - val_loss: 0.0446 - val_accuracy: 0.9866\n",
      "Runtime: 32.38 초\n"
     ]
    }
   ],
   "source": [
    "# 네트워크 구성\n",
    "SEED = 0\n",
    "os.environ['PYTHONHASHSEED'] = str(SEED)\n",
    "os.environ['TF_DETERMINISTIC_OPS'] = '1'\n",
    "\n",
    "tf.random.set_seed(SEED) # Global seed\n",
    "np.random.seed(SEED)\n",
    "random.seed(SEED)\n",
    "\n",
    "\n",
    "# MLP기반에 CPU, GPU 사용시 왜 GUP가 느린 이유\n",
    "# - 데이터가 아주 작을 경우, CPU가 GPU를 제어하는 시간 필요\n",
    "# - Dense는 CPU에 최적화 되어 학습되는 구조\n",
    "# - Dense에서도 가중치와 편향이 100만개이상으로 많아지면 GPU가 빨라짐.\n",
    "# i5 2320 cpu: 48s, Colab CPU: 48s\n",
    "# RTX 3090: 15s, Colab gpu: 24s"
   ]
  },
  {
   "cell_type": "code",
   "execution_count": null,
   "metadata": {
    "colab": {
     "base_uri": "https://localhost:8080/",
     "height": 376
    },
    "executionInfo": {
     "elapsed": 24,
     "status": "ok",
     "timestamp": 1660986242758,
     "user": {
      "displayName": "강사엄기흥",
      "userId": "12410353940363031053"
     },
     "user_tz": -540
    },
    "id": "I8CFrABcPzgl",
    "outputId": "03daa9a6-3068-42b8-88a7-bdaf4bc126dc"
   },
   "outputs": [
    {
     "name": "stderr",
     "output_type": "stream",
     "text": [
      "WARNING:matplotlib.font_manager:findfont: Font family ['NanumBarunGothic'] not found. Falling back to DejaVu Sans.\n"
     ]
    },
    {
     "data": {
      "image/png": "[encoded data removed]",
      "text/plain": [
       "<Figure size 720x360 with 2 Axes>"
      ]
     },
     "metadata": {
      "needs_background": "light"
     },
     "output_type": "display_data"
    }
   ],
   "source": [
    "fig, loss_ax = plt.subplots()\n",
    "# plt.figure(figsize=(6,4)) # ERROR\n",
    "fig.set_size_inches(10, 5)  # 챠트 크기 설정\n",
    "\n",
    "acc_ax = loss_ax.twinx()  # 오른쪽 y 출 설정\n",
    "\n",
    "# 왼쪽 y 축 설정\n",
    "loss_ax.plot(hist.history['loss'], 'y', label='train loss')\n",
    "loss_ax.plot(hist.history['val_loss'], 'r', label='val loss')\n",
    "loss_ax.set_ylim([0.0, 0.1]) # 값을 반영하여 변경\n",
    "\n",
    "# 오른쪽 y 축 설정\n",
    "acc_ax.plot(hist.history['accuracy'], 'b', label='train accuracy')\n",
    "acc_ax.plot(hist.history['val_accuracy'], 'g', label='val accuracy')\n",
    "acc_ax.set_ylim([0.0, 1.0])\n",
    "\n",
    "# 축 레이블 설정\n",
    "loss_ax.set_xlabel('epoch' )  # 학습 횟수\n",
    "loss_ax.set_ylabel('loss')    # 왼쪽 y 축 레이블, 오차\n",
    "acc_ax.set_ylabel('accuracy') # 오른쪽 y 축 레이블,정확도\n",
    "\n",
    "loss_ax.legend(loc='upper left') # 왼쪽 y 축 오차 레이블 위치\n",
    "acc_ax.legend(loc='lower left')  # 오른쪽 y 축 정확도 레이블 위치\n",
    "\n",
    "plt.show()"
   ]
  },
  {
   "cell_type": "code",
   "execution_count": null,
   "metadata": {
    "colab": {
     "base_uri": "https://localhost:8080/"
    },
    "executionInfo": {
     "elapsed": 396,
     "status": "ok",
     "timestamp": 1660986243138,
     "user": {
      "displayName": "강사엄기흥",
      "userId": "12410353940363031053"
     },
     "user_tz": -540
    },
    "id": "fKhkOFSWPzgn",
    "outputId": "25b40906-e835-4daf-b223-4272275452b2"
   },
   "outputs": [
    {
     "name": "stdout",
     "output_type": "stream",
     "text": [
      "손실값: 0.04589295759797096 /정확도: 98.580002784729 %\n"
     ]
    }
   ],
   "source": [
    "test_loss, test_acc = model.evaluate(x_test, y_test, batch_size=50, verbose=0)\n",
    "print('손실값:', test_loss, '/정확도:', (test_acc*100), '%')"
   ]
  },
  {
   "cell_type": "code",
   "execution_count": null,
   "metadata": {
    "colab": {
     "base_uri": "https://localhost:8080/"
    },
    "executionInfo": {
     "elapsed": 3315,
     "status": "ok",
     "timestamp": 1660986246451,
     "user": {
      "displayName": "강사엄기흥",
      "userId": "12410353940363031053"
     },
     "user_tz": -540
    },
    "id": "ywKL9yKePzgo",
    "outputId": "8cbf592d-cdcf-4c1d-d086-eaa153ce2b1d"
   },
   "outputs": [
    {
     "name": "stdout",
     "output_type": "stream",
     "text": [
      "[[1.0000000e+00]\n",
      " [2.9382176e-05]\n",
      " [9.9966133e-01]\n",
      " [5.0851819e-04]\n",
      " [2.3614632e-03]\n",
      " [9.9998319e-01]\n",
      " [1.1388095e-04]\n",
      " [9.9874383e-01]\n",
      " [1.4646322e-01]\n",
      " [9.9999845e-01]]\n"
     ]
    }
   ],
   "source": [
    "model.save('./Mnist2_mlp.h5')\n",
    "\n",
    "model = load_model('./Mnist2_mlp.h5')\n",
    "\n",
    "yp = model.predict(x_test, batch_size=32)\n",
    "print(yp[0:10])"
   ]
  },
  {
   "cell_type": "code",
   "execution_count": null,
   "metadata": {
    "colab": {
     "base_uri": "https://localhost:8080/",
     "height": 591
    },
    "executionInfo": {
     "elapsed": 977,
     "status": "ok",
     "timestamp": 1660986247423,
     "user": {
      "displayName": "강사엄기흥",
      "userId": "12410353940363031053"
     },
     "user_tz": -540
    },
    "id": "GzNL_YIOPzgq",
    "outputId": "92366f93-5279-4902-eb60-577ce4fab6f3"
   },
   "outputs": [
    {
     "data": {
      "image/png": "[encoded data removed]",
      "text/plain": [
       "<Figure size 720x720 with 25 Axes>"
      ]
     },
     "metadata": {
      "needs_background": "light"
     },
     "output_type": "display_data"
    }
   ],
   "source": [
    "# 결과 확인\n",
    "plt_row = 5\n",
    "plt_col = 5\n",
    "\n",
    "plt.rcParams[\"figure.figsize\"] = (10,10) # 이미지 사이즈 설정\n",
    "\n",
    "f, axarr = plt.subplots(plt_row, plt_col) # 5행 5열 배열 plot 구조 생성\n",
    "\n",
    "for i in range(plt_row*plt_col): # 25: 0 ~ 24\n",
    "    sub_plt = axarr[i//5, i%5] # 행, 열 위치 설정\n",
    "    sub_plt.axis('off') # 축 label 출력 생략\n",
    "    \n",
    "    # 1차원 배열 -> 2차원 배열로 변경\n",
    "    # 이미지로 출력하기위해 784 -> 28행 28열로 변경\n",
    "    sub_plt.imshow(x_test[i].reshape(width, height))  \n",
    "    \n",
    "    sub_plt_title = '' \n",
    "    \n",
    "    if y_test[i] :  # 1: True, 0: False, 찾아야할 값\n",
    "        sub_plt_title += 'odd '  # 1, 홀수\n",
    "    else:\n",
    "        sub_plt_title += 'even ' # 0, 짝수\n",
    "        \n",
    "    # 예측한 값 출력\n",
    "    if yp[i] >= 0.5:\n",
    "        sub_plt_title += 'ODD'  # 예측값\n",
    "    else:\n",
    "        sub_plt_title += 'EVEN'\n",
    "    \n",
    "    sub_plt.set_title(sub_plt_title) # 이미지 제목\n",
    "\n",
    "plt.show()"
   ]
  },
  {
   "cell_type": "code",
   "execution_count": null,
   "metadata": {
    "id": "TON8oZ40Pzgr"
   },
   "outputs": [],
   "source": []
  },
  {
   "cell_type": "code",
   "execution_count": null,
   "metadata": {
    "id": "szKxgTzlPzgr"
   },
   "outputs": [],
   "source": []
  },
  {
   "cell_type": "code",
   "execution_count": null,
   "metadata": {
    "id": "-vuNrA9IPzgs"
   },
   "outputs": [],
   "source": []
  },
  {
   "cell_type": "code",
   "execution_count": null,
   "metadata": {
    "id": "tACTmPNQPzgt"
   },
   "outputs": [],
   "source": []
  }
 ],
 "metadata": {
  "accelerator": "GPU",
  "colab": {
   "collapsed_sections": [],
   "name": "Mnist2_mlp.ipynb",
   "provenance": []
  },
  "gpuClass": "standard",
  "kernelspec": {
   "display_name": "ai",
   "language": "python",
   "name": "ai"
  },
  "language_info": {
   "codemirror_mode": {
    "name": "ipython",
    "version": 3
   },
   "file_extension": ".py",
   "mimetype": "text/x-python",
   "name": "python",
   "nbconvert_exporter": "python",
   "pygments_lexer": "ipython3",
   "version": "3.9.16"
  }
 },
 "nbformat": 4,
 "nbformat_minor": 1
}
