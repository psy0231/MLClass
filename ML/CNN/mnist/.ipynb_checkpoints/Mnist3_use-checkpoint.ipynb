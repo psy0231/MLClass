{
 "cells": [
  {
   "cell_type": "code",
   "execution_count": 1,
   "metadata": {
    "colab": {
     "base_uri": "https://localhost:8080/"
    },
    "executionInfo": {
     "elapsed": 10214,
     "status": "ok",
     "timestamp": 1661569311830,
     "user": {
      "displayName": "강사엄기흥",
      "userId": "12410353940363031053"
     },
     "user_tz": -540
    },
    "id": "QKQrHgdlhB-a",
    "outputId": "b6f85492-607e-4d05-e696-e061afdbc722"
   },
   "outputs": [
    {
     "name": "stdout",
     "output_type": "stream",
     "text": [
      "Name: opencv-python\n",
      "Version: 4.6.0.66\n",
      "Summary: Wrapper package for OpenCV python bindings.\n",
      "Home-page: https://github.com/skvark/opencv-python\n",
      "Author: None\n",
      "Author-email: None\n",
      "License: MIT\n",
      "Location: /usr/local/lib/python3.7/dist-packages\n",
      "Requires: numpy\n",
      "Required-by: imgaug, dopamine-rl\n"
     ]
    }
   ],
   "source": [
    "# !pip install opencv-python\n",
    "!pip show opencv-python"
   ]
  },
  {
   "cell_type": "code",
   "execution_count": 2,
   "metadata": {
    "colab": {
     "base_uri": "https://localhost:8080/"
    },
    "executionInfo": {
     "elapsed": 22541,
     "status": "ok",
     "timestamp": 1661569334360,
     "user": {
      "displayName": "강사엄기흥",
      "userId": "12410353940363031053"
     },
     "user_tz": -540
    },
    "id": "XdQ1hXYRXjXp",
    "outputId": "ed4db01d-090c-44c4-a818-cf4f33aac500"
   },
   "outputs": [
    {
     "name": "stdout",
     "output_type": "stream",
     "text": [
      "Mounted at /content/drive\n"
     ]
    }
   ],
   "source": [
    "# 글꼴 설치전 런타임 환경 확인\n",
    "# !sudo apt-get install -y fonts-nanum\n",
    "# !sudo fc-cache -fv\n",
    "# !rm ~/.cache/matplotlib -rf\n",
    "\n",
    "# GPU 런타임 환경 설정\n",
    "\n",
    "# 보안 문제로 ipynb 파일 open시마다 실행\n",
    "from google.colab import drive\n",
    "drive.mount('/content/drive') # 마운트 이름은 자유롭게 지정 가능"
   ]
  },
  {
   "cell_type": "code",
   "execution_count": 4,
   "metadata": {
    "executionInfo": {
     "elapsed": 4144,
     "status": "ok",
     "timestamp": 1661569338498,
     "user": {
      "displayName": "강사엄기흥",
      "userId": "12410353940363031053"
     },
     "user_tz": -540
    },
    "id": "1DAk_ttPmUrB"
   },
   "outputs": [],
   "source": [
    "# %autosave 0\n",
    "import warnings\n",
    "warnings.filterwarnings(action='ignore')\n",
    "\n",
    "import cv2\n",
    "import os\n",
    "import numpy as np\n",
    "from PIL import Image\n",
    "\n",
    "from tensorflow.keras.models import load_model  # model 사용\n",
    "\n",
    "import matplotlib.pyplot as plt\n",
    "from matplotlib import font_manager, rc\n",
    "\n",
    "plt.rcParams[\"figure.figsize\"] = (3, 2) \n",
    "plt.rcParams['axes.unicode_minus'] = False  # minus 부호는 unicode 적용시 한글이 깨짐으로 설정\n",
    "\n",
    "%matplotlib inline\n",
    "\n",
    "import platform \n",
    "# Windows, Linux, Darwin\n",
    "if (platform.system() == 'Windows'):  \n",
    "    rc('font', family=font_manager.FontProperties(fname=\"C:/Windows/Fonts/malgun.ttf\").get_name())\n",
    "    path = '.' # Local\n",
    "else:    \n",
    "    rc('font', family='NanumBarunGothic')  # Ubuntu 18.04 기준 한글 처리\n",
    "    path = '/content/drive/My Drive/kd_ml/cnn/mnist' # Colab\n",
    "\n",
    "os.chdir(path) # 기본 경로 설정"
   ]
  },
  {
   "cell_type": "code",
   "execution_count": 5,
   "metadata": {
    "colab": {
     "base_uri": "https://localhost:8080/",
     "height": 248
    },
    "executionInfo": {
     "elapsed": 472,
     "status": "ok",
     "timestamp": 1661569338963,
     "user": {
      "displayName": "강사엄기흥",
      "userId": "12410353940363031053"
     },
     "user_tz": -540
    },
    "id": "GzFXIXE4mlWF",
    "outputId": "fc850e68-1cef-444c-865e-3c06ea577016"
   },
   "outputs": [
    {
     "data": {
      "image/png": "[encoded data removed]",
      "text/plain": [
       "<Figure size 300x200 with 1 Axes>"
      ]
     },
     "metadata": {},
     "output_type": "display_data"
    }
   ],
   "source": [
    "# 테스트 이미지 1.jpg 읽기\n",
    "image = cv2.imread('./1.jpg', cv2.IMREAD_GRAYSCALE)\n",
    "plt.imshow(image, cmap=\"gray\")  # 이미지 출력\n",
    "plt.axis(\"off\") # 축을 출력하지 말것\n",
    "plt.show()      # 이미지 출력"
   ]
  },
  {
   "cell_type": "code",
   "execution_count": 10,
   "metadata": {
    "colab": {
     "base_uri": "https://localhost:8080/"
    },
    "executionInfo": {
     "elapsed": 24,
     "status": "ok",
     "timestamp": 1661569338965,
     "user": {
      "displayName": "강사엄기흥",
      "userId": "12410353940363031053"
     },
     "user_tz": -540
    },
    "id": "iw9C7D9Cm9dK",
    "outputId": "5ce54889-80e2-42d3-85eb-b5b40fbb170f"
   },
   "outputs": [
    {
     "name": "stdout",
     "output_type": "stream",
     "text": [
      "<class 'numpy.ndarray'>\n",
      "(28, 28)\n",
      "(1, 28, 28)\n"
     ]
    }
   ],
   "source": [
    "print(type(image))\n",
    "print(image.shape) # 2차원\n",
    "x_test = []\n",
    "x_test.append(image) # 3 차원\n",
    "print(np.array(x_test).shape) # 3차원 확인\n",
    "\n",
    "y_test = 1  # Target 1을 예측하는 경우"
   ]
  },
  {
   "cell_type": "code",
   "execution_count": 11,
   "metadata": {
    "colab": {
     "base_uri": "https://localhost:8080/"
    },
    "executionInfo": {
     "elapsed": 23,
     "status": "ok",
     "timestamp": 1661569338967,
     "user": {
      "displayName": "강사엄기흥",
      "userId": "12410353940363031053"
     },
     "user_tz": -540
    },
    "id": "K1rZnZpcnQrU",
    "outputId": "845ae12d-e22c-4a81-e0b3-1b42145a963e"
   },
   "outputs": [
    {
     "name": "stdout",
     "output_type": "stream",
     "text": [
      "입력 이미지 데이터 shape:  (1, 28, 28)\n"
     ]
    }
   ],
   "source": [
    "x_test_array = np.array(x_test) # ndarray로 변경\n",
    "# 3차원 배열, 1면 28행 28열\n",
    "print('입력 이미지 데이터 shape: ', x_test_array.shape)"
   ]
  },
  {
   "cell_type": "code",
   "execution_count": 12,
   "metadata": {
    "colab": {
     "base_uri": "https://localhost:8080/"
    },
    "executionInfo": {
     "elapsed": 20,
     "status": "ok",
     "timestamp": 1661569338968,
     "user": {
      "displayName": "강사엄기흥",
      "userId": "12410353940363031053"
     },
     "user_tz": -540
    },
    "id": "TJsHgc-FndMs",
    "outputId": "18ccab0c-c041-40b8-fc13-e98d6203f5d6"
   },
   "outputs": [
    {
     "name": "stdout",
     "output_type": "stream",
     "text": [
      "이미지가 배열로 변환된 데이터(0: 검은색, 255: 흰색)\n",
      "[[[255 255 255 255 255 255 255 255 254 255 255 255 255 255 255 255 255\n",
      "   255 255 255 255 255 255 255 255 255 255 255]\n",
      "  [255 255 255 255 255 255 255 255 255 255 255 255 255 255 255 255 255\n",
      "   255 255 255 255 255 255 255 255 255 255 255]\n",
      "  [255 255 255 255 255 255 255 255 255 255 255 255 255 255 255 255 255\n",
      "   255 255 255 255 255 255 255 255 255 255 255]\n",
      "  [255 255 255 255 255 255 255 255 255 255 255 255 255   0 255 255 255\n",
      "   255 255 255 255 255 255 255 255 255 255 255]\n",
      "  [255 255 255 255 255 255 255 255 255 254 255 255 255   0 255 255 255\n",
      "   255 255 255 255 255 255 255 255 255 255 255]\n",
      "  [255 255 255 255 255 255 255 255 255 255 255 255 255   0 255 255 255\n",
      "   255 255 255 255 255 255 255 255 255 255 255]\n",
      "  [255 255 255 255 255 255 255 255 255 255 255 255 255   0 255 255 255\n",
      "   255 255 255 255 255 255 255 255 255 255 255]\n",
      "  [255 255 255 255 255 255 255 255 255 255 255 255 255   0 255 255 255\n",
      "   255 255 255 255 255 255 255 255 255 255 255]\n",
      "  [255 255 255 255 255 255 255 255 255 255 255 255 255   0 255 254 255\n",
      "   255 255 255 255 255 255 255 255 255 255 255]\n",
      "  [255 255 255 255 255 255 255 255 255 255 255 255 255   1 255 255 255\n",
      "   255 255 255 255 255 255 255 255 255 255 255]\n",
      "  [255 255 255 255 255 255 255 255 255 255 255 255 255   0 255 255 255\n",
      "   255 255 255 255 255 255 255 255 255 255 255]\n",
      "  [255 255 255 255 255 255 255 255 255 255 254 255 255   0 255 255 255\n",
      "   255 255 255 255 255 255 255 255 255 255 255]\n",
      "  [255 255 255 255 255 255 255 255 255 255 255 255 254   0 255 255 255\n",
      "   255 255 255 255 255 255 255 255 255 255 255]\n",
      "  [255 255 255 255 255 255 255 255 255 255 255 255 255   0 255 255 255\n",
      "   255 255 255 255 255 255 255 255 255 255 255]\n",
      "  [255 255 255 255 255 255 255 255 255 255 254 255   0 255 255 255 255\n",
      "   255 255 255 255 255 255 255 255 255 255 255]\n",
      "  [255 255 255 255 255 255 255 255 255 254 255 255   0 255 255 255 255\n",
      "   255 255 255 255 255 255 255 255 255 255 255]\n",
      "  [255 255 255 255 255 255 255 255 255 255 255 255   0 255 255 255 255\n",
      "   255 255 255 255 255 255 255 255 255 255 255]\n",
      "  [255 255 255 255 255 255 255 255 255 255 255 255   0 255 255 255 255\n",
      "   255 255 255 255 255 255 255 255 255 255 255]\n",
      "  [255 255 255 255 255 255 255 255 255 255 255 255   0 255 255 255 255\n",
      "   255 255 255 255 255 255 255 255 255 255 255]\n",
      "  [255 255 255 255 255 255 255 255 255 255 255 255   0 255 255 255 255\n",
      "   255 255 255 255 255 255 255 255 255 255 255]\n",
      "  [255 255 255 255 255 255 255 255 255 255 255 255   0 255 255 255 255\n",
      "   255 255 255 255 255 255 255 255 255 255 255]\n",
      "  [255 255 255 255 255 255 255 255 254 255 255   0 255 255 255 255 255\n",
      "   255 255 255 255 255 255 255 255 255 255 255]\n",
      "  [255 255 255 255 255 255 255 255 255 255 255   0 255 255 255 255 255\n",
      "   255 255 255 255 255 255 255 255 255 255 255]\n",
      "  [255 255 255 255 255 255 255 255 255 255 255   0 255 255 255 255 255\n",
      "   255 255 255 255 255 255 255 255 255 255 255]\n",
      "  [255 255 255 255 255 255 255 255 255 255 255 255 255 255 255 255 255\n",
      "   255 255 255 255 255 255 255 255 255 255 255]\n",
      "  [255 255 255 255 255 255 255 255 255 255 255 255 255 255 255 255 255\n",
      "   255 255 255 255 255 255 255 255 255 255 255]\n",
      "  [255 255 255 255 255 255 255 255 255 255 255 255 255 255 255 255 255\n",
      "   255 255 255 255 255 255 255 255 255 255 255]\n",
      "  [255 255 255 255 255 255 255 255 255 255 255 255 255 255 255 255 255\n",
      "   255 255 255 255 255 255 255 255 255 255 255]]]\n"
     ]
    }
   ],
   "source": [
    "print('이미지가 배열로 변환된 데이터(0: 검은색, 255: 흰색)')\n",
    "# mnist: 흰색 0, opencv: 흰색 255 색상 체계를 통일시킬 필요가 있음 ★\n",
    "print(x_test_array) "
   ]
  },
  {
   "cell_type": "code",
   "execution_count": 13,
   "metadata": {
    "colab": {
     "base_uri": "https://localhost:8080/"
    },
    "executionInfo": {
     "elapsed": 320,
     "status": "ok",
     "timestamp": 1661569339274,
     "user": {
      "displayName": "강사엄기흥",
      "userId": "12410353940363031053"
     },
     "user_tz": -540
    },
    "id": "fC6qE7aanwYl",
    "outputId": "b2250b9a-6dda-4ec8-84de-ee03b5319363",
    "scrolled": true
   },
   "outputs": [
    {
     "name": "stdout",
     "output_type": "stream",
     "text": [
      "이미지가 배열로 변환된 데이터(0: 흰색, 255: 검은색)\n",
      "[[[  0   0   0   0   0   0   0   0   1   0   0   0   0   0   0   0   0\n",
      "     0   0   0   0   0   0   0   0   0   0   0]\n",
      "  [  0   0   0   0   0   0   0   0   0   0   0   0   0   0   0   0   0\n",
      "     0   0   0   0   0   0   0   0   0   0   0]\n",
      "  [  0   0   0   0   0   0   0   0   0   0   0   0   0   0   0   0   0\n",
      "     0   0   0   0   0   0   0   0   0   0   0]\n",
      "  [  0   0   0   0   0   0   0   0   0   0   0   0   0 255   0   0   0\n",
      "     0   0   0   0   0   0   0   0   0   0   0]\n",
      "  [  0   0   0   0   0   0   0   0   0   1   0   0   0 255   0   0   0\n",
      "     0   0   0   0   0   0   0   0   0   0   0]\n",
      "  [  0   0   0   0   0   0   0   0   0   0   0   0   0 255   0   0   0\n",
      "     0   0   0   0   0   0   0   0   0   0   0]\n",
      "  [  0   0   0   0   0   0   0   0   0   0   0   0   0 255   0   0   0\n",
      "     0   0   0   0   0   0   0   0   0   0   0]\n",
      "  [  0   0   0   0   0   0   0   0   0   0   0   0   0 255   0   0   0\n",
      "     0   0   0   0   0   0   0   0   0   0   0]\n",
      "  [  0   0   0   0   0   0   0   0   0   0   0   0   0 255   0   1   0\n",
      "     0   0   0   0   0   0   0   0   0   0   0]\n",
      "  [  0   0   0   0   0   0   0   0   0   0   0   0   0 254   0   0   0\n",
      "     0   0   0   0   0   0   0   0   0   0   0]\n",
      "  [  0   0   0   0   0   0   0   0   0   0   0   0   0 255   0   0   0\n",
      "     0   0   0   0   0   0   0   0   0   0   0]\n",
      "  [  0   0   0   0   0   0   0   0   0   0   1   0   0 255   0   0   0\n",
      "     0   0   0   0   0   0   0   0   0   0   0]\n",
      "  [  0   0   0   0   0   0   0   0   0   0   0   0   1 255   0   0   0\n",
      "     0   0   0   0   0   0   0   0   0   0   0]\n",
      "  [  0   0   0   0   0   0   0   0   0   0   0   0   0 255   0   0   0\n",
      "     0   0   0   0   0   0   0   0   0   0   0]\n",
      "  [  0   0   0   0   0   0   0   0   0   0   1   0 255   0   0   0   0\n",
      "     0   0   0   0   0   0   0   0   0   0   0]\n",
      "  [  0   0   0   0   0   0   0   0   0   1   0   0 255   0   0   0   0\n",
      "     0   0   0   0   0   0   0   0   0   0   0]\n",
      "  [  0   0   0   0   0   0   0   0   0   0   0   0 255   0   0   0   0\n",
      "     0   0   0   0   0   0   0   0   0   0   0]\n",
      "  [  0   0   0   0   0   0   0   0   0   0   0   0 255   0   0   0   0\n",
      "     0   0   0   0   0   0   0   0   0   0   0]\n",
      "  [  0   0   0   0   0   0   0   0   0   0   0   0 255   0   0   0   0\n",
      "     0   0   0   0   0   0   0   0   0   0   0]\n",
      "  [  0   0   0   0   0   0   0   0   0   0   0   0 255   0   0   0   0\n",
      "     0   0   0   0   0   0   0   0   0   0   0]\n",
      "  [  0   0   0   0   0   0   0   0   0   0   0   0 255   0   0   0   0\n",
      "     0   0   0   0   0   0   0   0   0   0   0]\n",
      "  [  0   0   0   0   0   0   0   0   1   0   0 255   0   0   0   0   0\n",
      "     0   0   0   0   0   0   0   0   0   0   0]\n",
      "  [  0   0   0   0   0   0   0   0   0   0   0 255   0   0   0   0   0\n",
      "     0   0   0   0   0   0   0   0   0   0   0]\n",
      "  [  0   0   0   0   0   0   0   0   0   0   0 255   0   0   0   0   0\n",
      "     0   0   0   0   0   0   0   0   0   0   0]\n",
      "  [  0   0   0   0   0   0   0   0   0   0   0   0   0   0   0   0   0\n",
      "     0   0   0   0   0   0   0   0   0   0   0]\n",
      "  [  0   0   0   0   0   0   0   0   0   0   0   0   0   0   0   0   0\n",
      "     0   0   0   0   0   0   0   0   0   0   0]\n",
      "  [  0   0   0   0   0   0   0   0   0   0   0   0   0   0   0   0   0\n",
      "     0   0   0   0   0   0   0   0   0   0   0]\n",
      "  [  0   0   0   0   0   0   0   0   0   0   0   0   0   0   0   0   0\n",
      "     0   0   0   0   0   0   0   0   0   0   0]]]\n"
     ]
    }
   ],
   "source": [
    "print('이미지가 배열로 변환된 데이터(0: 흰색, 255: 검은색)')\n",
    "print(255-x_test_array) # 0: 흰색, 255: 검은색\n",
    "x_test_array = 255-x_test_array"
   ]
  },
  {
   "cell_type": "code",
   "execution_count": 14,
   "metadata": {
    "colab": {
     "base_uri": "https://localhost:8080/"
    },
    "executionInfo": {
     "elapsed": 18,
     "status": "ok",
     "timestamp": 1661569339275,
     "user": {
      "displayName": "강사엄기흥",
      "userId": "12410353940363031053"
     },
     "user_tz": -540
    },
    "id": "iR9vInOXoKQt",
    "outputId": "34d7099d-14ef-4bc9-ef78-be84eb13c0f8"
   },
   "outputs": [
    {
     "name": "stdout",
     "output_type": "stream",
     "text": [
      "대응하는 숫자 1\n"
     ]
    }
   ],
   "source": [
    "print('대응하는 숫자', y_test)"
   ]
  },
  {
   "cell_type": "code",
   "execution_count": 15,
   "metadata": {
    "colab": {
     "base_uri": "https://localhost:8080/"
    },
    "executionInfo": {
     "elapsed": 16,
     "status": "ok",
     "timestamp": 1661569339276,
     "user": {
      "displayName": "강사엄기흥",
      "userId": "12410353940363031053"
     },
     "user_tz": -540
    },
    "id": "Po7CjTAPohM8",
    "outputId": "775af8c1-3228-4b1e-9b3f-41244c5015ad"
   },
   "outputs": [
    {
     "name": "stdout",
     "output_type": "stream",
     "text": [
      "입력 이미지 데이터 shape:  (1, 28, 28, 1)\n"
     ]
    }
   ],
   "source": [
    "# CNN은 내부적으로 4차원의 데이터를 학습함으로 4차원으로 변경함: 면, 행, 열, 색상(1: 흑백, 3: 칼라)\n",
    "x_test_array = x_test_array.reshape(1, 28, 28, 1).astype('float32') / 255.0\n",
    "print('입력 이미지 데이터 shape: ', x_test_array.shape)  \n",
    "# 3차원 배열, 1면 28행 28열 -->  4차원 배열, 1면 28행 28열 흑백 1"
   ]
  },
  {
   "cell_type": "code",
   "execution_count": 16,
   "metadata": {
    "executionInfo": {
     "elapsed": 717,
     "status": "ok",
     "timestamp": 1661569339983,
     "user": {
      "displayName": "강사엄기흥",
      "userId": "12410353940363031053"
     },
     "user_tz": -540
    },
    "id": "wzrVRcTlor_U"
   },
   "outputs": [],
   "source": [
    "# model = load_model(path + '/Mnist3_cnn.h5')\n",
    "model = load_model('./Mnist3_cnn.h5') # Colab GPU"
   ]
  },
  {
   "cell_type": "code",
   "execution_count": 17,
   "metadata": {
    "colab": {
     "base_uri": "https://localhost:8080/"
    },
    "executionInfo": {
     "elapsed": 808,
     "status": "ok",
     "timestamp": 1661569340788,
     "user": {
      "displayName": "강사엄기흥",
      "userId": "12410353940363031053"
     },
     "user_tz": -540
    },
    "id": "k0_rSKl7o9BR",
    "outputId": "2d1178c7-ef8b-4d84-e5e4-996c5d91d733"
   },
   "outputs": [
    {
     "name": "stdout",
     "output_type": "stream",
     "text": [
      "(1, 10)\n",
      "[[9.9213226e-05 9.8544103e-01 4.8765189e-05 9.5892938e-06 2.2881182e-03\n",
      "  8.1214373e-04 1.0765295e-02 2.9984611e-04 1.9290758e-04 4.2964595e-05]]\n"
     ]
    }
   ],
   "source": [
    "yhat_test = model.predict(x_test_array, batch_size=1)\n",
    "print(yhat_test.shape)\n",
    "print(yhat_test)"
   ]
  },
  {
   "cell_type": "code",
   "execution_count": 18,
   "metadata": {
    "colab": {
     "base_uri": "https://localhost:8080/"
    },
    "executionInfo": {
     "elapsed": 10,
     "status": "ok",
     "timestamp": 1661569340789,
     "user": {
      "displayName": "강사엄기흥",
      "userId": "12410353940363031053"
     },
     "user_tz": -540
    },
    "id": "9oi8_Z9HpErK",
    "outputId": "7a9025e6-f3bf-4ac4-a3b7-4001ebe8ee8a"
   },
   "outputs": [
    {
     "name": "stdout",
     "output_type": "stream",
     "text": [
      "1\n",
      "실제: 1, 예상: 1, 확률: 98.5%\n"
     ]
    }
   ],
   "source": [
    "idx = np.argmax(yhat_test)  # 최대값의 index\n",
    "print(idx)  # 최대값이 있는 index 산출\n",
    "print('실제: {0:.0f}, 예상: {1:.0f}, 확률: {2:.1f}%'.format(y_test, idx, yhat_test[0][idx]*100))"
   ]
  },
  {
   "cell_type": "code",
   "execution_count": 19,
   "metadata": {
    "executionInfo": {
     "elapsed": 5,
     "status": "ok",
     "timestamp": 1661569340789,
     "user": {
      "displayName": "강사엄기흥",
      "userId": "12410353940363031053"
     },
     "user_tz": -540
    },
    "id": "aU39Z5DipbQm"
   },
   "outputs": [],
   "source": [
    "def test(fname, y_test):\n",
    "    image = cv2.imread(path + fname, cv2.IMREAD_GRAYSCALE)\n",
    "    # 큰이미지 사이즈 변경, 손실 발생, 정확도 떨어짐.\n",
    "    image = cv2.resize(image, (28, 28))  \n",
    "    x_test = []\n",
    "    x_test.append(image)\n",
    "    x_test_array = np.array(x_test)\n",
    "    x_test_array = 255-x_test_array\n",
    "    x_test_array = x_test_array.reshape(1, 28, 28, 1).astype('float32') / 255.0\n",
    "    yhat_test = model.predict(x_test_array, batch_size=1)\n",
    "    idx = np.argmax(yhat_test)  # 최대값의 index\n",
    "\n",
    "    idx = np.argmax(yhat_test)  # 최대값의 index\n",
    "    print(idx)  # 최대값이 있는 index 산출\n",
    "    print('실제: {0:.0f}, 예상: {1:.0f}, 확률: {2:.1f}%'.format(y_test, idx, yhat_test[0][idx]*100))\n"
   ]
  },
  {
   "cell_type": "code",
   "execution_count": 20,
   "metadata": {
    "colab": {
     "base_uri": "https://localhost:8080/"
    },
    "executionInfo": {
     "elapsed": 881,
     "status": "ok",
     "timestamp": 1661569412080,
     "user": {
      "displayName": "강사엄기흥",
      "userId": "12410353940363031053"
     },
     "user_tz": -540
    },
    "id": "TPYpAc_sqk1A",
    "outputId": "13c29baa-64fb-45b5-9560-564345c09410"
   },
   "outputs": [
    {
     "name": "stdout",
     "output_type": "stream",
     "text": [
      "1\n",
      "실제: 1, 예상: 1, 확률: 98.5%\n",
      "1\n",
      "실제: 1, 예상: 1, 확률: 100.0%\n",
      "1\n",
      "실제: 1, 예상: 1, 확률: 99.7%\n",
      "1\n",
      "실제: 1, 예상: 1, 확률: 100.0%\n",
      "2\n",
      "실제: 2, 예상: 2, 확률: 100.0%\n",
      "3\n",
      "실제: 3, 예상: 3, 확률: 100.0%\n",
      "7\n",
      "실제: 7, 예상: 7, 확률: 97.1%\n",
      "4\n",
      "실제: 4, 예상: 4, 확률: 91.5%\n"
     ]
    }
   ],
   "source": [
    "test('/1.jpg', 1)\n",
    "test('/1_1.jpg', 1)\n",
    "test('/1_3.jpg', 1)\n",
    "test('/1_4.jpg', 1)\n",
    "test('/2.jpg', 2)\n",
    "test('/3.jpg', 3)\n",
    "test('/7.jpg', 7)\n",
    "test('/4_64_64_01.jpg', 4)"
   ]
  },
  {
   "cell_type": "code",
   "execution_count": 22,
   "metadata": {
    "colab": {
     "base_uri": "https://localhost:8080/"
    },
    "executionInfo": {
     "elapsed": 800,
     "status": "ok",
     "timestamp": 1661569522364,
     "user": {
      "displayName": "강사엄기흥",
      "userId": "12410353940363031053"
     },
     "user_tz": -540
    },
    "id": "QwHTX5P6XTIJ",
    "outputId": "5ac80e16-afd2-4860-9358-4fd53aed3d19"
   },
   "outputs": [
    {
     "name": "stdout",
     "output_type": "stream",
     "text": [
      "1\n",
      "실제: 1, 예상: 1, 확률: 51.8%\n"
     ]
    }
   ],
   "source": [
    "test('/1_2.jpg', 1) # 큰이미지 사이즈 변경, 손실 발생, 정확도 떨어짐."
   ]
  },
  {
   "cell_type": "code",
   "execution_count": null,
   "metadata": {
    "executionInfo": {
     "elapsed": 14,
     "status": "aborted",
     "timestamp": 1661569344501,
     "user": {
      "displayName": "강사엄기흥",
      "userId": "12410353940363031053"
     },
     "user_tz": -540
    },
    "id": "fGqznalnsJVO"
   },
   "outputs": [],
   "source": []
  }
 ],
 "metadata": {
  "colab": {
   "collapsed_sections": [],
   "name": "Mnist3_use.ipynb",
   "provenance": []
  },
  "kernelspec": {
   "display_name": "ai",
   "language": "python",
   "name": "ai"
  },
  "language_info": {
   "codemirror_mode": {
    "name": "ipython",
    "version": 3
   },
   "file_extension": ".py",
   "mimetype": "text/x-python",
   "name": "python",
   "nbconvert_exporter": "python",
   "pygments_lexer": "ipython3",
   "version": "3.9.16"
  }
 },
 "nbformat": 4,
 "nbformat_minor": 1
}
