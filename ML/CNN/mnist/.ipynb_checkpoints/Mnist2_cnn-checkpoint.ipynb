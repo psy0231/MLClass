{
 "cells": [
  {
   "cell_type": "code",
   "execution_count": 1,
   "metadata": {
    "executionInfo": {
     "elapsed": 14,
     "status": "ok",
     "timestamp": 1660985159275,
     "user": {
      "displayName": "강사엄기흥",
      "userId": "12410353940363031053"
     },
     "user_tz": -540
    },
    "id": "_hAHXHENLQ28"
   },
   "outputs": [],
   "source": [
    "# 이항 분류, 숫자 이미지의 짝수/홀수 판별, MLP, GPU, Colab"
   ]
  },
  {
   "cell_type": "code",
   "execution_count": 2,
   "metadata": {
    "colab": {
     "base_uri": "https://localhost:8080/"
    },
    "executionInfo": {
     "elapsed": 17802,
     "status": "ok",
     "timestamp": 1660985177065,
     "user": {
      "displayName": "강사엄기흥",
      "userId": "12410353940363031053"
     },
     "user_tz": -540
    },
    "id": "12yu2Qd6Lm8g",
    "outputId": "51a07576-a861-4f48-c23d-1aacb282ea7c"
   },
   "outputs": [
    {
     "name": "stdout",
     "output_type": "stream",
     "text": [
      "Mounted at /content/drive\n"
     ]
    }
   ],
   "source": [
    "# 글꼴 설치전 런타임 환경 확인\n",
    "# !sudo apt-get install -y fonts-nanum\n",
    "# !sudo fc-cache -fv\n",
    "# !rm ~/.cache/matplotlib -rf\n",
    "\n",
    "# GPU 런타임 환경 설정\n",
    "\n",
    "# 보안 문제로 ipynb 파일 open시마다 실행\n",
    "from google.colab import drive\n",
    "drive.mount('/content/drive') # 마운트 이름은 자유롭게 지정 가능"
   ]
  },
  {
   "cell_type": "code",
   "execution_count": 3,
   "metadata": {
    "executionInfo": {
     "elapsed": 3750,
     "status": "ok",
     "timestamp": 1660985180809,
     "user": {
      "displayName": "강사엄기흥",
      "userId": "12410353940363031053"
     },
     "user_tz": -540
    },
    "id": "V5pg-dpTLQ3C"
   },
   "outputs": [],
   "source": [
    "# %autosave 0\n",
    "import warnings\n",
    "warnings.filterwarnings(action='ignore')\n",
    "\n",
    "import os \n",
    "import random\n",
    "import sys\n",
    "import time\n",
    "from time import localtime, strftime\n",
    "\n",
    "import pandas as pd\n",
    "import numpy as np\n",
    "import tensorflow as tf\n",
    "import seaborn as sb\n",
    "import cv2\n",
    "\n",
    "from tensorflow.keras.models import Sequential  # class\n",
    "from tensorflow.keras.models import load_model  # model 사용\n",
    "from tensorflow.keras.layers import Dense       # 전결합\n",
    "from tensorflow.keras.layers import Dropout     # 특정 node를 사용안함.\n",
    "from tensorflow.keras.layers import Conv2D\n",
    "from tensorflow.keras.layers import MaxPooling2D\n",
    "from tensorflow.keras.layers import Flatten\n",
    "\n",
    "from tensorflow.keras.callbacks import EarlyStopping   # 학습 자동 중지\n",
    "from tensorflow.keras.callbacks import ModelCheckpoint # 우수한 학습 모델 파일 저장\n",
    "from tensorflow.keras import regularizers \n",
    "from tensorflow.keras.utils import to_categorical   # one-hot 엔코딩\n",
    "from tensorflow.keras.optimizers import Adam\n",
    "\n",
    "from tensorflow.keras.datasets import mnist\n",
    "\n",
    "from sklearn.preprocessing import LabelEncoder\n",
    "from sklearn.model_selection import train_test_split # 학습셋과 테스트셋의 분리 지원\n",
    "from sklearn.model_selection import StratifiedKFold  # K겹 교차 검증\n",
    "\n",
    "import matplotlib.pyplot as plt\n",
    "from matplotlib import font_manager, rc\n",
    "\n",
    "import platform \n",
    "# Windows, Linux, Darwin\n",
    "if (platform.system() == 'Windows'):  \n",
    "    rc('font', family=font_manager.FontProperties(fname=\"C:/Windows/Fonts/malgun.ttf\").get_name())\n",
    "    path = '.' # Local\n",
    "else:    \n",
    "    rc('font', family='NanumBarunGothic')  # Ubuntu 18.04 기준 한글 처리\n",
    "    path = '/content/drive/My Drive/kd_ml/cnn/mnist' # Colab\n",
    "\n",
    "os.chdir(path) # 기본 경로 설정\n",
    "\n",
    "plt.rcParams[\"font.size\"] = 12         # 글자 크기\n",
    "# plt.rcParams[\"figure.figsize\"] = (10, 4) # 10:4의 그래프 비율\n",
    "plt.rcParams['axes.unicode_minus'] = False  # minus 부호는 unicode 적용시 한글이 깨짐으로 설정\n",
    "\n",
    "%matplotlib inline\n",
    "\n",
    "# ----------------------------------------------------------------\n",
    "# OS\n",
    "import tensorflow as tf\n",
    "\n",
    "gpus = tf.config.experimental.list_physical_devices('GPU')\n",
    "if gpus:\n",
    "    try:\n",
    "        tf.config.experimental.set_memory_growth(gpus[0], True)\n",
    "    except RuntimeError as e:\n",
    "        # 프로그램 시작시에 메모리 증가가 설정되어야만 합니다\n",
    "        print(e)\n",
    "# ----------------------------------------------------------------"
   ]
  },
  {
   "cell_type": "code",
   "execution_count": 4,
   "metadata": {
    "colab": {
     "base_uri": "https://localhost:8080/"
    },
    "executionInfo": {
     "elapsed": 607,
     "status": "ok",
     "timestamp": 1660985181398,
     "user": {
      "displayName": "강사엄기흥",
      "userId": "12410353940363031053"
     },
     "user_tz": -540
    },
    "id": "MEtreccGLQ3F",
    "outputId": "2be09d63-363f-448b-b82a-94e504cf5dc1"
   },
   "outputs": [
    {
     "name": "stdout",
     "output_type": "stream",
     "text": [
      "Downloading data from https://storage.googleapis.com/tensorflow/tf-keras-datasets/mnist.npz\n",
      "11493376/11490434 [==============================] - 0s 0us/step\n",
      "11501568/11490434 [==============================] - 0s 0us/step\n",
      "x_train.shape: (60000, 28, 28)\n",
      "x_train.shape: (60000, 784)\n"
     ]
    }
   ],
   "source": [
    "# 최초에만 다운로드 발생\n",
    "(x_train, y_train), (x_test, y_test)  = mnist.load_data()\n",
    "width=28\n",
    "height=28\n",
    "\n",
    "print('x_train.shape:', x_train.shape)\n",
    "\n",
    "# 훈련 데이터 3차원 -> 2차원으로 변형, 60000행  X 784열\n",
    "x_train = x_train.reshape(x_train.shape[0], width * height).astype('float32') / 255 \n",
    "print('x_train.shape:', x_train.shape)\n",
    "\n",
    "# 10000행 X 784열\n",
    "x_test = x_test.reshape(x_test.shape[0], width * height).astype('float32') / 255 "
   ]
  },
  {
   "cell_type": "code",
   "execution_count": 5,
   "metadata": {
    "colab": {
     "base_uri": "https://localhost:8080/"
    },
    "executionInfo": {
     "elapsed": 10,
     "status": "ok",
     "timestamp": 1660985181399,
     "user": {
      "displayName": "강사엄기흥",
      "userId": "12410353940363031053"
     },
     "user_tz": -540
    },
    "id": "RAycZzkFLQ3H",
    "outputId": "446a8f0e-2da8-49c5-8fa2-39d25e873770"
   },
   "outputs": [
    {
     "name": "stdout",
     "output_type": "stream",
     "text": [
      "Target: [7 2 1 0 4 1 4 9 5 9]\n",
      "이항분류가 적용된 Target: [1 0 1 0 0 1 0 1 1 1]\n"
     ]
    }
   ],
   "source": [
    "# 이항 분류 변환\n",
    "# 홀수는 1, 짝수는 0\n",
    "y_train = y_train % 2\n",
    "\n",
    "print('Target:', y_test[0:10])\n",
    "y_test = y_test % 2\n",
    "print('이항분류가 적용된 Target:', y_test[0:10])\n",
    "# 0, 2, 4, 6, 8 학습시 0이라고 학습 시킴\n",
    "# 1, 3, 5, 7, 9 학습시 1이라고 학습 시킴"
   ]
  },
  {
   "cell_type": "code",
   "execution_count": 6,
   "metadata": {
    "colab": {
     "base_uri": "https://localhost:8080/",
     "height": 629
    },
    "executionInfo": {
     "elapsed": 478,
     "status": "ok",
     "timestamp": 1660985181870,
     "user": {
      "displayName": "강사엄기흥",
      "userId": "12410353940363031053"
     },
     "user_tz": -540
    },
    "id": "Na2Vkm22LQ3I",
    "outputId": "cbe6b1ef-be59-412c-bfde-2231febe893a"
   },
   "outputs": [
    {
     "name": "stderr",
     "output_type": "stream",
     "text": [
      "WARNING:matplotlib.font_manager:findfont: Font family ['NanumBarunGothic'] not found. Falling back to DejaVu Sans.\n"
     ]
    },
    {
     "data": {
      "image/png": "[encoded data removed]",
      "text/plain": [
       "<Figure size 720x720 with 25 Axes>"
      ]
     },
     "metadata": {
      "needs_background": "light"
     },
     "output_type": "display_data"
    }
   ],
   "source": [
    "# 데이터 확인\n",
    "plt_row = 5\n",
    "plt_col = 5\n",
    "\n",
    "plt.rcParams[\"figure.figsize\"] = (10,10) # 이미지 사이즈 설정\n",
    "\n",
    "f, axarr = plt.subplots(plt_row, plt_col) # 5행 5열 배열 plot 구조 생성\n",
    "\n",
    "for i in range(plt_row * plt_col): # 25: 0 ~ 24\n",
    "    sub_plt = axarr[i // plt_row, i % plt_col] # 행, 열 위치 설정\n",
    "    sub_plt.axis('off') # 축 label 출력 생략\n",
    "    \n",
    "    # 1차원 배열 -> 2차원 배열로 변경\n",
    "    # 2차원 이미지로 출력하기위해 784 -> 28행 28열로 변경\n",
    "    sub_plt.imshow(x_test[i].reshape(width, height))  \n",
    "    \n",
    "    sub_plt_title = '' \n",
    "    \n",
    "    if y_test[i] :  # 1: True, 0: False\n",
    "        sub_plt_title += 'odd '  # 1, 홀수\n",
    "    else:\n",
    "        sub_plt_title += 'even ' # 0, 짝수\n",
    "    \n",
    "    sub_plt.set_title(sub_plt_title) # 이미지 제목\n",
    "\n",
    "plt.show()"
   ]
  },
  {
   "cell_type": "code",
   "execution_count": 7,
   "metadata": {
    "colab": {
     "base_uri": "https://localhost:8080/"
    },
    "executionInfo": {
     "elapsed": 87369,
     "status": "ok",
     "timestamp": 1660985269232,
     "user": {
      "displayName": "강사엄기흥",
      "userId": "12410353940363031053"
     },
     "user_tz": -540
    },
    "id": "icuIA7PKLQ3J",
    "outputId": "ffd7ecd2-d55d-4f73-f2f6-910dec2ea9c6"
   },
   "outputs": [
    {
     "name": "stdout",
     "output_type": "stream",
     "text": [
      "Model: \"sequential\"\n",
      "_________________________________________________________________\n",
      " Layer (type)                Output Shape              Param #   \n",
      "=================================================================\n",
      " conv2d (Conv2D)             (None, 28, 28, 32)        320       \n",
      "                                                                 \n",
      " conv2d_1 (Conv2D)           (None, 28, 28, 32)        9248      \n",
      "                                                                 \n",
      " max_pooling2d (MaxPooling2D  (None, 14, 14, 32)       0         \n",
      " )                                                               \n",
      "                                                                 \n",
      " conv2d_2 (Conv2D)           (None, 14, 14, 16)        4624      \n",
      "                                                                 \n",
      " conv2d_3 (Conv2D)           (None, 14, 14, 16)        2320      \n",
      "                                                                 \n",
      " max_pooling2d_1 (MaxPooling  (None, 7, 7, 16)         0         \n",
      " 2D)                                                             \n",
      "                                                                 \n",
      " dropout (Dropout)           (None, 7, 7, 16)          0         \n",
      "                                                                 \n",
      " flatten (Flatten)           (None, 784)               0         \n",
      "                                                                 \n",
      " dense (Dense)               (None, 128)               100480    \n",
      "                                                                 \n",
      " dropout_1 (Dropout)         (None, 128)               0         \n",
      "                                                                 \n",
      " dense_1 (Dense)             (None, 1)                 129       \n",
      "                                                                 \n",
      "=================================================================\n",
      "Total params: 117,121\n",
      "Trainable params: 117,121\n",
      "Non-trainable params: 0\n",
      "_________________________________________________________________\n",
      "Epoch 1/3\n",
      "1600/1600 [==============================] - 25s 7ms/step - loss: 0.1043 - accuracy: 0.9598 - val_loss: 0.0307 - val_accuracy: 0.9898\n",
      "Epoch 2/3\n",
      "1600/1600 [==============================] - 10s 7ms/step - loss: 0.0398 - accuracy: 0.9864 - val_loss: 0.0272 - val_accuracy: 0.9918\n",
      "Epoch 3/3\n",
      "1600/1600 [==============================] - 10s 6ms/step - loss: 0.0300 - accuracy: 0.9901 - val_loss: 0.0218 - val_accuracy: 0.9936\n",
      "Runtime: 83.27 초\n"
     ]
    }
   ],
   "source": [
    "# 네트워크 구성\n",
    "SEED = 0\n",
    "os.environ['PYTHONHASHSEED'] = str(SEED)\n",
    "os.environ['TF_DETERMINISTIC_OPS'] = '1'\n",
    "\n",
    "tf.random.set_seed(SEED) # Global seed\n",
    "np.random.seed(SEED)\n",
    "random.seed(SEED)\n",
    "\n",
    "# cpu i5 2320 : 375s(Meet 실행시: 607), i5 8500: 169s\n",
    "# Ryzen 5 5600: 115s\n",
    "# RTX 3090: 22s, Colab gpu: 83~143s"
   ]
  },
  {
   "cell_type": "code",
   "execution_count": 8,
   "metadata": {
    "colab": {
     "base_uri": "https://localhost:8080/",
     "height": 376
    },
    "executionInfo": {
     "elapsed": 27,
     "status": "ok",
     "timestamp": 1660985269234,
     "user": {
      "displayName": "강사엄기흥",
      "userId": "12410353940363031053"
     },
     "user_tz": -540
    },
    "id": "QlCJ4oeuLQ3L",
    "outputId": "f36cc862-e458-47ea-ce17-f35a9422635b"
   },
   "outputs": [
    {
     "name": "stderr",
     "output_type": "stream",
     "text": [
      "WARNING:matplotlib.font_manager:findfont: Font family ['NanumBarunGothic'] not found. Falling back to DejaVu Sans.\n"
     ]
    },
    {
     "data": {
      "image/png": "[encoded data removed]",
      "text/plain": [
       "<Figure size 720x360 with 2 Axes>"
      ]
     },
     "metadata": {
      "needs_background": "light"
     },
     "output_type": "display_data"
    }
   ],
   "source": [
    "fig, loss_ax = plt.subplots()\n",
    "# plt.figure(figsize=(6,4)) # ERROR\n",
    "fig.set_size_inches(10, 5)  # 챠트 크기 설정\n",
    "\n",
    "acc_ax = loss_ax.twinx()  # 오른쪽 y 출 설정\n",
    "\n",
    "# 왼쪽 y 축 설정\n",
    "loss_ax.plot(hist.history['loss'], 'y', label='train loss')\n",
    "loss_ax.plot(hist.history['val_loss'], 'r', label='val loss')\n",
    "loss_ax.set_ylim([0.0, 0.1]) # 값을 반영하여 변경\n",
    "\n",
    "# 오른쪽 y 축 설정\n",
    "acc_ax.plot(hist.history['accuracy'], 'b', label='train accuracy')\n",
    "acc_ax.plot(hist.history['val_accuracy'], 'g', label='val accuracy')\n",
    "acc_ax.set_ylim([0.0, 1.0])\n",
    "\n",
    "# 축 레이블 설정\n",
    "loss_ax.set_xlabel('epoch' )  # 학습 횟수\n",
    "loss_ax.set_ylabel('loss')    # 왼쪽 y 축 레이블, 오차\n",
    "acc_ax.set_ylabel('accuracy') # 오른쪽 y 축 레이블,정확도\n",
    "\n",
    "loss_ax.legend(loc='upper left') # 왼쪽 y 축 오차 레이블 위치\n",
    "acc_ax.legend(loc='lower left')  # 오른쪽 y 축 정확도 레이블 위치\n",
    "\n",
    "plt.show()"
   ]
  },
  {
   "cell_type": "code",
   "execution_count": 9,
   "metadata": {
    "colab": {
     "base_uri": "https://localhost:8080/"
    },
    "executionInfo": {
     "elapsed": 738,
     "status": "ok",
     "timestamp": 1660985269949,
     "user": {
      "displayName": "강사엄기흥",
      "userId": "12410353940363031053"
     },
     "user_tz": -540
    },
    "id": "Hrk5nsFgLQ3N",
    "outputId": "9b4396e7-a5fe-4d33-8e83-c58ba9acd379"
   },
   "outputs": [
    {
     "name": "stdout",
     "output_type": "stream",
     "text": [
      "손실값: 0.017484337091445923 /정확도: 99.40000176429749 %\n"
     ]
    }
   ],
   "source": [
    "test_loss, test_acc = model.evaluate(x_test, y_test, batch_size=50, verbose=0)\n",
    "print('손실값:', test_loss, '/정확도:', (test_acc*100), '%')"
   ]
  },
  {
   "cell_type": "code",
   "execution_count": 10,
   "metadata": {
    "colab": {
     "base_uri": "https://localhost:8080/"
    },
    "executionInfo": {
     "elapsed": 2416,
     "status": "ok",
     "timestamp": 1660985272359,
     "user": {
      "displayName": "강사엄기흥",
      "userId": "12410353940363031053"
     },
     "user_tz": -540
    },
    "id": "3MA5dkr_LQ3O",
    "outputId": "34b82558-6b8e-430c-a505-85e2408e89f6"
   },
   "outputs": [
    {
     "name": "stdout",
     "output_type": "stream",
     "text": [
      "[[9.9999976e-01]\n",
      " [8.6746962e-07]\n",
      " [9.9995720e-01]\n",
      " [4.6276211e-04]\n",
      " [7.2934417e-05]\n",
      " [9.9990749e-01]\n",
      " [3.7239923e-04]\n",
      " [9.9837637e-01]\n",
      " [4.8027235e-01]\n",
      " [9.9992573e-01]]\n"
     ]
    }
   ],
   "source": [
    "model.save('./Mnist2_cnn.h5')\n",
    "\n",
    "model = load_model('./Mnist2_cnn.h5')\n",
    "\n",
    "yp = model.predict(x_test, batch_size=32)\n",
    "print(yp[0:10])"
   ]
  },
  {
   "cell_type": "code",
   "execution_count": 11,
   "metadata": {
    "colab": {
     "base_uri": "https://localhost:8080/",
     "height": 591
    },
    "executionInfo": {
     "elapsed": 667,
     "status": "ok",
     "timestamp": 1660985273018,
     "user": {
      "displayName": "강사엄기흥",
      "userId": "12410353940363031053"
     },
     "user_tz": -540
    },
    "id": "AauKf287LQ3P",
    "outputId": "6462e7d9-22d4-4b10-e035-e69138f0402d"
   },
   "outputs": [
    {
     "data": {
      "image/png": "[encoded data removed]",
      "text/plain": [
       "<Figure size 720x720 with 25 Axes>"
      ]
     },
     "metadata": {
      "needs_background": "light"
     },
     "output_type": "display_data"
    }
   ],
   "source": [
    "# 결과 확인\n",
    "plt_row = 5\n",
    "plt_col = 5\n",
    "\n",
    "plt.rcParams[\"figure.figsize\"] = (10,10) # 이미지 사이즈 설정\n",
    "\n",
    "f, axarr = plt.subplots(plt_row, plt_col) # 5행 5열 배열 plot 구조 생성\n",
    "\n",
    "for i in range(plt_row*plt_col): # 25: 0 ~ 24\n",
    "    sub_plt = axarr[i//5, i%5] # 행, 열 위치 설정\n",
    "    sub_plt.axis('off') # 축 label 출력 생략\n",
    "    \n",
    "    # 1차원 배열 -> 2차원 배열로 변경\n",
    "    # 이미지로 출력하기위해 784 -> 28행 28열로 변경\n",
    "    sub_plt.imshow(x_test[i].reshape(width, height))  \n",
    "    \n",
    "    sub_plt_title = '' \n",
    "    \n",
    "    if y_test[i] :  # 1: True, 0: False, 찾아야할 값\n",
    "        sub_plt_title += 'odd '  # 1, 홀수\n",
    "    else:\n",
    "        sub_plt_title += 'even ' # 0, 짝수\n",
    "        \n",
    "    # 예측한 값 출력\n",
    "    if yp[i] >= 0.5:\n",
    "        sub_plt_title += 'ODD'  # 예측값\n",
    "    else:\n",
    "        sub_plt_title += 'EVEN'\n",
    "    \n",
    "    sub_plt.set_title(sub_plt_title) # 이미지 제목\n",
    "\n",
    "plt.show()"
   ]
  },
  {
   "cell_type": "code",
   "execution_count": 11,
   "metadata": {
    "executionInfo": {
     "elapsed": 9,
     "status": "ok",
     "timestamp": 1660985273019,
     "user": {
      "displayName": "강사엄기흥",
      "userId": "12410353940363031053"
     },
     "user_tz": -540
    },
    "id": "74FYNOuMLQ3Q"
   },
   "outputs": [],
   "source": []
  },
  {
   "cell_type": "code",
   "execution_count": 11,
   "metadata": {
    "executionInfo": {
     "elapsed": 9,
     "status": "ok",
     "timestamp": 1660985273020,
     "user": {
      "displayName": "강사엄기흥",
      "userId": "12410353940363031053"
     },
     "user_tz": -540
    },
    "id": "Sf7ZUm8rLQ3Q"
   },
   "outputs": [],
   "source": []
  },
  {
   "cell_type": "code",
   "execution_count": 11,
   "metadata": {
    "executionInfo": {
     "elapsed": 10,
     "status": "ok",
     "timestamp": 1660985273021,
     "user": {
      "displayName": "강사엄기흥",
      "userId": "12410353940363031053"
     },
     "user_tz": -540
    },
    "id": "5DgSRwYdLQ3R"
   },
   "outputs": [],
   "source": []
  },
  {
   "cell_type": "code",
   "execution_count": 11,
   "metadata": {
    "executionInfo": {
     "elapsed": 11,
     "status": "ok",
     "timestamp": 1660985273022,
     "user": {
      "displayName": "강사엄기흥",
      "userId": "12410353940363031053"
     },
     "user_tz": -540
    },
    "id": "b6XkojsdLQ3R"
   },
   "outputs": [],
   "source": []
  }
 ],
 "metadata": {
  "accelerator": "GPU",
  "colab": {
   "collapsed_sections": [],
   "name": "Mnist2_cnn.ipynb",
   "provenance": []
  },
  "kernelspec": {
   "display_name": "ai",
   "language": "python",
   "name": "ai"
  },
  "language_info": {
   "codemirror_mode": {
    "name": "ipython",
    "version": 3
   },
   "file_extension": ".py",
   "mimetype": "text/x-python",
   "name": "python",
   "nbconvert_exporter": "python",
   "pygments_lexer": "ipython3",
   "version": "3.9.16"
  }
 },
 "nbformat": 4,
 "nbformat_minor": 1
}
