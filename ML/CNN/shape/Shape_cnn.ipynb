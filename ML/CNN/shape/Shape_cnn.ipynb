{
 "cells": [
  {
   "cell_type": "code",
   "execution_count": null,
   "metadata": {
    "id": "8ps3y9qz-67p"
   },
   "outputs": [],
   "source": [
    "# CPU"
   ]
  },
  {
   "cell_type": "markdown",
   "metadata": {
    "id": "utFGLjQE-67v"
   },
   "source": [
    "### [다중 분류] 도형 인식, CPU"
   ]
  },
  {
   "cell_type": "code",
   "execution_count": null,
   "metadata": {
    "colab": {
     "base_uri": "https://localhost:8080/"
    },
    "executionInfo": {
     "elapsed": 15947,
     "status": "ok",
     "timestamp": 1661581783852,
     "user": {
      "displayName": "강사엄기흥",
      "userId": "12410353940363031053"
     },
     "user_tz": -540
    },
    "id": "6lGfr4XB_YL-",
    "outputId": "a548edac-8871-4094-a5fd-7f3aeacc23b5"
   },
   "outputs": [
    {
     "name": "stdout",
     "output_type": "stream",
     "text": [
      "Mounted at /content/drive\n"
     ]
    }
   ],
   "source": [
    "# from google.colab import drive\n",
    "# drive.mount('/content/drive')"
   ]
  },
  {
   "cell_type": "code",
   "execution_count": 19,
   "metadata": {
    "colab": {
     "base_uri": "https://localhost:8080/",
     "height": 35
    },
    "executionInfo": {
     "elapsed": 3694,
     "status": "ok",
     "timestamp": 1661581787539,
     "user": {
      "displayName": "강사엄기흥",
      "userId": "12410353940363031053"
     },
     "user_tz": -540
    },
    "id": "5icG6q8t-67x",
    "outputId": "f59bf532-fe44-46f4-cf74-69321e520fd0"
   },
   "outputs": [
    {
     "data": {
      "application/javascript": [
       "IPython.notebook.set_autosave_interval(0)"
      ]
     },
     "metadata": {},
     "output_type": "display_data"
    },
    {
     "name": "stdout",
     "output_type": "stream",
     "text": [
      "Autosave disabled\n"
     ]
    }
   ],
   "source": [
    "%autosave 0\n",
    "import warnings\n",
    "warnings.filterwarnings(action='ignore')\n",
    "\n",
    "import os\n",
    "import time\n",
    "import random\n",
    "import datetime\n",
    "\n",
    "import numpy as np\n",
    "import pandas as pd\n",
    "import seaborn as sb\n",
    "import tensorflow as tf\n",
    "\n",
    "from tensorflow.keras.models import Sequential  # class\n",
    "from tensorflow.keras.models import load_model  # model 사용\n",
    "from tensorflow.keras.layers import Dense       # 전결합\n",
    "from tensorflow.keras.layers import Dropout     # 특정 node를 사용안함.\n",
    "from tensorflow.keras.layers import Conv2D\n",
    "from tensorflow.keras.layers import MaxPooling2D\n",
    "from tensorflow.keras.layers import Flatten\n",
    "from tensorflow.keras.optimizers import Adam\n",
    "\n",
    "from tensorflow.keras.callbacks import EarlyStopping   # 학습 자동 중지\n",
    "from tensorflow.keras.callbacks import ModelCheckpoint # 우수한 학습 모델 파일 저장\n",
    "from tensorflow.keras import regularizers \n",
    "from tensorflow.keras.utils import to_categorical   # one-hot 엔코딩\n",
    "\n",
    "from tensorflow.keras.preprocessing.image import ImageDataGenerator\n",
    "\n",
    "from tensorflow.keras.datasets import mnist\n",
    "\n",
    "from sklearn.preprocessing import LabelEncoder\n",
    "from sklearn.model_selection import train_test_split # 학습셋과 테스트셋의 분리 지원\n",
    "from sklearn.model_selection import StratifiedKFold  # K겹 교차 검증\n",
    "\n",
    "import matplotlib.pyplot as plt\n",
    "from matplotlib import font_manager, rc\n",
    "\n",
    "import platform \n",
    "\n",
    "if (platform.system() == 'Windows'):  # Windows, Linux, Darwin\n",
    "    rc('font', family=font_manager.FontProperties(fname=\"C:/Windows/Fonts/malgun.ttf\").get_name())\n",
    "    path = '.' # Local\n",
    "else:    \n",
    "    plt.rc('font', family='NanumBarunGothic')  # Ubuntu 18.04 기준 한글 처리\n",
    "    path = '/content/drive/My Drive/kd_ml/cnn/shape' # Colab\n",
    "\n",
    "os.chdir(path) # 기본 경로 설정    \n",
    "    \n",
    "plt.rcParams[\"font.size\"] = 12         # 글자 크기\n",
    "# plt.rcParams[\"figure.figsize\"] = (10, 4) # 10:4의 그래프 비율\n",
    "plt.rcParams['axes.unicode_minus'] = False  # minus 부호는 unicode 적용시 한글이 깨짐으로 설정\n",
    "\n",
    "%matplotlib inline  "
   ]
  },
  {
   "cell_type": "code",
   "execution_count": 20,
   "metadata": {
    "colab": {
     "base_uri": "https://localhost:8080/"
    },
    "executionInfo": {
     "elapsed": 841,
     "status": "ok",
     "timestamp": 1661581788375,
     "user": {
      "displayName": "강사엄기흥",
      "userId": "12410353940363031053"
     },
     "user_tz": -540
    },
    "id": "5Vg0Hn9j-672",
    "outputId": "eb3fc4f7-542c-447c-dc74-72d9fda389fa"
   },
   "outputs": [
    {
     "name": "stdout",
     "output_type": "stream",
     "text": [
      "Found 24 images belonging to 3 classes.\n",
      "Found 15 images belonging to 3 classes.\n"
     ]
    }
   ],
   "source": [
    "height=24\n",
    "width=24\n",
    "\n",
    "# 훈련용 데이터 생성기\n",
    "# rescale=1./255: 실수형태로 정규화, 0~1 사이의 값\n",
    "train_datagen = ImageDataGenerator(rescale=1./255)\n",
    " \n",
    "train_generator = train_datagen.flow_from_directory(\n",
    "        './train',                   # 파일이 있는 폴더 \n",
    "        target_size=(height, width), # 훈련데이터 크기\n",
    "        batch_size=1,                # 이미지 1건씩 처리\n",
    "        class_mode='categorical')    # 다중분류\n",
    "\n",
    "# 검증용 데이터 생성기\n",
    "vali_datagen = ImageDataGenerator(rescale=1./255)\n",
    " \n",
    "vali_generator = vali_datagen.flow_from_directory(\n",
    "        './validation',\n",
    "        target_size=(height, width),    \n",
    "        batch_size=1,\n",
    "        class_mode='categorical')\n",
    "# 3 classes: ./train/circle, ./train/rectangle, ./train/triangle"
   ]
  },
  {
   "cell_type": "code",
   "execution_count": 24,
   "metadata": {
    "colab": {
     "base_uri": "https://localhost:8080/"
    },
    "executionInfo": {
     "elapsed": 20396,
     "status": "ok",
     "timestamp": 1661581808768,
     "user": {
      "displayName": "강사엄기흥",
      "userId": "12410353940363031053"
     },
     "user_tz": -540
    },
    "id": "vZiXWB88-673",
    "outputId": "820cbf9e-e881-45c4-d1ce-cfd935b7ae24"
   },
   "outputs": [
    {
     "name": "stdout",
     "output_type": "stream",
     "text": [
      "Model: \"sequential_6\"\n",
      "_________________________________________________________________\n",
      " Layer (type)                Output Shape              Param #   \n",
      "=================================================================\n",
      " conv2d_14 (Conv2D)          (None, 24, 24, 32)        896       \n",
      "                                                                 \n",
      " conv2d_15 (Conv2D)          (None, 24, 24, 32)        9248      \n",
      "                                                                 \n",
      " max_pooling2d_6 (MaxPooling  (None, 12, 12, 32)       0         \n",
      " 2D)                                                             \n",
      "                                                                 \n",
      " flatten_6 (Flatten)         (None, 4608)              0         \n",
      "                                                                 \n",
      " dense_12 (Dense)            (None, 10)                46090     \n",
      "                                                                 \n",
      " dense_13 (Dense)            (None, 3)                 33        \n",
      "                                                                 \n",
      "=================================================================\n",
      "Total params: 56,267\n",
      "Trainable params: 56,267\n",
      "Non-trainable params: 0\n",
      "_________________________________________________________________\n",
      "Epoch 1/50\n",
      "20/24 [========================>.....] - ETA: 0s - loss: 1.1138 - accuracy: 0.3000\n",
      "Epoch 1: val_accuracy improved from -inf to 0.40000, saving model to .\\Actor.h5\n",
      "24/24 [==============================] - 1s 23ms/step - loss: 1.1121 - accuracy: 0.2917 - val_loss: 1.0662 - val_accuracy: 0.4000\n",
      "Epoch 2/50\n",
      "21/24 [=========================>....] - ETA: 0s - loss: 1.0707 - accuracy: 0.7143\n",
      "Epoch 2: val_accuracy improved from 0.40000 to 0.60000, saving model to .\\Actor.h5\n",
      "24/24 [==============================] - 0s 15ms/step - loss: 1.0680 - accuracy: 0.7083 - val_loss: 1.0499 - val_accuracy: 0.6000\n",
      "Epoch 3/50\n",
      "20/24 [========================>.....] - ETA: 0s - loss: 1.0351 - accuracy: 0.6000\n",
      "Epoch 3: val_accuracy did not improve from 0.60000\n",
      "24/24 [==============================] - 0s 14ms/step - loss: 1.0407 - accuracy: 0.5417 - val_loss: 1.0307 - val_accuracy: 0.4000\n",
      "Epoch 4/50\n",
      "21/24 [=========================>....] - ETA: 0s - loss: 1.0127 - accuracy: 0.7143\n",
      "Epoch 4: val_accuracy improved from 0.60000 to 0.66667, saving model to .\\Actor.h5\n",
      "24/24 [==============================] - 0s 15ms/step - loss: 1.0102 - accuracy: 0.7083 - val_loss: 0.9986 - val_accuracy: 0.6667\n",
      "Epoch 5/50\n",
      "21/24 [=========================>....] - ETA: 0s - loss: 0.9775 - accuracy: 0.6190\n",
      "Epoch 5: val_accuracy did not improve from 0.66667\n",
      "24/24 [==============================] - 0s 13ms/step - loss: 0.9884 - accuracy: 0.6250 - val_loss: 0.9723 - val_accuracy: 0.4667\n",
      "Epoch 6/50\n",
      "21/24 [=========================>....] - ETA: 0s - loss: 0.9352 - accuracy: 0.7143\n",
      "Epoch 6: val_accuracy improved from 0.66667 to 0.73333, saving model to .\\Actor.h5\n",
      "24/24 [==============================] - 0s 15ms/step - loss: 0.9476 - accuracy: 0.7083 - val_loss: 0.9378 - val_accuracy: 0.7333\n",
      "Epoch 7/50\n",
      "22/24 [==========================>...] - ETA: 0s - loss: 0.8944 - accuracy: 0.8636\n",
      "Epoch 7: val_accuracy did not improve from 0.73333\n",
      "24/24 [==============================] - 0s 14ms/step - loss: 0.9073 - accuracy: 0.8333 - val_loss: 0.9112 - val_accuracy: 0.7333\n",
      "Epoch 8/50\n",
      "20/24 [========================>.....] - ETA: 0s - loss: 0.8606 - accuracy: 0.7000\n",
      "Epoch 8: val_accuracy did not improve from 0.73333\n",
      "24/24 [==============================] - 0s 14ms/step - loss: 0.8780 - accuracy: 0.6667 - val_loss: 0.8821 - val_accuracy: 0.6667\n",
      "Epoch 9/50\n",
      "21/24 [=========================>....] - ETA: 0s - loss: 0.8371 - accuracy: 0.9048\n",
      "Epoch 9: val_accuracy improved from 0.73333 to 0.80000, saving model to .\\Actor.h5\n",
      "24/24 [==============================] - 0s 15ms/step - loss: 0.8311 - accuracy: 0.9167 - val_loss: 0.8330 - val_accuracy: 0.8000\n",
      "Epoch 10/50\n",
      "21/24 [=========================>....] - ETA: 0s - loss: 0.7764 - accuracy: 0.8571\n",
      "Epoch 10: val_accuracy improved from 0.80000 to 0.93333, saving model to .\\Actor.h5\n",
      "24/24 [==============================] - 0s 16ms/step - loss: 0.7831 - accuracy: 0.8333 - val_loss: 0.7925 - val_accuracy: 0.9333\n",
      "Epoch 11/50\n",
      "22/24 [==========================>...] - ETA: 0s - loss: 0.7381 - accuracy: 0.9091\n",
      "Epoch 11: val_accuracy did not improve from 0.93333\n",
      "24/24 [==============================] - 0s 13ms/step - loss: 0.7330 - accuracy: 0.9167 - val_loss: 0.7445 - val_accuracy: 0.8000\n",
      "Epoch 12/50\n",
      "21/24 [=========================>....] - ETA: 0s - loss: 0.6893 - accuracy: 0.9524\n",
      "Epoch 12: val_accuracy did not improve from 0.93333\n",
      "24/24 [==============================] - 0s 13ms/step - loss: 0.6918 - accuracy: 0.9167 - val_loss: 0.7010 - val_accuracy: 0.9333\n",
      "Epoch 13/50\n",
      "20/24 [========================>.....] - ETA: 0s - loss: 0.6604 - accuracy: 0.9000\n",
      "Epoch 13: val_accuracy did not improve from 0.93333\n",
      "24/24 [==============================] - 0s 14ms/step - loss: 0.6429 - accuracy: 0.9167 - val_loss: 0.6601 - val_accuracy: 0.8000\n",
      "Epoch 14/50\n",
      "21/24 [=========================>....] - ETA: 0s - loss: 0.5841 - accuracy: 0.8095\n",
      "Epoch 14: val_accuracy did not improve from 0.93333\n",
      "24/24 [==============================] - 0s 14ms/step - loss: 0.6065 - accuracy: 0.7917 - val_loss: 0.6185 - val_accuracy: 0.9333\n",
      "Epoch 15/50\n",
      "21/24 [=========================>....] - ETA: 0s - loss: 0.5427 - accuracy: 0.9524\n",
      "Epoch 15: val_accuracy did not improve from 0.93333\n",
      "24/24 [==============================] - 0s 14ms/step - loss: 0.5670 - accuracy: 0.9167 - val_loss: 0.5935 - val_accuracy: 0.8000\n",
      "Epoch 16/50\n",
      "20/24 [========================>.....] - ETA: 0s - loss: 0.4903 - accuracy: 0.9500\n",
      "Epoch 16: val_accuracy did not improve from 0.93333\n",
      "24/24 [==============================] - 0s 14ms/step - loss: 0.5252 - accuracy: 0.9583 - val_loss: 0.5452 - val_accuracy: 0.9333\n",
      "Epoch 17/50\n",
      "22/24 [==========================>...] - ETA: 0s - loss: 0.4432 - accuracy: 1.0000\n",
      "Epoch 17: val_accuracy did not improve from 0.93333\n",
      "24/24 [==============================] - 0s 13ms/step - loss: 0.4788 - accuracy: 0.9583 - val_loss: 0.5255 - val_accuracy: 0.8000\n",
      "Epoch 18/50\n",
      "20/24 [========================>.....] - ETA: 0s - loss: 0.4765 - accuracy: 1.0000\n",
      "Epoch 18: val_accuracy improved from 0.93333 to 1.00000, saving model to .\\Actor.h5\n",
      "24/24 [==============================] - 0s 16ms/step - loss: 0.4657 - accuracy: 1.0000 - val_loss: 0.4808 - val_accuracy: 1.0000\n",
      "Epoch 19/50\n",
      "22/24 [==========================>...] - ETA: 0s - loss: 0.4082 - accuracy: 0.9545\n",
      "Epoch 19: val_accuracy did not improve from 1.00000\n",
      "24/24 [==============================] - 0s 13ms/step - loss: 0.4215 - accuracy: 0.9583 - val_loss: 0.4690 - val_accuracy: 0.8667\n",
      "Epoch 20/50\n",
      "20/24 [========================>.....] - ETA: 0s - loss: 0.3600 - accuracy: 1.0000\n",
      "Epoch 20: val_accuracy did not improve from 1.00000\n",
      "24/24 [==============================] - 0s 14ms/step - loss: 0.3751 - accuracy: 1.0000 - val_loss: 0.4318 - val_accuracy: 0.9333\n",
      "Epoch 21/50\n",
      "21/24 [=========================>....] - ETA: 0s - loss: 0.3629 - accuracy: 0.8571\n",
      "Epoch 21: val_accuracy did not improve from 1.00000\n",
      "24/24 [==============================] - 0s 14ms/step - loss: 0.3726 - accuracy: 0.8750 - val_loss: 0.4211 - val_accuracy: 0.8000\n",
      "Epoch 22/50\n",
      "20/24 [========================>.....] - ETA: 0s - loss: 0.3235 - accuracy: 1.0000\n",
      "Epoch 22: val_accuracy did not improve from 1.00000\n",
      "24/24 [==============================] - 0s 14ms/step - loss: 0.3273 - accuracy: 1.0000 - val_loss: 0.3826 - val_accuracy: 0.9333\n",
      "Epoch 23/50\n",
      "22/24 [==========================>...] - ETA: 0s - loss: 0.2939 - accuracy: 1.0000\n",
      "Epoch 23: val_accuracy did not improve from 1.00000\n",
      "24/24 [==============================] - 0s 14ms/step - loss: 0.2850 - accuracy: 1.0000 - val_loss: 0.3876 - val_accuracy: 0.8667\n",
      "Epoch 24/50\n",
      "20/24 [========================>.....] - ETA: 0s - loss: 0.2745 - accuracy: 1.0000\n",
      "Epoch 24: val_accuracy did not improve from 1.00000\n",
      "24/24 [==============================] - 0s 14ms/step - loss: 0.2690 - accuracy: 1.0000 - val_loss: 0.3635 - val_accuracy: 0.8667\n",
      "Epoch 25/50\n"
     ]
    },
    {
     "name": "stdout",
     "output_type": "stream",
     "text": [
      "21/24 [=========================>....] - ETA: 0s - loss: 0.2477 - accuracy: 1.0000\n",
      "Epoch 25: val_accuracy did not improve from 1.00000\n",
      "24/24 [==============================] - 0s 14ms/step - loss: 0.2479 - accuracy: 1.0000 - val_loss: 0.3312 - val_accuracy: 0.9333\n",
      "Epoch 26/50\n",
      "21/24 [=========================>....] - ETA: 0s - loss: 0.2258 - accuracy: 1.0000\n",
      "Epoch 26: val_accuracy did not improve from 1.00000\n",
      "24/24 [==============================] - 0s 14ms/step - loss: 0.2379 - accuracy: 1.0000 - val_loss: 0.3104 - val_accuracy: 0.9333\n",
      "Epoch 27/50\n",
      "21/24 [=========================>....] - ETA: 0s - loss: 0.2219 - accuracy: 1.0000\n",
      "Epoch 27: val_accuracy did not improve from 1.00000\n",
      "24/24 [==============================] - 0s 13ms/step - loss: 0.2160 - accuracy: 1.0000 - val_loss: 0.2976 - val_accuracy: 0.9333\n",
      "Epoch 28/50\n",
      "21/24 [=========================>....] - ETA: 0s - loss: 0.2004 - accuracy: 1.0000\n",
      "Epoch 28: val_accuracy did not improve from 1.00000\n",
      "24/24 [==============================] - 0s 14ms/step - loss: 0.1931 - accuracy: 1.0000 - val_loss: 0.2934 - val_accuracy: 0.9333\n",
      "Epoch 29/50\n",
      "21/24 [=========================>....] - ETA: 0s - loss: 0.1618 - accuracy: 1.0000\n",
      "Epoch 29: val_accuracy did not improve from 1.00000\n",
      "24/24 [==============================] - 0s 14ms/step - loss: 0.1738 - accuracy: 1.0000 - val_loss: 0.2738 - val_accuracy: 0.9333\n",
      "Epoch 30/50\n",
      "21/24 [=========================>....] - ETA: 0s - loss: 0.1706 - accuracy: 1.0000\n",
      "Epoch 30: val_accuracy did not improve from 1.00000\n",
      "24/24 [==============================] - 0s 14ms/step - loss: 0.1645 - accuracy: 1.0000 - val_loss: 0.2594 - val_accuracy: 0.9333\n",
      "Epoch 31/50\n",
      "20/24 [========================>.....] - ETA: 0s - loss: 0.1625 - accuracy: 1.0000\n",
      "Epoch 31: val_accuracy did not improve from 1.00000\n",
      "24/24 [==============================] - 0s 14ms/step - loss: 0.1479 - accuracy: 1.0000 - val_loss: 0.2424 - val_accuracy: 0.9333\n",
      "Epoch 32/50\n",
      "22/24 [==========================>...] - ETA: 0s - loss: 0.1386 - accuracy: 1.0000\n",
      "Epoch 32: val_accuracy did not improve from 1.00000\n",
      "24/24 [==============================] - 0s 13ms/step - loss: 0.1410 - accuracy: 1.0000 - val_loss: 0.2405 - val_accuracy: 0.9333\n",
      "Epoch 33/50\n",
      "20/24 [========================>.....] - ETA: 0s - loss: 0.1342 - accuracy: 1.0000\n",
      "Epoch 33: val_accuracy did not improve from 1.00000\n",
      "24/24 [==============================] - 0s 14ms/step - loss: 0.1242 - accuracy: 1.0000 - val_loss: 0.2192 - val_accuracy: 0.9333\n",
      "Epoch 34/50\n",
      "22/24 [==========================>...] - ETA: 0s - loss: 0.1291 - accuracy: 1.0000\n",
      "Epoch 34: val_accuracy did not improve from 1.00000\n",
      "24/24 [==============================] - 0s 13ms/step - loss: 0.1222 - accuracy: 1.0000 - val_loss: 0.2173 - val_accuracy: 0.9333\n",
      "Epoch 35/50\n",
      "20/24 [========================>.....] - ETA: 0s - loss: 0.1184 - accuracy: 1.0000\n",
      "Epoch 35: val_accuracy did not improve from 1.00000\n",
      "24/24 [==============================] - 0s 14ms/step - loss: 0.1130 - accuracy: 1.0000 - val_loss: 0.1957 - val_accuracy: 1.0000\n",
      "Epoch 36/50\n",
      "20/24 [========================>.....] - ETA: 0s - loss: 0.0883 - accuracy: 1.0000\n",
      "Epoch 36: val_accuracy did not improve from 1.00000\n",
      "24/24 [==============================] - 0s 14ms/step - loss: 0.1052 - accuracy: 1.0000 - val_loss: 0.1827 - val_accuracy: 1.0000\n",
      "Epoch 37/50\n",
      "19/24 [======================>.......] - ETA: 0s - loss: 0.0877 - accuracy: 1.0000\n",
      "Epoch 37: val_accuracy did not improve from 1.00000\n",
      "24/24 [==============================] - 0s 14ms/step - loss: 0.0913 - accuracy: 1.0000 - val_loss: 0.2077 - val_accuracy: 0.9333\n",
      "Epoch 38/50\n",
      "24/24 [==============================] - ETA: 0s - loss: 0.0953 - accuracy: 1.0000\n",
      "Epoch 38: val_accuracy did not improve from 1.00000\n",
      "24/24 [==============================] - 0s 15ms/step - loss: 0.0953 - accuracy: 1.0000 - val_loss: 0.1690 - val_accuracy: 1.0000\n",
      "Epoch 39/50\n",
      "19/24 [======================>.......] - ETA: 0s - loss: 0.0923 - accuracy: 1.0000\n",
      "Epoch 39: val_accuracy did not improve from 1.00000\n",
      "24/24 [==============================] - 0s 14ms/step - loss: 0.0870 - accuracy: 1.0000 - val_loss: 0.1754 - val_accuracy: 0.9333\n",
      "Epoch 40/50\n",
      "20/24 [========================>.....] - ETA: 0s - loss: 0.0810 - accuracy: 1.0000\n",
      "Epoch 40: val_accuracy did not improve from 1.00000\n",
      "24/24 [==============================] - 0s 14ms/step - loss: 0.0757 - accuracy: 1.0000 - val_loss: 0.1496 - val_accuracy: 1.0000\n",
      "Epoch 41/50\n",
      "19/24 [======================>.......] - ETA: 0s - loss: 0.0754 - accuracy: 1.0000\n",
      "Epoch 41: val_accuracy did not improve from 1.00000\n",
      "24/24 [==============================] - 0s 15ms/step - loss: 0.0747 - accuracy: 1.0000 - val_loss: 0.1556 - val_accuracy: 1.0000\n",
      "Epoch 42/50\n",
      "20/24 [========================>.....] - ETA: 0s - loss: 0.0779 - accuracy: 1.0000\n",
      "Epoch 42: val_accuracy did not improve from 1.00000\n",
      "24/24 [==============================] - 0s 14ms/step - loss: 0.0736 - accuracy: 1.0000 - val_loss: 0.1536 - val_accuracy: 1.0000\n",
      "Epoch 43/50\n",
      "20/24 [========================>.....] - ETA: 0s - loss: 0.0532 - accuracy: 1.0000\n",
      "Epoch 43: val_accuracy did not improve from 1.00000\n",
      "24/24 [==============================] - 0s 14ms/step - loss: 0.0649 - accuracy: 1.0000 - val_loss: 0.1562 - val_accuracy: 0.9333\n",
      "Epoch 44/50\n",
      "20/24 [========================>.....] - ETA: 0s - loss: 0.0615 - accuracy: 1.0000\n",
      "Epoch 44: val_accuracy did not improve from 1.00000\n",
      "24/24 [==============================] - 0s 14ms/step - loss: 0.0591 - accuracy: 1.0000 - val_loss: 0.1252 - val_accuracy: 1.0000\n",
      "Epoch 45/50\n",
      "20/24 [========================>.....] - ETA: 0s - loss: 0.0637 - accuracy: 1.0000\n",
      "Epoch 45: val_accuracy did not improve from 1.00000\n",
      "24/24 [==============================] - 0s 13ms/step - loss: 0.0619 - accuracy: 1.0000 - val_loss: 0.1228 - val_accuracy: 1.0000\n",
      "Epoch 46/50\n",
      "21/24 [=========================>....] - ETA: 0s - loss: 0.0593 - accuracy: 1.0000\n",
      "Epoch 46: val_accuracy did not improve from 1.00000\n",
      "24/24 [==============================] - 0s 16ms/step - loss: 0.0529 - accuracy: 1.0000 - val_loss: 0.1265 - val_accuracy: 1.0000\n",
      "Epoch 47/50\n",
      "20/24 [========================>.....] - ETA: 0s - loss: 0.0376 - accuracy: 1.0000\n",
      "Epoch 47: val_accuracy did not improve from 1.00000\n",
      "24/24 [==============================] - 0s 14ms/step - loss: 0.0499 - accuracy: 1.0000 - val_loss: 0.1219 - val_accuracy: 1.0000\n",
      "Epoch 48/50\n",
      "20/24 [========================>.....] - ETA: 0s - loss: 0.0444 - accuracy: 1.0000\n",
      "Epoch 48: val_accuracy did not improve from 1.00000\n",
      "24/24 [==============================] - 0s 14ms/step - loss: 0.0466 - accuracy: 1.0000 - val_loss: 0.1086 - val_accuracy: 1.0000\n",
      "Epoch 49/50\n",
      "21/24 [=========================>....] - ETA: 0s - loss: 0.0470 - accuracy: 1.0000\n",
      "Epoch 49: val_accuracy did not improve from 1.00000\n",
      "24/24 [==============================] - 0s 14ms/step - loss: 0.0460 - accuracy: 1.0000 - val_loss: 0.1047 - val_accuracy: 1.0000\n",
      "Epoch 50/50\n",
      "20/24 [========================>.....] - ETA: 0s - loss: 0.0410 - accuracy: 1.0000\n",
      "Epoch 50: val_accuracy did not improve from 1.00000\n",
      "24/24 [==============================] - 0s 13ms/step - loss: 0.0390 - accuracy: 1.0000 - val_loss: 0.1155 - val_accuracy: 1.0000\n",
      "Runtime: 20.66 초\n"
     ]
    }
   ],
   "source": [
    "# 네트워크 제작\n",
    "SEED = 0\n",
    "os.environ['PYTHONHASHSEED'] = str(SEED)\n",
    "os.environ['TF_DETERMINISTIC_OPS'] = '1'\n",
    "\n",
    "tf.random.set_seed(SEED) # Global seed\n",
    "np.random.seed(SEED)\n",
    "random.seed(SEED)\n",
    "\n",
    "model = Sequential()\n",
    "model.add(Conv2D(32, kernel_size = (3, 3), padding='same',\n",
    "                 input_shape = (height, width, 3), activation='relu'))\n",
    "model.add(Conv2D(32, (3, 3), padding='same', activation='relu'))\n",
    "# 4개중에 최대값 1개만 다음 레이어로 전달, 슬라이딩이 작동되어 파라미터수가 50%로 감소함 \n",
    "model.add(MaxPooling2D(pool_size=(2, 2))) \n",
    "\n",
    "# model.add(Conv2D(16, (3, 3), padding='same', activation='relu'))\n",
    "# model.add(Conv2D(16, (3, 3), padding='same', activation='relu'))\n",
    "# model.add(MaxPooling2D(pool_size=(2, 2))) # 25%만 사용\n",
    "# model.add(Dropout(0.25)) # node 25% 사용하지 않음.\n",
    "\n",
    "model.add(Flatten()) # 3차원 텐서의 형태를 1차원 열방향으로 변경\n",
    "model.add(Dense(10, activation='relu'))\n",
    "# model.add(Dropout(0.25)) # node 25% 사용하지 않음.\n",
    "\n",
    "model.add(Dense(3, activation='softmax'))\n",
    "model.compile(optimizer=Adam(lr=0.0001), loss='categorical_crossentropy', \n",
    "                                metrics=['accuracy'])\n",
    "model.summary()\n",
    "\n",
    "cp = ModelCheckpoint(filepath='./Actor.h5', monitor='val_accuracy',\n",
    "                               verbose=1, save_best_only=True)\n",
    "es = EarlyStopping(monitor='loss', patience=2, restore_best_weights=True)\n",
    "\n",
    "start = time.time()\n",
    "\n",
    "hist = model.fit(\n",
    "    train_generator,\n",
    "    epochs=50,\n",
    "    validation_data = vali_generator,\n",
    "    callbacks=[cp, es])\n",
    "\n",
    "end = time.time()\n",
    "print('Runtime: {0:.2f} 초'.format(end-start))"
   ]
  },
  {
   "cell_type": "code",
   "execution_count": 25,
   "metadata": {
    "colab": {
     "base_uri": "https://localhost:8080/",
     "height": 356
    },
    "executionInfo": {
     "elapsed": 676,
     "status": "ok",
     "timestamp": 1661581809429,
     "user": {
      "displayName": "강사엄기흥",
      "userId": "12410353940363031053"
     },
     "user_tz": -540
    },
    "id": "bbnDvJ_M-675",
    "outputId": "0e066831-fe62-463a-e993-4c08d59c3454"
   },
   "outputs": [
    {
     "data": {
      "image/png": "[encoded data removed]",
      "text/plain": [
       "<Figure size 1000x500 with 2 Axes>"
      ]
     },
     "metadata": {},
     "output_type": "display_data"
    }
   ],
   "source": [
    "import matplotlib.pyplot as plt\n",
    "%matplotlib inline  \n",
    "\n",
    "fig, loss_ax = plt.subplots()\n",
    "# plt.figure(figsize=(6,4)) # ERROR\n",
    "fig.set_size_inches(10, 5)  # 챠트 크기 설정\n",
    "\n",
    "acc_ax = loss_ax.twinx()  # 오른쪽 y 출 설정\n",
    "\n",
    "# 왼쪽 y 축 설정\n",
    "loss_ax.plot(hist.history['loss'], 'y', label='train loss')\n",
    "loss_ax.plot(hist.history['val_loss'], 'r', label='val loss')\n",
    "loss_ax.set_ylim([0.0, 1.5]) # 값을 반영하여 변경\n",
    "\n",
    "# 오른쪽 y 축 설정\n",
    "acc_ax.plot(hist.history['accuracy'], 'b', label='train accuracy')\n",
    "acc_ax.plot(hist.history['val_accuracy'], 'g', label='val accuracy')\n",
    "acc_ax.set_ylim([0.0, 1.0])\n",
    "\n",
    "# 축 레이블 설정\n",
    "loss_ax.set_xlabel('epoch')  # 학습 횟수\n",
    "loss_ax.set_ylabel('loss')   # 오차\n",
    "acc_ax.set_ylabel('accuracy') # 정확도\n",
    "\n",
    "loss_ax.legend(loc='upper left') # 오차 레이블 위치\n",
    "acc_ax.legend(loc='lower left')  # 정확도 레이블 위치\n",
    "\n",
    "plt.show()"
   ]
  },
  {
   "cell_type": "code",
   "execution_count": 26,
   "metadata": {
    "colab": {
     "base_uri": "https://localhost:8080/"
    },
    "executionInfo": {
     "elapsed": 464,
     "status": "ok",
     "timestamp": 1661581809888,
     "user": {
      "displayName": "강사엄기흥",
      "userId": "12410353940363031053"
     },
     "user_tz": -540
    },
    "id": "Xin63qDZ-676",
    "outputId": "b15c275b-2b88-4a10-e42f-98b9d6c96b75"
   },
   "outputs": [
    {
     "name": "stdout",
     "output_type": "stream",
     "text": [
      "-- Evaluate --\n",
      "accuracy: 100.00%\n"
     ]
    }
   ],
   "source": [
    "print(\"-- Evaluate --\")\n",
    "scores = model.evaluate_generator(vali_generator, verbose=0)  \n",
    "print(\"%s: %.2f%%\" %(model.metrics_names[1], scores[1]*100))"
   ]
  },
  {
   "cell_type": "code",
   "execution_count": 28,
   "metadata": {
    "colab": {
     "base_uri": "https://localhost:8080/"
    },
    "executionInfo": {
     "elapsed": 11,
     "status": "ok",
     "timestamp": 1661581809888,
     "user": {
      "displayName": "강사엄기흥",
      "userId": "12410353940363031053"
     },
     "user_tz": -540
    },
    "id": "OirpAKmj-677",
    "outputId": "c01dfa76-3543-43ab-d747-9dbc063743d4"
   },
   "outputs": [
    {
     "name": "stdout",
     "output_type": "stream",
     "text": [
      "-- Predict --\n",
      "{'circle': 0, 'rectangle': 1, 'triangle': 2}\n",
      "<class 'numpy.ndarray'>\n",
      "(15, 3)\n",
      "[[0.236 0.763 0.001]\n",
      " [0.875 0.123 0.002]\n",
      " [0.953 0.045 0.002]\n",
      " [0.010 0.000 0.990]\n",
      " [0.071 0.043 0.886]\n",
      " [0.000 0.000 1.000]\n",
      " [0.034 0.965 0.000]\n",
      " [0.969 0.030 0.002]\n",
      " [0.200 0.799 0.001]\n",
      " [0.998 0.001 0.001]\n",
      " [0.001 0.000 0.999]\n",
      " [0.079 0.921 0.000]\n",
      " [0.431 0.564 0.005]\n",
      " [0.902 0.095 0.002]\n",
      " [0.088 0.006 0.906]]\n"
     ]
    }
   ],
   "source": [
    "print(\"-- Predict --\")\n",
    "output = model.predict_generator(vali_generator)\n",
    "# numpy package 전체를 설정, 실수를 소수점 3자리까지 출력 설정\n",
    "np.set_printoptions(formatter={'float': lambda x: \"{0:0.3f}\".format(x)})\n",
    "\n",
    "# 그룹의 index {'circle': 0, 'rectangle': 1, 'triangle': 2}, 알파벳 순\n",
    "print(vali_generator.class_indices) # 분류에 할당된 index\n",
    "print(type(output))\n",
    "print(output.shape) # 검증 이미지가 15개, 3개의 분류임으로 출력은 15행 3열\n",
    "print(output)"
   ]
  },
  {
   "cell_type": "code",
   "execution_count": 29,
   "metadata": {
    "id": "aUKptnXh-678"
   },
   "outputs": [],
   "source": [
    "def display(data):  # {'circle': 0, 'rectangle': 1, 'triangle': 2}\n",
    "    sw = np.argmax(data) # max index\n",
    "    print('sw:', sw)\n",
    "    \n",
    "    if sw == 0:\n",
    "        sw = '원'\n",
    "    elif sw == 1:\n",
    "        sw = '사각형'\n",
    "    elif sw == 2:\n",
    "        sw = '삼각형'\n",
    "        \n",
    "    return sw     "
   ]
  },
  {
   "cell_type": "code",
   "execution_count": 30,
   "metadata": {
    "colab": {
     "base_uri": "https://localhost:8080/"
    },
    "executionInfo": {
     "elapsed": 9,
     "status": "ok",
     "timestamp": 1661581809889,
     "user": {
      "displayName": "강사엄기흥",
      "userId": "12410353940363031053"
     },
     "user_tz": -540
    },
    "id": "nUVzlzFS-679",
    "outputId": "d17ee2ea-adf1-4033-b9b1-59e60e110098"
   },
   "outputs": [
    {
     "name": "stdout",
     "output_type": "stream",
     "text": [
      "sw: 1\n",
      "사각형\n",
      "-------------\n",
      "sw: 0\n",
      "원\n",
      "-------------\n",
      "sw: 0\n",
      "원\n",
      "-------------\n",
      "sw: 2\n",
      "삼각형\n",
      "-------------\n",
      "sw: 2\n",
      "삼각형\n",
      "-------------\n",
      "sw: 2\n",
      "삼각형\n",
      "-------------\n",
      "sw: 1\n",
      "사각형\n",
      "-------------\n",
      "sw: 0\n",
      "원\n",
      "-------------\n",
      "sw: 1\n",
      "사각형\n",
      "-------------\n",
      "sw: 0\n",
      "원\n",
      "-------------\n",
      "sw: 2\n",
      "삼각형\n",
      "-------------\n",
      "sw: 1\n",
      "사각형\n",
      "-------------\n",
      "sw: 1\n",
      "사각형\n",
      "-------------\n",
      "sw: 0\n",
      "원\n",
      "-------------\n",
      "sw: 2\n",
      "삼각형\n",
      "-------------\n"
     ]
    }
   ],
   "source": [
    "for row in output:\n",
    "    print(display(row))\n",
    "    print('-------------')"
   ]
  },
  {
   "cell_type": "markdown",
   "metadata": {
    "id": "IGOUzXdb-67-"
   },
   "source": [
    "### 테스트 데이터가 적음으로 수업과 결과가 다를 수 있음"
   ]
  },
  {
   "cell_type": "code",
   "execution_count": 31,
   "metadata": {
    "colab": {
     "base_uri": "https://localhost:8080/"
    },
    "executionInfo": {
     "elapsed": 303,
     "status": "ok",
     "timestamp": 1661581810185,
     "user": {
      "displayName": "강사엄기흥",
      "userId": "12410353940363031053"
     },
     "user_tz": -540
    },
    "id": "zrJ53WNc-67_",
    "outputId": "54fdd281-1b4b-4fd7-f673-219d81221b1a"
   },
   "outputs": [
    {
     "name": "stdout",
     "output_type": "stream",
     "text": [
      "Found 1 images belonging to 1 classes.\n"
     ]
    }
   ],
   "source": [
    "# 테스트용 데이터 생성기\n",
    "test_datagen = ImageDataGenerator(rescale=1./255)\n",
    " \n",
    "test_generator = test_datagen.flow_from_directory(\n",
    "        './test1',\n",
    "        target_size=(width, height),    \n",
    "        batch_size=1,\n",
    "        class_mode='categorical')"
   ]
  },
  {
   "cell_type": "code",
   "execution_count": 32,
   "metadata": {
    "colab": {
     "base_uri": "https://localhost:8080/"
    },
    "executionInfo": {
     "elapsed": 341,
     "status": "ok",
     "timestamp": 1661581810523,
     "user": {
      "displayName": "강사엄기흥",
      "userId": "12410353940363031053"
     },
     "user_tz": -540
    },
    "id": "uS-YRDeI-67_",
    "outputId": "93a485a1-dc38-4fd7-9424-6dd84165014b"
   },
   "outputs": [
    {
     "name": "stdout",
     "output_type": "stream",
     "text": [
      "(1, 3)\n",
      "[[0.608 0.374 0.017]]\n",
      "sw: 0\n",
      "타겟: 원 / 원\n",
      "sw: 0\n",
      "타겟: 원 / 원\n"
     ]
    }
   ],
   "source": [
    "yp = model.predict_generator(test_generator)\n",
    "print(yp.shape)\n",
    "print(yp)\n",
    "print('타겟: 원 /', display(yp))    # 2차원 텐서 전달\n",
    "print('타겟: 원 /', display(yp[0])) # 1차원 텐서 전달"
   ]
  },
  {
   "cell_type": "code",
   "execution_count": 33,
   "metadata": {
    "colab": {
     "base_uri": "https://localhost:8080/"
    },
    "executionInfo": {
     "elapsed": 394,
     "status": "ok",
     "timestamp": 1661581810913,
     "user": {
      "displayName": "강사엄기흥",
      "userId": "12410353940363031053"
     },
     "user_tz": -540
    },
    "id": "MJAcx6Uu-68A",
    "outputId": "175d78d3-e00a-481d-c3fe-43297069628c"
   },
   "outputs": [
    {
     "name": "stdout",
     "output_type": "stream",
     "text": [
      "Found 1 images belonging to 1 classes.\n",
      "[[0.219 0.775 0.005]]\n",
      "sw: 1\n",
      "타겟: 사각형 / 사각형\n"
     ]
    }
   ],
   "source": [
    "# 테스트용 데이터 생성기\n",
    "test_datagen = ImageDataGenerator(rescale=1./255)\n",
    " \n",
    "test_generator = test_datagen.flow_from_directory(\n",
    "        './test2',\n",
    "        target_size=(height, width),    \n",
    "        batch_size=1,\n",
    "        class_mode='categorical')\n",
    "yp = model.predict_generator(test_generator)\n",
    "print(yp)\n",
    "print('타겟: 사각형 /', display(yp))    # 2차원 텐서 전달"
   ]
  },
  {
   "cell_type": "code",
   "execution_count": 34,
   "metadata": {
    "colab": {
     "base_uri": "https://localhost:8080/"
    },
    "executionInfo": {
     "elapsed": 785,
     "status": "ok",
     "timestamp": 1661581811696,
     "user": {
      "displayName": "강사엄기흥",
      "userId": "12410353940363031053"
     },
     "user_tz": -540
    },
    "id": "WgLq4LgA-68B",
    "outputId": "69cec864-3ea5-431b-f22e-e89f1d23628a"
   },
   "outputs": [
    {
     "name": "stdout",
     "output_type": "stream",
     "text": [
      "Found 1 images belonging to 1 classes.\n",
      "[[0.056 0.017 0.927]]\n",
      "sw: 2\n",
      "타겟: 삼각형 / 삼각형\n"
     ]
    }
   ],
   "source": [
    "# 테스트용 데이터 생성기\n",
    "test_datagen = ImageDataGenerator(rescale=1./255)\n",
    " \n",
    "test_generator = test_datagen.flow_from_directory(\n",
    "        './test3',\n",
    "        target_size=(height, width),    \n",
    "        batch_size=1,\n",
    "        class_mode='categorical')\n",
    "yp = model.predict_generator(test_generator)\n",
    "print(yp)\n",
    "print('타겟: 삼각형 /', display(yp))    # 2차원 텐서 전달"
   ]
  },
  {
   "cell_type": "code",
   "execution_count": 35,
   "metadata": {
    "colab": {
     "base_uri": "https://localhost:8080/"
    },
    "executionInfo": {
     "elapsed": 956,
     "status": "ok",
     "timestamp": 1661581812649,
     "user": {
      "displayName": "강사엄기흥",
      "userId": "12410353940363031053"
     },
     "user_tz": -540
    },
    "id": "1WTPLQ1P-68B",
    "outputId": "06764c2a-dee7-414a-cece-3d2add04a7f9"
   },
   "outputs": [
    {
     "name": "stdout",
     "output_type": "stream",
     "text": [
      "Found 1 images belonging to 1 classes.\n",
      "[[0.621 0.328 0.050]]\n",
      "sw: 0\n",
      "타겟: 원 / 원\n"
     ]
    }
   ],
   "source": [
    "# 64 X 64\n",
    "test_datagen = ImageDataGenerator(rescale=1./255)\n",
    " \n",
    "test_generator = test_datagen.flow_from_directory(\n",
    "        './test4',\n",
    "        target_size=(height, width),    \n",
    "        batch_size=1,\n",
    "        class_mode='categorical')\n",
    "yp = model.predict_generator(test_generator)\n",
    "print(yp)\n",
    "print('타겟: 원 /', display(yp))    # 2차원 텐서 전달"
   ]
  },
  {
   "cell_type": "code",
   "execution_count": 36,
   "metadata": {
    "colab": {
     "base_uri": "https://localhost:8080/"
    },
    "executionInfo": {
     "elapsed": 510,
     "status": "ok",
     "timestamp": 1661581813155,
     "user": {
      "displayName": "강사엄기흥",
      "userId": "12410353940363031053"
     },
     "user_tz": -540
    },
    "id": "G_AIzvN9-68C",
    "outputId": "e9712ed5-d46a-49db-a191-13b89410dc06"
   },
   "outputs": [
    {
     "name": "stdout",
     "output_type": "stream",
     "text": [
      "Found 1 images belonging to 1 classes.\n",
      "[[0.311 0.543 0.145]]\n",
      "sw: 1\n",
      "타겟: 사각형 / 사각형\n"
     ]
    }
   ],
   "source": [
    "# 128 X 128\n",
    "test_datagen = ImageDataGenerator(rescale=1./255)\n",
    " \n",
    "test_generator = test_datagen.flow_from_directory(\n",
    "        './test5',\n",
    "        target_size=(height, width),    \n",
    "        batch_size=1,\n",
    "        class_mode='categorical')\n",
    "yp = model.predict_generator(test_generator)\n",
    "print(yp)\n",
    "print('타겟: 사각형 /', display(yp))    # 2차원 텐서 전달"
   ]
  },
  {
   "cell_type": "code",
   "execution_count": 38,
   "metadata": {
    "colab": {
     "base_uri": "https://localhost:8080/"
    },
    "executionInfo": {
     "elapsed": 749,
     "status": "ok",
     "timestamp": 1661581813902,
     "user": {
      "displayName": "강사엄기흥",
      "userId": "12410353940363031053"
     },
     "user_tz": -540
    },
    "id": "zbbwnaU_-68C",
    "outputId": "5f23cd97-e7c4-4c2a-cc14-1f0add158e0b"
   },
   "outputs": [
    {
     "name": "stdout",
     "output_type": "stream",
     "text": [
      "Found 1 images belonging to 1 classes.\n",
      "[[0.279 0.451 0.271]]\n",
      "sw: 1\n",
      "타겟: 삼각형 / 사각형\n"
     ]
    }
   ],
   "source": [
    "# {'circle': 0, 'rectangle': 1, 'triangle': 2}\n",
    "# 256 X 256, 학습한 이미지와 크기가 다른 이미지 예측시 정확도 떨어짐.\n",
    "test_datagen = ImageDataGenerator(rescale=1./255)\n",
    " \n",
    "test_generator = test_datagen.flow_from_directory(\n",
    "        './test6',\n",
    "        target_size=(height, width),    \n",
    "        batch_size=1,\n",
    "        class_mode='categorical')\n",
    "yp = model.predict_generator(test_generator)\n",
    "print(yp)\n",
    "print('타겟: 삼각형 /', display(yp))    # 2차원 텐서 전달"
   ]
  },
  {
   "cell_type": "code",
   "execution_count": 40,
   "metadata": {
    "colab": {
     "base_uri": "https://localhost:8080/"
    },
    "executionInfo": {
     "elapsed": 485,
     "status": "ok",
     "timestamp": 1661581814381,
     "user": {
      "displayName": "강사엄기흥",
      "userId": "12410353940363031053"
     },
     "user_tz": -540
    },
    "id": "uF0IEnCc-68D",
    "outputId": "97f53d5c-50b4-4e5a-cb5c-aaed1d91bd6d"
   },
   "outputs": [
    {
     "name": "stdout",
     "output_type": "stream",
     "text": [
      "Found 1 images belonging to 1 classes.\n",
      "[[0.461 0.211 0.328]]\n",
      "sw: 0\n",
      "타겟: 삼각형 / 원\n"
     ]
    }
   ],
   "source": [
    "# {'circle': 0, 'rectangle': 1, 'triangle': 2}\n",
    "# 256 X 256, 학습한 이미지와 크기가 다른 이미지 예측시 정확도 떨어짐.\n",
    "test_datagen = ImageDataGenerator(rescale=1./255)\n",
    " \n",
    "test_generator = test_datagen.flow_from_directory(\n",
    "        './test7',\n",
    "        target_size=(height, width),    \n",
    "        batch_size=1,\n",
    "        class_mode='categorical')\n",
    "yp = model.predict_generator(test_generator)\n",
    "print(yp)\n",
    "print('타겟: 삼각형 /', display(yp))    # 2차원 텐서 전달"
   ]
  },
  {
   "cell_type": "code",
   "execution_count": null,
   "metadata": {
    "id": "NjxfknHr-68D"
   },
   "outputs": [],
   "source": []
  },
  {
   "cell_type": "code",
   "execution_count": null,
   "metadata": {
    "id": "KPg-cOaz-68E"
   },
   "outputs": [],
   "source": []
  }
 ],
 "metadata": {
  "colab": {
   "collapsed_sections": [],
   "name": "Shape_cnn.ipynb",
   "provenance": []
  },
  "kernelspec": {
   "display_name": "ai",
   "language": "python",
   "name": "ai"
  },
  "language_info": {
   "codemirror_mode": {
    "name": "ipython",
    "version": 3
   },
   "file_extension": ".py",
   "mimetype": "text/x-python",
   "name": "python",
   "nbconvert_exporter": "python",
   "pygments_lexer": "ipython3",
   "version": "3.9.16"
  }
 },
 "nbformat": 4,
 "nbformat_minor": 1
}
