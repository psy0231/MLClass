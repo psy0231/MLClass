{
 "cells": [
  {
   "cell_type": "markdown",
   "id": "5636fa59",
   "metadata": {},
   "source": [
    "## deepface package"
   ]
  },
  {
   "cell_type": "code",
   "execution_count": 2,
   "id": "463870a2",
   "metadata": {},
   "outputs": [
    {
     "name": "stderr",
     "output_type": "stream",
     "text": [
      "Action: race: 100%|██████████████████████| 4/4 [00:00<00:00,  5.53it/s]"
     ]
    },
    {
     "name": "stdout",
     "output_type": "stream",
     "text": [
      "[{'emotion': {'angry': 8.406737446784973, 'disgust': 6.67516587782302e-05, 'fear': 9.119697660207748, 'happy': 0.005975254316581413, 'sad': 58.0561101436615, 'surprise': 0.00732984408386983, 'neutral': 24.40408170223236}, 'dominant_emotion': 'sad', 'region': {'x': 50, 'y': 238, 'w': 467, 'h': 467}, 'age': 31, 'gender': {'Woman': 0.052432611119002104, 'Man': 99.94756579399109}, 'dominant_gender': 'Man', 'race': {'asian': 52.361756563186646, 'indian': 9.882531315088272, 'black': 3.951311856508255, 'white': 7.948251813650131, 'middle eastern': 2.6386795565485954, 'latino hispanic': 23.217470943927765}, 'dominant_race': 'asian'}]\n"
     ]
    },
    {
     "name": "stderr",
     "output_type": "stream",
     "text": [
      "\n"
     ]
    }
   ],
   "source": [
    "from deepface import DeepFace\n",
    "\n",
    "face_analysis = DeepFace.analyze(img_path = \"test1.jpg\")\n",
    "print(face_analysis)"
   ]
  },
  {
   "cell_type": "raw",
   "id": "71e82f7a",
   "metadata": {},
   "source": [
    "'emotion': {'angry(화난)': 8.406737446784973, 'disgust(혐오/반감': 6.67516587782302e-05, 'fear(공포)': 9.119697660207748, 'happy': 0.005975254316581413, 'sad(슬픔)': 58.0561101436615, 'surprise(놀라움)': 0.00732984408386983, 'neutral(불명확함, 중립)': 24.40408170223236}, 'dominant_emotion': 'sad'\n",
    "dominant emotion(지배적인 감정): 'sad'\n",
    "\n",
    "얼굴 위치: 'region': {'x': 50, 'y': 238, 'w': 467, 'h': 467}, \n",
    "나이: 'age': 31, \n",
    "성별: 'gender': {'Woman': 0.052432611119002104, 'Man': 99.94756579399109}, 'dominant_gender': 'Man', \n",
    "인종: 'race': {'asian': 52.361756563186646, 'indian': 9.882531315088272, 'black': 3.951311856508255, 'white': 7.948251813650131, 'middle eastern': 2.6386795565485954, 'latino hispanic': 23.217470943927765}, 'dominant_race': 'asian'}]"
   ]
  },
  {
   "cell_type": "code",
   "execution_count": null,
   "id": "dd8c6acd",
   "metadata": {},
   "outputs": [],
   "source": [
    "[{'emotion': {'angry': 8.406737446784973, 'disgust': 6.67516587782302e-05, 'fear': 9.119697660207748, 'happy': 0.005975254316581413, 'sad': 58.0561101436615, 'surprise': 0.00732984408386983, 'neutral': 24.40408170223236}, 'dominant_emotion': 'sad', 'region': {'x': 50, 'y': 238, 'w': 467, 'h': 467}, 'age': 31, 'gender': {'Woman': 0.052432611119002104, 'Man': 99.94756579399109}, 'dominant_gender': 'Man', 'race': {'asian': 52.361756563186646, 'indian': 9.882531315088272, 'black': 3.951311856508255, 'white': 7.948251813650131, 'middle eastern': 2.6386795565485954, 'latino hispanic': 23.217470943927765}, 'dominant_race': 'asian'}] json 코드에서  'dominant_emotion' 추출 명령어 알려줘"
   ]
  },
  {
   "cell_type": "code",
   "execution_count": 7,
   "id": "eacff49d",
   "metadata": {},
   "outputs": [
    {
     "name": "stdout",
     "output_type": "stream",
     "text": [
      "현재 감정 상태:  sad\n"
     ]
    }
   ],
   "source": [
    "dominant_emotion = face_analysis[0]['dominant_emotion']\n",
    "print('현재 감정 상태: ', dominant_emotion)"
   ]
  },
  {
   "cell_type": "code",
   "execution_count": 8,
   "id": "cd7a5266",
   "metadata": {},
   "outputs": [
    {
     "name": "stdout",
     "output_type": "stream",
     "text": [
      "얼굴 위치:  {'x': 50, 'y': 238, 'w': 467, 'h': 467}\n"
     ]
    }
   ],
   "source": [
    "region = face_analysis[0]['region']\n",
    "print('얼굴 위치: ', region)"
   ]
  },
  {
   "cell_type": "code",
   "execution_count": 9,
   "id": "e64df811",
   "metadata": {},
   "outputs": [
    {
     "name": "stdout",
     "output_type": "stream",
     "text": [
      "나이:  31\n"
     ]
    }
   ],
   "source": [
    "age = face_analysis[0]['age']\n",
    "print('나이: ', age)"
   ]
  },
  {
   "cell_type": "code",
   "execution_count": 14,
   "id": "03b07119",
   "metadata": {},
   "outputs": [
    {
     "name": "stdout",
     "output_type": "stream",
     "text": [
      "성별:  남자\n"
     ]
    }
   ],
   "source": [
    "dominant_gender = face_analysis[0]['dominant_gender']\n",
    "print('성별: ', '남자' if dominant_gender=='Man' else '여자')"
   ]
  },
  {
   "cell_type": "code",
   "execution_count": 13,
   "id": "78f594b7",
   "metadata": {},
   "outputs": [
    {
     "name": "stdout",
     "output_type": "stream",
     "text": [
      "인종:  asian\n"
     ]
    }
   ],
   "source": [
    "dominant_race = face_analysis[0]['dominant_race']\n",
    "print('인종: ', dominant_race)"
   ]
  },
  {
   "cell_type": "code",
   "execution_count": null,
   "id": "3c5e90cb",
   "metadata": {},
   "outputs": [],
   "source": []
  },
  {
   "cell_type": "code",
   "execution_count": null,
   "id": "0d473fd7",
   "metadata": {},
   "outputs": [],
   "source": []
  },
  {
   "cell_type": "code",
   "execution_count": null,
   "id": "d6981d7e",
   "metadata": {},
   "outputs": [],
   "source": []
  }
 ],
 "metadata": {
  "kernelspec": {
   "display_name": "ai",
   "language": "python",
   "name": "ai"
  },
  "language_info": {
   "codemirror_mode": {
    "name": "ipython",
    "version": 3
   },
   "file_extension": ".py",
   "mimetype": "text/x-python",
   "name": "python",
   "nbconvert_exporter": "python",
   "pygments_lexer": "ipython3",
   "version": "3.9.16"
  }
 },
 "nbformat": 4,
 "nbformat_minor": 5
}
