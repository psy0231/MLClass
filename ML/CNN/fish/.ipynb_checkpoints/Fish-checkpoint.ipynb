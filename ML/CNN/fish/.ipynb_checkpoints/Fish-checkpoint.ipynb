{
 "cells": [
  {
   "cell_type": "markdown",
   "metadata": {
    "id": "heSOUwlunVal"
   },
   "source": [
    "### CNN 기법을 이용한 물고기 품종 인식"
   ]
  },
  {
   "cell_type": "code",
   "execution_count": 1,
   "metadata": {
    "colab": {
     "base_uri": "https://localhost:8080/"
    },
    "executionInfo": {
     "elapsed": 20359,
     "status": "ok",
     "timestamp": 1661580930479,
     "user": {
      "displayName": "강사엄기흥",
      "userId": "12410353940363031053"
     },
     "user_tz": -540
    },
    "id": "rn5MEvpSnXq6",
    "outputId": "dba38ee3-6093-4c0d-e6df-e1931d284211"
   },
   "outputs": [
    {
     "name": "stdout",
     "output_type": "stream",
     "text": [
      "Mounted at /content/drive\n"
     ]
    }
   ],
   "source": [
    "# 글꼴 설치전 런타임 환경 확인\n",
    "# !sudo apt-get install -y fonts-nanum\n",
    "# !sudo fc-cache -fv\n",
    "# !rm ~/.cache/matplotlib -rf\n",
    "\n",
    "# GPU 런타임 환경 설정\n",
    "\n",
    "# 보안 문제로 ipynb 파일 open시마다 실행\n",
    "from google.colab import drive\n",
    "drive.mount('/content/drive') # 마운트 이름은 자유롭게 지정 가능"
   ]
  },
  {
   "cell_type": "code",
   "execution_count": 2,
   "metadata": {
    "colab": {
     "base_uri": "https://localhost:8080/",
     "height": 35
    },
    "executionInfo": {
     "elapsed": 3277,
     "status": "ok",
     "timestamp": 1661580984356,
     "user": {
      "displayName": "강사엄기흥",
      "userId": "12410353940363031053"
     },
     "user_tz": -540
    },
    "id": "QaoDxzj3nVap",
    "outputId": "e0fc4eb5-05da-4922-836f-30a8c912b86c"
   },
   "outputs": [
    {
     "data": {
      "application/javascript": [
       "IPython.notebook.set_autosave_interval(0)"
      ]
     },
     "metadata": {},
     "output_type": "display_data"
    },
    {
     "name": "stdout",
     "output_type": "stream",
     "text": [
      "Autosave disabled\n"
     ]
    }
   ],
   "source": [
    "%autosave 0\n",
    "import warnings\n",
    "warnings.filterwarnings(action='ignore')\n",
    "\n",
    "import os\n",
    "import time\n",
    "import random\n",
    "\n",
    "import numpy as np\n",
    "import pandas as pd\n",
    "import seaborn as sb\n",
    "import tensorflow as tf\n",
    "\n",
    "from tensorflow.keras.models import Sequential  # class\n",
    "from tensorflow.keras.models import load_model  # model 사용\n",
    "from tensorflow.keras.layers import Dense       # 전결합\n",
    "from tensorflow.keras.layers import Dropout     # 특정 node를 사용안함.\n",
    "from tensorflow.keras.layers import Conv2D\n",
    "from tensorflow.keras.layers import MaxPooling2D\n",
    "from tensorflow.keras.layers import Flatten\n",
    "\n",
    "from tensorflow.keras.callbacks import EarlyStopping   # 학습 자동 중지\n",
    "from tensorflow.keras.callbacks import ModelCheckpoint # 우수한 학습 모델 파일 저장\n",
    "from tensorflow.keras import regularizers \n",
    "from tensorflow.keras.utils import to_categorical   # one-hot 엔코딩\n",
    "\n",
    "from tensorflow.keras.preprocessing.image import ImageDataGenerator\n",
    "\n",
    "from tensorflow.keras.datasets import mnist\n",
    "\n",
    "from sklearn.preprocessing import LabelEncoder\n",
    "from sklearn.model_selection import train_test_split # 학습셋과 테스트셋의 분리 지원\n",
    "from sklearn.model_selection import StratifiedKFold  # K겹 교차 검증\n",
    "\n",
    "import matplotlib.pyplot as plt\n",
    "from matplotlib import font_manager, rc\n",
    "\n",
    "import platform \n",
    "\n",
    "if (platform.system() == 'Windows'):  # Windows, Linux, Darwin\n",
    "    rc('font', family=font_manager.FontProperties(fname=\"C:/Windows/Fonts/malgun.ttf\").get_name())\n",
    "    path = '.' # Local\n",
    "else:    \n",
    "    plt.rc('font', family='NanumBarunGothic')  # Ubuntu 18.04 기준 한글 처리\n",
    "    path = '/content/drive/My Drive/kd_ml/cnn/fish' # Colab\n",
    "\n",
    "os.chdir(path) # 기본 경로 설정\n",
    "\n",
    "plt.rcParams[\"font.size\"] = 12         # 글자 크기\n",
    "# plt.rcParams[\"figure.figsize\"] = (10, 4) # 10:4의 그래프 비율\n",
    "plt.rcParams['axes.unicode_minus'] = False  # minus 부호는 unicode 적용시 한글이 깨짐으로 설정\n",
    "\n",
    "%matplotlib inline  "
   ]
  },
  {
   "cell_type": "code",
   "execution_count": 8,
   "metadata": {
    "colab": {
     "base_uri": "https://localhost:8080/"
    },
    "executionInfo": {
     "elapsed": 384,
     "status": "ok",
     "timestamp": 1661582764348,
     "user": {
      "displayName": "강사엄기흥",
      "userId": "12410353940363031053"
     },
     "user_tz": -540
    },
    "id": "9PB1N5LSnVar",
    "outputId": "e1a0e3ff-0930-41a7-d46c-6c777ecbffdd",
    "scrolled": true
   },
   "outputs": [
    {
     "name": "stdout",
     "output_type": "stream",
     "text": [
      "Found 18 images belonging to 3 classes.\n",
      "Found 9 images belonging to 3 classes.\n"
     ]
    }
   ],
   "source": [
    "width=128\n",
    "height=80\n",
    "\n",
    "# 훈련용 데이터 생성기\n",
    "# rescale=1./255: 실수형태로 정규화, 0~1 사이의 값\n",
    "train_datagen = ImageDataGenerator(rescale=1./255)\n",
    " \n",
    "train_generator = train_datagen.flow_from_directory(\n",
    "        '/content/drive/My Drive/kd_ml/cnn/fish/train', # 파일이 있는 폴더, Colab은 절대 경로 명시해야 인식가능 \n",
    "        target_size=(width, height), # 훈련데이터 크기\n",
    "        batch_size=1,                # 이미지 1건씩 처리\n",
    "        class_mode='categorical')    # 다중분류\n",
    "\n",
    "# 검증용 데이터 생성기\n",
    "vali_datagen = ImageDataGenerator(rescale=1./255)\n",
    " \n",
    "vali_generator = vali_datagen.flow_from_directory(\n",
    "        '/content/drive/My Drive/kd_ml/cnn/fish/validation',\n",
    "        target_size=(width, height),    \n",
    "        batch_size=1,\n",
    "        class_mode='categorical')\n",
    "# 3 classes: ./train/circle, ./train/rectangle, ./train/triangle"
   ]
  },
  {
   "cell_type": "code",
   "execution_count": null,
   "metadata": {
    "colab": {
     "base_uri": "https://localhost:8080/"
    },
    "executionInfo": {
     "elapsed": 16111,
     "status": "ok",
     "timestamp": 1661582785472,
     "user": {
      "displayName": "강사엄기흥",
      "userId": "12410353940363031053"
     },
     "user_tz": -540
    },
    "id": "Y-0JjyF-nVar",
    "outputId": "3b3f16ea-ec1f-4fa5-b6be-270047f1888c"
   },
   "outputs": [],
   "source": [
    "SEED = 0\n",
    "os.environ['PYTHONHASHSEED'] = str(SEED)\n",
    "os.environ['TF_DETERMINISTIC_OPS'] = '1'\n",
    "\n",
    "tf.random.set_seed(SEED) # Global seed\n",
    "np.random.seed(SEED)\n",
    "random.seed(SEED)\n",
    "\n",
    "\n",
    "\n",
    "# CPU: \n",
    "# Colab GPU: 26 초"
   ]
  },
  {
   "cell_type": "code",
   "execution_count": 10,
   "metadata": {
    "colab": {
     "base_uri": "https://localhost:8080/",
     "height": 338
    },
    "executionInfo": {
     "elapsed": 13251,
     "status": "ok",
     "timestamp": 1661582826448,
     "user": {
      "displayName": "강사엄기흥",
      "userId": "12410353940363031053"
     },
     "user_tz": -540
    },
    "id": "RRf1d65YnVas",
    "outputId": "8a574508-e547-4eb1-d7af-2e280148fa52"
   },
   "outputs": [
    {
     "data": {
      "image/png": "[encoded data removed]",
      "text/plain": [
       "<Figure size 720x360 with 2 Axes>"
      ]
     },
     "metadata": {
      "needs_background": "light"
     },
     "output_type": "display_data"
    }
   ],
   "source": [
    "import matplotlib.pyplot as plt\n",
    "%matplotlib inline  \n",
    "\n",
    "fig, loss_ax = plt.subplots()\n",
    "# plt.figure(figsize=(6,4)) # ERROR\n",
    "fig.set_size_inches(10, 5)  # 챠트 크기 설정\n",
    "\n",
    "acc_ax = loss_ax.twinx()  # 오른쪽 y 출 설정\n",
    "\n",
    "# 왼쪽 y 축 설정\n",
    "loss_ax.plot(hist.history['loss'], 'y', label='train loss')\n",
    "loss_ax.plot(hist.history['val_loss'], 'r', label='val loss')\n",
    "loss_ax.set_ylim([0.0, 1.1110]) # 값을 반영하여 변경\n",
    "\n",
    "# 오른쪽 y 축 설정\n",
    "acc_ax.plot(hist.history['accuracy'], 'b', label='train accuracy')\n",
    "acc_ax.plot(hist.history['val_accuracy'], 'g', label='val accuracy')\n",
    "acc_ax.set_ylim([0.0, 1.0])\n",
    "\n",
    "# 축 레이블 설정\n",
    "loss_ax.set_xlabel('epoch')  # 학습 횟수\n",
    "loss_ax.set_ylabel('loss')   # 오차\n",
    "acc_ax.set_ylabel('accuracy') # 정확도\n",
    "\n",
    "loss_ax.legend(loc='upper left') # 오차 레이블 위치\n",
    "acc_ax.legend(loc='lower left')  # 정확도 레이블 위치\n",
    "\n",
    "plt.show()"
   ]
  },
  {
   "cell_type": "code",
   "execution_count": 11,
   "metadata": {
    "colab": {
     "base_uri": "https://localhost:8080/"
    },
    "executionInfo": {
     "elapsed": 416,
     "status": "ok",
     "timestamp": 1661582857015,
     "user": {
      "displayName": "강사엄기흥",
      "userId": "12410353940363031053"
     },
     "user_tz": -540
    },
    "id": "hzuxfisSnVat",
    "outputId": "f3dc2a5f-f68f-4cc1-d21a-3dda62990842"
   },
   "outputs": [
    {
     "name": "stdout",
     "output_type": "stream",
     "text": [
      "-- Evaluate --\n",
      "accuracy: 100.00%\n"
     ]
    }
   ],
   "source": [
    "print(\"-- Evaluate --\")\n",
    "scores = model.evaluate_generator(vali_generator, verbose=0)  \n",
    "print(\"%s: %.2f%%\" %(model.metrics_names[1], scores[1]*100))"
   ]
  },
  {
   "cell_type": "code",
   "execution_count": 12,
   "metadata": {
    "colab": {
     "base_uri": "https://localhost:8080/"
    },
    "executionInfo": {
     "elapsed": 443,
     "status": "ok",
     "timestamp": 1661582863648,
     "user": {
      "displayName": "강사엄기흥",
      "userId": "12410353940363031053"
     },
     "user_tz": -540
    },
    "id": "XU2DmrBrnVat",
    "outputId": "6a040c00-19dd-4de2-a446-4581d560a52e"
   },
   "outputs": [
    {
     "name": "stdout",
     "output_type": "stream",
     "text": [
      "-- Predict --\n",
      "{'kwanga': 0, 'samchi': 1, 'wooruk': 2}\n",
      "<class 'numpy.ndarray'>\n",
      "(9, 3)\n",
      "[[0.000 0.002 0.998]\n",
      " [0.000 0.994 0.006]\n",
      " [0.472 0.295 0.233]\n",
      " [0.002 0.000 0.998]\n",
      " [0.000 0.000 1.000]\n",
      " [0.003 0.952 0.045]\n",
      " [0.999 0.000 0.001]\n",
      " [1.000 0.000 0.000]\n",
      " [0.001 0.991 0.008]]\n"
     ]
    }
   ],
   "source": [
    "print(\"-- Predict --\")\n",
    "output = model.predict_generator(vali_generator)\n",
    "# 실수를 소수점 3자리까지 출력 설정\n",
    "np.set_printoptions(formatter={'float': lambda x: \"{0:0.3f}\".format(x)})\n",
    "\n",
    "# 그룹의 index {'circle': 0, 'rectangle': 1, 'triangle': 2}, 알파벳 순\n",
    "print(vali_generator.class_indices) # 분류에 할당된 index\n",
    "print(type(output))\n",
    "print(output.shape) # 검증 이미지가 70개, 7개의 분류임으로 출력은 70행 7열\n",
    "print(output)"
   ]
  },
  {
   "cell_type": "code",
   "execution_count": null,
   "metadata": {
    "id": "_UJfeDjsnVau"
   },
   "outputs": [],
   "source": [
    "# model.save('/content/drive/My Drive/kd_ml/cnn/fish/Fish.h5')"
   ]
  },
  {
   "cell_type": "code",
   "execution_count": 13,
   "metadata": {
    "executionInfo": {
     "elapsed": 720,
     "status": "ok",
     "timestamp": 1661582906094,
     "user": {
      "displayName": "강사엄기흥",
      "userId": "12410353940363031053"
     },
     "user_tz": -540
    },
    "id": "G0DJMolPnVau"
   },
   "outputs": [],
   "source": [
    "model = load_model('/content/drive/My Drive/kd_ml/cnn/fish/Fish.h5')"
   ]
  },
  {
   "cell_type": "code",
   "execution_count": 14,
   "metadata": {
    "executionInfo": {
     "elapsed": 315,
     "status": "ok",
     "timestamp": 1661583019739,
     "user": {
      "displayName": "강사엄기흥",
      "userId": "12410353940363031053"
     },
     "user_tz": -540
    },
    "id": "I_6E0LICnVau"
   },
   "outputs": [],
   "source": [
    "# {'kwanga': 0, 'samchi': 1, 'wooruk': 2}\n",
    "def display(data):\n",
    "    # print(data)\n",
    "    # print(type(data))\n",
    "    sw= np.argmax(data)\n",
    "    # print('sw:', sw)\n",
    "\n",
    "    if sw == 0:\n",
    "        sw = '광어'\n",
    "    elif sw == 1:\n",
    "        sw = '삼치'\n",
    "    elif sw == 2:\n",
    "        sw = '우럭'\n",
    "        \n",
    "    return sw    "
   ]
  },
  {
   "cell_type": "code",
   "execution_count": 15,
   "metadata": {
    "colab": {
     "base_uri": "https://localhost:8080/"
    },
    "executionInfo": {
     "elapsed": 789,
     "status": "ok",
     "timestamp": 1661583068463,
     "user": {
      "displayName": "강사엄기흥",
      "userId": "12410353940363031053"
     },
     "user_tz": -540
    },
    "id": "Qnacmo2HnVav",
    "outputId": "0110f6c8-d2e5-4075-b83d-691c35d0b11d"
   },
   "outputs": [
    {
     "name": "stdout",
     "output_type": "stream",
     "text": [
      "Found 1 images belonging to 1 classes.\n",
      "[[0.715 0.029 0.256]]\n",
      "타겟: 광어 / 광어\n"
     ]
    }
   ],
   "source": [
    "# 테스트용 데이터 생성기\n",
    "test_datagen = ImageDataGenerator(rescale=1./255)\n",
    " \n",
    "test_generator = test_datagen.flow_from_directory(\n",
    "        '/content/drive/My Drive/kd_ml/cnn/fish/test1',\n",
    "        target_size=(width, height),    \n",
    "        batch_size=1,\n",
    "        class_mode='categorical')\n",
    "yp = model.predict_generator(test_generator)\n",
    "print(yp)\n",
    "print('타겟: 광어 /', display(yp))    # 2차원 텐서 전달"
   ]
  },
  {
   "cell_type": "code",
   "execution_count": 16,
   "metadata": {
    "colab": {
     "base_uri": "https://localhost:8080/"
    },
    "executionInfo": {
     "elapsed": 1213,
     "status": "ok",
     "timestamp": 1661583099545,
     "user": {
      "displayName": "강사엄기흥",
      "userId": "12410353940363031053"
     },
     "user_tz": -540
    },
    "id": "gKU5_fQbnVav",
    "outputId": "f4c11320-abd3-45c7-82a1-42d392829632"
   },
   "outputs": [
    {
     "name": "stdout",
     "output_type": "stream",
     "text": [
      "Found 1 images belonging to 1 classes.\n",
      "[[0.193 0.713 0.094]]\n",
      "타겟: 삼치 / 삼치\n"
     ]
    }
   ],
   "source": [
    "# 테스트용 데이터 생성기\n",
    "test_datagen = ImageDataGenerator(rescale=1./255)\n",
    " \n",
    "test_generator = test_datagen.flow_from_directory(\n",
    "        '/content/drive/My Drive/kd_ml/cnn/fish/test2',\n",
    "        target_size=(width, height),    \n",
    "        batch_size=1,\n",
    "        class_mode='categorical')\n",
    "yp = model.predict_generator(test_generator)\n",
    "print(yp)\n",
    "print('타겟: 삼치 /', display(yp))    # 2차원 텐서 전달"
   ]
  },
  {
   "cell_type": "code",
   "execution_count": 17,
   "metadata": {
    "colab": {
     "base_uri": "https://localhost:8080/"
    },
    "executionInfo": {
     "elapsed": 1072,
     "status": "ok",
     "timestamp": 1661583124490,
     "user": {
      "displayName": "강사엄기흥",
      "userId": "12410353940363031053"
     },
     "user_tz": -540
    },
    "id": "6VRk7jS7nVaw",
    "outputId": "15a8b50a-cc61-4f26-8fd7-d19341db0ef6"
   },
   "outputs": [
    {
     "name": "stdout",
     "output_type": "stream",
     "text": [
      "Found 1 images belonging to 1 classes.\n",
      "[[0.081 0.025 0.893]]\n",
      "타겟: 우럭 / 우럭\n"
     ]
    }
   ],
   "source": [
    "# 테스트용 데이터 생성기\n",
    "test_datagen = ImageDataGenerator(rescale=1./255)\n",
    " \n",
    "test_generator = test_datagen.flow_from_directory(\n",
    "        '/content/drive/My Drive/kd_ml/cnn/fish/test3',\n",
    "        target_size=(width, height),    \n",
    "        batch_size=1,\n",
    "        class_mode='categorical')\n",
    "yp = model.predict_generator(test_generator)\n",
    "print(yp)\n",
    "print('타겟: 우럭 /', display(yp))    # 2차원 텐서 전달"
   ]
  },
  {
   "cell_type": "code",
   "execution_count": 18,
   "metadata": {
    "colab": {
     "base_uri": "https://localhost:8080/"
    },
    "executionInfo": {
     "elapsed": 466,
     "status": "ok",
     "timestamp": 1661583354916,
     "user": {
      "displayName": "강사엄기흥",
      "userId": "12410353940363031053"
     },
     "user_tz": -540
    },
    "id": "ngRAZscTnVax",
    "outputId": "bdc41460-887f-4579-8a62-54e7be343507"
   },
   "outputs": [
    {
     "name": "stdout",
     "output_type": "stream",
     "text": [
      "Found 1 images belonging to 1 classes.\n",
      "[[0.491 0.251 0.258]]\n",
      "타겟: 쭈꾸미 / 광어\n"
     ]
    }
   ],
   "source": [
    "# 훈련하지 않은 데이터 '쭈꾸미'의 사용\n",
    "# 테스트용 데이터 생성기\n",
    "test_datagen = ImageDataGenerator(rescale=1./255)\n",
    " \n",
    "test_generator = test_datagen.flow_from_directory(\n",
    "        '/content/drive/My Drive/kd_ml/cnn/fish/test4',\n",
    "        target_size=(width, height),    \n",
    "        batch_size=1,\n",
    "        class_mode='categorical')\n",
    "yp = model.predict_generator(test_generator)\n",
    "print(yp)\n",
    "print('타겟: 쭈꾸미 /', display(yp))    # 2차원 텐서 전달"
   ]
  },
  {
   "cell_type": "code",
   "execution_count": 25,
   "metadata": {
    "executionInfo": {
     "elapsed": 282,
     "status": "ok",
     "timestamp": 1661583684377,
     "user": {
      "displayName": "강사엄기흥",
      "userId": "12410353940363031053"
     },
     "user_tz": -540
    },
    "id": "eF8UCcvFnVax"
   },
   "outputs": [],
   "source": [
    "# {'kwanga': 0, 'samchi': 1, 'wooruk': 2}\n",
    "def display_ext(data):\n",
    "  if np.max(data) >= 0.5: # 확신이 있는 결과만 처리\n",
    "    sw= np.argmax(data)\n",
    "\n",
    "    if sw == 0:\n",
    "        sw = '광어'\n",
    "    elif sw == 1:\n",
    "        sw = '삼치'\n",
    "    elif sw == 2:\n",
    "        sw = '우럭'\n",
    "  else:\n",
    "    sw = '품종을 알수없습니다.'  \n",
    "        \n",
    "  return sw  "
   ]
  },
  {
   "cell_type": "code",
   "execution_count": 26,
   "metadata": {
    "colab": {
     "base_uri": "https://localhost:8080/"
    },
    "executionInfo": {
     "elapsed": 311,
     "status": "ok",
     "timestamp": 1661583688461,
     "user": {
      "displayName": "강사엄기흥",
      "userId": "12410353940363031053"
     },
     "user_tz": -540
    },
    "id": "gGGmnM4yF5J3",
    "outputId": "a536a2a4-c90f-402b-ef27-e66d47512150"
   },
   "outputs": [
    {
     "name": "stdout",
     "output_type": "stream",
     "text": [
      "[[0.491 0.251 0.258]]\n",
      "0.49062052\n",
      "타겟: 쭈꾸미 / 품종을 알수없습니다.\n"
     ]
    }
   ],
   "source": [
    "print(yp)\n",
    "print(np.max(yp))\n",
    "print('타겟: 쭈꾸미 /', display_ext(yp))    # 2차원 텐서 전달    "
   ]
  },
  {
   "cell_type": "code",
   "execution_count": null,
   "metadata": {
    "id": "Y65QMnOHGv8d"
   },
   "outputs": [],
   "source": []
  }
 ],
 "metadata": {
  "accelerator": "GPU",
  "colab": {
   "collapsed_sections": [],
   "name": "Fish.ipynb",
   "provenance": []
  },
  "gpuClass": "standard",
  "kernelspec": {
   "display_name": "ai",
   "language": "python",
   "name": "ai"
  },
  "language_info": {
   "codemirror_mode": {
    "name": "ipython",
    "version": 3
   },
   "file_extension": ".py",
   "mimetype": "text/x-python",
   "name": "python",
   "nbconvert_exporter": "python",
   "pygments_lexer": "ipython3",
   "version": "3.9.16"
  }
 },
 "nbformat": 4,
 "nbformat_minor": 1
}
