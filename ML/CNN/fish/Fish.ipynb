{
 "cells": [
  {
   "attachments": {},
   "cell_type": "markdown",
   "metadata": {
    "id": "heSOUwlunVal"
   },
   "source": [
    "### CNN 기법을 이용한 물고기 품종 인식"
   ]
  },
  {
   "cell_type": "code",
   "execution_count": 1,
   "metadata": {
    "colab": {
     "base_uri": "https://localhost:8080/"
    },
    "executionInfo": {
     "elapsed": 20359,
     "status": "ok",
     "timestamp": 1661580930479,
     "user": {
      "displayName": "강사엄기흥",
      "userId": "12410353940363031053"
     },
     "user_tz": -540
    },
    "id": "rn5MEvpSnXq6",
    "outputId": "dba38ee3-6093-4c0d-e6df-e1931d284211"
   },
   "outputs": [],
   "source": [
    "# 글꼴 설치전 런타임 환경 확인\n",
    "# !sudo apt-get install -y fonts-nanum\n",
    "# !sudo fc-cache -fv\n",
    "# !rm ~/.cache/matplotlib -rf\n",
    "\n",
    "# GPU 런타임 환경 설정\n",
    "\n",
    "# 보안 문제로 ipynb 파일 open시마다 실행\n",
    "# from google.colab import drive\n",
    "# drive.mount('/content/drive') # 마운트 이름은 자유롭게 지정 가능"
   ]
  },
  {
   "cell_type": "code",
   "execution_count": 2,
   "metadata": {
    "colab": {
     "base_uri": "https://localhost:8080/",
     "height": 35
    },
    "executionInfo": {
     "elapsed": 3277,
     "status": "ok",
     "timestamp": 1661580984356,
     "user": {
      "displayName": "강사엄기흥",
      "userId": "12410353940363031053"
     },
     "user_tz": -540
    },
    "id": "QaoDxzj3nVap",
    "outputId": "e0fc4eb5-05da-4922-836f-30a8c912b86c"
   },
   "outputs": [
    {
     "data": {
      "application/javascript": "IPython.notebook.set_autosave_interval(0)"
     },
     "metadata": {},
     "output_type": "display_data"
    },
    {
     "name": "stdout",
     "output_type": "stream",
     "text": [
      "Autosave disabled\n"
     ]
    }
   ],
   "source": [
    "%autosave 0\n",
    "import warnings\n",
    "warnings.filterwarnings(action='ignore')\n",
    "\n",
    "import os\n",
    "import time\n",
    "import random\n",
    "\n",
    "import numpy as np\n",
    "import pandas as pd\n",
    "import seaborn as sb\n",
    "import tensorflow as tf\n",
    "\n",
    "from tensorflow.keras.models import Sequential  # class\n",
    "from tensorflow.keras.models import load_model  # model 사용\n",
    "from tensorflow.keras.layers import Dense       # 전결합\n",
    "from tensorflow.keras.layers import Dropout     # 특정 node를 사용안함.\n",
    "from tensorflow.keras.layers import Conv2D\n",
    "from tensorflow.keras.layers import MaxPooling2D\n",
    "from tensorflow.keras.layers import Flatten\n",
    "\n",
    "from tensorflow.keras.callbacks import EarlyStopping   # 학습 자동 중지\n",
    "from tensorflow.keras.callbacks import ModelCheckpoint # 우수한 학습 모델 파일 저장\n",
    "from tensorflow.keras import regularizers \n",
    "from tensorflow.keras.utils import to_categorical   # one-hot 엔코딩\n",
    "\n",
    "from tensorflow.keras.preprocessing.image import ImageDataGenerator\n",
    "\n",
    "from tensorflow.keras.datasets import mnist\n",
    "\n",
    "from sklearn.preprocessing import LabelEncoder\n",
    "from sklearn.model_selection import train_test_split # 학습셋과 테스트셋의 분리 지원\n",
    "from sklearn.model_selection import StratifiedKFold  # K겹 교차 검증\n",
    "\n",
    "import matplotlib.pyplot as plt\n",
    "from matplotlib import font_manager, rc\n",
    "\n",
    "import platform \n",
    "\n",
    "if (platform.system() == 'Windows'):  # Windows, Linux, Darwin\n",
    "    rc('font', family=font_manager.FontProperties(fname=\"C:/Windows/Fonts/malgun.ttf\").get_name())\n",
    "    path = '.' # Local\n",
    "else:    \n",
    "    plt.rc('font', family='NanumBarunGothic')  # Ubuntu 18.04 기준 한글 처리\n",
    "    path = '/content/drive/My Drive/kd_ml/cnn/fish' # Colab\n",
    "\n",
    "os.chdir(path) # 기본 경로 설정\n",
    "\n",
    "plt.rcParams[\"font.size\"] = 12         # 글자 크기\n",
    "# plt.rcParams[\"figure.figsize\"] = (10, 4) # 10:4의 그래프 비율\n",
    "plt.rcParams['axes.unicode_minus'] = False  # minus 부호는 unicode 적용시 한글이 깨짐으로 설정\n",
    "\n",
    "%matplotlib inline  "
   ]
  },
  {
   "cell_type": "code",
   "execution_count": 46,
   "metadata": {
    "colab": {
     "base_uri": "https://localhost:8080/"
    },
    "executionInfo": {
     "elapsed": 384,
     "status": "ok",
     "timestamp": 1661582764348,
     "user": {
      "displayName": "강사엄기흥",
      "userId": "12410353940363031053"
     },
     "user_tz": -540
    },
    "id": "9PB1N5LSnVar",
    "outputId": "e1a0e3ff-0930-41a7-d46c-6c777ecbffdd",
    "scrolled": true
   },
   "outputs": [
    {
     "name": "stdout",
     "output_type": "stream",
     "text": [
      "Found 24 images belonging to 4 classes.\n",
      "Found 12 images belonging to 4 classes.\n"
     ]
    }
   ],
   "source": [
    "width=128\n",
    "height=80\n",
    "\n",
    "# 훈련용 데이터 생성기\n",
    "# rescale=1./255: 실수형태로 정규화, 0~1 사이의 값\n",
    "train_datagen = ImageDataGenerator(rescale=1./255)\n",
    " \n",
    "train_generator = train_datagen.flow_from_directory(\n",
    "        # '/content/drive/My Drive/kd_ml/cnn/fish/train', # 파일이 있는 폴더, Colab은 절대 경로 명시해야 인식가능 \n",
    "        './train', # 파일이 있는 폴더, Local은 상대 경로 명시\n",
    "        target_size=(height, width), # 훈련데이터 크기\n",
    "        batch_size=1,                # 이미지 1건씩 처리\n",
    "        class_mode='categorical')    # 다중분류\n",
    "\n",
    "# 검증용 데이터 생성기\n",
    "vali_datagen = ImageDataGenerator(rescale=1./255)\n",
    " \n",
    "vali_generator = vali_datagen.flow_from_directory(\n",
    "        # '/content/drive/My Drive/kd_ml/cnn/fish/validation',\n",
    "        './validation', # 파일이 있는 폴더, Local은 상대 경로 명시\n",
    "        target_size=(height, width),    \n",
    "        batch_size=1,\n",
    "        class_mode='categorical')\n",
    "# 3 classes: ./train/circle, ./train/rectangle, ./train/triangle"
   ]
  },
  {
   "cell_type": "code",
   "execution_count": 47,
   "metadata": {
    "colab": {
     "base_uri": "https://localhost:8080/"
    },
    "executionInfo": {
     "elapsed": 16111,
     "status": "ok",
     "timestamp": 1661582785472,
     "user": {
      "displayName": "강사엄기흥",
      "userId": "12410353940363031053"
     },
     "user_tz": -540
    },
    "id": "Y-0JjyF-nVar",
    "outputId": "3b3f16ea-ec1f-4fa5-b6be-270047f1888c"
   },
   "outputs": [
    {
     "name": "stdout",
     "output_type": "stream",
     "text": [
      "Model: \"sequential_2\"\n",
      "_________________________________________________________________\n",
      " Layer (type)                Output Shape              Param #   \n",
      "=================================================================\n",
      " conv2d_4 (Conv2D)           (None, 80, 128, 32)       896       \n",
      "                                                                 \n",
      " conv2d_5 (Conv2D)           (None, 80, 128, 32)       9248      \n",
      "                                                                 \n",
      " max_pooling2d_2 (MaxPooling  (None, 40, 64, 32)       0         \n",
      " 2D)                                                             \n",
      "                                                                 \n",
      " flatten_2 (Flatten)         (None, 81920)             0         \n",
      "                                                                 \n",
      " dense_4 (Dense)             (None, 30)                2457630   \n",
      "                                                                 \n",
      " dense_5 (Dense)             (None, 4)                 124       \n",
      "                                                                 \n",
      "=================================================================\n",
      "Total params: 2,467,898\n",
      "Trainable params: 2,467,898\n",
      "Non-trainable params: 0\n",
      "_________________________________________________________________\n",
      "Epoch 1/50\n",
      "24/24 [==============================] - ETA: 0s - loss: 4.4868 - accuracy: 0.2917\n",
      "Epoch 1: val_accuracy improved from -inf to 0.50000, saving model to .\\Fish.h5\n",
      "24/24 [==============================] - 1s 40ms/step - loss: 4.4868 - accuracy: 0.2917 - val_loss: 1.3776 - val_accuracy: 0.5000\n",
      "Epoch 2/50\n",
      "23/24 [===========================>..] - ETA: 0s - loss: 1.3659 - accuracy: 0.3478\n",
      "Epoch 2: val_accuracy did not improve from 0.50000\n",
      "24/24 [==============================] - 1s 31ms/step - loss: 1.3653 - accuracy: 0.3333 - val_loss: 1.3225 - val_accuracy: 0.4167\n",
      "Epoch 3/50\n",
      "22/24 [==========================>...] - ETA: 0s - loss: 1.2718 - accuracy: 0.4091\n",
      "Epoch 3: val_accuracy did not improve from 0.50000\n",
      "24/24 [==============================] - 1s 30ms/step - loss: 1.2320 - accuracy: 0.4167 - val_loss: 1.6123 - val_accuracy: 0.3333\n",
      "Epoch 4/50\n",
      "22/24 [==========================>...] - ETA: 0s - loss: 1.1997 - accuracy: 0.6364\n",
      "Epoch 4: val_accuracy improved from 0.50000 to 0.58333, saving model to .\\Fish.h5\n",
      "24/24 [==============================] - 1s 33ms/step - loss: 1.1914 - accuracy: 0.6667 - val_loss: 0.9611 - val_accuracy: 0.5833\n",
      "Epoch 5/50\n",
      "24/24 [==============================] - ETA: 0s - loss: 0.7555 - accuracy: 0.7500\n",
      "Epoch 5: val_accuracy did not improve from 0.58333\n",
      "24/24 [==============================] - 1s 31ms/step - loss: 0.7555 - accuracy: 0.7500 - val_loss: 1.2941 - val_accuracy: 0.5833\n",
      "Epoch 6/50\n",
      "23/24 [===========================>..] - ETA: 0s - loss: 0.4162 - accuracy: 0.8696\n",
      "Epoch 6: val_accuracy improved from 0.58333 to 0.75000, saving model to .\\Fish.h5\n",
      "24/24 [==============================] - 1s 34ms/step - loss: 0.4003 - accuracy: 0.8750 - val_loss: 0.6832 - val_accuracy: 0.7500\n",
      "Epoch 7/50\n",
      "23/24 [===========================>..] - ETA: 0s - loss: 0.0372 - accuracy: 1.0000\n",
      "Epoch 7: val_accuracy improved from 0.75000 to 0.91667, saving model to .\\Fish.h5\n",
      "24/24 [==============================] - 1s 35ms/step - loss: 0.0357 - accuracy: 1.0000 - val_loss: 0.6208 - val_accuracy: 0.9167\n",
      "Epoch 8/50\n",
      "23/24 [===========================>..] - ETA: 0s - loss: 0.0828 - accuracy: 0.9565\n",
      "Epoch 8: val_accuracy did not improve from 0.91667\n",
      "24/24 [==============================] - 1s 35ms/step - loss: 0.0796 - accuracy: 0.9583 - val_loss: 0.1922 - val_accuracy: 0.9167\n",
      "Epoch 9/50\n",
      "24/24 [==============================] - ETA: 0s - loss: 0.0218 - accuracy: 1.0000\n",
      "Epoch 9: val_accuracy did not improve from 0.91667\n",
      "24/24 [==============================] - 1s 32ms/step - loss: 0.0218 - accuracy: 1.0000 - val_loss: 0.2663 - val_accuracy: 0.9167\n",
      "Epoch 10/50\n",
      "24/24 [==============================] - ETA: 0s - loss: 0.0124 - accuracy: 1.0000\n",
      "Epoch 10: val_accuracy improved from 0.91667 to 1.00000, saving model to .\\Fish.h5\n",
      "24/24 [==============================] - 1s 38ms/step - loss: 0.0124 - accuracy: 1.0000 - val_loss: 0.1509 - val_accuracy: 1.0000\n",
      "Epoch 11/50\n",
      "23/24 [===========================>..] - ETA: 0s - loss: 0.0018 - accuracy: 1.0000\n",
      "Epoch 11: val_accuracy did not improve from 1.00000\n",
      "24/24 [==============================] - 1s 34ms/step - loss: 0.0018 - accuracy: 1.0000 - val_loss: 0.1073 - val_accuracy: 1.0000\n",
      "Epoch 12/50\n",
      "23/24 [===========================>..] - ETA: 0s - loss: 7.9479e-04 - accuracy: 1.0000\n",
      "Epoch 12: val_accuracy did not improve from 1.00000\n",
      "24/24 [==============================] - 1s 32ms/step - loss: 7.6181e-04 - accuracy: 1.0000 - val_loss: 0.0842 - val_accuracy: 1.0000\n",
      "Epoch 13/50\n",
      "23/24 [===========================>..] - ETA: 0s - loss: 4.2635e-04 - accuracy: 1.0000\n",
      "Epoch 13: val_accuracy did not improve from 1.00000\n",
      "24/24 [==============================] - 1s 33ms/step - loss: 4.0972e-04 - accuracy: 1.0000 - val_loss: 0.0795 - val_accuracy: 1.0000\n",
      "Epoch 14/50\n",
      "23/24 [===========================>..] - ETA: 0s - loss: 2.6793e-04 - accuracy: 1.0000\n",
      "Epoch 14: val_accuracy did not improve from 1.00000\n",
      "24/24 [==============================] - 1s 35ms/step - loss: 2.6642e-04 - accuracy: 1.0000 - val_loss: 0.0944 - val_accuracy: 1.0000\n",
      "Epoch 15/50\n",
      "22/24 [==========================>...] - ETA: 0s - loss: 1.6007e-04 - accuracy: 1.0000\n",
      "Epoch 15: val_accuracy did not improve from 1.00000\n",
      "24/24 [==============================] - 1s 31ms/step - loss: 1.5526e-04 - accuracy: 1.0000 - val_loss: 0.1127 - val_accuracy: 1.0000\n",
      "Epoch 16/50\n",
      "24/24 [==============================] - ETA: 0s - loss: 1.1809e-04 - accuracy: 1.0000\n",
      "Epoch 16: val_accuracy did not improve from 1.00000\n",
      "24/24 [==============================] - 1s 36ms/step - loss: 1.1809e-04 - accuracy: 1.0000 - val_loss: 0.1222 - val_accuracy: 1.0000\n",
      "Epoch 17/50\n",
      "24/24 [==============================] - ETA: 0s - loss: 7.3724e-05 - accuracy: 1.0000\n",
      "Epoch 17: val_accuracy did not improve from 1.00000\n",
      "24/24 [==============================] - 1s 30ms/step - loss: 7.3724e-05 - accuracy: 1.0000 - val_loss: 0.1267 - val_accuracy: 1.0000\n",
      "Epoch 18/50\n",
      "24/24 [==============================] - ETA: 0s - loss: 5.4407e-05 - accuracy: 1.0000\n",
      "Epoch 18: val_accuracy did not improve from 1.00000\n",
      "24/24 [==============================] - 1s 31ms/step - loss: 5.4407e-05 - accuracy: 1.0000 - val_loss: 0.1525 - val_accuracy: 0.9167\n",
      "Epoch 19/50\n",
      "23/24 [===========================>..] - ETA: 0s - loss: 3.8328e-05 - accuracy: 1.0000\n",
      "Epoch 19: val_accuracy did not improve from 1.00000\n",
      "24/24 [==============================] - 1s 31ms/step - loss: 3.6979e-05 - accuracy: 1.0000 - val_loss: 0.1340 - val_accuracy: 1.0000\n",
      "Epoch 20/50\n",
      "24/24 [==============================] - ETA: 0s - loss: 2.6556e-05 - accuracy: 1.0000\n",
      "Epoch 20: val_accuracy did not improve from 1.00000\n",
      "24/24 [==============================] - 1s 31ms/step - loss: 2.6556e-05 - accuracy: 1.0000 - val_loss: 0.1078 - val_accuracy: 1.0000\n",
      "Epoch 21/50\n",
      "24/24 [==============================] - ETA: 0s - loss: 2.1168e-05 - accuracy: 1.0000\n",
      "Epoch 21: val_accuracy did not improve from 1.00000\n",
      "24/24 [==============================] - 1s 30ms/step - loss: 2.1168e-05 - accuracy: 1.0000 - val_loss: 0.1164 - val_accuracy: 1.0000\n",
      "Epoch 22/50\n",
      "23/24 [===========================>..] - ETA: 0s - loss: 1.6564e-05 - accuracy: 1.0000\n",
      "Epoch 22: val_accuracy did not improve from 1.00000\n",
      "24/24 [==============================] - 1s 31ms/step - loss: 1.5894e-05 - accuracy: 1.0000 - val_loss: 0.1163 - val_accuracy: 1.0000\n",
      "Epoch 23/50\n",
      "22/24 [==========================>...] - ETA: 0s - loss: 8.6748e-06 - accuracy: 1.0000\n",
      "Epoch 23: val_accuracy did not improve from 1.00000\n",
      "24/24 [==============================] - 1s 31ms/step - loss: 1.2511e-05 - accuracy: 1.0000 - val_loss: 0.1202 - val_accuracy: 1.0000\n",
      "Epoch 24/50\n",
      "24/24 [==============================] - ETA: 0s - loss: 1.0470e-05 - accuracy: 1.0000\n",
      "Epoch 24: val_accuracy did not improve from 1.00000\n",
      "24/24 [==============================] - 1s 31ms/step - loss: 1.0470e-05 - accuracy: 1.0000 - val_loss: 0.1180 - val_accuracy: 1.0000\n",
      "Epoch 25/50\n",
      "24/24 [==============================] - ETA: 0s - loss: 8.9851e-06 - accuracy: 1.0000\n",
      "Epoch 25: val_accuracy did not improve from 1.00000\n",
      "24/24 [==============================] - 1s 30ms/step - loss: 8.9851e-06 - accuracy: 1.0000 - val_loss: 0.1164 - val_accuracy: 1.0000\n",
      "Epoch 26/50\n",
      "23/24 [===========================>..] - ETA: 0s - loss: 7.7380e-06 - accuracy: 1.0000\n",
      "Epoch 26: val_accuracy did not improve from 1.00000\n",
      "24/24 [==============================] - 1s 31ms/step - loss: 7.6441e-06 - accuracy: 1.0000 - val_loss: 0.1020 - val_accuracy: 1.0000\n",
      "Epoch 27/50\n",
      "24/24 [==============================] - ETA: 0s - loss: 6.5564e-06 - accuracy: 1.0000\n",
      "Epoch 27: val_accuracy did not improve from 1.00000\n",
      "24/24 [==============================] - 1s 33ms/step - loss: 6.5564e-06 - accuracy: 1.0000 - val_loss: 0.1111 - val_accuracy: 1.0000\n",
      "Epoch 28/50\n",
      "22/24 [==========================>...] - ETA: 0s - loss: 6.3071e-06 - accuracy: 1.0000\n",
      "Epoch 28: val_accuracy did not improve from 1.00000\n",
      "24/24 [==============================] - 1s 33ms/step - loss: 5.7816e-06 - accuracy: 1.0000 - val_loss: 0.1027 - val_accuracy: 1.0000\n",
      "Epoch 29/50\n",
      "22/24 [==========================>...] - ETA: 0s - loss: 5.1693e-06 - accuracy: 1.0000\n",
      "Epoch 29: val_accuracy did not improve from 1.00000\n",
      "24/24 [==============================] - 1s 31ms/step - loss: 4.7584e-06 - accuracy: 1.0000 - val_loss: 0.0982 - val_accuracy: 1.0000\n",
      "Epoch 30/50\n",
      "23/24 [===========================>..] - ETA: 0s - loss: 3.8872e-06 - accuracy: 1.0000\n",
      "Epoch 30: val_accuracy did not improve from 1.00000\n",
      "24/24 [==============================] - 1s 31ms/step - loss: 4.1723e-06 - accuracy: 1.0000 - val_loss: 0.0965 - val_accuracy: 1.0000\n",
      "Epoch 31/50\n",
      "23/24 [===========================>..] - ETA: 0s - loss: 3.9753e-06 - accuracy: 1.0000\n",
      "Epoch 31: val_accuracy did not improve from 1.00000\n",
      "24/24 [==============================] - 1s 29ms/step - loss: 3.8345e-06 - accuracy: 1.0000 - val_loss: 0.0915 - val_accuracy: 1.0000\n",
      "Epoch 32/50\n",
      "24/24 [==============================] - ETA: 0s - loss: 3.4223e-06 - accuracy: 1.0000\n",
      "Epoch 32: val_accuracy did not improve from 1.00000\n",
      "24/24 [==============================] - 1s 32ms/step - loss: 3.4223e-06 - accuracy: 1.0000 - val_loss: 0.0939 - val_accuracy: 1.0000\n",
      "Epoch 33/50\n",
      "23/24 [===========================>..] - ETA: 0s - loss: 3.1979e-06 - accuracy: 1.0000\n",
      "Epoch 33: val_accuracy did not improve from 1.00000\n",
      "24/24 [==============================] - 1s 32ms/step - loss: 3.0945e-06 - accuracy: 1.0000 - val_loss: 0.0873 - val_accuracy: 1.0000\n",
      "Epoch 34/50\n",
      "24/24 [==============================] - ETA: 0s - loss: 2.9554e-06 - accuracy: 1.0000\n",
      "Epoch 34: val_accuracy did not improve from 1.00000\n",
      "24/24 [==============================] - 1s 32ms/step - loss: 2.9554e-06 - accuracy: 1.0000 - val_loss: 0.0942 - val_accuracy: 1.0000\n",
      "Epoch 35/50\n",
      "24/24 [==============================] - ETA: 0s - loss: 2.5630e-06 - accuracy: 1.0000\n",
      "Epoch 35: val_accuracy did not improve from 1.00000\n",
      "24/24 [==============================] - 1s 30ms/step - loss: 2.5630e-06 - accuracy: 1.0000 - val_loss: 0.0870 - val_accuracy: 1.0000\n",
      "Epoch 36/50\n",
      "22/24 [==========================>...] - ETA: 0s - loss: 2.5630e-06 - accuracy: 1.0000\n",
      "Epoch 36: val_accuracy did not improve from 1.00000\n",
      "24/24 [==============================] - 1s 32ms/step - loss: 2.4140e-06 - accuracy: 1.0000 - val_loss: 0.0861 - val_accuracy: 1.0000\n",
      "Epoch 37/50\n",
      "23/24 [===========================>..] - ETA: 0s - loss: 2.3064e-06 - accuracy: 1.0000\n",
      "Epoch 37: val_accuracy did not improve from 1.00000\n",
      "24/24 [==============================] - 1s 31ms/step - loss: 2.2898e-06 - accuracy: 1.0000 - val_loss: 0.0829 - val_accuracy: 1.0000\n",
      "Epoch 38/50\n",
      "22/24 [==========================>...] - ETA: 0s - loss: 2.2054e-06 - accuracy: 1.0000\n",
      "Epoch 38: val_accuracy did not improve from 1.00000\n",
      "24/24 [==============================] - 1s 32ms/step - loss: 2.1110e-06 - accuracy: 1.0000 - val_loss: 0.0835 - val_accuracy: 1.0000\n",
      "Epoch 39/50\n",
      "24/24 [==============================] - ETA: 0s - loss: 1.9769e-06 - accuracy: 1.0000\n",
      "Epoch 39: val_accuracy did not improve from 1.00000\n",
      "24/24 [==============================] - 1s 29ms/step - loss: 1.9769e-06 - accuracy: 1.0000 - val_loss: 0.0876 - val_accuracy: 1.0000\n",
      "Epoch 40/50\n",
      "24/24 [==============================] - ETA: 0s - loss: 1.8279e-06 - accuracy: 1.0000\n",
      "Epoch 40: val_accuracy did not improve from 1.00000\n",
      "24/24 [==============================] - 1s 32ms/step - loss: 1.8279e-06 - accuracy: 1.0000 - val_loss: 0.0922 - val_accuracy: 1.0000\n",
      "Epoch 41/50\n",
      "24/24 [==============================] - ETA: 0s - loss: 1.7832e-06 - accuracy: 1.0000\n",
      "Epoch 41: val_accuracy did not improve from 1.00000\n",
      "24/24 [==============================] - 1s 30ms/step - loss: 1.7832e-06 - accuracy: 1.0000 - val_loss: 0.0885 - val_accuracy: 1.0000\n",
      "Epoch 42/50\n",
      "23/24 [===========================>..] - ETA: 0s - loss: 1.7156e-06 - accuracy: 1.0000\n",
      "Epoch 42: val_accuracy did not improve from 1.00000\n",
      "24/24 [==============================] - 1s 31ms/step - loss: 1.6491e-06 - accuracy: 1.0000 - val_loss: 0.0872 - val_accuracy: 1.0000\n",
      "Epoch 43/50\n",
      "23/24 [===========================>..] - ETA: 0s - loss: 1.5808e-06 - accuracy: 1.0000\n",
      "Epoch 43: val_accuracy did not improve from 1.00000\n",
      "24/24 [==============================] - 1s 30ms/step - loss: 1.5398e-06 - accuracy: 1.0000 - val_loss: 0.0843 - val_accuracy: 1.0000\n",
      "Epoch 44/50\n",
      "23/24 [===========================>..] - ETA: 0s - loss: 1.0936e-06 - accuracy: 1.0000\n",
      "Epoch 44: val_accuracy did not improve from 1.00000\n",
      "24/24 [==============================] - 1s 30ms/step - loss: 1.4702e-06 - accuracy: 1.0000 - val_loss: 0.0877 - val_accuracy: 1.0000\n",
      "Epoch 45/50\n",
      "23/24 [===========================>..] - ETA: 0s - loss: 1.4668e-06 - accuracy: 1.0000\n",
      "Epoch 45: val_accuracy did not improve from 1.00000\n",
      "24/24 [==============================] - 1s 33ms/step - loss: 1.4206e-06 - accuracy: 1.0000 - val_loss: 0.0802 - val_accuracy: 1.0000\n",
      "Epoch 46/50\n",
      "24/24 [==============================] - ETA: 0s - loss: 1.3361e-06 - accuracy: 1.0000\n",
      "Epoch 46: val_accuracy did not improve from 1.00000\n",
      "24/24 [==============================] - 1s 33ms/step - loss: 1.3361e-06 - accuracy: 1.0000 - val_loss: 0.0887 - val_accuracy: 1.0000\n",
      "Epoch 47/50\n",
      "23/24 [===========================>..] - ETA: 0s - loss: 1.3217e-06 - accuracy: 1.0000\n",
      "Epoch 47: val_accuracy did not improve from 1.00000\n",
      "24/24 [==============================] - 1s 33ms/step - loss: 1.2765e-06 - accuracy: 1.0000 - val_loss: 0.0765 - val_accuracy: 1.0000\n",
      "Epoch 48/50\n",
      "23/24 [===========================>..] - ETA: 0s - loss: 1.2387e-06 - accuracy: 1.0000\n",
      "Epoch 48: val_accuracy did not improve from 1.00000\n",
      "24/24 [==============================] - 1s 30ms/step - loss: 1.1921e-06 - accuracy: 1.0000 - val_loss: 0.0878 - val_accuracy: 1.0000\n",
      "Epoch 49/50\n",
      "22/24 [==========================>...] - ETA: 0s - loss: 1.2029e-06 - accuracy: 1.0000\n",
      "Epoch 49: val_accuracy did not improve from 1.00000\n",
      "24/24 [==============================] - 1s 30ms/step - loss: 1.1524e-06 - accuracy: 1.0000 - val_loss: 0.0825 - val_accuracy: 1.0000\n",
      "Epoch 50/50\n",
      "23/24 [===========================>..] - ETA: 0s - loss: 1.1765e-06 - accuracy: 1.0000\n",
      "Epoch 50: val_accuracy did not improve from 1.00000\n",
      "24/24 [==============================] - 1s 29ms/step - loss: 1.1275e-06 - accuracy: 1.0000 - val_loss: 0.0775 - val_accuracy: 1.0000\n",
      "Runtime: 39.90 초\n"
     ]
    }
   ],
   "source": [
    "SEED = 0\n",
    "os.environ['PYTHONHASHSEED'] = str(SEED)\n",
    "os.environ['TF_DETERMINISTIC_OPS'] = '1'\n",
    "\n",
    "tf.random.set_seed(SEED) # Global seed\n",
    "np.random.seed(SEED)\n",
    "random.seed(SEED)\n",
    "\n",
    "model = Sequential()\n",
    "model.add(Conv2D(32, kernel_size = (3, 3), padding='same',\n",
    "                 input_shape = (height, width,  3), activation='relu'))\n",
    "model.add(Conv2D(32, (3, 3), padding='same', activation='relu'))\n",
    "# 4개중에 최대값 1개만 다음 레이어로 전달, 슬라이딩이 작동되어 파라미터수가 50%로 감소함 \n",
    "model.add(MaxPooling2D(pool_size=(2, 2))) \n",
    "\n",
    "# model.add(Conv2D(16, (3, 3), padding='same', activation='relu'))\n",
    "# model.add(Conv2D(16, (3, 3), padding='same', activation='relu'))\n",
    "# model.add(MaxPooling2D(pool_size=(2, 2))) # 25%만 사용\n",
    "# model.add(Dropout(0.25)) # node 25% 사용하지 않음.\n",
    "\n",
    "model.add(Flatten()) # 3차원 텐서의 형태를 1차원 열방향으로 변경\n",
    "model.add(Dense(30, activation='relu'))\n",
    "# model.add(Dropout(0.25)) # node 25% 사용하지 않음.\n",
    "\n",
    "model.add(Dense(4, activation='softmax'))\n",
    "model.compile(optimizer='adam', loss='categorical_crossentropy', \n",
    "                                metrics=['accuracy'])\n",
    "model.summary()\n",
    "\n",
    "cp = ModelCheckpoint(filepath='./Fish.h5', monitor='val_accuracy',\n",
    "                               verbose=1, save_best_only=True)\n",
    "es = EarlyStopping(monitor='loss', patience=3, restore_best_weights=True)\n",
    "\n",
    "start = time.time()\n",
    "\n",
    "hist = model.fit(\n",
    "    train_generator,\n",
    "    epochs=50,\n",
    "    validation_data = vali_generator,\n",
    "    callbacks=[cp, es])\n",
    "\n",
    "end = time.time()\n",
    "print('Runtime: {0:.2f} 초'.format(end-start))\n",
    "\n",
    "# Total params: 118,282 Colab gpu: 42 ~ 83s, i5 2320: 58\n",
    "\n",
    "\n",
    "# CPU: \n",
    "# Colab GPU: 26 초"
   ]
  },
  {
   "cell_type": "code",
   "execution_count": 48,
   "metadata": {
    "colab": {
     "base_uri": "https://localhost:8080/",
     "height": 338
    },
    "executionInfo": {
     "elapsed": 13251,
     "status": "ok",
     "timestamp": 1661582826448,
     "user": {
      "displayName": "강사엄기흥",
      "userId": "12410353940363031053"
     },
     "user_tz": -540
    },
    "id": "RRf1d65YnVas",
    "outputId": "8a574508-e547-4eb1-d7af-2e280148fa52"
   },
   "outputs": [
    {
     "data": {
      "image/png": "[encoded data removed]",
      "text/plain": [
       "<Figure size 1000x500 with 2 Axes>"
      ]
     },
     "metadata": {},
     "output_type": "display_data"
    }
   ],
   "source": [
    "import matplotlib.pyplot as plt\n",
    "%matplotlib inline  \n",
    "\n",
    "fig, loss_ax = plt.subplots()\n",
    "# plt.figure(figsize=(6,4)) # ERROR\n",
    "fig.set_size_inches(10, 5)  # 챠트 크기 설정\n",
    "\n",
    "acc_ax = loss_ax.twinx()  # 오른쪽 y 출 설정\n",
    "\n",
    "# 왼쪽 y 축 설정\n",
    "loss_ax.plot(hist.history['loss'], 'y', label='train loss')\n",
    "loss_ax.plot(hist.history['val_loss'], 'r', label='val loss')\n",
    "loss_ax.set_ylim([0.0, 1.1110]) # 값을 반영하여 변경\n",
    "\n",
    "# 오른쪽 y 축 설정\n",
    "acc_ax.plot(hist.history['accuracy'], 'b', label='train accuracy')\n",
    "acc_ax.plot(hist.history['val_accuracy'], 'g', label='val accuracy')\n",
    "acc_ax.set_ylim([0.0, 1.0])\n",
    "\n",
    "# 축 레이블 설정\n",
    "loss_ax.set_xlabel('epoch')  # 학습 횟수\n",
    "loss_ax.set_ylabel('loss')   # 오차\n",
    "acc_ax.set_ylabel('accuracy') # 정확도\n",
    "\n",
    "loss_ax.legend(loc='upper left') # 오차 레이블 위치\n",
    "acc_ax.legend(loc='lower left')  # 정확도 레이블 위치\n",
    "\n",
    "plt.show()"
   ]
  },
  {
   "cell_type": "code",
   "execution_count": 51,
   "metadata": {
    "colab": {
     "base_uri": "https://localhost:8080/"
    },
    "executionInfo": {
     "elapsed": 416,
     "status": "ok",
     "timestamp": 1661582857015,
     "user": {
      "displayName": "강사엄기흥",
      "userId": "12410353940363031053"
     },
     "user_tz": -540
    },
    "id": "hzuxfisSnVat",
    "outputId": "f3dc2a5f-f68f-4cc1-d21a-3dda62990842"
   },
   "outputs": [
    {
     "name": "stdout",
     "output_type": "stream",
     "text": [
      "-- Evaluate --\n",
      "accuracy: 100.00%\n"
     ]
    }
   ],
   "source": [
    "print(\"-- Evaluate --\")\n",
    "scores = model.evaluate_generator(vali_generator, verbose=0)  \n",
    "print(\"%s: %.2f%%\" %(model.metrics_names[1], scores[1]*100))"
   ]
  },
  {
   "cell_type": "code",
   "execution_count": 52,
   "metadata": {
    "colab": {
     "base_uri": "https://localhost:8080/"
    },
    "executionInfo": {
     "elapsed": 443,
     "status": "ok",
     "timestamp": 1661582863648,
     "user": {
      "displayName": "강사엄기흥",
      "userId": "12410353940363031053"
     },
     "user_tz": -540
    },
    "id": "XU2DmrBrnVat",
    "outputId": "6a040c00-19dd-4de2-a446-4581d560a52e"
   },
   "outputs": [
    {
     "name": "stdout",
     "output_type": "stream",
     "text": [
      "-- Predict --\n",
      "{'kwanga': 0, 'samchi': 1, 'shrimp': 2, 'wooruk': 3}\n",
      "<class 'numpy.ndarray'>\n",
      "(12, 4)\n",
      "[[0.000 0.000 1.000 0.000]\n",
      " [0.000 0.744 0.012 0.244]\n",
      " [0.638 0.001 0.000 0.361]\n",
      " [1.000 0.000 0.000 0.000]\n",
      " [0.000 0.831 0.086 0.083]\n",
      " [0.000 0.000 1.000 0.000]\n",
      " [1.000 0.000 0.000 0.000]\n",
      " [0.000 0.000 0.000 1.000]\n",
      " [0.000 0.000 0.000 1.000]\n",
      " [0.000 0.000 0.000 1.000]\n",
      " [0.000 1.000 0.000 0.000]\n",
      " [0.000 0.000 1.000 0.000]]\n"
     ]
    }
   ],
   "source": [
    "print(\"-- Predict --\")\n",
    "output = model.predict_generator(vali_generator)\n",
    "# 실수를 소수점 3자리까지 출력 설정\n",
    "np.set_printoptions(formatter={'float': lambda x: \"{0:0.3f}\".format(x)})\n",
    "\n",
    "# 그룹의 index {'circle': 0, 'rectangle': 1, 'triangle': 2}, 알파벳 순\n",
    "print(vali_generator.class_indices) # 분류에 할당된 index\n",
    "print(type(output))\n",
    "print(output.shape) # 검증 이미지가 70개, 7개의 분류임으로 출력은 70행 7열\n",
    "print(output)"
   ]
  },
  {
   "cell_type": "code",
   "execution_count": 53,
   "metadata": {
    "id": "_UJfeDjsnVau"
   },
   "outputs": [],
   "source": [
    "# model.save('/content/drive/My Drive/kd_ml/cnn/fish/Fish.h5')"
   ]
  },
  {
   "cell_type": "code",
   "execution_count": 54,
   "metadata": {
    "executionInfo": {
     "elapsed": 720,
     "status": "ok",
     "timestamp": 1661582906094,
     "user": {
      "displayName": "강사엄기흥",
      "userId": "12410353940363031053"
     },
     "user_tz": -540
    },
    "id": "G0DJMolPnVau"
   },
   "outputs": [],
   "source": [
    "# model = load_model('/content/drive/My Drive/kd_ml/cnn/fish/Fish.h5')\n",
    "model = load_model('./Fish.h5')"
   ]
  },
  {
   "cell_type": "code",
   "execution_count": 74,
   "metadata": {
    "executionInfo": {
     "elapsed": 315,
     "status": "ok",
     "timestamp": 1661583019739,
     "user": {
      "displayName": "강사엄기흥",
      "userId": "12410353940363031053"
     },
     "user_tz": -540
    },
    "id": "I_6E0LICnVau"
   },
   "outputs": [],
   "source": [
    "# {'kwanga': 0, 'samchi': 1, 'wooruk': 2}\n",
    "# def display(data):\n",
    "#     # print(data)\n",
    "#     # print(type(data))\n",
    "#     sw= np.argmax(data)\n",
    "#     # print('sw:', sw)\n",
    "\n",
    "#     if sw == 0:\n",
    "#         sw = '광어'\n",
    "#     elif sw == 1:\n",
    "#         sw = '삼치'\n",
    "#     elif sw == 2:\n",
    "#         sw = '우럭'\n",
    "        \n",
    "#     return sw    \n",
    "# {'kwanga': 0, 'samchi': 1, 'wooruk': 2}\n",
    "def display(data):\n",
    "  if np.max(data) >= 0.5: # 확신이 있는 결과만 처리\n",
    "    sw= np.argmax(data)\n",
    "\n",
    "    if sw == 0:\n",
    "        sw = '광어'\n",
    "    elif sw == 1:\n",
    "        sw = '삼치'\n",
    "    elif sw == 2:\n",
    "        sw = '새우'\n",
    "    elif sw == 3:\n",
    "        sw = '우럭'\n",
    "    \n",
    "  else:\n",
    "    sw = '품종을 알수없습니다.'  \n",
    "        \n",
    "  return sw  "
   ]
  },
  {
   "cell_type": "code",
   "execution_count": 75,
   "metadata": {
    "colab": {
     "base_uri": "https://localhost:8080/"
    },
    "executionInfo": {
     "elapsed": 789,
     "status": "ok",
     "timestamp": 1661583068463,
     "user": {
      "displayName": "강사엄기흥",
      "userId": "12410353940363031053"
     },
     "user_tz": -540
    },
    "id": "Qnacmo2HnVav",
    "outputId": "0110f6c8-d2e5-4075-b83d-691c35d0b11d"
   },
   "outputs": [
    {
     "name": "stdout",
     "output_type": "stream",
     "text": [
      "Found 1 images belonging to 1 classes.\n",
      "[[0.995 0.003 0.001 0.001]]\n",
      "타겟: 광어 / 광어\n"
     ]
    }
   ],
   "source": [
    "# 테스트용 데이터 생성기\n",
    "test_datagen = ImageDataGenerator(rescale=1./255)\n",
    " \n",
    "test_generator = test_datagen.flow_from_directory(\n",
    "        # '/content/drive/My Drive/kd_ml/cnn/fish/test1',\n",
    "        './test1', # 파일이 있는 폴더, Local은 상대 경로 명시\n",
    "        target_size=(height, width),    \n",
    "        batch_size=1,\n",
    "        class_mode='categorical')\n",
    "yp = model.predict_generator(test_generator)\n",
    "print(yp)\n",
    "print('타겟: 광어 /', display(yp))    # 2차원 텐서 전달"
   ]
  },
  {
   "cell_type": "code",
   "execution_count": 76,
   "metadata": {
    "colab": {
     "base_uri": "https://localhost:8080/"
    },
    "executionInfo": {
     "elapsed": 1213,
     "status": "ok",
     "timestamp": 1661583099545,
     "user": {
      "displayName": "강사엄기흥",
      "userId": "12410353940363031053"
     },
     "user_tz": -540
    },
    "id": "gKU5_fQbnVav",
    "outputId": "f4c11320-abd3-45c7-82a1-42d392829632"
   },
   "outputs": [
    {
     "name": "stdout",
     "output_type": "stream",
     "text": [
      "Found 1 images belonging to 1 classes.\n",
      "[[0.002 0.797 0.047 0.154]]\n",
      "타겟: 삼치 / 삼치\n"
     ]
    }
   ],
   "source": [
    "# 테스트용 데이터 생성기\n",
    "test_datagen = ImageDataGenerator(rescale=1./255)\n",
    " \n",
    "test_generator = test_datagen.flow_from_directory(\n",
    "        # '/content/drive/My Drive/kd_ml/cnn/fish/test2',\n",
    "        './test2', # 파일이 있는 폴더, Local은 상대 경로 명시\n",
    "        target_size=(height, width),    \n",
    "        batch_size=1,\n",
    "        class_mode='categorical')\n",
    "yp = model.predict_generator(test_generator)\n",
    "print(yp)\n",
    "print('타겟: 삼치 /', display(yp))    # 2차원 텐서 전달"
   ]
  },
  {
   "cell_type": "code",
   "execution_count": 77,
   "metadata": {
    "colab": {
     "base_uri": "https://localhost:8080/"
    },
    "executionInfo": {
     "elapsed": 1072,
     "status": "ok",
     "timestamp": 1661583124490,
     "user": {
      "displayName": "강사엄기흥",
      "userId": "12410353940363031053"
     },
     "user_tz": -540
    },
    "id": "6VRk7jS7nVaw",
    "outputId": "15a8b50a-cc61-4f26-8fd7-d19341db0ef6"
   },
   "outputs": [
    {
     "name": "stdout",
     "output_type": "stream",
     "text": [
      "Found 1 images belonging to 1 classes.\n",
      "[[0.000 0.000 0.000 1.000]]\n",
      "타겟: 우럭 / 우럭\n"
     ]
    }
   ],
   "source": [
    "# 테스트용 데이터 생성기\n",
    "test_datagen = ImageDataGenerator(rescale=1./255)\n",
    " \n",
    "test_generator = test_datagen.flow_from_directory(\n",
    "        # '/content/drive/My Drive/kd_ml/cnn/fish/test3',\n",
    "        './test3', # 파일이 있는 폴더, Local은 상대 경로 명시\n",
    "        target_size=(height, width),    \n",
    "        batch_size=1,\n",
    "        class_mode='categorical')\n",
    "yp = model.predict_generator(test_generator)\n",
    "print(yp)\n",
    "print('타겟: 우럭 /', display(yp))    # 2차원 텐서 전달"
   ]
  },
  {
   "cell_type": "code",
   "execution_count": 78,
   "metadata": {
    "colab": {
     "base_uri": "https://localhost:8080/"
    },
    "executionInfo": {
     "elapsed": 466,
     "status": "ok",
     "timestamp": 1661583354916,
     "user": {
      "displayName": "강사엄기흥",
      "userId": "12410353940363031053"
     },
     "user_tz": -540
    },
    "id": "ngRAZscTnVax",
    "outputId": "bdc41460-887f-4579-8a62-54e7be343507"
   },
   "outputs": [
    {
     "name": "stdout",
     "output_type": "stream",
     "text": [
      "Found 1 images belonging to 1 classes.\n"
     ]
    },
    {
     "name": "stdout",
     "output_type": "stream",
     "text": [
      "[[0.286 0.099 0.453 0.163]]\n",
      "타겟: 쭈꾸미 / 품종을 알수없습니다.\n"
     ]
    }
   ],
   "source": [
    "# 훈련하지 않은 데이터 '쭈꾸미'의 사용\n",
    "# 테스트용 데이터 생성기\n",
    "test_datagen = ImageDataGenerator(rescale=1./255)\n",
    " \n",
    "test_generator = test_datagen.flow_from_directory(\n",
    "        # '/content/drive/My Drive/kd_ml/cnn/fish/test4',\n",
    "        './test4', # 파일이 있는 폴더, Local은 상대 경로 명시\n",
    "        target_size=(width, height),    \n",
    "        batch_size=1,\n",
    "        class_mode='categorical')\n",
    "yp = model.predict_generator(test_generator)\n",
    "print(yp)\n",
    "print('타겟: 쭈꾸미 /', display(yp))    # 2차원 텐서 전달"
   ]
  },
  {
   "cell_type": "code",
   "execution_count": 79,
   "metadata": {},
   "outputs": [
    {
     "name": "stdout",
     "output_type": "stream",
     "text": [
      "Found 1 images belonging to 1 classes.\n",
      "[[0.146 0.221 0.518 0.115]]\n",
      "타겟: 새우 / 새우\n"
     ]
    }
   ],
   "source": [
    "# 훈련하지 않은 데이터 '쭈꾸미'의 사용\n",
    "# 테스트용 데이터 생성기\n",
    "test_datagen = ImageDataGenerator(rescale=1./255)\n",
    " \n",
    "test_generator = test_datagen.flow_from_directory(\n",
    "        # '/content/drive/My Drive/kd_ml/cnn/fish/test4',\n",
    "        './test5', # 파일이 있는 폴더, Local은 상대 경로 명시\n",
    "        target_size=(width, height),    \n",
    "        batch_size=1,\n",
    "        class_mode='categorical')\n",
    "yp = model.predict_generator(test_generator)\n",
    "print(yp)\n",
    "print('타겟: 새우 /', display(yp))    # 2차원 텐서 전달"
   ]
  },
  {
   "cell_type": "code",
   "execution_count": 80,
   "metadata": {
    "executionInfo": {
     "elapsed": 282,
     "status": "ok",
     "timestamp": 1661583684377,
     "user": {
      "displayName": "강사엄기흥",
      "userId": "12410353940363031053"
     },
     "user_tz": -540
    },
    "id": "eF8UCcvFnVax"
   },
   "outputs": [],
   "source": [
    "# {'kwanga': 0, 'samchi': 1, 'wooruk': 2}\n",
    "def display_ext(data):\n",
    "  if np.max(data) >= 0.5: # 확신이 있는 결과만 처리\n",
    "    sw= np.argmax(data)\n",
    "\n",
    "    if sw == 0:\n",
    "        sw = '광어'\n",
    "    elif sw == 1:\n",
    "        sw = '삼치'\n",
    "    elif sw == 2:\n",
    "        sw = '우럭'\n",
    "  else:\n",
    "    sw = '품종을 알수없습니다.'  \n",
    "        \n",
    "  return sw  "
   ]
  },
  {
   "cell_type": "code",
   "execution_count": 81,
   "metadata": {
    "colab": {
     "base_uri": "https://localhost:8080/"
    },
    "executionInfo": {
     "elapsed": 311,
     "status": "ok",
     "timestamp": 1661583688461,
     "user": {
      "displayName": "강사엄기흥",
      "userId": "12410353940363031053"
     },
     "user_tz": -540
    },
    "id": "gGGmnM4yF5J3",
    "outputId": "a536a2a4-c90f-402b-ef27-e66d47512150"
   },
   "outputs": [
    {
     "name": "stdout",
     "output_type": "stream",
     "text": [
      "[[0.146 0.221 0.518 0.115]]\n",
      "0.51766133\n",
      "타겟: 쭈꾸미 / 우럭\n"
     ]
    }
   ],
   "source": [
    "print(yp)\n",
    "print(np.max(yp))\n",
    "print('타겟: 쭈꾸미 /', display_ext(yp))    # 2차원 텐서 전달    "
   ]
  },
  {
   "cell_type": "code",
   "execution_count": null,
   "metadata": {
    "id": "Y65QMnOHGv8d"
   },
   "outputs": [],
   "source": []
  }
 ],
 "metadata": {
  "accelerator": "GPU",
  "colab": {
   "collapsed_sections": [],
   "name": "Fish.ipynb",
   "provenance": []
  },
  "gpuClass": "standard",
  "kernelspec": {
   "display_name": "ai",
   "language": "python",
   "name": "ai"
  },
  "language_info": {
   "codemirror_mode": {
    "name": "ipython",
    "version": 3
   },
   "file_extension": ".py",
   "mimetype": "text/x-python",
   "name": "python",
   "nbconvert_exporter": "python",
   "pygments_lexer": "ipython3",
   "version": "3.9.16"
  }
 },
 "nbformat": 4,
 "nbformat_minor": 1
}
