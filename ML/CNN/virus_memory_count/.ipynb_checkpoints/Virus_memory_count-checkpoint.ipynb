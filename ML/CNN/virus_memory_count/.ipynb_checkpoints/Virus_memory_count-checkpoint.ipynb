{
 "cells": [
  {
   "cell_type": "markdown",
   "metadata": {
    "id": "axUA8GNmdMm7"
   },
   "source": [
    "### 이미지 판별을 통한 수치 예측, 메모리에서 이미지 생성  예) 바이러스의 갯수 판별, CPU or GPU"
   ]
  },
  {
   "cell_type": "code",
   "execution_count": 2,
   "metadata": {
    "id": "QQs7nHhvdMnH"
   },
   "outputs": [],
   "source": [
    "import warnings\n",
    "warnings.filterwarnings(action='ignore')\n",
    "\n",
    "import os\n",
    "import time\n",
    "import cv2\n",
    "import random\n",
    "\n",
    "import numpy as np\n",
    "import pandas as pd\n",
    "import seaborn as sb\n",
    "import tensorflow as tf\n",
    "\n",
    "from tensorflow.keras.models import Sequential  # class\n",
    "from tensorflow.keras.models import load_model  # model 사용\n",
    "from tensorflow.keras.layers import Dense       # 전결합\n",
    "from tensorflow.keras.layers import Dropout     # 특정 node를 사용안함.\n",
    "from tensorflow.keras.layers import Conv2D\n",
    "from tensorflow.keras.layers import MaxPooling2D\n",
    "from tensorflow.keras.layers import Flatten\n",
    "\n",
    "from tensorflow.keras.callbacks import EarlyStopping   # 학습 자동 중지\n",
    "from tensorflow.keras.callbacks import ModelCheckpoint # 우수한 학습 모델 파일 저장\n",
    "from tensorflow.keras import regularizers \n",
    "from tensorflow.keras.utils import to_categorical   # one-hot 엔코딩\n",
    "from tensorflow.keras.optimizers import Adam\n",
    "\n",
    "from tensorflow.keras.datasets import mnist\n",
    "\n",
    "from sklearn.preprocessing import LabelEncoder\n",
    "from sklearn.model_selection import train_test_split # 학습셋과 테스트셋의 분리 지원\n",
    "from sklearn.model_selection import StratifiedKFold  # K겹 교차 검증\n",
    "\n",
    "from PIL import Image\n",
    "\n",
    "import matplotlib.pyplot as plt\n",
    "from matplotlib import font_manager, rc\n",
    "\n",
    "import platform \n",
    "# Windows, Linux, Darwin\n",
    "if (platform.system() == 'Windows'):  \n",
    "    rc('font', family=font_manager.FontProperties(fname=\"C:/Windows/Fonts/malgun.ttf\").get_name())\n",
    "    path = '.' # Local\n",
    "else:    \n",
    "    rc('font', family='NanumBarunGothic')  # Ubuntu 18.04 기준 한글 처리\n",
    "    path = '/content/drive/My Drive/kd_ml/cnn/virus' # Colab\n",
    "\n",
    "os.chdir(path) # 기본 경로 설정\n",
    "\n",
    "plt.rcParams[\"font.size\"] = 12         # 글자 크기\n",
    "plt.rcParams[\"figure.figsize\"] = (3, 2) # 10:4의 그래프 비율\n",
    "plt.rcParams['axes.unicode_minus'] = False  # minus 부호는 unicode 적용시 한글이 깨짐으로 설정\n",
    "\n",
    "%matplotlib inline\n",
    "\n",
    "# ---------------------------------------------------------------------\n",
    "# gpu 사용시 런타임에서 필요한 양만큼의 GPU 메모리를 할당후 자동 증가 처리\n",
    "# OS 메모리도 초기화됨.\n",
    "# ---------------------------------------------------------------------\n",
    "import tensorflow as tf\n",
    "\n",
    "gpus = tf.config.experimental.list_physical_devices('GPU')\n",
    "if gpus:\n",
    "    try:\n",
    "        tf.config.experimental.set_memory_growth(gpus[0], True)\n",
    "    except RuntimeError as e:\n",
    "        # 프로그램 시작시에 메모리 증가가 설정되어야만 합니다\n",
    "        print(e)\n",
    "    \n",
    "# ---------------------------------------------------------------------"
   ]
  },
  {
   "cell_type": "code",
   "execution_count": 3,
   "metadata": {
    "id": "lO8B__dPdMnK"
   },
   "outputs": [],
   "source": [
    "# 이미지 준비가 어려움으로 파이썬에서 가상의 이미지를 생성\n",
    "# 난수를 만들어 난수만큼 픽셀에 값을 표시함.\n",
    "width = 16\n",
    "height = 16\n",
    "\n",
    "def generate_dataset(samples):  # 1500\n",
    "    # 데이터용으로 3차원 이미지가 저장된 4차원 배열로 사용할 list\n",
    "    ds_x = [] # python list\n",
    "    ds_y = [] # 0 ~ 255 구간의 정수, 1차원 정수 저장\n",
    "    \n",
    "    cnt = 0\n",
    "    for it in range(samples):  # 1500: 0 ~ 1499, 1500번 처리\n",
    "        # yellow point의 갯수\n",
    "        num_pt = np.random.randint(0, width * height)  # 256: 0 ~ 255\n",
    "        img = generate_image(num_pt)  # yellow point가 7 이라면\n",
    "\n",
    "        # list에 3차원 이미지 저장\n",
    "        ds_x.append(img)     \n",
    "\n",
    "        # 실제답, 0 ~ 255 구간의 정수, 레이블, class: 7 가정\n",
    "        ds_y.append(num_pt)\n",
    "        \n",
    "    \n",
    "    # ds_x를 배열로 변경, ds_y를 1500행 1열로 변환\n",
    "    # np.array(ds_x): 3차원 이미지가 저장된 list를 4차원 배열 형태로 리턴\n",
    "    # np.array(ds_y).reshape(samples, 1): ds_y 1차원 list를 배열로 바꾼후\n",
    "    #                                1500행 1열 2차원 배열로 변경하여 리턴\n",
    "    return np.array(ds_x), np.array(ds_y).reshape(samples, 1)\n",
    "\n",
    "# 전달된 수만큼 무작위 위치에 1을 지정, 7: 7개의 1일 할당됨.\n",
    "def generate_image(points): # 0 ~ 255, 7이라고 가정\n",
    "    img = np.zeros((width, height))  # 16 x 16의 0으로 채워진 행렬\n",
    "    # 7이하면 7행 2열의 난수 발생, 행과 열로 사용할 난수 생성\n",
    "    # yellow point의 위치는 행과열로 구성되어 있음으로 2차원의 형태여야함.\n",
    "    pts = np.random.random((points, 2)) \n",
    "    \n",
    "    # pts는 2차원 배열이나 for문 때문에 하나의 행씩 추출됨. \n",
    "    # [0.26333527, 0.20043297]\n",
    "    for ipt in pts: \n",
    "        # int(0.26333527 * 16), int(0.20043297 * 16)] = 1\n",
    "        img[int(ipt[0] * width), int(ipt[1] * height)] = 1 # 점, point\n",
    "    \n",
    "    # 2차원 배열을 3차원으로 변형하여 리턴\n",
    "    return img.reshape(width, height, 1) # 16 x 16의 1: 흑백 이미지 생성"
   ]
  },
  {
   "cell_type": "code",
   "execution_count": 4,
   "metadata": {
    "colab": {
     "base_uri": "https://localhost:8080/"
    },
    "executionInfo": {
     "elapsed": 1301,
     "status": "ok",
     "timestamp": 1614479283325,
     "user": {
      "displayName": "강사엄기흥",
      "photoUrl": "",
      "userId": "12410353940363031053"
     },
     "user_tz": -540
    },
    "id": "HXkuNdnTdMnM",
    "outputId": "4a051493-63b6-4279-be5a-f1107d141c02"
   },
   "outputs": [
    {
     "name": "stdout",
     "output_type": "stream",
     "text": [
      "(3000, 16, 16, 1)\n",
      "(300, 16, 16, 1)\n",
      "<class 'numpy.float64'>\n"
     ]
    }
   ],
   "source": [
    "x_train, y_train = generate_dataset(3000) # 훈련용 3000 개\n",
    "x_test, y_test = generate_dataset(300)    # 테스트용 300 개\n",
    "print(x_train.shape) # (3000, 16, 16, 1) 16 x 16 픽셀 흑백 이미지 3000 개 생성\n",
    "print(x_test.shape) # (3000, 16, 16, 1) 16 x 16 픽셀 흑백 이미지 3000 개 생성\n",
    "print(type(x_train[0, 0, 0, 0]))"
   ]
  },
  {
   "cell_type": "code",
   "execution_count": 7,
   "metadata": {
    "colab": {
     "background_save": true,
     "base_uri": "https://localhost:8080/"
    },
    "executionInfo": {
     "elapsed": 45002,
     "status": "ok",
     "timestamp": 1614479329099,
     "user": {
      "displayName": "강사엄기흥",
      "photoUrl": "",
      "userId": "12410353940363031053"
     },
     "user_tz": -540
    },
    "id": "8iibz26xdMnO",
    "outputId": "f8729976-5796-4e20-8db9-fe5b6818ff61"
   },
   "outputs": [
    {
     "name": "stdout",
     "output_type": "stream",
     "text": [
      "Model: \"sequential_2\"\n",
      "_________________________________________________________________\n",
      " Layer (type)                Output Shape              Param #   \n",
      "=================================================================\n",
      " conv2d_2 (Conv2D)           (None, 16, 16, 128)       1280      \n",
      "                                                                 \n",
      " flatten_2 (Flatten)         (None, 32768)             0         \n",
      "                                                                 \n",
      " dense_2 (Dense)             (None, 1)                 32769     \n",
      "                                                                 \n",
      "=================================================================\n",
      "Total params: 34,049\n",
      "Trainable params: 34,049\n",
      "Non-trainable params: 0\n",
      "_________________________________________________________________\n",
      "Epoch 1/1000\n",
      "2400/2400 [==============================] - 14s 5ms/step - loss: 16214.0283 - val_loss: 7424.8809\n",
      "Epoch 2/1000\n",
      "2400/2400 [==============================] - 11s 5ms/step - loss: 2556.0063 - val_loss: 754.8971\n",
      "Epoch 3/1000\n",
      "2400/2400 [==============================] - 11s 5ms/step - loss: 674.3381 - val_loss: 617.4008\n",
      "Epoch 4/1000\n",
      "2400/2400 [==============================] - 11s 5ms/step - loss: 546.3053 - val_loss: 499.3776\n",
      "Epoch 5/1000\n",
      "2400/2400 [==============================] - 11s 5ms/step - loss: 437.8891 - val_loss: 402.2399\n",
      "Epoch 6/1000\n",
      "2400/2400 [==============================] - 11s 5ms/step - loss: 349.7695 - val_loss: 323.8130\n",
      "Epoch 7/1000\n",
      "2400/2400 [==============================] - 11s 5ms/step - loss: 280.3257 - val_loss: 261.5158\n",
      "Epoch 8/1000\n",
      "2400/2400 [==============================] - 11s 5ms/step - loss: 228.6881 - val_loss: 220.4225\n",
      "Epoch 9/1000\n",
      "2400/2400 [==============================] - 11s 5ms/step - loss: 197.6785 - val_loss: 195.4517\n",
      "Epoch 10/1000\n",
      "2400/2400 [==============================] - 11s 5ms/step - loss: 176.9606 - val_loss: 175.8815\n",
      "Epoch 11/1000\n",
      "2400/2400 [==============================] - 11s 5ms/step - loss: 159.1475 - val_loss: 159.0682\n",
      "Epoch 12/1000\n",
      "2400/2400 [==============================] - 11s 5ms/step - loss: 143.4475 - val_loss: 143.5940\n",
      "Epoch 13/1000\n",
      "2400/2400 [==============================] - 11s 5ms/step - loss: 129.5337 - val_loss: 131.4062\n",
      "Epoch 14/1000\n",
      "2400/2400 [==============================] - 11s 5ms/step - loss: 118.0758 - val_loss: 119.8627\n",
      "Epoch 15/1000\n",
      "2400/2400 [==============================] - 11s 5ms/step - loss: 108.4166 - val_loss: 110.1596\n",
      "Epoch 16/1000\n",
      "2400/2400 [==============================] - 11s 5ms/step - loss: 100.0755 - val_loss: 102.3915\n",
      "Epoch 17/1000\n",
      "2400/2400 [==============================] - 11s 5ms/step - loss: 92.8968 - val_loss: 96.3074\n",
      "Epoch 18/1000\n",
      "2400/2400 [==============================] - 11s 4ms/step - loss: 87.5477 - val_loss: 90.6437\n",
      "Epoch 19/1000\n",
      "2400/2400 [==============================] - 11s 5ms/step - loss: 82.6270 - val_loss: 86.3210\n",
      "Epoch 20/1000\n",
      "2400/2400 [==============================] - 11s 5ms/step - loss: 79.2500 - val_loss: 83.0162\n",
      "Epoch 21/1000\n",
      "2400/2400 [==============================] - 11s 5ms/step - loss: 76.3008 - val_loss: 80.4519\n",
      "Epoch 22/1000\n",
      "2400/2400 [==============================] - 11s 5ms/step - loss: 73.8607 - val_loss: 78.1505\n",
      "Epoch 23/1000\n",
      "2400/2400 [==============================] - 11s 5ms/step - loss: 71.9539 - val_loss: 76.3254\n",
      "Epoch 24/1000\n",
      "2400/2400 [==============================] - 11s 5ms/step - loss: 70.7134 - val_loss: 74.8361\n",
      "Epoch 25/1000\n",
      "2400/2400 [==============================] - 11s 5ms/step - loss: 69.2893 - val_loss: 74.3681\n",
      "Epoch 26/1000\n",
      "2400/2400 [==============================] - 11s 5ms/step - loss: 68.4054 - val_loss: 72.8592\n",
      "Epoch 27/1000\n",
      "2400/2400 [==============================] - 11s 5ms/step - loss: 67.5654 - val_loss: 72.1569\n",
      "Epoch 28/1000\n",
      "2400/2400 [==============================] - 11s 5ms/step - loss: 66.8828 - val_loss: 71.7430\n",
      "Epoch 29/1000\n",
      "2400/2400 [==============================] - 11s 5ms/step - loss: 66.1157 - val_loss: 72.3326\n",
      "Epoch 30/1000\n",
      "2400/2400 [==============================] - 12s 5ms/step - loss: 65.9570 - val_loss: 70.6274\n",
      "Epoch 31/1000\n",
      "2400/2400 [==============================] - 12s 5ms/step - loss: 65.5743 - val_loss: 70.3122\n",
      "Epoch 32/1000\n",
      "2400/2400 [==============================] - 11s 5ms/step - loss: 65.0623 - val_loss: 69.9793\n",
      "Epoch 33/1000\n",
      "2400/2400 [==============================] - 11s 5ms/step - loss: 64.9728 - val_loss: 69.7468\n",
      "Epoch 34/1000\n",
      "2400/2400 [==============================] - 12s 5ms/step - loss: 64.3994 - val_loss: 69.6022\n",
      "Epoch 35/1000\n",
      "2400/2400 [==============================] - 11s 5ms/step - loss: 64.2041 - val_loss: 70.2523\n",
      "Epoch 36/1000\n",
      "2400/2400 [==============================] - 12s 5ms/step - loss: 63.9145 - val_loss: 69.2784\n",
      "Epoch 37/1000\n",
      "2400/2400 [==============================] - 11s 5ms/step - loss: 63.6166 - val_loss: 69.4918\n",
      "Epoch 38/1000\n",
      "2400/2400 [==============================] - 11s 5ms/step - loss: 63.4488 - val_loss: 69.1669\n",
      "Epoch 39/1000\n",
      "2400/2400 [==============================] - 11s 5ms/step - loss: 63.2118 - val_loss: 68.5476\n",
      "Epoch 40/1000\n",
      "2400/2400 [==============================] - 11s 5ms/step - loss: 63.0548 - val_loss: 68.6464\n",
      "Epoch 41/1000\n",
      "2400/2400 [==============================] - 12s 5ms/step - loss: 62.7394 - val_loss: 68.3674\n",
      "Epoch 42/1000\n",
      "2400/2400 [==============================] - 12s 5ms/step - loss: 62.6302 - val_loss: 68.1243\n",
      "Epoch 43/1000\n",
      "2400/2400 [==============================] - 12s 5ms/step - loss: 62.2925 - val_loss: 68.7536\n",
      "Epoch 44/1000\n",
      "2400/2400 [==============================] - 12s 5ms/step - loss: 62.2677 - val_loss: 67.8645\n",
      "Epoch 45/1000\n",
      "2400/2400 [==============================] - 11s 5ms/step - loss: 61.9979 - val_loss: 67.7598\n",
      "Epoch 46/1000\n",
      "2400/2400 [==============================] - 11s 5ms/step - loss: 61.6877 - val_loss: 67.6245\n",
      "Epoch 47/1000\n",
      "2400/2400 [==============================] - 11s 5ms/step - loss: 61.7027 - val_loss: 68.0573\n",
      "Epoch 48/1000\n",
      "2400/2400 [==============================] - 11s 5ms/step - loss: 61.2440 - val_loss: 67.5351\n",
      "Epoch 49/1000\n",
      "2400/2400 [==============================] - 11s 5ms/step - loss: 61.0256 - val_loss: 67.6371\n",
      "Epoch 50/1000\n",
      "2400/2400 [==============================] - 11s 5ms/step - loss: 61.1521 - val_loss: 67.5316\n",
      "Epoch 51/1000\n",
      "2400/2400 [==============================] - 11s 5ms/step - loss: 60.7876 - val_loss: 67.1034\n",
      "Epoch 52/1000\n",
      "2400/2400 [==============================] - 11s 5ms/step - loss: 60.6956 - val_loss: 67.0123\n",
      "Epoch 53/1000\n",
      "2400/2400 [==============================] - 11s 5ms/step - loss: 60.2145 - val_loss: 68.1592\n",
      "Epoch 54/1000\n",
      "2400/2400 [==============================] - 11s 5ms/step - loss: 60.5079 - val_loss: 66.8522\n",
      "Epoch 55/1000\n",
      "2400/2400 [==============================] - 11s 5ms/step - loss: 60.2830 - val_loss: 66.7486\n",
      "Epoch 56/1000\n",
      "2400/2400 [==============================] - 11s 5ms/step - loss: 60.1492 - val_loss: 66.7301\n",
      "Epoch 57/1000\n",
      "2400/2400 [==============================] - 11s 5ms/step - loss: 59.7821 - val_loss: 66.5896\n",
      "Epoch 58/1000\n",
      "2400/2400 [==============================] - 11s 5ms/step - loss: 59.5511 - val_loss: 66.6518\n",
      "Epoch 59/1000\n",
      "2400/2400 [==============================] - 11s 5ms/step - loss: 59.6822 - val_loss: 66.9200\n",
      "Runtime: 659.24 초\n"
     ]
    }
   ],
   "source": [
    "# 데이터 준비\n",
    "x_train, y_train = generate_dataset(3000) # 훈련용\n",
    "x_test, y_test = generate_dataset(300)    # 테스트용 \n",
    "width=16\n",
    "height=16\n",
    "\n",
    "# 네트워크 구성\n",
    "SEED = 0\n",
    "os.environ['PYTHONHASHSEED'] = str(SEED)\n",
    "os.environ['TF_DETERMINISTIC_OPS'] = '1'\n",
    "\n",
    "tf.random.set_seed(SEED) # Global seed\n",
    "np.random.seed(SEED)\n",
    "random.seed(SEED)\n",
    "\n",
    "model = Sequential()\n",
    "# input_shape = (width, height, 1): 흑백 입력 1\n",
    "model.add(Conv2D(128, kernel_size = (3, 3), padding='same',\n",
    "                 input_shape = (width, height, 1), activation='relu'))\n",
    "model.add(Flatten()) # 3차원 텐서의 형태를 1차원 열방향으로 변경\n",
    "model.add(Dense(1)) # 활성화 함수 생략시 수치 예측(회귀 산출)\n",
    "model.compile(optimizer=Adam(lr=0.00001), loss='mse')\n",
    "\n",
    "model.summary()\n",
    "\n",
    "# patience=2: 오차가 2번 증가하면 종료\n",
    "es = EarlyStopping(monitor='val_loss', patience=2, restore_best_weights=True)\n",
    "\n",
    "start = time.time()\n",
    "hist = model.fit(x_train, y_train, validation_split=0.2, \n",
    "                 shuffle=True, epochs=1000, \n",
    "                 batch_size=1, callbacks=[es])\n",
    "end = time.time()\n",
    "print('Runtime: {0:.2f} 초'.format(end-start))\n",
    "\n",
    "# i5 2320: 53 초, 659.24 초\n",
    "# gtx 1060: 28 초"
   ]
  },
  {
   "cell_type": "code",
   "execution_count": 10,
   "metadata": {
    "colab": {
     "base_uri": "https://localhost:8080/",
     "height": 356
    },
    "executionInfo": {
     "elapsed": 996,
     "status": "ok",
     "timestamp": 1614479348598,
     "user": {
      "displayName": "강사엄기흥",
      "photoUrl": "",
      "userId": "12410353940363031053"
     },
     "user_tz": -540
    },
    "id": "XUvsPzRbdMnQ",
    "outputId": "216e24d2-31cc-41d1-e32c-e9f751cb531f"
   },
   "outputs": [
    {
     "name": "stderr",
     "output_type": "stream",
     "text": [
      "No artists with labels found to put in legend.  Note that artists whose label start with an underscore are ignored when legend() is called with no argument.\n"
     ]
    },
    {
     "data": {
      "image/png": "[encoded data removed]",
      "text/plain": [
       "<Figure size 1000x500 with 2 Axes>"
      ]
     },
     "metadata": {},
     "output_type": "display_data"
    }
   ],
   "source": [
    "import matplotlib.pyplot as plt\n",
    "%matplotlib inline  \n",
    "\n",
    "fig, loss_ax = plt.subplots()\n",
    "# plt.figure(figsize=(6,4)) # ERROR\n",
    "fig.set_size_inches(10, 5)  # 챠트 크기 설정\n",
    "\n",
    "acc_ax = loss_ax.twinx()  # 오른쪽 y 출 설정\n",
    "\n",
    "# 왼쪽 y 축 설정\n",
    "loss_ax.plot(hist.history['loss'], 'y', label='train loss')\n",
    "loss_ax.plot(hist.history['val_loss'], 'r', label='val loss')\n",
    "loss_ax.set_ylim([0.0, 16214.0283]) # 값을 반영하여 변경\n",
    "\n",
    "# 오른쪽 y 축 설정\n",
    "# acc_ax.plot(hist.history['accuracy'], 'b', label='train accuracy')\n",
    "# acc_ax.plot(hist.history['val_accuracy'], 'g', label='val accuracy')\n",
    "# acc_ax.set_ylim([0.0, 1.0])\n",
    "\n",
    "# 축 레이블 설정\n",
    "loss_ax.set_xlabel('epoch')  # 학습 횟수\n",
    "loss_ax.set_ylabel('loss')   # 오차\n",
    "acc_ax.set_ylabel('accuracy') # 정확도\n",
    "\n",
    "loss_ax.legend(loc='upper left') # 오차 레이블 위치\n",
    "acc_ax.legend(loc='lower left')  # 정확도 레이블 위치\n",
    "\n",
    "plt.show()\n"
   ]
  },
  {
   "cell_type": "code",
   "execution_count": 11,
   "metadata": {
    "colab": {
     "base_uri": "https://localhost:8080/"
    },
    "executionInfo": {
     "elapsed": 578,
     "status": "ok",
     "timestamp": 1614479381325,
     "user": {
      "displayName": "강사엄기흥",
      "photoUrl": "",
      "userId": "12410353940363031053"
     },
     "user_tz": -540
    },
    "id": "1GNa0vc9dMnR",
    "outputId": "0c6dc9a0-1e06-49d8-fb3d-7e4d7d1a6588"
   },
   "outputs": [
    {
     "name": "stdout",
     "output_type": "stream",
     "text": [
      "[[ 44.813087 ]\n",
      " [121.86999  ]\n",
      " [172.55385  ]\n",
      " [195.36003  ]\n",
      " [139.09625  ]\n",
      " [ 11.716582 ]\n",
      " [158.71793  ]\n",
      " [218.98842  ]\n",
      " [  6.1815944]\n",
      " [117.601326 ]]\n"
     ]
    }
   ],
   "source": [
    "yp = model.predict(x_test, batch_size=20)\n",
    "print(yp[0:10])"
   ]
  },
  {
   "cell_type": "code",
   "execution_count": 12,
   "metadata": {
    "colab": {
     "base_uri": "https://localhost:8080/",
     "height": 608
    },
    "executionInfo": {
     "elapsed": 1551,
     "status": "ok",
     "timestamp": 1614479384329,
     "user": {
      "displayName": "강사엄기흥",
      "photoUrl": "",
      "userId": "12410353940363031053"
     },
     "user_tz": -540
    },
    "id": "zf2924afdMnR",
    "outputId": "36223d1a-5c74-4d80-9dca-ded755bb8bcf"
   },
   "outputs": [
    {
     "name": "stdout",
     "output_type": "stream",
     "text": [
      "(16, 16, 1)\n"
     ]
    },
    {
     "data": {
      "image/png": "[encoded data removed]",
      "text/plain": [
       "<Figure size 1000x1000 with 25 Axes>"
      ]
     },
     "metadata": {},
     "output_type": "display_data"
    }
   ],
   "source": [
    "print(x_test[0].shape)\n",
    "plt_row = 5\n",
    "plt_col = 5\n",
    "\n",
    "plt.rcParams[\"figure.figsize\"] = (10,10)\n",
    "\n",
    "f, axarr = plt.subplots(plt_row, plt_col)\n",
    "\n",
    "for i in range(plt_row*plt_col):\n",
    "    sub_plt = axarr[i//plt_row, i%plt_col]  # //: 정수형 나누기\n",
    "    sub_plt.axis('off')\n",
    "    sub_plt.imshow(x_test[i].reshape(width, height))\n",
    "    sub_plt.set_title('R %d P %.0f' % (y_test[i][0], yp[i][0]))  # R: 실제값, P: 예측한 값\n",
    "\n",
    "plt.show()"
   ]
  },
  {
   "cell_type": "code",
   "execution_count": null,
   "metadata": {
    "id": "4y814fIBdMnS"
   },
   "outputs": [],
   "source": []
  }
 ],
 "metadata": {
  "accelerator": "GPU",
  "colab": {
   "collapsed_sections": [],
   "name": "Virus.ipynb",
   "provenance": []
  },
  "kernelspec": {
   "display_name": "ai",
   "language": "python",
   "name": "ai"
  },
  "language_info": {
   "codemirror_mode": {
    "name": "ipython",
    "version": 3
   },
   "file_extension": ".py",
   "mimetype": "text/x-python",
   "name": "python",
   "nbconvert_exporter": "python",
   "pygments_lexer": "ipython3",
   "version": "3.9.16"
  }
 },
 "nbformat": 4,
 "nbformat_minor": 1
}
