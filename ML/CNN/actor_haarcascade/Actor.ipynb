{
 "cells": [
  {
   "cell_type": "markdown",
   "metadata": {
    "id": "heSOUwlunVal"
   },
   "source": [
    "### CNN 기법을 이용한 안면(얼굴) 인식"
   ]
  },
  {
   "cell_type": "code",
   "execution_count": 1,
   "metadata": {
    "colab": {
     "base_uri": "https://localhost:8080/"
    },
    "executionInfo": {
     "elapsed": 20522,
     "status": "ok",
     "timestamp": 1661572112628,
     "user": {
      "displayName": "강사엄기흥",
      "userId": "12410353940363031053"
     },
     "user_tz": -540
    },
    "id": "rn5MEvpSnXq6",
    "outputId": "718783ee-6e72-4cec-f794-8960a1da5c8f"
   },
   "outputs": [
    {
     "name": "stdout",
     "output_type": "stream",
     "text": [
      "Mounted at /content/drive\n"
     ]
    }
   ],
   "source": [
    "# 글꼴 설치전 런타임 환경 확인\n",
    "# !sudo apt-get install -y fonts-nanum\n",
    "# !sudo fc-cache -fv\n",
    "# !rm ~/.cache/matplotlib -rf\n",
    "\n",
    "# GPU 런타임 환경 설정\n",
    "\n",
    "# 보안 문제로 ipynb 파일 open시마다 실행\n",
    "from google.colab import drive\n",
    "drive.mount('/content/drive') # 마운트 이름은 자유롭게 지정 가능"
   ]
  },
  {
   "cell_type": "code",
   "execution_count": 2,
   "metadata": {
    "colab": {
     "base_uri": "https://localhost:8080/",
     "height": 35
    },
    "executionInfo": {
     "elapsed": 3663,
     "status": "ok",
     "timestamp": 1661572134768,
     "user": {
      "displayName": "강사엄기흥",
      "userId": "12410353940363031053"
     },
     "user_tz": -540
    },
    "id": "QaoDxzj3nVap",
    "outputId": "4d0306a5-48db-4189-d1b0-0f0249297dc5"
   },
   "outputs": [
    {
     "data": {
      "application/javascript": [
       "IPython.notebook.set_autosave_interval(0)"
      ]
     },
     "metadata": {},
     "output_type": "display_data"
    },
    {
     "name": "stdout",
     "output_type": "stream",
     "text": [
      "Autosave disabled\n"
     ]
    }
   ],
   "source": [
    "%autosave 0\n",
    "import warnings\n",
    "warnings.filterwarnings(action='ignore')\n",
    "\n",
    "import os\n",
    "import time\n",
    "import random\n",
    "\n",
    "import numpy as np\n",
    "import pandas as pd\n",
    "import seaborn as sb\n",
    "import tensorflow as tf\n",
    "\n",
    "from tensorflow.keras.models import Sequential  # class\n",
    "from tensorflow.keras.models import load_model  # model 사용\n",
    "from tensorflow.keras.layers import Dense       # 전결합\n",
    "from tensorflow.keras.layers import Dropout     # 특정 node를 사용안함.\n",
    "from tensorflow.keras.layers import Conv2D\n",
    "from tensorflow.keras.layers import MaxPooling2D\n",
    "from tensorflow.keras.layers import Flatten\n",
    "\n",
    "from tensorflow.keras.callbacks import EarlyStopping   # 학습 자동 중지\n",
    "from tensorflow.keras.callbacks import ModelCheckpoint # 우수한 학습 모델 파일 저장\n",
    "from tensorflow.keras import regularizers \n",
    "from tensorflow.keras.utils import to_categorical   # one-hot 엔코딩\n",
    "\n",
    "from tensorflow.keras.preprocessing.image import ImageDataGenerator\n",
    "\n",
    "from tensorflow.keras.datasets import mnist\n",
    "\n",
    "from sklearn.preprocessing import LabelEncoder\n",
    "from sklearn.model_selection import train_test_split # 학습셋과 테스트셋의 분리 지원\n",
    "from sklearn.model_selection import StratifiedKFold  # K겹 교차 검증\n",
    "\n",
    "import matplotlib.pyplot as plt\n",
    "from matplotlib import font_manager, rc\n",
    "\n",
    "import platform \n",
    "\n",
    "if (platform.system() == 'Windows'):  # Windows, Linux, Darwin\n",
    "    rc('font', family=font_manager.FontProperties(fname=\"C:/Windows/Fonts/malgun.ttf\").get_name())\n",
    "    path = '.' # Local\n",
    "else:    \n",
    "    plt.rc('font', family='NanumBarunGothic')  # Ubuntu 18.04 기준 한글 처리\n",
    "    path = '/content/drive/My Drive/kd_ml/cnn/actor' # Colab\n",
    "\n",
    "os.chdir(path) # 기본 경로 설정\n",
    "\n",
    "plt.rcParams[\"font.size\"] = 12         # 글자 크기\n",
    "# plt.rcParams[\"figure.figsize\"] = (10, 4) # 10:4의 그래프 비율\n",
    "plt.rcParams['axes.unicode_minus'] = False  # minus 부호는 unicode 적용시 한글이 깨짐으로 설정\n",
    "\n",
    "%matplotlib inline  "
   ]
  },
  {
   "cell_type": "code",
   "execution_count": 4,
   "metadata": {
    "colab": {
     "base_uri": "https://localhost:8080/"
    },
    "executionInfo": {
     "elapsed": 1594,
     "status": "ok",
     "timestamp": 1661572371868,
     "user": {
      "displayName": "강사엄기흥",
      "userId": "12410353940363031053"
     },
     "user_tz": -540
    },
    "id": "9PB1N5LSnVar",
    "outputId": "c2f13b60-28f5-4df1-bd06-3c578866f939",
    "scrolled": true
   },
   "outputs": [
    {
     "name": "stdout",
     "output_type": "stream",
     "text": [
      "Found 244 images belonging to 7 classes.\n",
      "Found 70 images belonging to 7 classes.\n"
     ]
    }
   ],
   "source": [
    "width=64\n",
    "height=64\n",
    "\n",
    "# 훈련용 데이터 생성기\n",
    "# rescale=1./255: 실수형태로 정규화, 0~1 사이의 값\n",
    "train_datagen = ImageDataGenerator(rescale=1./255)\n",
    " \n",
    "train_generator = train_datagen.flow_from_directory(\n",
    "        '/content/drive/My Drive/kd_ml/cnn/actor/train', # 파일이 있는 폴더, Colab은 절대 경로 명시해야 인식가능 \n",
    "        target_size=(width, height), # 훈련데이터 크기\n",
    "        batch_size=1,                # 이미지 1건씩 처리\n",
    "        class_mode='categorical')    # 다중분류\n",
    "\n",
    "# 검증용 데이터 생성기\n",
    "vali_datagen = ImageDataGenerator(rescale=1./255)\n",
    " \n",
    "vali_generator = vali_datagen.flow_from_directory(\n",
    "        '/content/drive/My Drive/kd_ml/cnn/actor/validation',\n",
    "        target_size=(width, height),    \n",
    "        batch_size=1,\n",
    "        class_mode='categorical')\n",
    "# 3 classes: ./train/circle, ./train/rectangle, ./train/triangle"
   ]
  },
  {
   "cell_type": "code",
   "execution_count": null,
   "metadata": {
    "colab": {
     "base_uri": "https://localhost:8080/"
    },
    "executionInfo": {
     "elapsed": 208693,
     "status": "ok",
     "timestamp": 1661572741378,
     "user": {
      "displayName": "강사엄기흥",
      "userId": "12410353940363031053"
     },
     "user_tz": -540
    },
    "id": "Y-0JjyF-nVar",
    "outputId": "1d3f2a4f-0b59-4a00-e93e-625880a4878b"
   },
   "outputs": [],
   "source": [
    "SEED = 0\n",
    "os.environ['PYTHONHASHSEED'] = str(SEED)\n",
    "os.environ['TF_DETERMINISTIC_OPS'] = '1'\n",
    "\n",
    "tf.random.set_seed(SEED) # Global seed\n",
    "np.random.seed(SEED)\n",
    "random.seed(SEED)\n",
    "\n",
    "\n",
    "# CPU: \n",
    "# Colab GPU: 198 초"
   ]
  },
  {
   "cell_type": "code",
   "execution_count": 6,
   "metadata": {
    "colab": {
     "base_uri": "https://localhost:8080/",
     "height": 376
    },
    "executionInfo": {
     "elapsed": 547,
     "status": "ok",
     "timestamp": 1661572870155,
     "user": {
      "displayName": "강사엄기흥",
      "userId": "12410353940363031053"
     },
     "user_tz": -540
    },
    "id": "RRf1d65YnVas",
    "outputId": "83c28275-7143-4bda-b28a-21bb668ad6a8"
   },
   "outputs": [
    {
     "name": "stderr",
     "output_type": "stream",
     "text": [
      "WARNING:matplotlib.font_manager:findfont: Font family ['NanumBarunGothic'] not found. Falling back to DejaVu Sans.\n"
     ]
    },
    {
     "data": {
      "image/png": "[encoded data removed]",
      "text/plain": [
       "<Figure size 720x360 with 2 Axes>"
      ]
     },
     "metadata": {
      "needs_background": "light"
     },
     "output_type": "display_data"
    }
   ],
   "source": [
    "import matplotlib.pyplot as plt\n",
    "%matplotlib inline  \n",
    "\n",
    "fig, loss_ax = plt.subplots()\n",
    "# plt.figure(figsize=(6,4)) # ERROR\n",
    "fig.set_size_inches(10, 5)  # 챠트 크기 설정\n",
    "\n",
    "acc_ax = loss_ax.twinx()  # 오른쪽 y 출 설정\n",
    "\n",
    "# 왼쪽 y 축 설정\n",
    "loss_ax.plot(hist.history['loss'], 'y', label='train loss')\n",
    "loss_ax.plot(hist.history['val_loss'], 'r', label='val loss')\n",
    "loss_ax.set_ylim([0.0, 2.0]) # 값을 반영하여 변경\n",
    "\n",
    "# 오른쪽 y 축 설정\n",
    "acc_ax.plot(hist.history['accuracy'], 'b', label='train accuracy')\n",
    "acc_ax.plot(hist.history['val_accuracy'], 'g', label='val accuracy')\n",
    "acc_ax.set_ylim([0.0, 1.0])\n",
    "\n",
    "# 축 레이블 설정\n",
    "loss_ax.set_xlabel('epoch')  # 학습 횟수\n",
    "loss_ax.set_ylabel('loss')   # 오차\n",
    "acc_ax.set_ylabel('accuracy') # 정확도\n",
    "\n",
    "loss_ax.legend(loc='upper left') # 오차 레이블 위치\n",
    "acc_ax.legend(loc='lower left')  # 정확도 레이블 위치\n",
    "\n",
    "plt.show()"
   ]
  },
  {
   "cell_type": "code",
   "execution_count": 7,
   "metadata": {
    "colab": {
     "base_uri": "https://localhost:8080/"
    },
    "executionInfo": {
     "elapsed": 790,
     "status": "ok",
     "timestamp": 1661573017915,
     "user": {
      "displayName": "강사엄기흥",
      "userId": "12410353940363031053"
     },
     "user_tz": -540
    },
    "id": "hzuxfisSnVat",
    "outputId": "55bf1ddb-dc0d-4035-bc13-659021e1f775"
   },
   "outputs": [
    {
     "name": "stdout",
     "output_type": "stream",
     "text": [
      "-- Evaluate --\n",
      "accuracy: 80.00%\n"
     ]
    }
   ],
   "source": [
    "print(\"-- Evaluate --\")\n",
    "scores = model.evaluate_generator(vali_generator, verbose=0)  \n",
    "print(\"%s: %.2f%%\" %(model.metrics_names[1], scores[1]*100))"
   ]
  },
  {
   "cell_type": "code",
   "execution_count": 8,
   "metadata": {
    "colab": {
     "base_uri": "https://localhost:8080/"
    },
    "executionInfo": {
     "elapsed": 787,
     "status": "ok",
     "timestamp": 1661573042380,
     "user": {
      "displayName": "강사엄기흥",
      "userId": "12410353940363031053"
     },
     "user_tz": -540
    },
    "id": "XU2DmrBrnVat",
    "outputId": "e7f6b2a7-bd57-46b9-942c-436f8184c5ff"
   },
   "outputs": [
    {
     "name": "stdout",
     "output_type": "stream",
     "text": [
      "-- Predict --\n",
      "{'Amanda Seyfried': 0, 'Andrew Lincoln': 1, 'Anne Hathaway': 2, 'Hugh Jackman': 3, 'Keira Christina Knightley': 4, 'Pierce Brosnan': 5, 'Zo Jung Seok': 6}\n",
      "<class 'numpy.ndarray'>\n",
      "(70, 7)\n",
      "[[0.001 0.002 0.004 0.000 0.988 0.000 0.006]\n",
      " [0.000 0.000 0.001 0.998 0.000 0.000 0.000]\n",
      " [0.011 0.000 0.000 0.000 0.013 0.000 0.976]\n",
      " [0.001 0.000 0.000 0.009 0.000 0.000 0.990]\n",
      " [0.000 1.000 0.000 0.000 0.000 0.000 0.000]\n",
      " [0.663 0.336 0.000 0.000 0.000 0.000 0.000]\n",
      " [0.000 0.000 0.000 1.000 0.000 0.000 0.000]\n",
      " [0.028 0.014 0.010 0.426 0.178 0.076 0.268]\n",
      " [0.000 0.033 0.966 0.000 0.001 0.000 0.000]\n",
      " [0.964 0.007 0.000 0.000 0.020 0.008 0.001]\n",
      " [0.004 0.827 0.158 0.002 0.005 0.003 0.000]\n",
      " [0.000 0.001 0.999 0.000 0.000 0.000 0.000]\n",
      " [0.001 0.000 0.000 0.000 0.023 0.000 0.976]\n",
      " [0.000 0.999 0.000 0.000 0.000 0.000 0.000]\n",
      " [0.734 0.010 0.001 0.001 0.070 0.154 0.030]\n",
      " [0.000 0.999 0.000 0.000 0.000 0.000 0.000]\n",
      " [0.000 0.000 0.000 0.998 0.002 0.000 0.000]\n",
      " [0.000 0.000 0.000 0.000 0.000 0.000 0.999]\n",
      " [0.111 0.889 0.000 0.000 0.000 0.000 0.000]\n",
      " [0.096 0.883 0.002 0.001 0.000 0.018 0.000]\n",
      " [0.000 0.000 0.000 1.000 0.000 0.000 0.000]\n",
      " [0.001 0.574 0.044 0.014 0.356 0.010 0.000]\n",
      " [0.001 0.125 0.050 0.521 0.023 0.281 0.000]\n",
      " [0.000 0.000 0.000 1.000 0.000 0.000 0.000]\n",
      " [0.000 0.000 0.007 0.000 0.981 0.000 0.012]\n",
      " [0.001 0.000 0.000 0.000 0.002 0.000 0.997]\n",
      " [0.001 0.002 0.286 0.000 0.617 0.000 0.094]\n",
      " [0.000 0.003 0.995 0.000 0.003 0.000 0.000]\n",
      " [0.000 1.000 0.000 0.000 0.000 0.000 0.000]\n",
      " [0.997 0.002 0.000 0.000 0.001 0.000 0.000]\n",
      " [0.852 0.041 0.000 0.000 0.106 0.001 0.000]\n",
      " [0.985 0.002 0.000 0.000 0.010 0.003 0.000]\n",
      " [0.000 0.001 0.999 0.000 0.000 0.000 0.000]\n",
      " [0.000 0.002 0.000 0.000 0.001 0.996 0.000]\n",
      " [0.000 0.000 0.000 0.996 0.003 0.001 0.000]\n",
      " [0.012 0.897 0.001 0.001 0.049 0.040 0.000]\n",
      " [0.000 0.000 0.000 1.000 0.000 0.000 0.000]\n",
      " [0.000 0.999 0.000 0.000 0.000 0.001 0.000]\n",
      " [0.952 0.039 0.000 0.000 0.010 0.000 0.000]\n",
      " [0.072 0.928 0.000 0.000 0.000 0.000 0.000]\n",
      " [0.000 0.000 0.000 0.000 0.000 1.000 0.000]\n",
      " [0.003 0.011 0.000 0.000 0.001 0.984 0.000]\n",
      " [0.004 0.001 0.039 0.000 0.205 0.000 0.751]\n",
      " [0.012 0.038 0.935 0.009 0.005 0.000 0.000]\n",
      " [0.195 0.116 0.102 0.260 0.081 0.100 0.145]\n",
      " [0.003 0.930 0.036 0.000 0.031 0.000 0.000]\n",
      " [0.000 0.000 0.000 0.997 0.002 0.001 0.000]\n",
      " [0.000 0.000 0.481 0.000 0.486 0.000 0.033]\n",
      " [0.000 0.000 0.999 0.000 0.000 0.000 0.000]\n",
      " [0.000 0.000 0.000 0.000 0.001 0.000 0.999]\n",
      " [0.639 0.066 0.001 0.000 0.293 0.001 0.000]\n",
      " [0.000 0.002 0.000 0.000 0.000 0.997 0.000]\n",
      " [0.000 1.000 0.000 0.000 0.000 0.000 0.000]\n",
      " [0.000 0.000 1.000 0.000 0.000 0.000 0.000]\n",
      " [0.003 0.930 0.036 0.000 0.031 0.000 0.000]\n",
      " [0.000 0.000 0.000 0.000 0.000 1.000 0.000]\n",
      " [0.000 0.000 0.000 1.000 0.000 0.000 0.000]\n",
      " [0.988 0.011 0.000 0.000 0.001 0.000 0.000]\n",
      " [0.000 0.000 0.002 0.000 0.106 0.000 0.892]\n",
      " [0.000 0.000 0.000 0.000 0.001 0.000 0.999]\n",
      " [0.002 0.000 0.000 0.000 0.024 0.000 0.974]\n",
      " [0.016 0.827 0.113 0.000 0.044 0.000 0.000]\n",
      " [0.383 0.391 0.217 0.004 0.004 0.001 0.000]\n",
      " [0.000 0.000 0.000 0.000 0.000 1.000 0.000]\n",
      " [0.991 0.007 0.000 0.000 0.002 0.000 0.000]\n",
      " [0.000 0.226 0.738 0.002 0.034 0.000 0.000]\n",
      " [0.841 0.084 0.005 0.000 0.070 0.000 0.000]\n",
      " [0.000 0.000 0.035 0.000 0.955 0.000 0.009]\n",
      " [0.061 0.012 0.344 0.000 0.539 0.000 0.043]\n",
      " [0.212 0.048 0.014 0.000 0.643 0.066 0.017]]\n"
     ]
    }
   ],
   "source": [
    "print(\"-- Predict --\")\n",
    "output = model.predict_generator(vali_generator)\n",
    "# 실수를 소수점 3자리까지 출력 설정\n",
    "np.set_printoptions(formatter={'float': lambda x: \"{0:0.3f}\".format(x)})\n",
    "\n",
    "# 그룹의 index {'circle': 0, 'rectangle': 1, 'triangle': 2}, 알파벳 순\n",
    "print(vali_generator.class_indices) # 분류에 할당된 index\n",
    "print(type(output))\n",
    "print(output.shape) # 검증 이미지가 70개, 7개의 분류임으로 출력은 70행 7열\n",
    "print(output)"
   ]
  },
  {
   "cell_type": "code",
   "execution_count": 9,
   "metadata": {
    "executionInfo": {
     "elapsed": 742,
     "status": "ok",
     "timestamp": 1661573201187,
     "user": {
      "displayName": "강사엄기흥",
      "userId": "12410353940363031053"
     },
     "user_tz": -540
    },
    "id": "_UJfeDjsnVau"
   },
   "outputs": [],
   "source": [
    "model.save('/content/drive/My Drive/kd_ml/cnn/actor/Actor.h5')"
   ]
  },
  {
   "cell_type": "code",
   "execution_count": 10,
   "metadata": {
    "executionInfo": {
     "elapsed": 6,
     "status": "ok",
     "timestamp": 1661573203186,
     "user": {
      "displayName": "강사엄기흥",
      "userId": "12410353940363031053"
     },
     "user_tz": -540
    },
    "id": "G0DJMolPnVau"
   },
   "outputs": [],
   "source": [
    "model = load_model('/content/drive/My Drive/kd_ml/cnn/actor/Actor.h5')"
   ]
  },
  {
   "cell_type": "code",
   "execution_count": 11,
   "metadata": {
    "executionInfo": {
     "elapsed": 316,
     "status": "ok",
     "timestamp": 1661573225678,
     "user": {
      "displayName": "강사엄기흥",
      "userId": "12410353940363031053"
     },
     "user_tz": -540
    },
    "id": "I_6E0LICnVau"
   },
   "outputs": [],
   "source": [
    "def display(data):\n",
    "    # print(data)\n",
    "    # print(type(data))\n",
    "    sw= np.argmax(data)\n",
    "    # print('sw:', sw)\n",
    "\n",
    "    if sw == 0:\n",
    "        sw = 'Amanda Seyfried'\n",
    "    elif sw == 1:\n",
    "        sw = 'Andrew Lincoln'\n",
    "    elif sw == 2:\n",
    "        sw = 'Anne Hathaway'\n",
    "    elif sw == 3:\n",
    "        sw = 'Hugh Jackman'\n",
    "    elif sw == 4:\n",
    "        sw = 'Keira Christina Knightley'        \n",
    "    elif sw == 5:\n",
    "        sw = 'Pierce Brosnan'   \n",
    "    elif sw == 6:\n",
    "        sw = '조정석'\n",
    "        \n",
    "    return sw    "
   ]
  },
  {
   "cell_type": "code",
   "execution_count": 12,
   "metadata": {
    "colab": {
     "base_uri": "https://localhost:8080/"
    },
    "executionInfo": {
     "elapsed": 777,
     "status": "ok",
     "timestamp": 1661573261356,
     "user": {
      "displayName": "강사엄기흥",
      "userId": "12410353940363031053"
     },
     "user_tz": -540
    },
    "id": "Qnacmo2HnVav",
    "outputId": "bd16830d-9647-4c47-edbd-618c0725280a"
   },
   "outputs": [
    {
     "name": "stdout",
     "output_type": "stream",
     "text": [
      "Found 1 images belonging to 1 classes.\n",
      "[[0.996 0.003 0.000 0.000 0.000 0.000 0.000]]\n",
      "타겟: Amanda Seyfried / Amanda Seyfried\n"
     ]
    }
   ],
   "source": [
    "# 테스트용 데이터 생성기\n",
    "test_datagen = ImageDataGenerator(rescale=1./255)\n",
    " \n",
    "test_generator = test_datagen.flow_from_directory(\n",
    "        '/content/drive/My Drive/kd_ml/cnn/actor/test1',\n",
    "        target_size=(width, height),    \n",
    "        batch_size=1,\n",
    "        class_mode='categorical')\n",
    "yp = model.predict_generator(test_generator)\n",
    "print(yp)\n",
    "print('타겟: Amanda Seyfried /', display(yp))    # 2차원 텐서 전달"
   ]
  },
  {
   "cell_type": "code",
   "execution_count": 13,
   "metadata": {
    "colab": {
     "base_uri": "https://localhost:8080/"
    },
    "executionInfo": {
     "elapsed": 846,
     "status": "ok",
     "timestamp": 1661573300201,
     "user": {
      "displayName": "강사엄기흥",
      "userId": "12410353940363031053"
     },
     "user_tz": -540
    },
    "id": "gKU5_fQbnVav",
    "outputId": "9db262bd-8b13-44c0-874c-486b3530314c"
   },
   "outputs": [
    {
     "name": "stdout",
     "output_type": "stream",
     "text": [
      "Found 1 images belonging to 1 classes.\n",
      "[[0.001 0.983 0.001 0.000 0.015 0.000 0.000]]\n",
      "타겟: Andrew Lincoln / Andrew Lincoln\n"
     ]
    }
   ],
   "source": [
    "# 테스트용 데이터 생성기\n",
    "test_datagen = ImageDataGenerator(rescale=1./255)\n",
    " \n",
    "test_generator = test_datagen.flow_from_directory(\n",
    "        '/content/drive/My Drive/kd_ml/cnn/actor/test2',\n",
    "        target_size=(width, height),    \n",
    "        batch_size=1,\n",
    "        class_mode='categorical')\n",
    "yp = model.predict_generator(test_generator)\n",
    "print(yp)\n",
    "print('타겟: Andrew Lincoln /', display(yp))    # 2차원 텐서 전달"
   ]
  },
  {
   "cell_type": "code",
   "execution_count": 14,
   "metadata": {
    "colab": {
     "base_uri": "https://localhost:8080/"
    },
    "executionInfo": {
     "elapsed": 716,
     "status": "ok",
     "timestamp": 1661573345631,
     "user": {
      "displayName": "강사엄기흥",
      "userId": "12410353940363031053"
     },
     "user_tz": -540
    },
    "id": "6VRk7jS7nVaw",
    "outputId": "6f053042-107b-4ecf-8fde-36757165b211"
   },
   "outputs": [
    {
     "name": "stdout",
     "output_type": "stream",
     "text": [
      "Found 1 images belonging to 1 classes.\n",
      "[[0.000 0.000 1.000 0.000 0.000 0.000 0.000]]\n",
      "타겟: Anne Hathaway / Anne Hathaway\n"
     ]
    }
   ],
   "source": [
    "# 테스트용 데이터 생성기\n",
    "test_datagen = ImageDataGenerator(rescale=1./255)\n",
    " \n",
    "test_generator = test_datagen.flow_from_directory(\n",
    "        '/content/drive/My Drive/kd_ml/cnn/actor/test3',\n",
    "        target_size=(width, height),    \n",
    "        batch_size=1,\n",
    "        class_mode='categorical')\n",
    "yp = model.predict_generator(test_generator)\n",
    "print(yp)\n",
    "print('타겟: Anne Hathaway /', display(yp))    # 2차원 텐서 전달"
   ]
  },
  {
   "cell_type": "code",
   "execution_count": 15,
   "metadata": {
    "colab": {
     "base_uri": "https://localhost:8080/"
    },
    "executionInfo": {
     "elapsed": 501,
     "status": "ok",
     "timestamp": 1661573361629,
     "user": {
      "displayName": "강사엄기흥",
      "userId": "12410353940363031053"
     },
     "user_tz": -540
    },
    "id": "MYe0iiPanVaw",
    "outputId": "2f760648-4842-4bf6-eaed-381d15ac6cb6"
   },
   "outputs": [
    {
     "name": "stdout",
     "output_type": "stream",
     "text": [
      "Found 1 images belonging to 1 classes.\n",
      "[[0.002 0.002 0.003 0.001 0.945 0.035 0.011]]\n",
      "타겟: Keira Christina Knightley / Keira Christina Knightley\n"
     ]
    }
   ],
   "source": [
    "# 테스트용 데이터 생성기\n",
    "test_datagen = ImageDataGenerator(rescale=1./255)\n",
    " \n",
    "test_generator = test_datagen.flow_from_directory(\n",
    "        '/content/drive/My Drive/kd_ml/cnn/actor/test4',\n",
    "        target_size=(width, height),    \n",
    "        batch_size=1,\n",
    "        class_mode='categorical')\n",
    "yp = model.predict_generator(test_generator)\n",
    "print(yp)\n",
    "print('타겟: Keira Christina Knightley /', display(yp))    # 2차원 텐서 전달"
   ]
  },
  {
   "cell_type": "code",
   "execution_count": 16,
   "metadata": {
    "colab": {
     "base_uri": "https://localhost:8080/"
    },
    "executionInfo": {
     "elapsed": 741,
     "status": "ok",
     "timestamp": 1661573374775,
     "user": {
      "displayName": "강사엄기흥",
      "userId": "12410353940363031053"
     },
     "user_tz": -540
    },
    "id": "kZ_OzqeKnVaw",
    "outputId": "83deaa3a-b299-40d7-d826-30d74cc64e55"
   },
   "outputs": [
    {
     "name": "stdout",
     "output_type": "stream",
     "text": [
      "Found 1 images belonging to 1 classes.\n",
      "[[0.005 0.027 0.002 0.002 0.055 0.908 0.001]]\n",
      "타겟: Pierce Brosnan / Pierce Brosnan\n"
     ]
    }
   ],
   "source": [
    "# 테스트용 데이터 생성기\n",
    "test_datagen = ImageDataGenerator(rescale=1./255)\n",
    " \n",
    "test_generator = test_datagen.flow_from_directory(\n",
    "        '/content/drive/My Drive/kd_ml/cnn/actor/test5',\n",
    "        target_size=(width, height),    \n",
    "        batch_size=1,\n",
    "        class_mode='categorical')\n",
    "yp = model.predict_generator(test_generator)\n",
    "print(yp)\n",
    "print('타겟: Pierce Brosnan /', display(yp))    # 2차원 텐서 전달"
   ]
  },
  {
   "cell_type": "code",
   "execution_count": 17,
   "metadata": {
    "colab": {
     "base_uri": "https://localhost:8080/"
    },
    "executionInfo": {
     "elapsed": 755,
     "status": "ok",
     "timestamp": 1661573387134,
     "user": {
      "displayName": "강사엄기흥",
      "userId": "12410353940363031053"
     },
     "user_tz": -540
    },
    "id": "N-Lmiah0nVax",
    "outputId": "b267638e-61f3-49c7-914e-9cf91c7b3403"
   },
   "outputs": [
    {
     "name": "stdout",
     "output_type": "stream",
     "text": [
      "Found 1 images belonging to 1 classes.\n",
      "[[0.001 0.000 0.000 0.000 0.002 0.000 0.997]]\n",
      "타겟: 조정석 / 조정석\n"
     ]
    }
   ],
   "source": [
    "# 테스트용 데이터 생성기\n",
    "test_datagen = ImageDataGenerator(rescale=1./255)\n",
    " \n",
    "test_generator = test_datagen.flow_from_directory(\n",
    "        '/content/drive/My Drive/kd_ml/cnn/actor/test6',\n",
    "        target_size=(width, height),    \n",
    "        batch_size=1,\n",
    "        class_mode='categorical')\n",
    "yp = model.predict_generator(test_generator)\n",
    "print(yp)\n",
    "print('타겟: 조정석 /', display(yp))    # 2차원 텐서 전달"
   ]
  },
  {
   "cell_type": "code",
   "execution_count": 18,
   "metadata": {
    "colab": {
     "base_uri": "https://localhost:8080/"
    },
    "executionInfo": {
     "elapsed": 805,
     "status": "ok",
     "timestamp": 1661573397721,
     "user": {
      "displayName": "강사엄기흥",
      "userId": "12410353940363031053"
     },
     "user_tz": -540
    },
    "id": "5R3Y43KOnVax",
    "outputId": "cd0bc1f3-e590-44ea-e3ed-cff4b74c1487"
   },
   "outputs": [
    {
     "name": "stdout",
     "output_type": "stream",
     "text": [
      "Found 1 images belonging to 1 classes.\n",
      "[[0.000 0.003 0.000 0.937 0.004 0.056 0.000]]\n",
      "타겟: Hugh Jackman / Hugh Jackman\n"
     ]
    }
   ],
   "source": [
    "# 테스트용 데이터 생성기\n",
    "test_datagen = ImageDataGenerator(rescale=1./255)\n",
    " \n",
    "test_generator = test_datagen.flow_from_directory(\n",
    "        '/content/drive/My Drive/kd_ml/cnn/actor/test7',\n",
    "        target_size=(width, height),    \n",
    "        batch_size=1,\n",
    "        class_mode='categorical')\n",
    "yp = model.predict_generator(test_generator)\n",
    "print(yp)\n",
    "print('타겟: Hugh Jackman /', display(yp))    # 2차원 텐서 전달"
   ]
  },
  {
   "cell_type": "code",
   "execution_count": null,
   "metadata": {
    "id": "ngRAZscTnVax"
   },
   "outputs": [],
   "source": []
  },
  {
   "cell_type": "code",
   "execution_count": null,
   "metadata": {
    "id": "eF8UCcvFnVax"
   },
   "outputs": [],
   "source": []
  }
 ],
 "metadata": {
  "accelerator": "GPU",
  "colab": {
   "collapsed_sections": [],
   "name": "Actor.ipynb",
   "provenance": []
  },
  "gpuClass": "standard",
  "kernelspec": {
   "display_name": "ai",
   "language": "python",
   "name": "ai"
  },
  "language_info": {
   "codemirror_mode": {
    "name": "ipython",
    "version": 3
   },
   "file_extension": ".py",
   "mimetype": "text/x-python",
   "name": "python",
   "nbconvert_exporter": "python",
   "pygments_lexer": "ipython3",
   "version": "3.9.16"
  }
 },
 "nbformat": 4,
 "nbformat_minor": 1
}
