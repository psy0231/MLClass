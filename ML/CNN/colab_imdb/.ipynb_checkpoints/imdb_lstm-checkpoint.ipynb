{
 "cells": [
  {
   "cell_type": "markdown",
   "metadata": {
    "id": "GbgmhRD5k-sB"
   },
   "source": [
    "# LSTM과 GRU 셀"
   ]
  },
  {
   "cell_type": "markdown",
   "metadata": {
    "id": "nvrq_NlNk-sE"
   },
   "source": [
    "## LSTM 신경망 훈련하기"
   ]
  },
  {
   "cell_type": "code",
   "execution_count": null,
   "metadata": {
    "execution": {
     "iopub.execute_input": "2020-10-12T09:05:30.590337Z",
     "iopub.status.busy": "2020-10-12T09:05:30.589154Z",
     "iopub.status.idle": "2020-10-12T09:05:40.880700Z",
     "shell.execute_reply": "2020-10-12T09:05:40.879133Z"
    },
    "id": "5untRl9mk-sF"
   },
   "outputs": [],
   "source": [
    "import time\n",
    "\n",
    "import numpy as np\n",
    "\n",
    "from tensorflow.keras.models import Sequential  # class\n",
    "from tensorflow.keras.preprocessing.sequence import pad_sequences\n",
    "from tensorflow.keras.optimizers import Adam\n",
    "from tensorflow.keras.optimizers import RMSprop\n",
    "from tensorflow.keras.layers import Dense    \n",
    "from tensorflow.keras.layers import SimpleRNN    \n",
    "from tensorflow.keras.layers import Embedding    \n",
    "from tensorflow.keras.layers import LSTM  \n",
    "from tensorflow.keras.layers import GRU    \n",
    "from tensorflow.keras.layers import Dropout     # 특정 node를 사용안함.\n",
    "from tensorflow.keras.callbacks import EarlyStopping   # 학습 자동 중지\n",
    "from tensorflow.keras.callbacks import ModelCheckpoint # 우수한 학습 모델 파일 저장\n",
    "from tensorflow.keras.utils import to_categorical\n",
    "\n",
    "from sklearn.model_selection import train_test_split\n",
    "\n",
    "import matplotlib.pyplot as plt\n",
    "%matplotlib inline  \n",
    "\n",
    "from tensorflow.keras.datasets import imdb\n",
    "\n",
    "# ---------------------------------------------------------------------\n",
    "# gpu 사용시 런타임에서 필요한 양만큼의 GPU 메모리를 할당후 자동 증가 처리\n",
    "# OS 메모리도 초기화됨.\n",
    "# ---------------------------------------------------------------------\n",
    "import tensorflow as tf\n",
    "\n",
    "gpus = tf.config.experimental.list_physical_devices('GPU')\n",
    "if gpus:\n",
    "    try:\n",
    "        tf.config.experimental.set_memory_growth(gpus[0], True)\n",
    "    except RuntimeError as e:\n",
    "        # 프로그램 시작시에 메모리 증가가 설정되어야만 합니다\n",
    "        print(e)\n",
    "    \n",
    "# ---------------------------------------------------------------------\n"
   ]
  },
  {
   "cell_type": "code",
   "execution_count": null,
   "metadata": {
    "colab": {
     "base_uri": "https://localhost:8080/"
    },
    "executionInfo": {
     "elapsed": 5283,
     "status": "ok",
     "timestamp": 1614758273009,
     "user": {
      "displayName": "testcell2014@gmail.com",
      "photoUrl": "",
      "userId": "01526551539493392428"
     },
     "user_tz": -540
    },
    "id": "1F1lBGdKtxwv",
    "outputId": "f64b0875-7496-4d89-ad4c-f75455de8800"
   },
   "outputs": [
    {
     "name": "stderr",
     "output_type": "stream",
     "text": [
      "<string>:6: VisibleDeprecationWarning: Creating an ndarray from ragged nested sequences (which is a list-or-tuple of lists-or-tuples-or ndarrays with different lengths or shapes) is deprecated. If you meant to do this, you must specify 'dtype=object' when creating the ndarray\n",
      "/usr/local/lib/python3.7/dist-packages/tensorflow/python/keras/datasets/imdb.py:159: VisibleDeprecationWarning: Creating an ndarray from ragged nested sequences (which is a list-or-tuple of lists-or-tuples-or ndarrays with different lengths or shapes) is deprecated. If you meant to do this, you must specify 'dtype=object' when creating the ndarray\n",
      "  x_train, y_train = np.array(xs[:idx]), np.array(labels[:idx])\n",
      "/usr/local/lib/python3.7/dist-packages/tensorflow/python/keras/datasets/imdb.py:160: VisibleDeprecationWarning: Creating an ndarray from ragged nested sequences (which is a list-or-tuple of lists-or-tuples-or ndarrays with different lengths or shapes) is deprecated. If you meant to do this, you must specify 'dtype=object' when creating the ndarray\n",
      "  x_test, y_test = np.array(xs[idx:]), np.array(labels[idx:])\n"
     ]
    }
   ],
   "source": [
    "(train_input, train_target), (test_input, test_target) = imdb.load_data(\n",
    "    num_words=500)\n",
    "\n",
    "train_input, val_input, train_target, val_target = train_test_split(\n",
    "    train_input, train_target, test_size=0.2, random_state=42)"
   ]
  },
  {
   "cell_type": "code",
   "execution_count": null,
   "metadata": {
    "execution": {
     "iopub.execute_input": "2020-10-12T09:05:40.904623Z",
     "iopub.status.busy": "2020-10-12T09:05:40.902896Z",
     "iopub.status.idle": "2020-10-12T09:05:41.543511Z",
     "shell.execute_reply": "2020-10-12T09:05:41.542251Z"
    },
    "id": "i1-mw1MQk-sF"
   },
   "outputs": [],
   "source": [
    "train_seq = pad_sequences(train_input, maxlen=100)\n",
    "val_seq = pad_sequences(val_input, maxlen=100)\n",
    "test_seq = pad_sequences(test_input, maxlen=100)"
   ]
  },
  {
   "cell_type": "code",
   "execution_count": null,
   "metadata": {
    "colab": {
     "base_uri": "https://localhost:8080/"
    },
    "execution": {
     "iopub.execute_input": "2020-10-12T09:05:44.007411Z",
     "iopub.status.busy": "2020-10-12T09:05:44.005663Z",
     "iopub.status.idle": "2020-10-12T09:09:36.703760Z",
     "shell.execute_reply": "2020-10-12T09:09:36.702162Z"
    },
    "executionInfo": {
     "elapsed": 47247,
     "status": "ok",
     "timestamp": 1614758333843,
     "user": {
      "displayName": "testcell2014@gmail.com",
      "photoUrl": "",
      "userId": "01526551539493392428"
     },
     "user_tz": -540
    },
    "id": "U4os8F7_k-sF",
    "outputId": "7559917f-1f99-49dd-bc22-20a666805bda"
   },
   "outputs": [
    {
     "name": "stdout",
     "output_type": "stream",
     "text": [
      "Model: \"sequential\"\n",
      "_________________________________________________________________\n",
      "Layer (type)                 Output Shape              Param #   \n",
      "=================================================================\n",
      "embedding (Embedding)        (None, 100, 16)           8000      \n",
      "_________________________________________________________________\n",
      "lstm (LSTM)                  (None, 8)                 800       \n",
      "_________________________________________________________________\n",
      "dense (Dense)                (None, 1)                 9         \n",
      "=================================================================\n",
      "Total params: 8,809\n",
      "Trainable params: 8,809\n",
      "Non-trainable params: 0\n",
      "_________________________________________________________________\n",
      "Epoch 1/100\n",
      "313/313 [==============================] - 7s 10ms/step - loss: 0.6927 - accuracy: 0.5263 - val_loss: 0.6912 - val_accuracy: 0.5790\n",
      "Epoch 2/100\n",
      "313/313 [==============================] - 2s 8ms/step - loss: 0.6904 - accuracy: 0.5916 - val_loss: 0.6879 - val_accuracy: 0.6082\n",
      "Epoch 3/100\n",
      "313/313 [==============================] - 2s 8ms/step - loss: 0.6861 - accuracy: 0.6277 - val_loss: 0.6807 - val_accuracy: 0.6370\n",
      "Epoch 4/100\n",
      "313/313 [==============================] - 3s 8ms/step - loss: 0.6764 - accuracy: 0.6508 - val_loss: 0.6580 - val_accuracy: 0.6768\n",
      "Epoch 5/100\n",
      "313/313 [==============================] - 2s 8ms/step - loss: 0.6375 - accuracy: 0.6902 - val_loss: 0.5810 - val_accuracy: 0.7346\n",
      "Epoch 6/100\n",
      "313/313 [==============================] - 2s 8ms/step - loss: 0.5716 - accuracy: 0.7441 - val_loss: 0.5529 - val_accuracy: 0.7492\n",
      "Epoch 7/100\n",
      "313/313 [==============================] - 2s 8ms/step - loss: 0.5428 - accuracy: 0.7561 - val_loss: 0.5336 - val_accuracy: 0.7536\n",
      "Epoch 8/100\n",
      "313/313 [==============================] - 2s 8ms/step - loss: 0.5235 - accuracy: 0.7634 - val_loss: 0.5137 - val_accuracy: 0.7672\n",
      "Epoch 9/100\n",
      "313/313 [==============================] - 2s 8ms/step - loss: 0.5048 - accuracy: 0.7710 - val_loss: 0.4988 - val_accuracy: 0.7766\n",
      "Epoch 10/100\n",
      "313/313 [==============================] - 2s 8ms/step - loss: 0.4845 - accuracy: 0.7839 - val_loss: 0.4863 - val_accuracy: 0.7814\n",
      "Epoch 11/100\n",
      "313/313 [==============================] - 2s 8ms/step - loss: 0.4753 - accuracy: 0.7860 - val_loss: 0.4787 - val_accuracy: 0.7792\n",
      "Epoch 12/100\n",
      "313/313 [==============================] - 2s 8ms/step - loss: 0.4615 - accuracy: 0.7957 - val_loss: 0.4680 - val_accuracy: 0.7868\n",
      "Epoch 13/100\n",
      "313/313 [==============================] - 2s 8ms/step - loss: 0.4486 - accuracy: 0.8008 - val_loss: 0.4611 - val_accuracy: 0.7886\n",
      "Epoch 14/100\n",
      "313/313 [==============================] - 2s 8ms/step - loss: 0.4457 - accuracy: 0.8031 - val_loss: 0.4542 - val_accuracy: 0.7932\n",
      "Epoch 15/100\n",
      "313/313 [==============================] - 2s 8ms/step - loss: 0.4352 - accuracy: 0.8085 - val_loss: 0.4501 - val_accuracy: 0.7958\n",
      "Epoch 16/100\n",
      "313/313 [==============================] - 2s 8ms/step - loss: 0.4335 - accuracy: 0.8110 - val_loss: 0.4474 - val_accuracy: 0.7952\n",
      "Epoch 17/100\n",
      "313/313 [==============================] - 2s 8ms/step - loss: 0.4268 - accuracy: 0.8120 - val_loss: 0.4474 - val_accuracy: 0.7942\n",
      "Runtime: 45.86 초\n"
     ]
    }
   ],
   "source": [
    "model = Sequential()\n",
    "\n",
    "model.add(Embedding(500, 16, input_length=100))\n",
    "model.add(LSTM(8))\n",
    "model.add(Dense(1, activation='sigmoid'))\n",
    "\n",
    "model.summary()\n",
    "\n",
    "model.compile(optimizer=RMSprop(learning_rate=0.0001), loss='binary_crossentropy', \n",
    "              metrics=['accuracy'])\n",
    "\n",
    "checkpoint = ModelCheckpoint('imdb_lstm.h5')\n",
    "early_stopping = EarlyStopping(patience=1, restore_best_weights=True)\n",
    "\n",
    "start = time.time()\n",
    "hist = model.fit(train_seq, train_target, epochs=100, batch_size=64,\n",
    "                    validation_data=(val_seq, val_target),\n",
    "                    callbacks=[checkpoint, early_stopping])\n",
    "end = time.time()\n",
    "print('Runtime: {0:.2f} 초'.format(end-start))\n",
    "# cpu:  초, i5 8500:  초\n",
    "# Colab cpu: 257 초, gpu: 45 초"
   ]
  },
  {
   "cell_type": "code",
   "execution_count": null,
   "metadata": {
    "colab": {
     "base_uri": "https://localhost:8080/",
     "height": 338
    },
    "execution": {
     "iopub.execute_input": "2020-10-12T09:09:36.725150Z",
     "iopub.status.busy": "2020-10-12T09:09:36.723949Z",
     "iopub.status.idle": "2020-10-12T09:09:37.618677Z",
     "shell.execute_reply": "2020-10-12T09:09:37.620018Z"
    },
    "executionInfo": {
     "elapsed": 886,
     "status": "ok",
     "timestamp": 1614758377320,
     "user": {
      "displayName": "testcell2014@gmail.com",
      "photoUrl": "",
      "userId": "01526551539493392428"
     },
     "user_tz": -540
    },
    "id": "xepCUaxik-sG",
    "outputId": "da577a60-4041-4fbe-e208-5c7dde01bf6a"
   },
   "outputs": [
    {
     "data": {
      "image/png": "[encoded data removed]",
      "text/plain": [
       "<Figure size 720x360 with 2 Axes>"
      ]
     },
     "metadata": {
      "needs_background": "light",
      "tags": []
     },
     "output_type": "display_data"
    }
   ],
   "source": [
    "fig, loss_ax = plt.subplots()\n",
    "# plt.figure(figsize=(6,4)) # ERROR\n",
    "fig.set_size_inches(10, 5)  # 챠트 크기 설정\n",
    "\n",
    "acc_ax = loss_ax.twinx()  # 오른쪽 y 출 설정\n",
    "\n",
    "# 왼쪽 y 축 설정\n",
    "loss_ax.plot(hist.history['loss'], 'y', label='train loss')\n",
    "loss_ax.plot(hist.history['val_loss'], 'r', label='val loss')\n",
    "loss_ax.set_ylim([0.0, 1.0]) # 값을 반영하여 변경\n",
    "\n",
    "# 오른쪽 y 축 설정\n",
    "acc_ax.plot(hist.history['accuracy'], 'b', label='train accuracy')\n",
    "acc_ax.plot(hist.history['val_accuracy'], 'g', label='val accuracy')\n",
    "acc_ax.set_ylim([0.0, 1.0])\n",
    "\n",
    "# 축 레이블 설정\n",
    "loss_ax.set_xlabel('epoch')  # 학습 횟수\n",
    "loss_ax.set_ylabel('loss')   # 오차\n",
    "acc_ax.set_ylabel('accuracy') # 정확도\n",
    "\n",
    "loss_ax.legend(loc='upper left') # 오차 레이블 위치\n",
    "acc_ax.legend(loc='lower left')  # 정확도 레이블 위치\n",
    "\n",
    "plt.show()"
   ]
  },
  {
   "cell_type": "code",
   "execution_count": null,
   "metadata": {
    "colab": {
     "base_uri": "https://localhost:8080/"
    },
    "executionInfo": {
     "elapsed": 1766,
     "status": "ok",
     "timestamp": 1614758380471,
     "user": {
      "displayName": "testcell2014@gmail.com",
      "photoUrl": "",
      "userId": "01526551539493392428"
     },
     "user_tz": -540
    },
    "id": "TF7D7noxuirT",
    "outputId": "e53869b7-7e51-4e4d-b1e9-f0104c9acc7e"
   },
   "outputs": [
    {
     "name": "stdout",
     "output_type": "stream",
     "text": [
      "손실값: 0.44419535994529724 /정확도: 79.34399843215942 %\n"
     ]
    }
   ],
   "source": [
    "test_loss, test_acc = model.evaluate(test_seq, test_target, batch_size=64, verbose=0)\n",
    "print('손실값:', test_loss, '/정확도:', (test_acc*100), '%')"
   ]
  },
  {
   "cell_type": "markdown",
   "metadata": {
    "id": "s-BBmG6Fk-sG"
   },
   "source": [
    "## 순환 층에 드롭아웃 적용하기"
   ]
  },
  {
   "cell_type": "code",
   "execution_count": null,
   "metadata": {
    "colab": {
     "base_uri": "https://localhost:8080/"
    },
    "execution": {
     "iopub.execute_input": "2020-10-12T09:09:37.868353Z",
     "iopub.status.busy": "2020-10-12T09:09:37.866777Z",
     "iopub.status.idle": "2020-10-12T09:13:59.438760Z",
     "shell.execute_reply": "2020-10-12T09:13:59.440154Z"
    },
    "executionInfo": {
     "elapsed": 61860,
     "status": "ok",
     "timestamp": 1614758460025,
     "user": {
      "displayName": "testcell2014@gmail.com",
      "photoUrl": "",
      "userId": "01526551539493392428"
     },
     "user_tz": -540
    },
    "id": "K1JXND05k-sH",
    "outputId": "57f274ab-cf4c-4616-8497-4f21e5050388"
   },
   "outputs": [
    {
     "name": "stdout",
     "output_type": "stream",
     "text": [
      "Epoch 1/100\n",
      "313/313 [==============================] - 4s 9ms/step - loss: 0.6932 - accuracy: 0.5046 - val_loss: 0.6925 - val_accuracy: 0.5284\n",
      "Epoch 2/100\n",
      "313/313 [==============================] - 2s 8ms/step - loss: 0.6918 - accuracy: 0.5612 - val_loss: 0.6906 - val_accuracy: 0.5710\n",
      "Epoch 3/100\n",
      "313/313 [==============================] - 2s 8ms/step - loss: 0.6890 - accuracy: 0.6157 - val_loss: 0.6860 - val_accuracy: 0.6320\n",
      "Epoch 4/100\n",
      "313/313 [==============================] - 2s 8ms/step - loss: 0.6829 - accuracy: 0.6480 - val_loss: 0.6685 - val_accuracy: 0.6894\n",
      "Epoch 5/100\n",
      "313/313 [==============================] - 2s 8ms/step - loss: 0.6465 - accuracy: 0.7076 - val_loss: 0.5998 - val_accuracy: 0.7008\n",
      "Epoch 6/100\n",
      "313/313 [==============================] - 2s 8ms/step - loss: 0.5931 - accuracy: 0.7127 - val_loss: 0.5761 - val_accuracy: 0.7248\n",
      "Epoch 7/100\n",
      "313/313 [==============================] - 2s 8ms/step - loss: 0.5727 - accuracy: 0.7260 - val_loss: 0.5523 - val_accuracy: 0.7516\n",
      "Epoch 8/100\n",
      "313/313 [==============================] - 2s 8ms/step - loss: 0.5507 - accuracy: 0.7436 - val_loss: 0.5329 - val_accuracy: 0.7602\n",
      "Epoch 9/100\n",
      "313/313 [==============================] - 2s 8ms/step - loss: 0.5287 - accuracy: 0.7620 - val_loss: 0.5156 - val_accuracy: 0.7750\n",
      "Epoch 10/100\n",
      "313/313 [==============================] - 2s 8ms/step - loss: 0.5143 - accuracy: 0.7699 - val_loss: 0.5025 - val_accuracy: 0.7818\n",
      "Epoch 11/100\n",
      "313/313 [==============================] - 2s 8ms/step - loss: 0.4959 - accuracy: 0.7824 - val_loss: 0.4891 - val_accuracy: 0.7850\n",
      "Epoch 12/100\n",
      "313/313 [==============================] - 2s 8ms/step - loss: 0.4810 - accuracy: 0.7877 - val_loss: 0.4804 - val_accuracy: 0.7864\n",
      "Epoch 13/100\n",
      "313/313 [==============================] - 2s 8ms/step - loss: 0.4766 - accuracy: 0.7885 - val_loss: 0.4713 - val_accuracy: 0.7948\n",
      "Epoch 14/100\n",
      "313/313 [==============================] - 2s 8ms/step - loss: 0.4700 - accuracy: 0.7933 - val_loss: 0.4637 - val_accuracy: 0.7974\n",
      "Epoch 15/100\n",
      "313/313 [==============================] - 2s 8ms/step - loss: 0.4597 - accuracy: 0.7970 - val_loss: 0.4606 - val_accuracy: 0.7940\n",
      "Epoch 16/100\n",
      "313/313 [==============================] - 2s 8ms/step - loss: 0.4568 - accuracy: 0.7962 - val_loss: 0.4531 - val_accuracy: 0.7976\n",
      "Epoch 17/100\n",
      "313/313 [==============================] - 2s 8ms/step - loss: 0.4484 - accuracy: 0.7992 - val_loss: 0.4506 - val_accuracy: 0.7980\n",
      "Epoch 18/100\n",
      "313/313 [==============================] - 2s 8ms/step - loss: 0.4429 - accuracy: 0.8023 - val_loss: 0.4457 - val_accuracy: 0.7998\n",
      "Epoch 19/100\n",
      "313/313 [==============================] - 2s 8ms/step - loss: 0.4418 - accuracy: 0.8043 - val_loss: 0.4454 - val_accuracy: 0.7998\n",
      "Epoch 20/100\n",
      "313/313 [==============================] - 2s 8ms/step - loss: 0.4406 - accuracy: 0.8007 - val_loss: 0.4416 - val_accuracy: 0.7998\n",
      "Epoch 21/100\n",
      "313/313 [==============================] - 2s 8ms/step - loss: 0.4396 - accuracy: 0.7992 - val_loss: 0.4388 - val_accuracy: 0.7996\n",
      "Epoch 22/100\n",
      "313/313 [==============================] - 2s 8ms/step - loss: 0.4358 - accuracy: 0.8020 - val_loss: 0.4374 - val_accuracy: 0.8002\n",
      "Epoch 23/100\n",
      "313/313 [==============================] - 3s 8ms/step - loss: 0.4330 - accuracy: 0.8041 - val_loss: 0.4356 - val_accuracy: 0.7982\n",
      "Epoch 24/100\n",
      "313/313 [==============================] - 2s 8ms/step - loss: 0.4273 - accuracy: 0.8068 - val_loss: 0.4373 - val_accuracy: 0.8006\n",
      "Runtime: 61.28 초\n"
     ]
    }
   ],
   "source": [
    "model = Sequential()\n",
    "\n",
    "model.add(Embedding(500, 16, input_length=100))\n",
    "model.add(LSTM(8, dropout=0.3))\n",
    "model.add(Dense(1, activation='sigmoid'))\n",
    "\n",
    "model.compile(optimizer=RMSprop(learning_rate=0.0001), loss='binary_crossentropy', metrics=['accuracy'])\n",
    "\n",
    "checkpoint = ModelCheckpoint('imdb_lstm_dropout.h5')\n",
    "early_stopping = EarlyStopping(patience=1, restore_best_weights=True)\n",
    "\n",
    "start = time.time()\n",
    "hist = model.fit(train_seq, train_target, epochs=100, batch_size=64,\n",
    "                 validation_data=(val_seq, val_target),\n",
    "                 callbacks=[checkpoint, early_stopping])\n",
    "end = time.time()\n",
    "print('Runtime: {0:.2f} 초'.format(end-start))\n",
    "# cpu:  초, i5 8500:  초\n",
    "# Colab cpu: 257 초, gpu: 61 초"
   ]
  },
  {
   "cell_type": "code",
   "execution_count": null,
   "metadata": {
    "colab": {
     "base_uri": "https://localhost:8080/",
     "height": 338
    },
    "execution": {
     "iopub.execute_input": "2020-10-12T09:13:59.466740Z",
     "iopub.status.busy": "2020-10-12T09:13:59.465154Z",
     "iopub.status.idle": "2020-10-12T09:14:00.055101Z",
     "shell.execute_reply": "2020-10-12T09:14:00.056561Z"
    },
    "executionInfo": {
     "elapsed": 967,
     "status": "ok",
     "timestamp": 1614758477373,
     "user": {
      "displayName": "testcell2014@gmail.com",
      "photoUrl": "",
      "userId": "01526551539493392428"
     },
     "user_tz": -540
    },
    "id": "CLihdQQzk-sH",
    "outputId": "38789477-058a-4919-8e3b-92882b57ddfa"
   },
   "outputs": [
    {
     "data": {
      "image/png": "[encoded data removed]",
      "text/plain": [
       "<Figure size 720x360 with 2 Axes>"
      ]
     },
     "metadata": {
      "needs_background": "light",
      "tags": []
     },
     "output_type": "display_data"
    }
   ],
   "source": [
    "fig, loss_ax = plt.subplots()\n",
    "# plt.figure(figsize=(6,4)) # ERROR\n",
    "fig.set_size_inches(10, 5)  # 챠트 크기 설정\n",
    "\n",
    "acc_ax = loss_ax.twinx()  # 오른쪽 y 출 설정\n",
    "\n",
    "# 왼쪽 y 축 설정\n",
    "loss_ax.plot(hist.history['loss'], 'y', label='train loss')\n",
    "loss_ax.plot(hist.history['val_loss'], 'r', label='val loss')\n",
    "loss_ax.set_ylim([0.0, 1.0]) # 값을 반영하여 변경\n",
    "\n",
    "# 오른쪽 y 축 설정\n",
    "acc_ax.plot(hist.history['accuracy'], 'b', label='train accuracy')\n",
    "acc_ax.plot(hist.history['val_accuracy'], 'g', label='val accuracy')\n",
    "acc_ax.set_ylim([0.0, 1.0])\n",
    "\n",
    "# 축 레이블 설정\n",
    "loss_ax.set_xlabel('epoch')  # 학습 횟수\n",
    "loss_ax.set_ylabel('loss')   # 오차\n",
    "acc_ax.set_ylabel('accuracy') # 정확도\n",
    "\n",
    "loss_ax.legend(loc='upper left') # 오차 레이블 위치\n",
    "acc_ax.legend(loc='lower left')  # 정확도 레이블 위치\n",
    "\n",
    "plt.show()"
   ]
  },
  {
   "cell_type": "code",
   "execution_count": null,
   "metadata": {
    "colab": {
     "base_uri": "https://localhost:8080/"
    },
    "executionInfo": {
     "elapsed": 1730,
     "status": "ok",
     "timestamp": 1614758480103,
     "user": {
      "displayName": "testcell2014@gmail.com",
      "photoUrl": "",
      "userId": "01526551539493392428"
     },
     "user_tz": -540
    },
    "id": "qCJ0wtD3ySYJ",
    "outputId": "8bbeac09-039c-4a99-bb92-6d335826365b"
   },
   "outputs": [
    {
     "name": "stdout",
     "output_type": "stream",
     "text": [
      "손실값: 0.43196484446525574 /정확도: 80.103999376297 %\n"
     ]
    }
   ],
   "source": [
    "test_loss, test_acc = model.evaluate(test_seq, test_target, batch_size=64, verbose=0)\n",
    "print('손실값:', test_loss, '/정확도:', (test_acc*100), '%')"
   ]
  },
  {
   "cell_type": "markdown",
   "metadata": {
    "id": "4J_ylvprk-sI"
   },
   "source": [
    "## 2개의 층을 연결하기"
   ]
  },
  {
   "cell_type": "code",
   "execution_count": null,
   "metadata": {
    "colab": {
     "base_uri": "https://localhost:8080/"
    },
    "execution": {
     "iopub.execute_input": "2020-10-12T09:14:00.485178Z",
     "iopub.status.busy": "2020-10-12T09:14:00.483959Z",
     "iopub.status.idle": "2020-10-12T09:20:24.570047Z",
     "shell.execute_reply": "2020-10-12T09:20:24.571421Z"
    },
    "executionInfo": {
     "elapsed": 33972,
     "status": "ok",
     "timestamp": 1614758539644,
     "user": {
      "displayName": "testcell2014@gmail.com",
      "photoUrl": "",
      "userId": "01526551539493392428"
     },
     "user_tz": -540
    },
    "id": "12f3ZPHRk-sI",
    "outputId": "f08dc223-cd6a-4ecd-b0f6-40e1f9a5a90d"
   },
   "outputs": [
    {
     "name": "stdout",
     "output_type": "stream",
     "text": [
      "Model: \"sequential_2\"\n",
      "_________________________________________________________________\n",
      "Layer (type)                 Output Shape              Param #   \n",
      "=================================================================\n",
      "embedding_2 (Embedding)      (None, 100, 16)           8000      \n",
      "_________________________________________________________________\n",
      "lstm_2 (LSTM)                (None, 100, 8)            800       \n",
      "_________________________________________________________________\n",
      "lstm_3 (LSTM)                (None, 8)                 544       \n",
      "_________________________________________________________________\n",
      "dense_2 (Dense)              (None, 1)                 9         \n",
      "=================================================================\n",
      "Total params: 9,353\n",
      "Trainable params: 9,353\n",
      "Non-trainable params: 0\n",
      "_________________________________________________________________\n",
      "Epoch 1/100\n",
      "313/313 [==============================] - 7s 14ms/step - loss: 0.6929 - accuracy: 0.5110 - val_loss: 0.6920 - val_accuracy: 0.5718\n",
      "Epoch 2/100\n",
      "313/313 [==============================] - 4s 12ms/step - loss: 0.6910 - accuracy: 0.6004 - val_loss: 0.6857 - val_accuracy: 0.6566\n",
      "Epoch 3/100\n",
      "313/313 [==============================] - 4s 12ms/step - loss: 0.6787 - accuracy: 0.6626 - val_loss: 0.6344 - val_accuracy: 0.6882\n",
      "Epoch 4/100\n",
      "313/313 [==============================] - 4s 12ms/step - loss: 0.6032 - accuracy: 0.7079 - val_loss: 0.5630 - val_accuracy: 0.7276\n",
      "Epoch 5/100\n",
      "313/313 [==============================] - 4s 12ms/step - loss: 0.5484 - accuracy: 0.7405 - val_loss: 0.5376 - val_accuracy: 0.7442\n",
      "Epoch 6/100\n",
      "313/313 [==============================] - 4s 12ms/step - loss: 0.5255 - accuracy: 0.7578 - val_loss: 0.5143 - val_accuracy: 0.7570\n",
      "Epoch 7/100\n",
      "313/313 [==============================] - 4s 12ms/step - loss: 0.5060 - accuracy: 0.7673 - val_loss: 0.4985 - val_accuracy: 0.7692\n",
      "Epoch 8/100\n",
      "313/313 [==============================] - 4s 12ms/step - loss: 0.4871 - accuracy: 0.7827 - val_loss: 0.5016 - val_accuracy: 0.7670\n",
      "Runtime: 33.02 초\n"
     ]
    }
   ],
   "source": [
    "model = Sequential()\n",
    "\n",
    "model.add(Embedding(500, 16, input_length=100))\n",
    "model.add(LSTM(8, return_sequences=True)) # return_sequences=True: LSTM을 2개 이상 구성하는 경우\n",
    "model.add(LSTM(8))\n",
    "model.add(Dense(1, activation='sigmoid'))\n",
    "\n",
    "model.summary()\n",
    "\n",
    "model.compile(optimizer=RMSprop(learning_rate=0.0001), loss='binary_crossentropy', \n",
    "               metrics=['accuracy'])\n",
    "\n",
    "checkpoint = ModelCheckpoint('imdb_lstm.h5')\n",
    "early_stopping = EarlyStopping(patience=1, restore_best_weights=True)\n",
    "\n",
    "start = time.time()\n",
    "hist = model.fit(train_seq, train_target, epochs=100, batch_size=64,\n",
    "                     validation_data=(val_seq, val_target),\n",
    "                     callbacks=[checkpoint, early_stopping])\n",
    "end = time.time()\n",
    "print('Runtime: {0:.2f} 초'.format(end-start))\n",
    "# cpu:  초, i5 8500:  초\n",
    "# Colab cpu: 257 초, gpu: 33 초"
   ]
  },
  {
   "cell_type": "code",
   "execution_count": null,
   "metadata": {
    "colab": {
     "base_uri": "https://localhost:8080/",
     "height": 338
    },
    "execution": {
     "iopub.execute_input": "2020-10-12T09:20:24.599872Z",
     "iopub.status.busy": "2020-10-12T09:20:24.598716Z",
     "iopub.status.idle": "2020-10-12T09:20:25.172291Z",
     "shell.execute_reply": "2020-10-12T09:20:25.173681Z"
    },
    "executionInfo": {
     "elapsed": 618,
     "status": "ok",
     "timestamp": 1614758685150,
     "user": {
      "displayName": "testcell2014@gmail.com",
      "photoUrl": "",
      "userId": "01526551539493392428"
     },
     "user_tz": -540
    },
    "id": "Rve8LGmIk-sI",
    "outputId": "bb9b4f90-c928-4c14-c45b-97d2cc4e9f3b"
   },
   "outputs": [
    {
     "data": {
      "image/png": "[encoded data removed]",
      "text/plain": [
       "<Figure size 720x360 with 2 Axes>"
      ]
     },
     "metadata": {
      "needs_background": "light",
      "tags": []
     },
     "output_type": "display_data"
    }
   ],
   "source": [
    "fig, loss_ax = plt.subplots()\n",
    "# plt.figure(figsize=(6,4)) # ERROR\n",
    "fig.set_size_inches(10, 5)  # 챠트 크기 설정\n",
    "\n",
    "acc_ax = loss_ax.twinx()  # 오른쪽 y 출 설정\n",
    "\n",
    "# 왼쪽 y 축 설정\n",
    "loss_ax.plot(hist.history['loss'], 'y', label='train loss')\n",
    "loss_ax.plot(hist.history['val_loss'], 'r', label='val loss')\n",
    "loss_ax.set_ylim([0.0, 1.0]) # 값을 반영하여 변경\n",
    "\n",
    "# 오른쪽 y 축 설정\n",
    "acc_ax.plot(hist.history['accuracy'], 'b', label='train accuracy')\n",
    "acc_ax.plot(hist.history['val_accuracy'], 'g', label='val accuracy')\n",
    "acc_ax.set_ylim([0.0, 1.0])\n",
    "\n",
    "# 축 레이블 설정\n",
    "loss_ax.set_xlabel('epoch')  # 학습 횟수\n",
    "loss_ax.set_ylabel('loss')   # 오차\n",
    "acc_ax.set_ylabel('accuracy') # 정확도\n",
    "\n",
    "loss_ax.legend(loc='upper left') # 오차 레이블 위치\n",
    "acc_ax.legend(loc='lower left')  # 정확도 레이블 위치\n",
    "\n",
    "plt.show()"
   ]
  },
  {
   "cell_type": "code",
   "execution_count": null,
   "metadata": {
    "colab": {
     "base_uri": "https://localhost:8080/"
    },
    "executionInfo": {
     "elapsed": 2421,
     "status": "ok",
     "timestamp": 1614758688631,
     "user": {
      "displayName": "testcell2014@gmail.com",
      "photoUrl": "",
      "userId": "01526551539493392428"
     },
     "user_tz": -540
    },
    "id": "a-6EpE3-zWae",
    "outputId": "152074c9-d294-4d01-f76a-e5da79c406c9"
   },
   "outputs": [
    {
     "name": "stdout",
     "output_type": "stream",
     "text": [
      "손실값: 0.49837926030158997 /정확도: 77.07200050354004 %\n"
     ]
    }
   ],
   "source": [
    "test_loss, test_acc = model.evaluate(test_seq, test_target, batch_size=64, verbose=0)\n",
    "print('손실값:', test_loss, '/정확도:', (test_acc*100), '%')"
   ]
  },
  {
   "cell_type": "markdown",
   "metadata": {
    "id": "hu4oPDO3k-sJ"
   },
   "source": [
    "## GRU 신경망 훈련하기"
   ]
  },
  {
   "cell_type": "code",
   "execution_count": null,
   "metadata": {
    "colab": {
     "base_uri": "https://localhost:8080/"
    },
    "execution": {
     "iopub.execute_input": "2020-10-12T09:20:25.420177Z",
     "iopub.status.busy": "2020-10-12T09:20:25.419630Z",
     "iopub.status.idle": "2020-10-12T09:25:10.574200Z",
     "shell.execute_reply": "2020-10-12T09:25:10.575704Z"
    },
    "executionInfo": {
     "elapsed": 67443,
     "status": "ok",
     "timestamp": 1614758785177,
     "user": {
      "displayName": "testcell2014@gmail.com",
      "photoUrl": "",
      "userId": "01526551539493392428"
     },
     "user_tz": -540
    },
    "id": "l-KwsiN0k-sJ",
    "outputId": "74713e89-1792-4360-fd8f-a94c8ed02876"
   },
   "outputs": [
    {
     "name": "stdout",
     "output_type": "stream",
     "text": [
      "Model: \"sequential_3\"\n",
      "_________________________________________________________________\n",
      "Layer (type)                 Output Shape              Param #   \n",
      "=================================================================\n",
      "embedding_3 (Embedding)      (None, 100, 16)           8000      \n",
      "_________________________________________________________________\n",
      "gru (GRU)                    (None, 8)                 624       \n",
      "_________________________________________________________________\n",
      "dense_3 (Dense)              (None, 1)                 9         \n",
      "=================================================================\n",
      "Total params: 8,633\n",
      "Trainable params: 8,633\n",
      "Non-trainable params: 0\n",
      "_________________________________________________________________\n",
      "Epoch 1/100\n",
      "313/313 [==============================] - 4s 10ms/step - loss: 0.6926 - accuracy: 0.5221 - val_loss: 0.6920 - val_accuracy: 0.5480\n",
      "Epoch 2/100\n",
      "313/313 [==============================] - 2s 8ms/step - loss: 0.6914 - accuracy: 0.5641 - val_loss: 0.6904 - val_accuracy: 0.5662\n",
      "Epoch 3/100\n",
      "313/313 [==============================] - 2s 7ms/step - loss: 0.6892 - accuracy: 0.5886 - val_loss: 0.6880 - val_accuracy: 0.5790\n",
      "Epoch 4/100\n",
      "313/313 [==============================] - 2s 8ms/step - loss: 0.6862 - accuracy: 0.5994 - val_loss: 0.6842 - val_accuracy: 0.5850\n",
      "Epoch 5/100\n",
      "313/313 [==============================] - 2s 8ms/step - loss: 0.6814 - accuracy: 0.6102 - val_loss: 0.6788 - val_accuracy: 0.5932\n",
      "Epoch 6/100\n",
      "313/313 [==============================] - 2s 8ms/step - loss: 0.6733 - accuracy: 0.6280 - val_loss: 0.6707 - val_accuracy: 0.6044\n",
      "Epoch 7/100\n",
      "313/313 [==============================] - 2s 8ms/step - loss: 0.6653 - accuracy: 0.6280 - val_loss: 0.6596 - val_accuracy: 0.6230\n",
      "Epoch 8/100\n",
      "313/313 [==============================] - 2s 8ms/step - loss: 0.6501 - accuracy: 0.6448 - val_loss: 0.6441 - val_accuracy: 0.6326\n",
      "Epoch 9/100\n",
      "313/313 [==============================] - 2s 8ms/step - loss: 0.6310 - accuracy: 0.6629 - val_loss: 0.6216 - val_accuracy: 0.6530\n",
      "Epoch 10/100\n",
      "313/313 [==============================] - 2s 8ms/step - loss: 0.5991 - accuracy: 0.6816 - val_loss: 0.5852 - val_accuracy: 0.6942\n",
      "Epoch 11/100\n",
      "313/313 [==============================] - 2s 8ms/step - loss: 0.5579 - accuracy: 0.7145 - val_loss: 0.5369 - val_accuracy: 0.7334\n",
      "Epoch 12/100\n",
      "313/313 [==============================] - 2s 8ms/step - loss: 0.5125 - accuracy: 0.7519 - val_loss: 0.5177 - val_accuracy: 0.7488\n",
      "Epoch 13/100\n",
      "313/313 [==============================] - 2s 8ms/step - loss: 0.4977 - accuracy: 0.7620 - val_loss: 0.5051 - val_accuracy: 0.7600\n",
      "Epoch 14/100\n",
      "313/313 [==============================] - 2s 8ms/step - loss: 0.4819 - accuracy: 0.7707 - val_loss: 0.4957 - val_accuracy: 0.7692\n",
      "Epoch 15/100\n",
      "313/313 [==============================] - 2s 8ms/step - loss: 0.4800 - accuracy: 0.7719 - val_loss: 0.4880 - val_accuracy: 0.7646\n",
      "Epoch 16/100\n",
      "313/313 [==============================] - 2s 8ms/step - loss: 0.4689 - accuracy: 0.7813 - val_loss: 0.4812 - val_accuracy: 0.7742\n",
      "Epoch 17/100\n",
      "313/313 [==============================] - 2s 8ms/step - loss: 0.4593 - accuracy: 0.7907 - val_loss: 0.4742 - val_accuracy: 0.7772\n",
      "Epoch 18/100\n",
      "313/313 [==============================] - 2s 8ms/step - loss: 0.4496 - accuracy: 0.7916 - val_loss: 0.4698 - val_accuracy: 0.7786\n",
      "Epoch 19/100\n",
      "313/313 [==============================] - 2s 8ms/step - loss: 0.4437 - accuracy: 0.7998 - val_loss: 0.4651 - val_accuracy: 0.7784\n",
      "Epoch 20/100\n",
      "313/313 [==============================] - 2s 8ms/step - loss: 0.4438 - accuracy: 0.7988 - val_loss: 0.4621 - val_accuracy: 0.7802\n",
      "Epoch 21/100\n",
      "313/313 [==============================] - 2s 8ms/step - loss: 0.4426 - accuracy: 0.7997 - val_loss: 0.4590 - val_accuracy: 0.7820\n",
      "Epoch 22/100\n",
      "313/313 [==============================] - 2s 8ms/step - loss: 0.4327 - accuracy: 0.8096 - val_loss: 0.4565 - val_accuracy: 0.7874\n",
      "Epoch 23/100\n",
      "313/313 [==============================] - 2s 7ms/step - loss: 0.4308 - accuracy: 0.8078 - val_loss: 0.4555 - val_accuracy: 0.7810\n",
      "Epoch 24/100\n",
      "313/313 [==============================] - 2s 7ms/step - loss: 0.4343 - accuracy: 0.8044 - val_loss: 0.4531 - val_accuracy: 0.7846\n",
      "Epoch 25/100\n",
      "313/313 [==============================] - 2s 8ms/step - loss: 0.4396 - accuracy: 0.8008 - val_loss: 0.4522 - val_accuracy: 0.7928\n",
      "Epoch 26/100\n",
      "313/313 [==============================] - 2s 8ms/step - loss: 0.4236 - accuracy: 0.8116 - val_loss: 0.4492 - val_accuracy: 0.7936\n",
      "Epoch 27/100\n",
      "313/313 [==============================] - 2s 8ms/step - loss: 0.4271 - accuracy: 0.8096 - val_loss: 0.4584 - val_accuracy: 0.7796\n",
      "Runtime: 66.66 초\n"
     ]
    }
   ],
   "source": [
    "model = Sequential()\n",
    "\n",
    "model.add(Embedding(500, 16, input_length=100))\n",
    "model.add(GRU(8))\n",
    "model.add(Dense(1, activation='sigmoid'))\n",
    "\n",
    "model.summary()\n",
    "\n",
    "model.compile(optimizer=RMSprop(learning_rate=0.0001), loss='binary_crossentropy', \n",
    "               metrics=['accuracy'])\n",
    "\n",
    "checkpoint = ModelCheckpoint('imdb_gru.h5')\n",
    "early_stopping = EarlyStopping(patience=1, restore_best_weights=True)\n",
    "\n",
    "start = time.time()\n",
    "hist = model.fit(train_seq, train_target, epochs=100, batch_size=64,\n",
    "                     validation_data=(val_seq, val_target),\n",
    "                     callbacks=[checkpoint, early_stopping])\n",
    "end = time.time()\n",
    "print('Runtime: {0:.2f} 초'.format(end-start))\n",
    "# cpu:  초, i5 8500:  초\n",
    "# Colab cpu: 257 초, gpu: 66 초"
   ]
  },
  {
   "cell_type": "code",
   "execution_count": null,
   "metadata": {
    "colab": {
     "base_uri": "https://localhost:8080/",
     "height": 338
    },
    "execution": {
     "iopub.execute_input": "2020-10-12T09:25:10.602797Z",
     "iopub.status.busy": "2020-10-12T09:25:10.601459Z",
     "iopub.status.idle": "2020-10-12T09:25:11.203520Z",
     "shell.execute_reply": "2020-10-12T09:25:11.202193Z"
    },
    "executionInfo": {
     "elapsed": 896,
     "status": "ok",
     "timestamp": 1614759443908,
     "user": {
      "displayName": "testcell2014@gmail.com",
      "photoUrl": "",
      "userId": "01526551539493392428"
     },
     "user_tz": -540
    },
    "id": "8rGe0KULk-sJ",
    "outputId": "436129f1-090a-4af5-9551-9b6d433d8537"
   },
   "outputs": [
    {
     "data": {
      "image/png": "[encoded data removed]",
      "text/plain": [
       "<Figure size 720x360 with 2 Axes>"
      ]
     },
     "metadata": {
      "needs_background": "light",
      "tags": []
     },
     "output_type": "display_data"
    }
   ],
   "source": [
    "fig, loss_ax = plt.subplots()\n",
    "# plt.figure(figsize=(6,4)) # ERROR\n",
    "fig.set_size_inches(10, 5)  # 챠트 크기 설정\n",
    "\n",
    "acc_ax = loss_ax.twinx()  # 오른쪽 y 출 설정\n",
    "\n",
    "# 왼쪽 y 축 설정\n",
    "loss_ax.plot(hist.history['loss'], 'y', label='train loss')\n",
    "loss_ax.plot(hist.history['val_loss'], 'r', label='val loss')\n",
    "loss_ax.set_ylim([0.0, 1.0]) # 값을 반영하여 변경\n",
    "\n",
    "# 오른쪽 y 축 설정\n",
    "acc_ax.plot(hist.history['accuracy'], 'b', label='train accuracy')\n",
    "acc_ax.plot(hist.history['val_accuracy'], 'g', label='val accuracy')\n",
    "acc_ax.set_ylim([0.0, 1.0])\n",
    "\n",
    "# 축 레이블 설정\n",
    "loss_ax.set_xlabel('epoch')  # 학습 횟수\n",
    "loss_ax.set_ylabel('loss')   # 오차\n",
    "acc_ax.set_ylabel('accuracy') # 정확도\n",
    "\n",
    "loss_ax.legend(loc='upper left') # 오차 레이블 위치\n",
    "acc_ax.legend(loc='lower left')  # 정확도 레이블 위치\n",
    "\n",
    "plt.show()"
   ]
  },
  {
   "cell_type": "code",
   "execution_count": null,
   "metadata": {
    "colab": {
     "base_uri": "https://localhost:8080/"
    },
    "executionInfo": {
     "elapsed": 1666,
     "status": "ok",
     "timestamp": 1614759446202,
     "user": {
      "displayName": "testcell2014@gmail.com",
      "photoUrl": "",
      "userId": "01526551539493392428"
     },
     "user_tz": -540
    },
    "id": "lOqRU47JzYXL",
    "outputId": "daacadb5-4879-40bf-ef91-224754285927"
   },
   "outputs": [
    {
     "name": "stdout",
     "output_type": "stream",
     "text": [
      "손실값: 0.4440731704235077 /정확도: 79.6559989452362 %\n"
     ]
    }
   ],
   "source": [
    "test_loss, test_acc = model.evaluate(test_seq, test_target, batch_size=64, verbose=0)\n",
    "print('손실값:', test_loss, '/정확도:', (test_acc*100), '%')"
   ]
  },
  {
   "cell_type": "code",
   "execution_count": null,
   "metadata": {
    "id": "i15sK2JfKb_U"
   },
   "outputs": [],
   "source": []
  }
 ],
 "metadata": {
  "accelerator": "GPU",
  "colab": {
   "collapsed_sections": [],
   "name": "imdb_lstm.ipynb",
   "provenance": []
  },
  "kernelspec": {
   "display_name": "Python 3",
   "language": "python",
   "name": "python3"
  },
  "language_info": {
   "codemirror_mode": {
    "name": "ipython",
    "version": 3
   },
   "file_extension": ".py",
   "mimetype": "text/x-python",
   "name": "python",
   "nbconvert_exporter": "python",
   "pygments_lexer": "ipython3",
   "version": "3.7.6"
  }
 },
 "nbformat": 4,
 "nbformat_minor": 1
}
