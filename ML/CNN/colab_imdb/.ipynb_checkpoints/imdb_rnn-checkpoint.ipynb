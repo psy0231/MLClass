{
 "cells": [
  {
   "cell_type": "markdown",
   "metadata": {
    "id": "6yvpAytoVNZr"
   },
   "source": [
    "# 순환 신경망으로 IMDB 리뷰 분류하기, CPU"
   ]
  },
  {
   "cell_type": "markdown",
   "metadata": {
    "id": "d16-uvd4VNZw"
   },
   "source": [
    "## IMDB 리뷰 데이터셋"
   ]
  },
  {
   "cell_type": "code",
   "execution_count": 1,
   "metadata": {
    "execution": {
     "iopub.execute_input": "2020-10-12T01:18:41.979392Z",
     "iopub.status.busy": "2020-10-12T01:18:41.978299Z",
     "iopub.status.idle": "2020-10-12T01:18:52.473300Z",
     "shell.execute_reply": "2020-10-12T01:18:52.471703Z"
    },
    "id": "l4PSRllqVNZx"
   },
   "outputs": [],
   "source": [
    "import time\n",
    "\n",
    "import numpy as np\n",
    "\n",
    "from tensorflow.keras.models import Sequential  # class\n",
    "from tensorflow.keras.preprocessing.sequence import pad_sequences\n",
    "from tensorflow.keras.optimizers import Adam\n",
    "from tensorflow.keras.optimizers import RMSprop\n",
    "from tensorflow.keras.layers import Dense\n",
    "from tensorflow.keras.layers import SimpleRNN    \n",
    "from tensorflow.keras.layers import Embedding    \n",
    "from tensorflow.keras.layers import LSTM  \n",
    "from tensorflow.keras.layers import GRU    \n",
    "from tensorflow.keras.layers import Dropout     # 특정 node를 사용안함.\n",
    "from tensorflow.keras.callbacks import EarlyStopping   # 학습 자동 중지\n",
    "from tensorflow.keras.callbacks import ModelCheckpoint # 우수한 학습 모델 파일 저장\n",
    "from tensorflow.keras.utils import to_categorical\n",
    "\n",
    "from sklearn.model_selection import train_test_split\n",
    "\n",
    "import matplotlib.pyplot as plt\n",
    "%matplotlib inline  \n",
    "\n",
    "from tensorflow.keras.datasets import imdb\n",
    "\n",
    "# ---------------------------------------------------------------------\n",
    "# gpu 사용시 런타임에서 필요한 양만큼의 GPU 메모리를 할당후 자동 증가 처리\n",
    "# OS 메모리도 초기화됨.\n",
    "# ---------------------------------------------------------------------\n",
    "import tensorflow as tf\n",
    "\n",
    "gpus = tf.config.experimental.list_physical_devices('GPU')\n",
    "if gpus:\n",
    "    try:\n",
    "        tf.config.experimental.set_memory_growth(gpus[0], True)\n",
    "    except RuntimeError as e:\n",
    "        # 프로그램 시작시에 메모리 증가가 설정되어야만 합니다\n",
    "        print(e)\n",
    "    \n",
    "# ---------------------------------------------------------------------"
   ]
  },
  {
   "cell_type": "code",
   "execution_count": 2,
   "metadata": {
    "colab": {
     "base_uri": "https://localhost:8080/"
    },
    "execution": {
     "iopub.execute_input": "2020-10-12T01:18:52.481400Z",
     "iopub.status.busy": "2020-10-12T01:18:52.479645Z",
     "iopub.status.idle": "2020-10-12T01:18:52.485658Z",
     "shell.execute_reply": "2020-10-12T01:18:52.486465Z"
    },
    "executionInfo": {
     "elapsed": 9187,
     "status": "ok",
     "timestamp": 1614757447895,
     "user": {
      "displayName": "testcell2014@gmail.com",
      "photoUrl": "",
      "userId": "01526551539493392428"
     },
     "user_tz": -540
    },
    "id": "lTAc0g7LVNZx",
    "outputId": "0f3425ca-ca5f-4540-889d-de7e03575f34"
   },
   "outputs": [
    {
     "name": "stdout",
     "output_type": "stream",
     "text": [
      "Downloading data from https://storage.googleapis.com/tensorflow/tf-keras-datasets/imdb.npz\n",
      "17465344/17464789 [==============================] - 2s 0us/step\n"
     ]
    },
    {
     "name": "stderr",
     "output_type": "stream",
     "text": [
      "<string>:6: VisibleDeprecationWarning: Creating an ndarray from ragged nested sequences (which is a list-or-tuple of lists-or-tuples-or ndarrays with different lengths or shapes) is deprecated. If you meant to do this, you must specify 'dtype=object' when creating the ndarray\n",
      "C:\\ProgramData\\Anaconda3\\envs\\machine\\lib\\site-packages\\tensorflow\\python\\keras\\datasets\\imdb.py:159: VisibleDeprecationWarning: Creating an ndarray from ragged nested sequences (which is a list-or-tuple of lists-or-tuples-or ndarrays with different lengths or shapes) is deprecated. If you meant to do this, you must specify 'dtype=object' when creating the ndarray\n",
      "  x_train, y_train = np.array(xs[:idx]), np.array(labels[:idx])\n"
     ]
    },
    {
     "name": "stdout",
     "output_type": "stream",
     "text": [
      "(25000,) (25000,)\n"
     ]
    },
    {
     "name": "stderr",
     "output_type": "stream",
     "text": [
      "C:\\ProgramData\\Anaconda3\\envs\\machine\\lib\\site-packages\\tensorflow\\python\\keras\\datasets\\imdb.py:160: VisibleDeprecationWarning: Creating an ndarray from ragged nested sequences (which is a list-or-tuple of lists-or-tuples-or ndarrays with different lengths or shapes) is deprecated. If you meant to do this, you must specify 'dtype=object' when creating the ndarray\n",
      "  x_test, y_test = np.array(xs[idx:]), np.array(labels[idx:])\n"
     ]
    }
   ],
   "source": [
    "(train_input, train_target), (test_input, test_target) = imdb.load_data(\n",
    "    num_words=500) # 자주 등장하는 단어 500개만 사용\n",
    "    \n",
    "print(train_input.shape, test_input.shape) # 데이터 규모 확인"
   ]
  },
  {
   "cell_type": "code",
   "execution_count": 3,
   "metadata": {
    "colab": {
     "base_uri": "https://localhost:8080/"
    },
    "execution": {
     "iopub.execute_input": "2020-10-12T01:18:52.493608Z",
     "iopub.status.busy": "2020-10-12T01:18:52.492625Z",
     "iopub.status.idle": "2020-10-12T01:18:52.496804Z",
     "shell.execute_reply": "2020-10-12T01:18:52.497722Z"
    },
    "executionInfo": {
     "elapsed": 553,
     "status": "ok",
     "timestamp": 1614757449526,
     "user": {
      "displayName": "testcell2014@gmail.com",
      "photoUrl": "",
      "userId": "01526551539493392428"
     },
     "user_tz": -540
    },
    "id": "_nXVpz18VNZy",
    "outputId": "0bdb3335-a085-4cd1-c6f9-4918a10a080c"
   },
   "outputs": [
    {
     "name": "stdout",
     "output_type": "stream",
     "text": [
      "218\n"
     ]
    }
   ],
   "source": [
    "print(len(train_input[0])) # 첫번째 데이터 길이 확인, 218개의 토큰으로 이루어짐."
   ]
  },
  {
   "cell_type": "code",
   "execution_count": 4,
   "metadata": {
    "colab": {
     "base_uri": "https://localhost:8080/"
    },
    "execution": {
     "iopub.execute_input": "2020-10-12T01:18:52.504933Z",
     "iopub.status.busy": "2020-10-12T01:18:52.503811Z",
     "iopub.status.idle": "2020-10-12T01:18:52.508252Z",
     "shell.execute_reply": "2020-10-12T01:18:52.509172Z"
    },
    "executionInfo": {
     "elapsed": 553,
     "status": "ok",
     "timestamp": 1614757450564,
     "user": {
      "displayName": "testcell2014@gmail.com",
      "photoUrl": "",
      "userId": "01526551539493392428"
     },
     "user_tz": -540
    },
    "id": "zpj97XPPVNZy",
    "outputId": "515026c5-dbcf-4129-aeaf-773ff26fcbf9"
   },
   "outputs": [
    {
     "name": "stdout",
     "output_type": "stream",
     "text": [
      "189\n"
     ]
    }
   ],
   "source": [
    "print(len(train_input[1])) # 두번째 데이터 길이 확인, 218개의 토큰으로 이루어짐."
   ]
  },
  {
   "cell_type": "code",
   "execution_count": 5,
   "metadata": {
    "colab": {
     "base_uri": "https://localhost:8080/"
    },
    "execution": {
     "iopub.execute_input": "2020-10-12T01:18:52.516102Z",
     "iopub.status.busy": "2020-10-12T01:18:52.515014Z",
     "iopub.status.idle": "2020-10-12T01:18:52.520096Z",
     "shell.execute_reply": "2020-10-12T01:18:52.520972Z"
    },
    "executionInfo": {
     "elapsed": 572,
     "status": "ok",
     "timestamp": 1614757451395,
     "user": {
      "displayName": "testcell2014@gmail.com",
      "photoUrl": "",
      "userId": "01526551539493392428"
     },
     "user_tz": -540
    },
    "id": "ma3dRxffVNZz",
    "outputId": "fd400326-6047-4fba-ff38-6d6ba295c8f5"
   },
   "outputs": [
    {
     "name": "stdout",
     "output_type": "stream",
     "text": [
      "[1, 14, 22, 16, 43, 2, 2, 2, 2, 65, 458, 2, 66, 2, 4, 173, 36, 256, 5, 25, 100, 43, 2, 112, 50, 2, 2, 9, 35, 480, 284, 5, 150, 4, 172, 112, 167, 2, 336, 385, 39, 4, 172, 2, 2, 17, 2, 38, 13, 447, 4, 192, 50, 16, 6, 147, 2, 19, 14, 22, 4, 2, 2, 469, 4, 22, 71, 87, 12, 16, 43, 2, 38, 76, 15, 13, 2, 4, 22, 17, 2, 17, 12, 16, 2, 18, 2, 5, 62, 386, 12, 8, 316, 8, 106, 5, 4, 2, 2, 16, 480, 66, 2, 33, 4, 130, 12, 16, 38, 2, 5, 25, 124, 51, 36, 135, 48, 25, 2, 33, 6, 22, 12, 215, 28, 77, 52, 5, 14, 407, 16, 82, 2, 8, 4, 107, 117, 2, 15, 256, 4, 2, 7, 2, 5, 2, 36, 71, 43, 2, 476, 26, 400, 317, 46, 7, 4, 2, 2, 13, 104, 88, 4, 381, 15, 297, 98, 32, 2, 56, 26, 141, 6, 194, 2, 18, 4, 226, 22, 21, 134, 476, 26, 480, 5, 144, 30, 2, 18, 51, 36, 28, 224, 92, 25, 104, 4, 226, 65, 16, 38, 2, 88, 12, 16, 283, 5, 16, 2, 113, 103, 32, 15, 16, 2, 19, 178, 32]\n"
     ]
    }
   ],
   "source": [
    "print(train_input[0]) # 첫번째 리뷰의 토큰 확인, 1: 문장 시작, 2: 어휘사전에 없는 데이터를 나타냄."
   ]
  },
  {
   "cell_type": "code",
   "execution_count": 6,
   "metadata": {
    "colab": {
     "base_uri": "https://localhost:8080/"
    },
    "execution": {
     "iopub.execute_input": "2020-10-12T01:18:52.528598Z",
     "iopub.status.busy": "2020-10-12T01:18:52.527510Z",
     "iopub.status.idle": "2020-10-12T01:18:52.532011Z",
     "shell.execute_reply": "2020-10-12T01:18:52.532936Z"
    },
    "executionInfo": {
     "elapsed": 688,
     "status": "ok",
     "timestamp": 1614757452237,
     "user": {
      "displayName": "testcell2014@gmail.com",
      "photoUrl": "",
      "userId": "01526551539493392428"
     },
     "user_tz": -540
    },
    "id": "4ZqAJzsIVNZz",
    "outputId": "4b2640ad-0a02-471a-eec0-93d9010d2cee"
   },
   "outputs": [
    {
     "name": "stdout",
     "output_type": "stream",
     "text": [
      "[1 0 0 1 0 0 1 0 1 0 1 0 0 0 0 0 1 1 0 1]\n"
     ]
    }
   ],
   "source": [
    "print(train_target[:20]) # 20개의 타깃 확인, 0: 부정, 1: 긍정"
   ]
  },
  {
   "cell_type": "code",
   "execution_count": 7,
   "metadata": {
    "execution": {
     "iopub.execute_input": "2020-10-12T01:18:52.541031Z",
     "iopub.status.busy": "2020-10-12T01:18:52.539873Z",
     "iopub.status.idle": "2020-10-12T01:18:52.812559Z",
     "shell.execute_reply": "2020-10-12T01:18:52.810985Z"
    },
    "id": "ViVCg8gYVNZz"
   },
   "outputs": [],
   "source": [
    "train_input, val_input, train_target, val_target = train_test_split(\n",
    "    train_input, train_target, test_size=0.2, random_state=42) # 데이터 분할"
   ]
  },
  {
   "cell_type": "code",
   "execution_count": 8,
   "metadata": {
    "execution": {
     "iopub.execute_input": "2020-10-12T01:18:52.833360Z",
     "iopub.status.busy": "2020-10-12T01:18:52.831841Z",
     "iopub.status.idle": "2020-10-12T01:18:52.834920Z",
     "shell.execute_reply": "2020-10-12T01:18:52.836117Z"
    },
    "id": "ZZcig3p9VNZ0"
   },
   "outputs": [],
   "source": [
    "lengths = np.array([len(x) for x in train_input]) # 리뷰의 길이 파악"
   ]
  },
  {
   "cell_type": "code",
   "execution_count": 9,
   "metadata": {
    "colab": {
     "base_uri": "https://localhost:8080/"
    },
    "execution": {
     "iopub.execute_input": "2020-10-12T01:18:52.843759Z",
     "iopub.status.busy": "2020-10-12T01:18:52.842297Z",
     "iopub.status.idle": "2020-10-12T01:18:52.847506Z",
     "shell.execute_reply": "2020-10-12T01:18:52.848361Z"
    },
    "executionInfo": {
     "elapsed": 365,
     "status": "ok",
     "timestamp": 1614757453755,
     "user": {
      "displayName": "testcell2014@gmail.com",
      "photoUrl": "",
      "userId": "01526551539493392428"
     },
     "user_tz": -540
    },
    "id": "4Fghv_3WVNZ0",
    "outputId": "9fb36559-9073-4bde-cc7c-d1ded7eb6573"
   },
   "outputs": [
    {
     "name": "stdout",
     "output_type": "stream",
     "text": [
      "239.00925 178.0\n"
     ]
    }
   ],
   "source": [
    "print(np.mean(lengths), np.median(lengths))  # 평균 239 단어, 중앙값은 178 단어"
   ]
  },
  {
   "cell_type": "code",
   "execution_count": 10,
   "metadata": {
    "colab": {
     "base_uri": "https://localhost:8080/",
     "height": 279
    },
    "execution": {
     "iopub.execute_input": "2020-10-12T01:18:52.874891Z",
     "iopub.status.busy": "2020-10-12T01:18:52.873857Z",
     "iopub.status.idle": "2020-10-12T01:18:53.042560Z",
     "shell.execute_reply": "2020-10-12T01:18:53.040898Z"
    },
    "executionInfo": {
     "elapsed": 853,
     "status": "ok",
     "timestamp": 1614757454896,
     "user": {
      "displayName": "testcell2014@gmail.com",
      "photoUrl": "",
      "userId": "01526551539493392428"
     },
     "user_tz": -540
    },
    "id": "GXWw197CVNZ0",
    "outputId": "a718affa-9451-4354-ca2c-056e4cb51c7b"
   },
   "outputs": [
    {
     "data": {
      "image/png": "[encoded data removed]",
      "text/plain": [
       "<Figure size 432x288 with 1 Axes>"
      ]
     },
     "metadata": {
      "needs_background": "light"
     },
     "output_type": "display_data"
    }
   ],
   "source": [
    "plt.hist(lengths)\n",
    "plt.xlabel('length')\n",
    "plt.ylabel('frequency')\n",
    "plt.show()  # 이상치로인해 평균이 큰 값이 생성됨."
   ]
  },
  {
   "cell_type": "code",
   "execution_count": 21,
   "metadata": {
    "id": "66L_Lu-pVNZ1"
   },
   "outputs": [],
   "source": [
    "# 뒤쪽을 짜름\n",
    "train_seq = pad_sequences(train_input, maxlen=100, truncating='post')  "
   ]
  },
  {
   "cell_type": "code",
   "execution_count": 22,
   "metadata": {
    "colab": {
     "base_uri": "https://localhost:8080/"
    },
    "executionInfo": {
     "elapsed": 726,
     "status": "ok",
     "timestamp": 1614757456965,
     "user": {
      "displayName": "testcell2014@gmail.com",
      "photoUrl": "",
      "userId": "01526551539493392428"
     },
     "user_tz": -540
    },
    "id": "_N7DAy9GVNZ1",
    "outputId": "3c15a78a-5e2c-4567-9a56-0fbdfe9fa331"
   },
   "outputs": [
    {
     "name": "stdout",
     "output_type": "stream",
     "text": [
      "(20000, 100)\n"
     ]
    }
   ],
   "source": [
    "print(train_seq.shape)"
   ]
  },
  {
   "cell_type": "code",
   "execution_count": 23,
   "metadata": {
    "colab": {
     "base_uri": "https://localhost:8080/"
    },
    "executionInfo": {
     "elapsed": 400,
     "status": "ok",
     "timestamp": 1614757457324,
     "user": {
      "displayName": "testcell2014@gmail.com",
      "photoUrl": "",
      "userId": "01526551539493392428"
     },
     "user_tz": -540
    },
    "id": "stHq98CxVNZ1",
    "outputId": "7d8acdcd-6123-4dbf-e6cb-4509fb5d97e4"
   },
   "outputs": [
    {
     "name": "stdout",
     "output_type": "stream",
     "text": [
      "[  1  73  89  81  25  60   2   6  20 141  17  14  31 127  12  60  28   2\n",
      "   2  66  45   6  20  15 497   8  79  17 491   8 112   6   2  20  17   2\n",
      "   2   4 436  20   9   2   6   2   7 493   2   6 185 250  24  55   2   5\n",
      "  23 350   7  15  82  24  15   2  66  10  10  45   2  15   4  20   2   8\n",
      "  30  17   2   5   2  17   2 190   4  20   9  43  32  99   2  18  15   8\n",
      " 157  46  17   2   4   2   5   2   9  32]\n"
     ]
    }
   ],
   "source": [
    "# 100개의 토큰으로 줄어듬, 1개의 문장은 100개의 단어로 구성됨.\n",
    "print(train_seq[0])  "
   ]
  },
  {
   "cell_type": "code",
   "execution_count": 24,
   "metadata": {
    "colab": {
     "base_uri": "https://localhost:8080/"
    },
    "executionInfo": {
     "elapsed": 374,
     "status": "ok",
     "timestamp": 1614757458250,
     "user": {
      "displayName": "testcell2014@gmail.com",
      "photoUrl": "",
      "userId": "01526551539493392428"
     },
     "user_tz": -540
    },
    "id": "896c19C4VNZ1",
    "outputId": "8a34e629-3fcf-4e42-8495-acabff572405"
   },
   "outputs": [
    {
     "name": "stdout",
     "output_type": "stream",
     "text": [
      "[1, 73, 89, 81, 25, 60, 2, 6, 20, 141]\n"
     ]
    }
   ],
   "source": [
    "print(train_input[0][0:10])  # 문장의 뒤쪽을 짜름"
   ]
  },
  {
   "cell_type": "code",
   "execution_count": 28,
   "metadata": {
    "id": "5u3GBlaaVNZ2"
   },
   "outputs": [],
   "source": [
    "# 일반적으로 중요 문장은 뒤에 나온다고 가정하고 앞쪽을 짜름\n",
    "train_seq = pad_sequences(train_input, maxlen=100) "
   ]
  },
  {
   "cell_type": "code",
   "execution_count": 29,
   "metadata": {
    "colab": {
     "base_uri": "https://localhost:8080/"
    },
    "execution": {
     "iopub.execute_input": "2020-10-12T01:18:53.516113Z",
     "iopub.status.busy": "2020-10-12T01:18:53.514858Z",
     "iopub.status.idle": "2020-10-12T01:18:53.519062Z",
     "shell.execute_reply": "2020-10-12T01:18:53.520171Z"
    },
    "executionInfo": {
     "elapsed": 362,
     "status": "ok",
     "timestamp": 1614757459489,
     "user": {
      "displayName": "testcell2014@gmail.com",
      "photoUrl": "",
      "userId": "01526551539493392428"
     },
     "user_tz": -540
    },
    "id": "6SSVhO1WVNZ2",
    "outputId": "e5a6e798-4782-4df1-daaf-762c8b523f0c"
   },
   "outputs": [
    {
     "name": "stdout",
     "output_type": "stream",
     "text": [
      "(20000, 100)\n"
     ]
    }
   ],
   "source": [
    "print(train_seq.shape)"
   ]
  },
  {
   "cell_type": "code",
   "execution_count": 30,
   "metadata": {
    "colab": {
     "base_uri": "https://localhost:8080/"
    },
    "execution": {
     "iopub.execute_input": "2020-10-12T01:18:53.529088Z",
     "iopub.status.busy": "2020-10-12T01:18:53.527775Z",
     "iopub.status.idle": "2020-10-12T01:18:53.532885Z",
     "shell.execute_reply": "2020-10-12T01:18:53.533957Z"
    },
    "executionInfo": {
     "elapsed": 433,
     "status": "ok",
     "timestamp": 1614757460223,
     "user": {
      "displayName": "testcell2014@gmail.com",
      "photoUrl": "",
      "userId": "01526551539493392428"
     },
     "user_tz": -540
    },
    "id": "J0_J3yzTVNZ2",
    "outputId": "4dd14f03-acf4-458b-9e7b-1079e53d31c4"
   },
   "outputs": [
    {
     "name": "stdout",
     "output_type": "stream",
     "text": [
      "[ 10   4  20   9   2 364 352   5  45   6   2   2  33 269   8   2 142   2\n",
      "   5   2  17  73  17 204   5   2  19  55   2   2  92  66 104  14  20  93\n",
      "  76   2 151  33   4  58  12 188   2 151  12 215  69 224 142  73 237   6\n",
      "   2   7   2   2 188   2 103  14  31  10  10 451   7   2   5   2  80  91\n",
      "   2  30   2  34  14  20 151  50  26 131  49   2  84  46  50  37  80  79\n",
      "   6   2  46   7  14  20  10  10 470 158]\n"
     ]
    }
   ],
   "source": [
    "print(train_seq[0])  # 100개의 토큰으로 줄어듬"
   ]
  },
  {
   "cell_type": "code",
   "execution_count": 31,
   "metadata": {
    "colab": {
     "base_uri": "https://localhost:8080/"
    },
    "execution": {
     "iopub.execute_input": "2020-10-12T01:18:53.541335Z",
     "iopub.status.busy": "2020-10-12T01:18:53.540161Z",
     "iopub.status.idle": "2020-10-12T01:18:53.544735Z",
     "shell.execute_reply": "2020-10-12T01:18:53.545765Z"
    },
    "executionInfo": {
     "elapsed": 560,
     "status": "ok",
     "timestamp": 1614757461015,
     "user": {
      "displayName": "testcell2014@gmail.com",
      "photoUrl": "",
      "userId": "01526551539493392428"
     },
     "user_tz": -540
    },
    "id": "zvZjtrfVVNZ2",
    "outputId": "16b8f0ae-db78-4c45-9e69-aba237ef4139"
   },
   "outputs": [
    {
     "name": "stdout",
     "output_type": "stream",
     "text": [
      "[6, 2, 46, 7, 14, 20, 10, 10, 470, 158]\n"
     ]
    }
   ],
   "source": [
    "print(train_input[0][-10:]) # 첫번째의 마지막 10개의 토큰을 보니 앞부분이 짤림, "
   ]
  },
  {
   "cell_type": "code",
   "execution_count": 32,
   "metadata": {
    "colab": {
     "base_uri": "https://localhost:8080/"
    },
    "execution": {
     "iopub.execute_input": "2020-10-12T01:18:53.553993Z",
     "iopub.status.busy": "2020-10-12T01:18:53.552689Z",
     "iopub.status.idle": "2020-10-12T01:18:53.557009Z",
     "shell.execute_reply": "2020-10-12T01:18:53.558118Z"
    },
    "executionInfo": {
     "elapsed": 691,
     "status": "ok",
     "timestamp": 1614757461888,
     "user": {
      "displayName": "testcell2014@gmail.com",
      "photoUrl": "",
      "userId": "01526551539493392428"
     },
     "user_tz": -540
    },
    "id": "pfdwjpQvVNZ3",
    "outputId": "71b0a9f7-274b-4bc8-cfdb-ea6f14d9dc91",
    "scrolled": true
   },
   "outputs": [
    {
     "name": "stdout",
     "output_type": "stream",
     "text": [
      "[  0   0   0   0   1   2 195  19  49   2   2 190   4   2 352   2 183  10\n",
      "  10  13  82  79   4   2  36  71 269   8   2  25  19  49   7   4   2   2\n",
      "   2   2   2  10  10  48  25  40   2  11   2   2  40   2   2   5   4   2\n",
      "   2  95  14 238  56 129   2  10  10  21   2  94 364 352   2   2  11 190\n",
      "  24 484   2   7  94 205 405  10  10  87   2  34  49   2   7   2   2   2\n",
      "   2   2 290   2  46  48  64  18   4   2]\n"
     ]
    }
   ],
   "source": [
    "print(train_seq[5])  # 길이가 100개의 단어가 아니면 0으로 할당됨"
   ]
  },
  {
   "cell_type": "code",
   "execution_count": 34,
   "metadata": {
    "execution": {
     "iopub.execute_input": "2020-10-12T01:18:53.568279Z",
     "iopub.status.busy": "2020-10-12T01:18:53.566949Z",
     "iopub.status.idle": "2020-10-12T01:18:53.688571Z",
     "shell.execute_reply": "2020-10-12T01:18:53.687412Z"
    },
    "id": "kuWl_FFJVNZ3"
   },
   "outputs": [],
   "source": [
    "val_seq = pad_sequences(val_input, maxlen=100)  # 검증 데이터의 크기 변경"
   ]
  },
  {
   "cell_type": "markdown",
   "metadata": {
    "id": "eKfzhID6VNZ3"
   },
   "source": [
    "## 순환 신경망 만들기"
   ]
  },
  {
   "cell_type": "code",
   "execution_count": 35,
   "metadata": {
    "execution": {
     "iopub.execute_input": "2020-10-12T01:18:56.004523Z",
     "iopub.status.busy": "2020-10-12T01:18:56.002786Z",
     "iopub.status.idle": "2020-10-12T01:18:57.766487Z",
     "shell.execute_reply": "2020-10-12T01:18:57.764928Z"
    },
    "id": "D_B_deVbVNZ3"
   },
   "outputs": [],
   "source": [
    "train_oh = to_categorical(train_seq) # one-hot encoding"
   ]
  },
  {
   "cell_type": "code",
   "execution_count": 36,
   "metadata": {
    "colab": {
     "base_uri": "https://localhost:8080/"
    },
    "execution": {
     "iopub.execute_input": "2020-10-12T01:18:57.774226Z",
     "iopub.status.busy": "2020-10-12T01:18:57.772482Z",
     "iopub.status.idle": "2020-10-12T01:18:57.777731Z",
     "shell.execute_reply": "2020-10-12T01:18:57.778538Z"
    },
    "executionInfo": {
     "elapsed": 2406,
     "status": "ok",
     "timestamp": 1614757466514,
     "user": {
      "displayName": "testcell2014@gmail.com",
      "photoUrl": "",
      "userId": "01526551539493392428"
     },
     "user_tz": -540
    },
    "id": "1RnOJRb8VNZ4",
    "outputId": "111bc9d0-adff-45db-ab74-be8e5689a0ee"
   },
   "outputs": [
    {
     "name": "stdout",
     "output_type": "stream",
     "text": [
      "(20000, 100, 500)\n"
     ]
    }
   ],
   "source": [
    "# 20000개의 문장, 100 타임 스텝(단어), 500개의 단어\n",
    "# korea spring summer fall winter...500 단어\n",
    "#   1     0      0     0     0\n",
    "#   0     1      0     0     0\n",
    "#   0     0      1     0     0.....포함된 단어의 표시\n",
    "print(train_oh.shape)  "
   ]
  },
  {
   "cell_type": "code",
   "execution_count": 37,
   "metadata": {
    "colab": {
     "base_uri": "https://localhost:8080/"
    },
    "execution": {
     "iopub.execute_input": "2020-10-12T01:18:57.786369Z",
     "iopub.status.busy": "2020-10-12T01:18:57.785416Z",
     "iopub.status.idle": "2020-10-12T01:18:57.790217Z",
     "shell.execute_reply": "2020-10-12T01:18:57.791183Z"
    },
    "executionInfo": {
     "elapsed": 1445,
     "status": "ok",
     "timestamp": 1614757466514,
     "user": {
      "displayName": "testcell2014@gmail.com",
      "photoUrl": "",
      "userId": "01526551539493392428"
     },
     "user_tz": -540
    },
    "id": "pB45C5xaVNZ4",
    "outputId": "6a1d5970-6ae5-4549-c786-c740fc613e05"
   },
   "outputs": [
    {
     "name": "stdout",
     "output_type": "stream",
     "text": [
      "[0. 0. 0. 0. 0. 0. 0. 0. 0. 0. 1. 0.]\n"
     ]
    }
   ],
   "source": [
    "print(train_oh[0][0][:12]) # 첫번째 문장 첫번째 단어의 one-hot encoding 확인"
   ]
  },
  {
   "cell_type": "code",
   "execution_count": 39,
   "metadata": {
    "colab": {
     "base_uri": "https://localhost:8080/"
    },
    "execution": {
     "iopub.execute_input": "2020-10-12T01:18:57.798946Z",
     "iopub.status.busy": "2020-10-12T01:18:57.797788Z",
     "iopub.status.idle": "2020-10-12T01:18:57.802480Z",
     "shell.execute_reply": "2020-10-12T01:18:57.803390Z"
    },
    "executionInfo": {
     "elapsed": 816,
     "status": "ok",
     "timestamp": 1614757466515,
     "user": {
      "displayName": "testcell2014@gmail.com",
      "photoUrl": "",
      "userId": "01526551539493392428"
     },
     "user_tz": -540
    },
    "id": "GpuwC8QCVNZ4",
    "outputId": "fa6a6fa0-acd6-4734-b17e-c3860085d37b"
   },
   "outputs": [
    {
     "name": "stdout",
     "output_type": "stream",
     "text": [
      "1.0\n"
     ]
    }
   ],
   "source": [
    "print(np.sum(train_oh[0][0])) # one-hot encoding의 합은 1이되어야함"
   ]
  },
  {
   "cell_type": "code",
   "execution_count": 40,
   "metadata": {
    "execution": {
     "iopub.execute_input": "2020-10-12T01:18:57.810383Z",
     "iopub.status.busy": "2020-10-12T01:18:57.809293Z",
     "iopub.status.idle": "2020-10-12T01:18:58.247989Z",
     "shell.execute_reply": "2020-10-12T01:18:58.248931Z"
    },
    "id": "UgbdbVuoVNZ4"
   },
   "outputs": [],
   "source": [
    "val_oh = to_categorical(val_seq)  # 검증 데이터 one-hot encoding"
   ]
  },
  {
   "cell_type": "markdown",
   "metadata": {
    "id": "zIQ3hID4VNZ5"
   },
   "source": [
    "## 순환 신경망 훈련하기"
   ]
  },
  {
   "cell_type": "code",
   "execution_count": null,
   "metadata": {
    "colab": {
     "base_uri": "https://localhost:8080/"
    },
    "execution": {
     "iopub.execute_input": "2020-10-12T01:18:58.286672Z",
     "iopub.status.busy": "2020-10-12T01:18:58.285571Z",
     "iopub.status.idle": "2020-10-12T01:30:36.157752Z",
     "shell.execute_reply": "2020-10-12T01:30:36.159280Z"
    },
    "executionInfo": {
     "elapsed": 254472,
     "status": "ok",
     "timestamp": 1614757908889,
     "user": {
      "displayName": "testcell2014@gmail.com",
      "photoUrl": "",
      "userId": "01526551539493392428"
     },
     "user_tz": -540
    },
    "id": "_3R6HR4cVNZ5",
    "outputId": "d4a7e539-9292-4b2a-da48-68ffe06def39"
   },
   "outputs": [
    {
     "name": "stdout",
     "output_type": "stream",
     "text": [
      "Model: \"sequential\"\n",
      "_________________________________________________________________\n",
      "Layer (type)                 Output Shape              Param #   \n",
      "=================================================================\n",
      "simple_rnn (SimpleRNN)       (None, 8)                 4072      \n",
      "_________________________________________________________________\n",
      "dense (Dense)                (None, 1)                 9         \n",
      "=================================================================\n",
      "Total params: 4,081\n",
      "Trainable params: 4,081\n",
      "Non-trainable params: 0\n",
      "_________________________________________________________________\n",
      "Epoch 1/100\n",
      "313/313 [==============================] - ETA: 0s - loss: 0.7032 - accuracy: 0.5003"
     ]
    }
   ],
   "source": [
    "model = Sequential()\n",
    "# 100: 1개의 문장이 100개의 단어로 구성됨(timestep 수 100), 500: 원핫 인코딩된 값, 1개만 1이고 나머지는 0\n",
    "model.add(SimpleRNN(8, input_shape=(100, 500)))  \n",
    "model.add(Dense(1, activation='sigmoid'))\n",
    "\n",
    "# 단어수 500 * 뉴런수 8 = 4,000 개의 가중치\n",
    "# 은닉 상태 8 * 뉴런수 8개 = 64개의 가중치\n",
    "# 뉴런마다 1개의 절편: 8개\n",
    "# 4,000 + 64 + 8 = 4072\n",
    "# 출력: 뉴런수 8개 + 절편 1개\n",
    "model.summary()\n",
    "\n",
    "model.compile(optimizer=RMSprop(learning_rate=0.0001), loss='binary_crossentropy', \n",
    "              metrics=['accuracy'])\n",
    "\n",
    "checkpoint = ModelCheckpoint('imdb_rnn.h5')\n",
    "early_stopping = EarlyStopping(patience=1, restore_best_weights=True)\n",
    "\n",
    "start = time.time()\n",
    "hist = model.fit(train_oh, train_target, epochs=100, batch_size=64,\n",
    "                    validation_data=(val_oh, val_target),\n",
    "                    callbacks=[checkpoint, early_stopping])\n",
    "\n",
    "end = time.time()\n",
    "print('Runtime: {0:.2f} 초'.format(end-start))\n",
    "# cpu:  초, i5 8500:  초\n",
    "# Colab cpu: 257 초, gpu: 초\n"
   ]
  },
  {
   "cell_type": "code",
   "execution_count": null,
   "metadata": {
    "colab": {
     "base_uri": "https://localhost:8080/",
     "height": 338
    },
    "execution": {
     "iopub.execute_input": "2020-10-12T01:30:36.190161Z",
     "iopub.status.busy": "2020-10-12T01:30:36.175046Z",
     "iopub.status.idle": "2020-10-12T01:30:36.782577Z",
     "shell.execute_reply": "2020-10-12T01:30:36.784046Z"
    },
    "executionInfo": {
     "elapsed": 925,
     "status": "ok",
     "timestamp": 1614757934524,
     "user": {
      "displayName": "testcell2014@gmail.com",
      "photoUrl": "",
      "userId": "01526551539493392428"
     },
     "user_tz": -540
    },
    "id": "M9eYztnTVNZ5",
    "outputId": "0ce34925-0d25-4e16-e783-4f56bf314cdf"
   },
   "outputs": [
    {
     "data": {
      "image/png": "[encoded data removed]",
      "text/plain": [
       "<Figure size 720x360 with 2 Axes>"
      ]
     },
     "metadata": {
      "needs_background": "light",
      "tags": []
     },
     "output_type": "display_data"
    }
   ],
   "source": [
    "fig, loss_ax = plt.subplots()\n",
    "# plt.figure(figsize=(6,4)) # ERROR\n",
    "fig.set_size_inches(10, 5)  # 챠트 크기 설정\n",
    "\n",
    "acc_ax = loss_ax.twinx()  # 오른쪽 y 출 설정\n",
    "\n",
    "# 왼쪽 y 축 설정\n",
    "loss_ax.plot(hist.history['loss'], 'y', label='train loss')\n",
    "loss_ax.plot(hist.history['val_loss'], 'r', label='val loss')\n",
    "loss_ax.set_ylim([0.0, 1.0]) # 값을 반영하여 변경\n",
    "\n",
    "# 오른쪽 y 축 설정\n",
    "acc_ax.plot(hist.history['accuracy'], 'b', label='train accuracy')\n",
    "acc_ax.plot(hist.history['val_accuracy'], 'g', label='val accuracy')\n",
    "acc_ax.set_ylim([0.0, 1.0])\n",
    "\n",
    "# 축 레이블 설정\n",
    "loss_ax.set_xlabel('epoch')  # 학습 횟수\n",
    "loss_ax.set_ylabel('loss')   # 오차\n",
    "acc_ax.set_ylabel('accuracy') # 정확도\n",
    "\n",
    "loss_ax.legend(loc='upper left') # 오차 레이블 위치\n",
    "acc_ax.legend(loc='lower left')  # 정확도 레이블 위치\n",
    "\n",
    "plt.show()"
   ]
  },
  {
   "cell_type": "code",
   "execution_count": null,
   "metadata": {
    "colab": {
     "base_uri": "https://localhost:8080/"
    },
    "executionInfo": {
     "elapsed": 1761,
     "status": "ok",
     "timestamp": 1614757939024,
     "user": {
      "displayName": "testcell2014@gmail.com",
      "photoUrl": "",
      "userId": "01526551539493392428"
     },
     "user_tz": -540
    },
    "id": "po6R0fDchsPj",
    "outputId": "331487ae-79dd-47c3-9ac5-1261f5e95faa"
   },
   "outputs": [
    {
     "name": "stdout",
     "output_type": "stream",
     "text": [
      "손실값: 0.6856555938720703 /정확도: 54.54000234603882 %\n"
     ]
    }
   ],
   "source": [
    "test_loss, test_acc = model.evaluate(val_oh, val_target, batch_size=64, verbose=0)\n",
    "print('손실값:', test_loss, '/정확도:', (test_acc*100), '%')"
   ]
  },
  {
   "cell_type": "markdown",
   "metadata": {
    "id": "x-JcrXHyVNZ5"
   },
   "source": [
    "## 단어 임베딩을 사용하기\n",
    "- 유사도 연산 지원\n",
    "- RNN보다 빠른 연산 속도"
   ]
  },
  {
   "cell_type": "code",
   "execution_count": null,
   "metadata": {
    "colab": {
     "base_uri": "https://localhost:8080/"
    },
    "execution": {
     "iopub.execute_input": "2020-10-12T01:30:37.439013Z",
     "iopub.status.busy": "2020-10-12T01:30:37.437655Z",
     "iopub.status.idle": "2020-10-12T01:40:38.584921Z",
     "shell.execute_reply": "2020-10-12T01:40:38.586340Z"
    },
    "executionInfo": {
     "elapsed": 56348,
     "status": "ok",
     "timestamp": 1614758202185,
     "user": {
      "displayName": "testcell2014@gmail.com",
      "photoUrl": "",
      "userId": "01526551539493392428"
     },
     "user_tz": -540
    },
    "id": "slv10GiGVNZ6",
    "outputId": "08736e22-df42-4cfe-d228-51fa791ff554"
   },
   "outputs": [
    {
     "name": "stdout",
     "output_type": "stream",
     "text": [
      "Model: \"sequential_3\"\n",
      "_________________________________________________________________\n",
      "Layer (type)                 Output Shape              Param #   \n",
      "=================================================================\n",
      "embedding_1 (Embedding)      (None, 100, 16)           8000      \n",
      "_________________________________________________________________\n",
      "simple_rnn_3 (SimpleRNN)     (None, 8)                 200       \n",
      "_________________________________________________________________\n",
      "dense_3 (Dense)              (None, 1)                 9         \n",
      "=================================================================\n",
      "Total params: 8,209\n",
      "Trainable params: 8,209\n",
      "Non-trainable params: 0\n",
      "_________________________________________________________________\n",
      "Epoch 1/100\n",
      "313/313 [==============================] - 7s 20ms/step - loss: 0.6792 - accuracy: 0.5629 - val_loss: 0.6378 - val_accuracy: 0.6644\n",
      "Epoch 2/100\n",
      "313/313 [==============================] - 6s 20ms/step - loss: 0.6226 - accuracy: 0.6866 - val_loss: 0.6047 - val_accuracy: 0.7150\n",
      "Epoch 3/100\n",
      "313/313 [==============================] - 6s 20ms/step - loss: 0.5882 - accuracy: 0.7316 - val_loss: 0.5814 - val_accuracy: 0.7348\n",
      "Epoch 4/100\n",
      "313/313 [==============================] - 6s 20ms/step - loss: 0.5676 - accuracy: 0.7506 - val_loss: 0.5692 - val_accuracy: 0.7442\n",
      "Epoch 5/100\n",
      "313/313 [==============================] - 6s 20ms/step - loss: 0.5498 - accuracy: 0.7644 - val_loss: 0.5567 - val_accuracy: 0.7464\n",
      "Epoch 6/100\n",
      "313/313 [==============================] - 6s 19ms/step - loss: 0.5367 - accuracy: 0.7737 - val_loss: 0.5403 - val_accuracy: 0.7692\n",
      "Epoch 7/100\n",
      "313/313 [==============================] - 6s 19ms/step - loss: 0.5218 - accuracy: 0.7816 - val_loss: 0.5266 - val_accuracy: 0.7760\n",
      "Epoch 8/100\n",
      "313/313 [==============================] - 6s 19ms/step - loss: 0.5092 - accuracy: 0.7893 - val_loss: 0.5174 - val_accuracy: 0.7776\n",
      "Epoch 9/100\n",
      "313/313 [==============================] - 6s 19ms/step - loss: 0.5004 - accuracy: 0.7911 - val_loss: 0.5193 - val_accuracy: 0.7666\n",
      "Runtime: 55.65 초\n"
     ]
    }
   ],
   "source": [
    "model = Sequential()\n",
    "\n",
    "model.add(Embedding(500, 16, input_length=100))\n",
    "model.add(SimpleRNN(8))\n",
    "model.add(Dense(1, activation='sigmoid'))\n",
    "\n",
    "model.summary()\n",
    "\n",
    "model.compile(optimizer=RMSprop(learning_rate=0.0001), loss='binary_crossentropy', \n",
    "               metrics=['accuracy'])\n",
    "\n",
    "checkpoint = ModelCheckpoint('imdb_rnn_embedding.h5')\n",
    "early_stopping = EarlyStopping(patience=1, restore_best_weights=True)\n",
    "\n",
    "start = time.time()\n",
    "hist = model.fit(train_seq, train_target, epochs=100, batch_size=64,\n",
    "                     validation_data=(val_seq, val_target),\n",
    "                     callbacks=[checkpoint, early_stopping])\n",
    "end = time.time()\n",
    "print('Runtime: {0:.2f} 초'.format(end-start))\n",
    "# Colab cpu: 55 s"
   ]
  },
  {
   "cell_type": "code",
   "execution_count": null,
   "metadata": {
    "colab": {
     "base_uri": "https://localhost:8080/",
     "height": 338
    },
    "execution": {
     "iopub.execute_input": "2020-10-12T01:40:38.604725Z",
     "iopub.status.busy": "2020-10-12T01:40:38.602954Z",
     "iopub.status.idle": "2020-10-12T01:40:39.220316Z",
     "shell.execute_reply": "2020-10-12T01:40:39.221611Z"
    },
    "executionInfo": {
     "elapsed": 862,
     "status": "ok",
     "timestamp": 1614758224382,
     "user": {
      "displayName": "testcell2014@gmail.com",
      "photoUrl": "",
      "userId": "01526551539493392428"
     },
     "user_tz": -540
    },
    "id": "cOQ0n-3IVNZ6",
    "outputId": "2a414fbe-e134-40eb-fee5-b7837b56c855"
   },
   "outputs": [
    {
     "data": {
      "image/png": "[encoded data removed]",
      "text/plain": [
       "<Figure size 720x360 with 2 Axes>"
      ]
     },
     "metadata": {
      "needs_background": "light",
      "tags": []
     },
     "output_type": "display_data"
    }
   ],
   "source": [
    "fig, loss_ax = plt.subplots()\n",
    "# plt.figure(figsize=(6,4)) # ERROR\n",
    "fig.set_size_inches(10, 5)  # 챠트 크기 설정\n",
    "\n",
    "acc_ax = loss_ax.twinx()  # 오른쪽 y 출 설정\n",
    "\n",
    "# 왼쪽 y 축 설정\n",
    "loss_ax.plot(hist.history['loss'], 'y', label='train loss')\n",
    "loss_ax.plot(hist.history['val_loss'], 'r', label='val loss')\n",
    "loss_ax.set_ylim([0.0, 1.0]) # 값을 반영하여 변경\n",
    "\n",
    "# 오른쪽 y 축 설정\n",
    "acc_ax.plot(hist.history['accuracy'], 'b', label='train accuracy')\n",
    "acc_ax.plot(hist.history['val_accuracy'], 'g', label='val accuracy')\n",
    "acc_ax.set_ylim([0.0, 1.0])\n",
    "\n",
    "# 축 레이블 설정\n",
    "loss_ax.set_xlabel('epoch')  # 학습 횟수\n",
    "loss_ax.set_ylabel('loss')   # 오차\n",
    "acc_ax.set_ylabel('accuracy') # 정확도\n",
    "\n",
    "loss_ax.legend(loc='upper left') # 오차 레이블 위치\n",
    "acc_ax.legend(loc='lower left')  # 정확도 레이블 위치\n",
    "\n",
    "plt.show()"
   ]
  },
  {
   "cell_type": "code",
   "execution_count": null,
   "metadata": {
    "colab": {
     "base_uri": "https://localhost:8080/"
    },
    "executionInfo": {
     "elapsed": 1452,
     "status": "ok",
     "timestamp": 1614758226851,
     "user": {
      "displayName": "testcell2014@gmail.com",
      "photoUrl": "",
      "userId": "01526551539493392428"
     },
     "user_tz": -540
    },
    "id": "5FS13i6_jvRi",
    "outputId": "b3f83e49-4101-476b-8752-fb5b6903b265"
   },
   "outputs": [
    {
     "name": "stdout",
     "output_type": "stream",
     "text": [
      "손실값: 0.5174348950386047 /정확도: 77.75999903678894 %\n"
     ]
    }
   ],
   "source": [
    "test_loss, test_acc = model.evaluate(val_seq, val_target, batch_size=64, verbose=0)\n",
    "print('손실값:', test_loss, '/정확도:', (test_acc*100), '%')"
   ]
  },
  {
   "cell_type": "code",
   "execution_count": null,
   "metadata": {
    "id": "4QRSzGb1iMCX"
   },
   "outputs": [],
   "source": []
  }
 ],
 "metadata": {
  "colab": {
   "collapsed_sections": [],
   "name": "imdb_rnn.ipynb",
   "provenance": []
  },
  "kernelspec": {
   "display_name": "machine",
   "language": "python",
   "name": "machine"
  },
  "language_info": {
   "codemirror_mode": {
    "name": "ipython",
    "version": 3
   },
   "file_extension": ".py",
   "mimetype": "text/x-python",
   "name": "python",
   "nbconvert_exporter": "python",
   "pygments_lexer": "ipython3",
   "version": "3.6.12"
  }
 },
 "nbformat": 4,
 "nbformat_minor": 1
}
